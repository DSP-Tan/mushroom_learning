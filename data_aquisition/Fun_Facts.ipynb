{
 "cells": [
  {
   "cell_type": "code",
   "execution_count": 2,
   "id": "bd834ab0",
   "metadata": {},
   "outputs": [
    {
     "name": "stdout",
     "output_type": "stream",
     "text": [
      "/home/stella/code/DSP-Tan/mushroom_learning/data_aquisition\n"
     ]
    }
   ],
   "source": [
    "!pwd"
   ]
  },
  {
   "cell_type": "code",
   "execution_count": 3,
   "id": "2e3a50af",
   "metadata": {},
   "outputs": [],
   "source": [
    "import requests\n",
    "import pandas as pd\n",
    "url='https://en.wikipedia.org/w/api.php'"
   ]
  },
  {
   "cell_type": "code",
   "execution_count": 4,
   "id": "aaa7d8eb",
   "metadata": {},
   "outputs": [],
   "source": [
    "# from IPython.lib.display import YouTubeVideo\n",
    "def Wiki_Api(mushroom_name):\n",
    "  \n",
    "    mushroom_dict = {}\n",
    "  \n",
    "    params={\n",
    "    'action':'query',\n",
    "    'format':'json',\n",
    "    'titles':mushroom_name,\n",
    "    'prop':'revisions',               \n",
    "    'rvsection':0,\n",
    "    'rvprop':'content'}\n",
    "    \n",
    "    #Inital response from Wiki web page\n",
    "    response=requests.get(url,params).json()\n",
    "\n",
    "    #Find key for Json\n",
    "    key = list(response['query']['pages'].keys())[0]\n",
    "    lines = response['query']['pages'][key]['revisions'][0]['*'].split('\\n')\n",
    "\n",
    "    cap_counter = 0\n",
    "\n",
    "    for line in lines:\n",
    "        if 'howEdible' in line:\n",
    "            mushroom_dict[\"howEdible\"] = line.split('=')[1].strip(\" \").strip(\"}\")\n",
    "    # if 'howEdible2' in line:\n",
    "    #   mushroom_dict[\"howEdible2\"] = line.split('=')[1].strip(\" \")\n",
    "        if 'whichGills' in line:\n",
    "            mushroom_dict[\"whichGills\"] = line.split('=')[1].strip(\" \")\n",
    "        if 'capShape' in line and cap_counter==0:\n",
    "            mushroom_dict[\"capShape\"] = line.split('=')[1].strip(\" \")\n",
    "            cap_counter += 1\n",
    "        if 'hymeniumType' in line:\n",
    "            mushroom_dict[\"hymeniumType\"] = line.split('=')[1].strip(\" \")\n",
    "        if 'stipeCharacter' in line:\n",
    "            mushroom_dict[\"stipeCharacter\"] = line.split('=')[1].strip(\" \")\n",
    "        if 'ecologicalType' in line:\n",
    "            mushroom_dict[\"ecologicalType\"] = line.split('=')[1].strip(\" \")\n",
    "        if 'sporePrintColor'  in line:\n",
    "            mushroom_dict[\"sporePrintColor\"] = line.split('=')[1].strip(\" \")\n",
    "    \n",
    "    return (mushroom_dict)"
   ]
  },
  {
   "cell_type": "code",
   "execution_count": 5,
   "id": "e9b43223",
   "metadata": {},
   "outputs": [],
   "source": [
    "name_list=['Agaricus arvensis', 'Byssomerulius corium', 'Cortinarius torvus', 'Hypholoma fasciculare',\n",
    " 'Tricholoma scalpturatum',  'Agaricus impudicus',  'Cantharellus cibarius',  'Cuphophyllus virgineus',\n",
    " 'Leccinum scabrum',  'Xerocomellus chrysenteron',  'Amanita muscaria',  'Cerioporus squamosus',  'Cylindrobasidium laeve',\n",
    " 'Mycena galericulata',  'Xerocomus ferrugineus',  'Amanita virosa',  'Cerioporus varius',  'Fomes fomentarius',\n",
    " 'Plicatura crispa', 'Xylodon paradoxus',  'Armillaria lutea',  'Coprinellus micaceus',  'Fomitopsis pinicola',\n",
    " 'Pluteus cervinus',  'Auricularia auricula judae',  'Cortinarius elatior',  'Ganoderma applanatum',\n",
    " 'Psathyrella candolleana',  'Basidioradulum radula',  'Cortinarius flexipes',  'Ganoderma pfeifferi',\n",
    " 'Russula mariae',  'Boletus edulis',  'Cortinarius malicorius',  'Hericium erinaceus',  'Trametes versicolor' ]"
   ]
  },
  {
   "cell_type": "code",
   "execution_count": 6,
   "id": "0a009e4d",
   "metadata": {},
   "outputs": [],
   "source": [
    "mush_df=pd.DataFrame({'list name':name_list})\n",
    "mush_df.set_index('list name',inplace=True)"
   ]
  },
  {
   "cell_type": "code",
   "execution_count": 7,
   "id": "87070466",
   "metadata": {},
   "outputs": [],
   "source": [
    "dictionary = {}\n",
    "good_list=[]\n",
    "empty_list=[]\n",
    "error_list=[]\n",
    "for mushroom in name_list:\n",
    "    try:\n",
    "        if not Wiki_Api(mushroom):\n",
    "            #print(mushroom+' is empty')\n",
    "            empty_list.append(True)\n",
    "            good_list.append(False)\n",
    "            error_list.append(False)\n",
    "        else:\n",
    "            Wiki_Api(mushroom)\n",
    "            #print(mushroom+' is good')\n",
    "            good_list.append(True)\n",
    "            empty_list.append(False)\n",
    "            error_list.append(False)\n",
    "    except:\n",
    "        #print(mushroom+ \" gives error\")\n",
    "        #error_list.append(mushroom)\n",
    "        good_list.append(False)\n",
    "        empty_list.append(False)\n",
    "        error_list.append(True)"
   ]
  },
  {
   "cell_type": "code",
   "execution_count": 8,
   "id": "767cec28",
   "metadata": {},
   "outputs": [
    {
     "name": "stdout",
     "output_type": "stream",
     "text": [
      "There are  18 good\n",
      "There are   8 empty\n",
      "There are  10 Error\n"
     ]
    }
   ],
   "source": [
    "# Add information about whether it his on wiki with empty, good, or error; add whether or not it had a funfact (default is no)\n",
    "mush_df['Good']=good_list; mush_df['Empty']=empty_list; mush_df['Error']=error_list; mush_df['Fun Fact']=False\n",
    "print(f'There are {len(mush_df[mush_df[\"Good\"]]):3} good')\n",
    "print(f'There are {len(mush_df[mush_df[\"Empty\"]]):3} empty')\n",
    "print(f'There are {len(mush_df[mush_df[\"Error\"]]):3} Error')"
   ]
  },
  {
   "cell_type": "code",
   "execution_count": 9,
   "id": "4f67103e",
   "metadata": {},
   "outputs": [
    {
     "data": {
      "text/html": [
       "<div>\n",
       "<style scoped>\n",
       "    .dataframe tbody tr th:only-of-type {\n",
       "        vertical-align: middle;\n",
       "    }\n",
       "\n",
       "    .dataframe tbody tr th {\n",
       "        vertical-align: top;\n",
       "    }\n",
       "\n",
       "    .dataframe thead th {\n",
       "        text-align: right;\n",
       "    }\n",
       "</style>\n",
       "<table border=\"1\" class=\"dataframe\">\n",
       "  <thead>\n",
       "    <tr style=\"text-align: right;\">\n",
       "      <th></th>\n",
       "      <th>Good</th>\n",
       "      <th>Empty</th>\n",
       "      <th>Error</th>\n",
       "      <th>Fun Fact</th>\n",
       "    </tr>\n",
       "    <tr>\n",
       "      <th>list name</th>\n",
       "      <th></th>\n",
       "      <th></th>\n",
       "      <th></th>\n",
       "      <th></th>\n",
       "    </tr>\n",
       "  </thead>\n",
       "  <tbody>\n",
       "    <tr>\n",
       "      <th>Agaricus arvensis</th>\n",
       "      <td>True</td>\n",
       "      <td>False</td>\n",
       "      <td>False</td>\n",
       "      <td>False</td>\n",
       "    </tr>\n",
       "    <tr>\n",
       "      <th>Byssomerulius corium</th>\n",
       "      <td>False</td>\n",
       "      <td>True</td>\n",
       "      <td>False</td>\n",
       "      <td>False</td>\n",
       "    </tr>\n",
       "    <tr>\n",
       "      <th>Cortinarius torvus</th>\n",
       "      <td>False</td>\n",
       "      <td>False</td>\n",
       "      <td>True</td>\n",
       "      <td>False</td>\n",
       "    </tr>\n",
       "    <tr>\n",
       "      <th>Hypholoma fasciculare</th>\n",
       "      <td>True</td>\n",
       "      <td>False</td>\n",
       "      <td>False</td>\n",
       "      <td>False</td>\n",
       "    </tr>\n",
       "    <tr>\n",
       "      <th>Tricholoma scalpturatum</th>\n",
       "      <td>False</td>\n",
       "      <td>True</td>\n",
       "      <td>False</td>\n",
       "      <td>False</td>\n",
       "    </tr>\n",
       "    <tr>\n",
       "      <th>Agaricus impudicus</th>\n",
       "      <td>True</td>\n",
       "      <td>False</td>\n",
       "      <td>False</td>\n",
       "      <td>False</td>\n",
       "    </tr>\n",
       "  </tbody>\n",
       "</table>\n",
       "</div>"
      ],
      "text/plain": [
       "                          Good  Empty  Error  Fun Fact\n",
       "list name                                             \n",
       "Agaricus arvensis         True  False  False     False\n",
       "Byssomerulius corium     False   True  False     False\n",
       "Cortinarius torvus       False  False   True     False\n",
       "Hypholoma fasciculare     True  False  False     False\n",
       "Tricholoma scalpturatum  False   True  False     False\n",
       "Agaricus impudicus        True  False  False     False"
      ]
     },
     "execution_count": 9,
     "metadata": {},
     "output_type": "execute_result"
    }
   ],
   "source": [
    "mush_df.head(6)"
   ]
  },
  {
   "cell_type": "code",
   "execution_count": 10,
   "id": "87dd9758",
   "metadata": {},
   "outputs": [
    {
     "data": {
      "text/html": [
       "<div>\n",
       "<style scoped>\n",
       "    .dataframe tbody tr th:only-of-type {\n",
       "        vertical-align: middle;\n",
       "    }\n",
       "\n",
       "    .dataframe tbody tr th {\n",
       "        vertical-align: top;\n",
       "    }\n",
       "\n",
       "    .dataframe thead th {\n",
       "        text-align: right;\n",
       "    }\n",
       "</style>\n",
       "<table border=\"1\" class=\"dataframe\">\n",
       "  <thead>\n",
       "    <tr style=\"text-align: right;\">\n",
       "      <th></th>\n",
       "      <th>Fun Fact</th>\n",
       "    </tr>\n",
       "    <tr>\n",
       "      <th>list name</th>\n",
       "      <th></th>\n",
       "    </tr>\n",
       "  </thead>\n",
       "  <tbody>\n",
       "    <tr>\n",
       "      <th>Agaricus arvensis</th>\n",
       "      <td>False</td>\n",
       "    </tr>\n",
       "    <tr>\n",
       "      <th>Byssomerulius corium</th>\n",
       "      <td>False</td>\n",
       "    </tr>\n",
       "    <tr>\n",
       "      <th>Cortinarius torvus</th>\n",
       "      <td>False</td>\n",
       "    </tr>\n",
       "    <tr>\n",
       "      <th>Hypholoma fasciculare</th>\n",
       "      <td>False</td>\n",
       "    </tr>\n",
       "    <tr>\n",
       "      <th>Tricholoma scalpturatum</th>\n",
       "      <td>False</td>\n",
       "    </tr>\n",
       "    <tr>\n",
       "      <th>Agaricus impudicus</th>\n",
       "      <td>False</td>\n",
       "    </tr>\n",
       "    <tr>\n",
       "      <th>Cantharellus cibarius</th>\n",
       "      <td>False</td>\n",
       "    </tr>\n",
       "    <tr>\n",
       "      <th>Cuphophyllus virgineus</th>\n",
       "      <td>False</td>\n",
       "    </tr>\n",
       "    <tr>\n",
       "      <th>Leccinum scabrum</th>\n",
       "      <td>False</td>\n",
       "    </tr>\n",
       "    <tr>\n",
       "      <th>Xerocomellus chrysenteron</th>\n",
       "      <td>False</td>\n",
       "    </tr>\n",
       "    <tr>\n",
       "      <th>Amanita muscaria</th>\n",
       "      <td>False</td>\n",
       "    </tr>\n",
       "    <tr>\n",
       "      <th>Cerioporus squamosus</th>\n",
       "      <td>False</td>\n",
       "    </tr>\n",
       "    <tr>\n",
       "      <th>Cylindrobasidium laeve</th>\n",
       "      <td>False</td>\n",
       "    </tr>\n",
       "    <tr>\n",
       "      <th>Mycena galericulata</th>\n",
       "      <td>False</td>\n",
       "    </tr>\n",
       "    <tr>\n",
       "      <th>Xerocomus ferrugineus</th>\n",
       "      <td>False</td>\n",
       "    </tr>\n",
       "    <tr>\n",
       "      <th>Amanita virosa</th>\n",
       "      <td>False</td>\n",
       "    </tr>\n",
       "    <tr>\n",
       "      <th>Cerioporus varius</th>\n",
       "      <td>False</td>\n",
       "    </tr>\n",
       "    <tr>\n",
       "      <th>Fomes fomentarius</th>\n",
       "      <td>False</td>\n",
       "    </tr>\n",
       "    <tr>\n",
       "      <th>Plicatura crispa</th>\n",
       "      <td>False</td>\n",
       "    </tr>\n",
       "    <tr>\n",
       "      <th>Xylodon paradoxus</th>\n",
       "      <td>False</td>\n",
       "    </tr>\n",
       "    <tr>\n",
       "      <th>Armillaria lutea</th>\n",
       "      <td>False</td>\n",
       "    </tr>\n",
       "    <tr>\n",
       "      <th>Coprinellus micaceus</th>\n",
       "      <td>False</td>\n",
       "    </tr>\n",
       "    <tr>\n",
       "      <th>Fomitopsis pinicola</th>\n",
       "      <td>False</td>\n",
       "    </tr>\n",
       "    <tr>\n",
       "      <th>Pluteus cervinus</th>\n",
       "      <td>False</td>\n",
       "    </tr>\n",
       "    <tr>\n",
       "      <th>Auricularia auricula judae</th>\n",
       "      <td>False</td>\n",
       "    </tr>\n",
       "    <tr>\n",
       "      <th>Cortinarius elatior</th>\n",
       "      <td>False</td>\n",
       "    </tr>\n",
       "    <tr>\n",
       "      <th>Ganoderma applanatum</th>\n",
       "      <td>False</td>\n",
       "    </tr>\n",
       "    <tr>\n",
       "      <th>Psathyrella candolleana</th>\n",
       "      <td>False</td>\n",
       "    </tr>\n",
       "    <tr>\n",
       "      <th>Basidioradulum radula</th>\n",
       "      <td>False</td>\n",
       "    </tr>\n",
       "    <tr>\n",
       "      <th>Cortinarius flexipes</th>\n",
       "      <td>False</td>\n",
       "    </tr>\n",
       "    <tr>\n",
       "      <th>Ganoderma pfeifferi</th>\n",
       "      <td>False</td>\n",
       "    </tr>\n",
       "    <tr>\n",
       "      <th>Russula mariae</th>\n",
       "      <td>False</td>\n",
       "    </tr>\n",
       "    <tr>\n",
       "      <th>Boletus edulis</th>\n",
       "      <td>False</td>\n",
       "    </tr>\n",
       "    <tr>\n",
       "      <th>Cortinarius malicorius</th>\n",
       "      <td>False</td>\n",
       "    </tr>\n",
       "    <tr>\n",
       "      <th>Hericium erinaceus</th>\n",
       "      <td>False</td>\n",
       "    </tr>\n",
       "    <tr>\n",
       "      <th>Trametes versicolor</th>\n",
       "      <td>False</td>\n",
       "    </tr>\n",
       "  </tbody>\n",
       "</table>\n",
       "</div>"
      ],
      "text/plain": [
       "                            Fun Fact\n",
       "list name                           \n",
       "Agaricus arvensis              False\n",
       "Byssomerulius corium           False\n",
       "Cortinarius torvus             False\n",
       "Hypholoma fasciculare          False\n",
       "Tricholoma scalpturatum        False\n",
       "Agaricus impudicus             False\n",
       "Cantharellus cibarius          False\n",
       "Cuphophyllus virgineus         False\n",
       "Leccinum scabrum               False\n",
       "Xerocomellus chrysenteron      False\n",
       "Amanita muscaria               False\n",
       "Cerioporus squamosus           False\n",
       "Cylindrobasidium laeve         False\n",
       "Mycena galericulata            False\n",
       "Xerocomus ferrugineus          False\n",
       "Amanita virosa                 False\n",
       "Cerioporus varius              False\n",
       "Fomes fomentarius              False\n",
       "Plicatura crispa               False\n",
       "Xylodon paradoxus              False\n",
       "Armillaria lutea               False\n",
       "Coprinellus micaceus           False\n",
       "Fomitopsis pinicola            False\n",
       "Pluteus cervinus               False\n",
       "Auricularia auricula judae     False\n",
       "Cortinarius elatior            False\n",
       "Ganoderma applanatum           False\n",
       "Psathyrella candolleana        False\n",
       "Basidioradulum radula          False\n",
       "Cortinarius flexipes           False\n",
       "Ganoderma pfeifferi            False\n",
       "Russula mariae                 False\n",
       "Boletus edulis                 False\n",
       "Cortinarius malicorius         False\n",
       "Hericium erinaceus             False\n",
       "Trametes versicolor            False"
      ]
     },
     "execution_count": 10,
     "metadata": {},
     "output_type": "execute_result"
    }
   ],
   "source": [
    "mush_df_final = mush_df.drop(columns=['Good', 'Empty', 'Error'])\n",
    "mush_df_final"
   ]
  },
  {
   "cell_type": "code",
   "execution_count": null,
   "id": "fba04acd",
   "metadata": {},
   "outputs": [],
   "source": [
    "def fun_fact(name):\n",
    "    list_fun_fact = \n",
    "    mush_df_final"
   ]
  },
  {
   "cell_type": "markdown",
   "id": "a959cd1d",
   "metadata": {},
   "source": [
    "### Destroying angel fun fact"
   ]
  },
  {
   "cell_type": "code",
   "execution_count": 11,
   "id": "819002ba",
   "metadata": {},
   "outputs": [],
   "source": [
    "mush_df.loc['Amanita virosa','Fun Fact']='Amanita virosa, also known as the destroying angel, is highly toxic, and has been responsible for severe mushroom poisonings. Like the closely related death cap (A. phalloides), it contains the highly toxic amatoxins, as well as phallotoxins. Some authorities strongly advise against putting these fungi in the same basket with those collected for the table and to avoid touching them.['"
   ]
  },
  {
   "cell_type": "markdown",
   "id": "64e3884c",
   "metadata": {},
   "source": [
    "### Trametes versicolour fun fact (cancer tea)"
   ]
  },
  {
   "cell_type": "code",
   "execution_count": 12,
   "id": "a6606c0b",
   "metadata": {},
   "outputs": [],
   "source": [
    "mush_df.loc['Trametes versicolor','Fun Fact']=\"Turkey tail (Trametes versicolor) is one of the most studied medicinal mushrooms with some well documented, potent action, particularly for treating cancer... and if not spotted growing on some deadwood in your garden (or like us, on your un-chopped log pile!), no doubt it can be found proliferating away in your local park or greenspace.\""
   ]
  },
  {
   "cell_type": "markdown",
   "id": "4ce97d4d",
   "metadata": {},
   "source": [
    "### Amanita muscaria fun fact (shamans)"
   ]
  },
  {
   "cell_type": "code",
   "execution_count": 13,
   "id": "11b8264c",
   "metadata": {},
   "outputs": [],
   "source": [
    "mush_df.loc['Amanita muscaria','Fun Fact']=\"Amanita muscaria, also known as the fly agaric (though this is a misnaming, as it's not an agaric) was used for it's psychoactive properties, recreationally and religiously, by both shamans and laypeople alike. In eastern Siberia, the shaman would take the mushrooms, and others would drink his urine. This urine, still containing psychoactive elements, may be more potent than the A. muscaria mushrooms with fewer negative effects such as sweating and twitching, suggesting that the initial user may act as a screening filter for other components in the mushroom.\""
   ]
  },
  {
   "cell_type": "markdown",
   "id": "5f1cad7f",
   "metadata": {},
   "source": [
    "### Boletus edulis fun fact (edibility, names, recipies)"
   ]
  },
  {
   "cell_type": "code",
   "execution_count": 14,
   "id": "42ad1992",
   "metadata": {},
   "outputs": [],
   "source": [
    "mush_df.loc['Boletus edulis']='Boletus edulis, known by the english as the penny bun mushroom, by the french as cèpes, by the Italians as Porcini mushrooms, and by the Germans as Steinpilz, is a prized culinary mushroom. A kilo gram can sell for up to 50 euros. Here is how to cook them: https://www.thespruceeats.com/how-to-cook-fresh-porcini-mushrooms-2019501'"
   ]
  },
  {
   "cell_type": "markdown",
   "id": "cc70a0ed",
   "metadata": {},
   "source": [
    "### Agaricus arvensis fun fact (edibility, metals)"
   ]
  },
  {
   "cell_type": "code",
   "execution_count": 15,
   "id": "e4859707",
   "metadata": {},
   "outputs": [],
   "source": [
    "mush_df.loc['Agaricus arvensis']=\"Also known as the Horse Mushroom, this is a choice edible species which has been much prized by farmers for generations, being regarded as one of the most delicious of all edible fungi. Despite this, the fruitbodies of this and other yellow-staining Agaricus species often have a build-up of heavy metals, such as cadmium and copper. So be careful not to pick it near factories.\""
   ]
  },
  {
   "cell_type": "markdown",
   "id": "1dc47d30",
   "metadata": {},
   "source": [
    "## How to only display the funfact for species where it exists:"
   ]
  },
  {
   "cell_type": "code",
   "execution_count": 16,
   "id": "fe06b77f",
   "metadata": {},
   "outputs": [
    {
     "data": {
      "text/html": [
       "<div>\n",
       "<style scoped>\n",
       "    .dataframe tbody tr th:only-of-type {\n",
       "        vertical-align: middle;\n",
       "    }\n",
       "\n",
       "    .dataframe tbody tr th {\n",
       "        vertical-align: top;\n",
       "    }\n",
       "\n",
       "    .dataframe thead th {\n",
       "        text-align: right;\n",
       "    }\n",
       "</style>\n",
       "<table border=\"1\" class=\"dataframe\">\n",
       "  <thead>\n",
       "    <tr style=\"text-align: right;\">\n",
       "      <th></th>\n",
       "      <th>Good</th>\n",
       "      <th>Empty</th>\n",
       "      <th>Error</th>\n",
       "      <th>Fun Fact</th>\n",
       "    </tr>\n",
       "    <tr>\n",
       "      <th>list name</th>\n",
       "      <th></th>\n",
       "      <th></th>\n",
       "      <th></th>\n",
       "      <th></th>\n",
       "    </tr>\n",
       "  </thead>\n",
       "  <tbody>\n",
       "    <tr>\n",
       "      <th>Agaricus arvensis</th>\n",
       "      <td>Also known as the Horse Mushroom, this is a ch...</td>\n",
       "      <td>Also known as the Horse Mushroom, this is a ch...</td>\n",
       "      <td>Also known as the Horse Mushroom, this is a ch...</td>\n",
       "      <td>Also known as the Horse Mushroom, this is a ch...</td>\n",
       "    </tr>\n",
       "    <tr>\n",
       "      <th>Amanita muscaria</th>\n",
       "      <td>True</td>\n",
       "      <td>False</td>\n",
       "      <td>False</td>\n",
       "      <td>Amanita muscaria, also known as the fly agaric...</td>\n",
       "    </tr>\n",
       "    <tr>\n",
       "      <th>Amanita virosa</th>\n",
       "      <td>True</td>\n",
       "      <td>False</td>\n",
       "      <td>False</td>\n",
       "      <td>Amanita virosa, also known as the destroying a...</td>\n",
       "    </tr>\n",
       "    <tr>\n",
       "      <th>Boletus edulis</th>\n",
       "      <td>Boletus edulis, known by the english as the pe...</td>\n",
       "      <td>Boletus edulis, known by the english as the pe...</td>\n",
       "      <td>Boletus edulis, known by the english as the pe...</td>\n",
       "      <td>Boletus edulis, known by the english as the pe...</td>\n",
       "    </tr>\n",
       "    <tr>\n",
       "      <th>Trametes versicolor</th>\n",
       "      <td>True</td>\n",
       "      <td>False</td>\n",
       "      <td>False</td>\n",
       "      <td>Turkey tail (Trametes versicolor) is one of th...</td>\n",
       "    </tr>\n",
       "  </tbody>\n",
       "</table>\n",
       "</div>"
      ],
      "text/plain": [
       "                                                                  Good  \\\n",
       "list name                                                                \n",
       "Agaricus arvensis    Also known as the Horse Mushroom, this is a ch...   \n",
       "Amanita muscaria                                                  True   \n",
       "Amanita virosa                                                    True   \n",
       "Boletus edulis       Boletus edulis, known by the english as the pe...   \n",
       "Trametes versicolor                                               True   \n",
       "\n",
       "                                                                 Empty  \\\n",
       "list name                                                                \n",
       "Agaricus arvensis    Also known as the Horse Mushroom, this is a ch...   \n",
       "Amanita muscaria                                                 False   \n",
       "Amanita virosa                                                   False   \n",
       "Boletus edulis       Boletus edulis, known by the english as the pe...   \n",
       "Trametes versicolor                                              False   \n",
       "\n",
       "                                                                 Error  \\\n",
       "list name                                                                \n",
       "Agaricus arvensis    Also known as the Horse Mushroom, this is a ch...   \n",
       "Amanita muscaria                                                 False   \n",
       "Amanita virosa                                                   False   \n",
       "Boletus edulis       Boletus edulis, known by the english as the pe...   \n",
       "Trametes versicolor                                              False   \n",
       "\n",
       "                                                              Fun Fact  \n",
       "list name                                                               \n",
       "Agaricus arvensis    Also known as the Horse Mushroom, this is a ch...  \n",
       "Amanita muscaria     Amanita muscaria, also known as the fly agaric...  \n",
       "Amanita virosa       Amanita virosa, also known as the destroying a...  \n",
       "Boletus edulis       Boletus edulis, known by the english as the pe...  \n",
       "Trametes versicolor  Turkey tail (Trametes versicolor) is one of th...  "
      ]
     },
     "execution_count": 16,
     "metadata": {},
     "output_type": "execute_result"
    }
   ],
   "source": [
    "mush_df[mush_df['Fun Fact']!=False]"
   ]
  },
  {
   "cell_type": "code",
   "execution_count": 17,
   "id": "14d7a738",
   "metadata": {},
   "outputs": [
    {
     "ename": "KeyError",
     "evalue": "\"['Good' 'Empty' 'Error'] not found in axis\"",
     "output_type": "error",
     "traceback": [
      "\u001b[0;31m---------------------------------------------------------------------------\u001b[0m",
      "\u001b[0;31mKeyError\u001b[0m                                  Traceback (most recent call last)",
      "\u001b[0;32m/tmp/ipykernel_5712/3789001596.py\u001b[0m in \u001b[0;36m<module>\u001b[0;34m\u001b[0m\n\u001b[1;32m      1\u001b[0m \u001b[0;31m# This is what I added. Stella\u001b[0m\u001b[0;34m\u001b[0m\u001b[0;34m\u001b[0m\u001b[0;34m\u001b[0m\u001b[0m\n\u001b[0;32m----> 2\u001b[0;31m \u001b[0mmush_df_final\u001b[0m\u001b[0;34m.\u001b[0m\u001b[0mdrop\u001b[0m\u001b[0;34m(\u001b[0m\u001b[0mcolumns\u001b[0m\u001b[0;34m=\u001b[0m\u001b[0;34m[\u001b[0m\u001b[0;34m'Good'\u001b[0m\u001b[0;34m,\u001b[0m\u001b[0;34m'Empty'\u001b[0m\u001b[0;34m,\u001b[0m\u001b[0;34m'Error'\u001b[0m\u001b[0;34m]\u001b[0m\u001b[0;34m)\u001b[0m\u001b[0;34m\u001b[0m\u001b[0;34m\u001b[0m\u001b[0m\n\u001b[0m",
      "\u001b[0;32m~/.pyenv/versions/3.8.12/envs/lewagon/lib/python3.8/site-packages/pandas/util/_decorators.py\u001b[0m in \u001b[0;36mwrapper\u001b[0;34m(*args, **kwargs)\u001b[0m\n\u001b[1;32m    309\u001b[0m                     \u001b[0mstacklevel\u001b[0m\u001b[0;34m=\u001b[0m\u001b[0mstacklevel\u001b[0m\u001b[0;34m,\u001b[0m\u001b[0;34m\u001b[0m\u001b[0;34m\u001b[0m\u001b[0m\n\u001b[1;32m    310\u001b[0m                 )\n\u001b[0;32m--> 311\u001b[0;31m             \u001b[0;32mreturn\u001b[0m \u001b[0mfunc\u001b[0m\u001b[0;34m(\u001b[0m\u001b[0;34m*\u001b[0m\u001b[0margs\u001b[0m\u001b[0;34m,\u001b[0m \u001b[0;34m**\u001b[0m\u001b[0mkwargs\u001b[0m\u001b[0;34m)\u001b[0m\u001b[0;34m\u001b[0m\u001b[0;34m\u001b[0m\u001b[0m\n\u001b[0m\u001b[1;32m    312\u001b[0m \u001b[0;34m\u001b[0m\u001b[0m\n\u001b[1;32m    313\u001b[0m         \u001b[0;32mreturn\u001b[0m \u001b[0mwrapper\u001b[0m\u001b[0;34m\u001b[0m\u001b[0;34m\u001b[0m\u001b[0m\n",
      "\u001b[0;32m~/.pyenv/versions/3.8.12/envs/lewagon/lib/python3.8/site-packages/pandas/core/frame.py\u001b[0m in \u001b[0;36mdrop\u001b[0;34m(self, labels, axis, index, columns, level, inplace, errors)\u001b[0m\n\u001b[1;32m   4904\u001b[0m                 \u001b[0mweight\u001b[0m  \u001b[0;36m1.0\u001b[0m     \u001b[0;36m0.8\u001b[0m\u001b[0;34m\u001b[0m\u001b[0;34m\u001b[0m\u001b[0m\n\u001b[1;32m   4905\u001b[0m         \"\"\"\n\u001b[0;32m-> 4906\u001b[0;31m         return super().drop(\n\u001b[0m\u001b[1;32m   4907\u001b[0m             \u001b[0mlabels\u001b[0m\u001b[0;34m=\u001b[0m\u001b[0mlabels\u001b[0m\u001b[0;34m,\u001b[0m\u001b[0;34m\u001b[0m\u001b[0;34m\u001b[0m\u001b[0m\n\u001b[1;32m   4908\u001b[0m             \u001b[0maxis\u001b[0m\u001b[0;34m=\u001b[0m\u001b[0maxis\u001b[0m\u001b[0;34m,\u001b[0m\u001b[0;34m\u001b[0m\u001b[0;34m\u001b[0m\u001b[0m\n",
      "\u001b[0;32m~/.pyenv/versions/3.8.12/envs/lewagon/lib/python3.8/site-packages/pandas/core/generic.py\u001b[0m in \u001b[0;36mdrop\u001b[0;34m(self, labels, axis, index, columns, level, inplace, errors)\u001b[0m\n\u001b[1;32m   4148\u001b[0m         \u001b[0;32mfor\u001b[0m \u001b[0maxis\u001b[0m\u001b[0;34m,\u001b[0m \u001b[0mlabels\u001b[0m \u001b[0;32min\u001b[0m \u001b[0maxes\u001b[0m\u001b[0;34m.\u001b[0m\u001b[0mitems\u001b[0m\u001b[0;34m(\u001b[0m\u001b[0;34m)\u001b[0m\u001b[0;34m:\u001b[0m\u001b[0;34m\u001b[0m\u001b[0;34m\u001b[0m\u001b[0m\n\u001b[1;32m   4149\u001b[0m             \u001b[0;32mif\u001b[0m \u001b[0mlabels\u001b[0m \u001b[0;32mis\u001b[0m \u001b[0;32mnot\u001b[0m \u001b[0;32mNone\u001b[0m\u001b[0;34m:\u001b[0m\u001b[0;34m\u001b[0m\u001b[0;34m\u001b[0m\u001b[0m\n\u001b[0;32m-> 4150\u001b[0;31m                 \u001b[0mobj\u001b[0m \u001b[0;34m=\u001b[0m \u001b[0mobj\u001b[0m\u001b[0;34m.\u001b[0m\u001b[0m_drop_axis\u001b[0m\u001b[0;34m(\u001b[0m\u001b[0mlabels\u001b[0m\u001b[0;34m,\u001b[0m \u001b[0maxis\u001b[0m\u001b[0;34m,\u001b[0m \u001b[0mlevel\u001b[0m\u001b[0;34m=\u001b[0m\u001b[0mlevel\u001b[0m\u001b[0;34m,\u001b[0m \u001b[0merrors\u001b[0m\u001b[0;34m=\u001b[0m\u001b[0merrors\u001b[0m\u001b[0;34m)\u001b[0m\u001b[0;34m\u001b[0m\u001b[0;34m\u001b[0m\u001b[0m\n\u001b[0m\u001b[1;32m   4151\u001b[0m \u001b[0;34m\u001b[0m\u001b[0m\n\u001b[1;32m   4152\u001b[0m         \u001b[0;32mif\u001b[0m \u001b[0minplace\u001b[0m\u001b[0;34m:\u001b[0m\u001b[0;34m\u001b[0m\u001b[0;34m\u001b[0m\u001b[0m\n",
      "\u001b[0;32m~/.pyenv/versions/3.8.12/envs/lewagon/lib/python3.8/site-packages/pandas/core/generic.py\u001b[0m in \u001b[0;36m_drop_axis\u001b[0;34m(self, labels, axis, level, errors)\u001b[0m\n\u001b[1;32m   4183\u001b[0m                 \u001b[0mnew_axis\u001b[0m \u001b[0;34m=\u001b[0m \u001b[0maxis\u001b[0m\u001b[0;34m.\u001b[0m\u001b[0mdrop\u001b[0m\u001b[0;34m(\u001b[0m\u001b[0mlabels\u001b[0m\u001b[0;34m,\u001b[0m \u001b[0mlevel\u001b[0m\u001b[0;34m=\u001b[0m\u001b[0mlevel\u001b[0m\u001b[0;34m,\u001b[0m \u001b[0merrors\u001b[0m\u001b[0;34m=\u001b[0m\u001b[0merrors\u001b[0m\u001b[0;34m)\u001b[0m\u001b[0;34m\u001b[0m\u001b[0;34m\u001b[0m\u001b[0m\n\u001b[1;32m   4184\u001b[0m             \u001b[0;32melse\u001b[0m\u001b[0;34m:\u001b[0m\u001b[0;34m\u001b[0m\u001b[0;34m\u001b[0m\u001b[0m\n\u001b[0;32m-> 4185\u001b[0;31m                 \u001b[0mnew_axis\u001b[0m \u001b[0;34m=\u001b[0m \u001b[0maxis\u001b[0m\u001b[0;34m.\u001b[0m\u001b[0mdrop\u001b[0m\u001b[0;34m(\u001b[0m\u001b[0mlabels\u001b[0m\u001b[0;34m,\u001b[0m \u001b[0merrors\u001b[0m\u001b[0;34m=\u001b[0m\u001b[0merrors\u001b[0m\u001b[0;34m)\u001b[0m\u001b[0;34m\u001b[0m\u001b[0;34m\u001b[0m\u001b[0m\n\u001b[0m\u001b[1;32m   4186\u001b[0m             \u001b[0mresult\u001b[0m \u001b[0;34m=\u001b[0m \u001b[0mself\u001b[0m\u001b[0;34m.\u001b[0m\u001b[0mreindex\u001b[0m\u001b[0;34m(\u001b[0m\u001b[0;34m**\u001b[0m\u001b[0;34m{\u001b[0m\u001b[0maxis_name\u001b[0m\u001b[0;34m:\u001b[0m \u001b[0mnew_axis\u001b[0m\u001b[0;34m}\u001b[0m\u001b[0;34m)\u001b[0m\u001b[0;34m\u001b[0m\u001b[0;34m\u001b[0m\u001b[0m\n\u001b[1;32m   4187\u001b[0m \u001b[0;34m\u001b[0m\u001b[0m\n",
      "\u001b[0;32m~/.pyenv/versions/3.8.12/envs/lewagon/lib/python3.8/site-packages/pandas/core/indexes/base.py\u001b[0m in \u001b[0;36mdrop\u001b[0;34m(self, labels, errors)\u001b[0m\n\u001b[1;32m   6015\u001b[0m         \u001b[0;32mif\u001b[0m \u001b[0mmask\u001b[0m\u001b[0;34m.\u001b[0m\u001b[0many\u001b[0m\u001b[0;34m(\u001b[0m\u001b[0;34m)\u001b[0m\u001b[0;34m:\u001b[0m\u001b[0;34m\u001b[0m\u001b[0;34m\u001b[0m\u001b[0m\n\u001b[1;32m   6016\u001b[0m             \u001b[0;32mif\u001b[0m \u001b[0merrors\u001b[0m \u001b[0;34m!=\u001b[0m \u001b[0;34m\"ignore\"\u001b[0m\u001b[0;34m:\u001b[0m\u001b[0;34m\u001b[0m\u001b[0;34m\u001b[0m\u001b[0m\n\u001b[0;32m-> 6017\u001b[0;31m                 \u001b[0;32mraise\u001b[0m \u001b[0mKeyError\u001b[0m\u001b[0;34m(\u001b[0m\u001b[0;34mf\"{labels[mask]} not found in axis\"\u001b[0m\u001b[0;34m)\u001b[0m\u001b[0;34m\u001b[0m\u001b[0;34m\u001b[0m\u001b[0m\n\u001b[0m\u001b[1;32m   6018\u001b[0m             \u001b[0mindexer\u001b[0m \u001b[0;34m=\u001b[0m \u001b[0mindexer\u001b[0m\u001b[0;34m[\u001b[0m\u001b[0;34m~\u001b[0m\u001b[0mmask\u001b[0m\u001b[0;34m]\u001b[0m\u001b[0;34m\u001b[0m\u001b[0;34m\u001b[0m\u001b[0m\n\u001b[1;32m   6019\u001b[0m         \u001b[0;32mreturn\u001b[0m \u001b[0mself\u001b[0m\u001b[0;34m.\u001b[0m\u001b[0mdelete\u001b[0m\u001b[0;34m(\u001b[0m\u001b[0mindexer\u001b[0m\u001b[0;34m)\u001b[0m\u001b[0;34m\u001b[0m\u001b[0;34m\u001b[0m\u001b[0m\n",
      "\u001b[0;31mKeyError\u001b[0m: \"['Good' 'Empty' 'Error'] not found in axis\""
     ]
    }
   ],
   "source": [
    "# This is what I added. Stella\n",
    "mush_df_final.drop(columns=['Good','Empty','Error'])"
   ]
  },
  {
   "cell_type": "code",
   "execution_count": null,
   "id": "25a5cb04",
   "metadata": {},
   "outputs": [],
   "source": [
    "def fun_fact(name):\n",
    "    "
   ]
  },
  {
   "cell_type": "code",
   "execution_count": null,
   "id": "143a4640",
   "metadata": {},
   "outputs": [],
   "source": [
    "for i in mush_df:\n",
    "    if i['Fun Fact']:\n",
    "        print(i['list name'])"
   ]
  },
  {
   "cell_type": "code",
   "execution_count": null,
   "id": "8191fd38",
   "metadata": {},
   "outputs": [],
   "source": [
    "mush_df.drop(axis=1, columns=('Amanit virosa', 'Fun Fact'),inplace=True)"
   ]
  },
  {
   "cell_type": "code",
   "execution_count": null,
   "id": "ebc04b11",
   "metadata": {},
   "outputs": [],
   "source": [
    "error_list"
   ]
  },
  {
   "cell_type": "code",
   "execution_count": null,
   "id": "98082e18",
   "metadata": {},
   "outputs": [],
   "source": []
  },
  {
   "cell_type": "code",
   "execution_count": null,
   "id": "921afd8f",
   "metadata": {},
   "outputs": [],
   "source": []
  }
 ],
 "metadata": {
  "kernelspec": {
   "display_name": "Python 3 (ipykernel)",
   "language": "python",
   "name": "python3"
  },
  "language_info": {
   "codemirror_mode": {
    "name": "ipython",
    "version": 3
   },
   "file_extension": ".py",
   "mimetype": "text/x-python",
   "name": "python",
   "nbconvert_exporter": "python",
   "pygments_lexer": "ipython3",
   "version": "3.8.12"
  }
 },
 "nbformat": 4,
 "nbformat_minor": 5
}
