{
 "cells": [
  {
   "cell_type": "code",
   "execution_count": 1,
   "id": "bd834ab0",
   "metadata": {},
   "outputs": [
    {
     "name": "stdout",
     "output_type": "stream",
     "text": [
      "/home/danielsptanner/code/DSP-Tan/mushroom_learning/data_aquisition\r\n"
     ]
    }
   ],
   "source": [
    "!pwd"
   ]
  },
  {
   "cell_type": "code",
   "execution_count": 10,
   "id": "2e3a50af",
   "metadata": {},
   "outputs": [],
   "source": [
    "import requests\n",
    "import pandas as pd\n",
    "url='https://en.wikipedia.org/w/api.php'"
   ]
  },
  {
   "cell_type": "code",
   "execution_count": 11,
   "id": "aaa7d8eb",
   "metadata": {},
   "outputs": [],
   "source": [
    "# from IPython.lib.display import YouTubeVideo\n",
    "def Wiki_Api(mushroom_name):\n",
    "  \n",
    "    mushroom_dict = {}\n",
    "  \n",
    "    params={\n",
    "    'action':'query',\n",
    "    'format':'json',\n",
    "    'titles':mushroom_name,\n",
    "    'prop':'revisions',               \n",
    "    'rvsection':0,\n",
    "    'rvprop':'content'}\n",
    "    \n",
    "    #Inital response from Wiki web page\n",
    "    response=requests.get(url,params).json()\n",
    "\n",
    "    #Find key for Json\n",
    "    key = list(response['query']['pages'].keys())[0]\n",
    "    lines = response['query']['pages'][key]['revisions'][0]['*'].split('\\n')\n",
    "\n",
    "    cap_counter = 0\n",
    "\n",
    "    for line in lines:\n",
    "        if 'howEdible' in line:\n",
    "            mushroom_dict[\"howEdible\"] = line.split('=')[1].strip(\" \").strip(\"}\")\n",
    "    # if 'howEdible2' in line:\n",
    "    #   mushroom_dict[\"howEdible2\"] = line.split('=')[1].strip(\" \")\n",
    "        if 'whichGills' in line:\n",
    "            mushroom_dict[\"whichGills\"] = line.split('=')[1].strip(\" \")\n",
    "        if 'capShape' in line and cap_counter==0:\n",
    "            mushroom_dict[\"capShape\"] = line.split('=')[1].strip(\" \")\n",
    "            cap_counter += 1\n",
    "        if 'hymeniumType' in line:\n",
    "            mushroom_dict[\"hymeniumType\"] = line.split('=')[1].strip(\" \")\n",
    "        if 'stipeCharacter' in line:\n",
    "            mushroom_dict[\"stipeCharacter\"] = line.split('=')[1].strip(\" \")\n",
    "        if 'ecologicalType' in line:\n",
    "            mushroom_dict[\"ecologicalType\"] = line.split('=')[1].strip(\" \")\n",
    "        if 'sporePrintColor'  in line:\n",
    "            mushroom_dict[\"sporePrintColor\"] = line.split('=')[1].strip(\" \")\n",
    "    \n",
    "    return (mushroom_dict)"
   ]
  },
  {
   "cell_type": "code",
   "execution_count": 12,
   "id": "e9b43223",
   "metadata": {},
   "outputs": [],
   "source": [
    "name_list=['Agaricus arvensis', 'Byssomerulius corium', 'Cortinarius torvus', 'Hypholoma fasciculare',\n",
    " 'Tricholoma scalpturatum',  'Agaricus impudicus',  'Cantharellus cibarius',  'Cuphophyllus virgineus',\n",
    " 'Leccinum scabrum',  'Xerocomellus chrysenteron',  'Amanita muscaria',  'Cerioporus squamosus',  'Cylindrobasidium laeve',\n",
    " 'Mycena galericulata',  'Xerocomus ferrugineus',  'Amanita virosa',  'Cerioporus varius',  'Fomes fomentarius',\n",
    " 'Plicatura crispa', 'Xylodon paradoxus',  'Armillaria lutea',  'Coprinellus micaceus',  'Fomitopsis pinicola',\n",
    " 'Pluteus cervinus',  'Auricularia auricula judae',  'Cortinarius elatior',  'Ganoderma applanatum',\n",
    " 'Psathyrella candolleana',  'Basidioradulum radula',  'Cortinarius flexipes',  'Ganoderma pfeifferi',\n",
    " 'Russula mariae',  'Boletus edulis',  'Cortinarius malicorius',  'Hericium erinaceus',  'Trametes versicolor' ]"
   ]
  },
  {
   "cell_type": "code",
   "execution_count": 13,
   "id": "0a009e4d",
   "metadata": {},
   "outputs": [],
   "source": [
    "mush_df=pd.DataFrame({'list name':name_list})\n",
    "mush_df.set_index('list name',inplace=True)"
   ]
  },
  {
   "cell_type": "code",
   "execution_count": 14,
   "id": "87070466",
   "metadata": {},
   "outputs": [],
   "source": [
    "dictionary = {}\n",
    "good_list=[]\n",
    "empty_list=[]\n",
    "error_list=[]\n",
    "for mushroom in name_list:\n",
    "    try:\n",
    "        if not Wiki_Api(mushroom):\n",
    "            #print(mushroom+' is empty')\n",
    "            empty_list.append(True)\n",
    "            good_list.append(False)\n",
    "            error_list.append(False)\n",
    "        else:\n",
    "            Wiki_Api(mushroom)\n",
    "            #print(mushroom+' is good')\n",
    "            good_list.append(True)\n",
    "            empty_list.append(False)\n",
    "            error_list.append(False)\n",
    "    except:\n",
    "        #print(mushroom+ \" gives error\")\n",
    "        #error_list.append(mushroom)\n",
    "        good_list.append(False)\n",
    "        empty_list.append(False)\n",
    "        error_list.append(True)"
   ]
  },
  {
   "cell_type": "code",
   "execution_count": 15,
   "id": "767cec28",
   "metadata": {},
   "outputs": [
    {
     "name": "stdout",
     "output_type": "stream",
     "text": [
      "There are  18 good\n",
      "There are   8 empty\n",
      "There are  10 Error\n"
     ]
    }
   ],
   "source": [
    "# Add information about whether it his on wiki with empty, good, or error; add whether or not it had a funfact (default is no)\n",
    "mush_df['Good']=good_list; mush_df['Empty']=empty_list; mush_df['Error']=error_list; mush_df['Fun Fact']=False\n",
    "print(f'There are {len(mush_df[mush_df[\"Good\"]]):3} good')\n",
    "print(f'There are {len(mush_df[mush_df[\"Empty\"]]):3} empty')\n",
    "print(f'There are {len(mush_df[mush_df[\"Error\"]]):3} Error')"
   ]
  },
  {
   "cell_type": "code",
   "execution_count": 25,
   "id": "4f67103e",
   "metadata": {},
   "outputs": [
    {
     "data": {
      "text/html": [
       "<div>\n",
       "<style scoped>\n",
       "    .dataframe tbody tr th:only-of-type {\n",
       "        vertical-align: middle;\n",
       "    }\n",
       "\n",
       "    .dataframe tbody tr th {\n",
       "        vertical-align: top;\n",
       "    }\n",
       "\n",
       "    .dataframe thead th {\n",
       "        text-align: right;\n",
       "    }\n",
       "</style>\n",
       "<table border=\"1\" class=\"dataframe\">\n",
       "  <thead>\n",
       "    <tr style=\"text-align: right;\">\n",
       "      <th></th>\n",
       "      <th>Good</th>\n",
       "      <th>Empty</th>\n",
       "      <th>Error</th>\n",
       "      <th>Fun Fact</th>\n",
       "    </tr>\n",
       "    <tr>\n",
       "      <th>list name</th>\n",
       "      <th></th>\n",
       "      <th></th>\n",
       "      <th></th>\n",
       "      <th></th>\n",
       "    </tr>\n",
       "  </thead>\n",
       "  <tbody>\n",
       "    <tr>\n",
       "      <th>Agaricus arvensis</th>\n",
       "      <td>True</td>\n",
       "      <td>False</td>\n",
       "      <td>False</td>\n",
       "      <td>False</td>\n",
       "    </tr>\n",
       "    <tr>\n",
       "      <th>Byssomerulius corium</th>\n",
       "      <td>False</td>\n",
       "      <td>True</td>\n",
       "      <td>False</td>\n",
       "      <td>False</td>\n",
       "    </tr>\n",
       "  </tbody>\n",
       "</table>\n",
       "</div>"
      ],
      "text/plain": [
       "                       Good  Empty  Error Fun Fact\n",
       "list name                                         \n",
       "Agaricus arvensis      True  False  False    False\n",
       "Byssomerulius corium  False   True  False    False"
      ]
     },
     "execution_count": 25,
     "metadata": {},
     "output_type": "execute_result"
    }
   ],
   "source": [
    "mush_df.head(2)"
   ]
  },
  {
   "cell_type": "markdown",
   "id": "bfc4c1de",
   "metadata": {},
   "source": [
    "### Destroying angel fun fact"
   ]
  },
  {
   "cell_type": "code",
   "execution_count": 17,
   "id": "819002ba",
   "metadata": {},
   "outputs": [],
   "source": [
    "mush_df.loc['Amanita virosa','Fun Fact']='Amanita virosa, also known as the destroying angel, is highly toxic, and has been responsible for severe mushroom poisonings. Like the closely related death cap (A. phalloides), it contains the highly toxic amatoxins, as well as phallotoxins. Some authorities strongly advise against putting these fungi in the same basket with those collected for the table and to avoid touching them.['"
   ]
  },
  {
   "cell_type": "markdown",
   "id": "950039d1",
   "metadata": {},
   "source": [
    "### Trametes versicolour fun fact (cancer tea)"
   ]
  },
  {
   "cell_type": "code",
   "execution_count": 21,
   "id": "6d7bb571",
   "metadata": {},
   "outputs": [],
   "source": [
    "mush_df.loc['Trametes versicolor','Fun Fact']=\"Turkey tail (Trametes versicolor) is one of the most studied medicinal mushrooms with some well documented, potent action, particularly for treating cancer... and if not spotted growing on some deadwood in your garden (or like us, on your un-chopped log pile!), no doubt it can be found proliferating away in your local park or greenspace.\""
   ]
  },
  {
   "cell_type": "markdown",
   "id": "5ed8da7e",
   "metadata": {},
   "source": [
    "### Amanita muscaria fun fact (shamans)"
   ]
  },
  {
   "cell_type": "code",
   "execution_count": 23,
   "id": "2ff68bce",
   "metadata": {},
   "outputs": [],
   "source": [
    "mush_df.loc['Amanita muscaria','Fun Fact']=\"Amanita muscaria, also known as the fly agaric (though this is a misnaming, as it's not an agaric) was used for it's psychoactive properties, recreationally and religiously, by both shamans and laypeople alike. In eastern Siberia, the shaman would take the mushrooms, and others would drink his urine. This urine, still containing psychoactive elements, may be more potent than the A. muscaria mushrooms with fewer negative effects such as sweating and twitching, suggesting that the initial user may act as a screening filter for other components in the mushroom.\""
   ]
  },
  {
   "cell_type": "markdown",
   "id": "b0924deb",
   "metadata": {},
   "source": [
    "### Boletus edulis fun fact (edibility, names, recipies)"
   ]
  },
  {
   "cell_type": "code",
   "execution_count": 24,
   "id": "96f41c0c",
   "metadata": {},
   "outputs": [],
   "source": [
    "mush_df.loc['Boletus edulis']='Boletus edulis, known by the english as the penny bun mushroom, by the french as cèpes, by the Italians as Porcini mushrooms, and by the Germans as Steinpilz, is a prized culinary mushroom. A kilo gram can sell for up to 50 euros. Here is how to cook them: https://www.thespruceeats.com/how-to-cook-fresh-porcini-mushrooms-2019501'"
   ]
  },
  {
   "cell_type": "markdown",
   "id": "52cd7654",
   "metadata": {},
   "source": [
    "### Agaricus arvensis fun fact (edibility, metals)"
   ]
  },
  {
   "cell_type": "code",
   "execution_count": 26,
   "id": "819b2bda",
   "metadata": {},
   "outputs": [],
   "source": [
    "mush_df.loc['Agaricus arvensis']=\"Also known as the Horse Mushroom, this is a choice edible species which has been much prized by farmers for generations, being regarded as one of the most delicious of all edible fungi. Despite this, the fruitbodies of this and other yellow-staining Agaricus species often have a build-up of heavy metals, such as cadmium and copper. So be careful not to pick it near factories.\""
   ]
  },
  {
   "cell_type": "markdown",
   "id": "41d0e640",
   "metadata": {},
   "source": [
    "## How to only display the funfact for species where it exists:"
   ]
  },
  {
   "cell_type": "code",
   "execution_count": 30,
   "id": "94bcab36",
   "metadata": {},
   "outputs": [
    {
     "data": {
      "text/html": [
       "<div>\n",
       "<style scoped>\n",
       "    .dataframe tbody tr th:only-of-type {\n",
       "        vertical-align: middle;\n",
       "    }\n",
       "\n",
       "    .dataframe tbody tr th {\n",
       "        vertical-align: top;\n",
       "    }\n",
       "\n",
       "    .dataframe thead th {\n",
       "        text-align: right;\n",
       "    }\n",
       "</style>\n",
       "<table border=\"1\" class=\"dataframe\">\n",
       "  <thead>\n",
       "    <tr style=\"text-align: right;\">\n",
       "      <th></th>\n",
       "      <th>Good</th>\n",
       "      <th>Empty</th>\n",
       "      <th>Error</th>\n",
       "      <th>Fun Fact</th>\n",
       "    </tr>\n",
       "    <tr>\n",
       "      <th>list name</th>\n",
       "      <th></th>\n",
       "      <th></th>\n",
       "      <th></th>\n",
       "      <th></th>\n",
       "    </tr>\n",
       "  </thead>\n",
       "  <tbody>\n",
       "    <tr>\n",
       "      <th>Agaricus arvensis</th>\n",
       "      <td>Also known as the Horse Mushroom, this is a ch...</td>\n",
       "      <td>Also known as the Horse Mushroom, this is a ch...</td>\n",
       "      <td>Also known as the Horse Mushroom, this is a ch...</td>\n",
       "      <td>Also known as the Horse Mushroom, this is a ch...</td>\n",
       "    </tr>\n",
       "    <tr>\n",
       "      <th>Amanita muscaria</th>\n",
       "      <td>True</td>\n",
       "      <td>False</td>\n",
       "      <td>False</td>\n",
       "      <td>Amanita muscaria, also known as the fly agaric...</td>\n",
       "    </tr>\n",
       "    <tr>\n",
       "      <th>Amanita virosa</th>\n",
       "      <td>True</td>\n",
       "      <td>False</td>\n",
       "      <td>False</td>\n",
       "      <td>Amanita virosa, also known as the destroying a...</td>\n",
       "    </tr>\n",
       "    <tr>\n",
       "      <th>Boletus edulis</th>\n",
       "      <td>Boletus edulis, known by the english as the pe...</td>\n",
       "      <td>Boletus edulis, known by the english as the pe...</td>\n",
       "      <td>Boletus edulis, known by the english as the pe...</td>\n",
       "      <td>Boletus edulis, known by the english as the pe...</td>\n",
       "    </tr>\n",
       "    <tr>\n",
       "      <th>Trametes versicolor</th>\n",
       "      <td>True</td>\n",
       "      <td>False</td>\n",
       "      <td>False</td>\n",
       "      <td>Turkey tail (Trametes versicolor) is one of th...</td>\n",
       "    </tr>\n",
       "  </tbody>\n",
       "</table>\n",
       "</div>"
      ],
      "text/plain": [
       "                                                                  Good  \\\n",
       "list name                                                                \n",
       "Agaricus arvensis    Also known as the Horse Mushroom, this is a ch...   \n",
       "Amanita muscaria                                                  True   \n",
       "Amanita virosa                                                    True   \n",
       "Boletus edulis       Boletus edulis, known by the english as the pe...   \n",
       "Trametes versicolor                                               True   \n",
       "\n",
       "                                                                 Empty  \\\n",
       "list name                                                                \n",
       "Agaricus arvensis    Also known as the Horse Mushroom, this is a ch...   \n",
       "Amanita muscaria                                                 False   \n",
       "Amanita virosa                                                   False   \n",
       "Boletus edulis       Boletus edulis, known by the english as the pe...   \n",
       "Trametes versicolor                                              False   \n",
       "\n",
       "                                                                 Error  \\\n",
       "list name                                                                \n",
       "Agaricus arvensis    Also known as the Horse Mushroom, this is a ch...   \n",
       "Amanita muscaria                                                 False   \n",
       "Amanita virosa                                                   False   \n",
       "Boletus edulis       Boletus edulis, known by the english as the pe...   \n",
       "Trametes versicolor                                              False   \n",
       "\n",
       "                                                              Fun Fact  \n",
       "list name                                                               \n",
       "Agaricus arvensis    Also known as the Horse Mushroom, this is a ch...  \n",
       "Amanita muscaria     Amanita muscaria, also known as the fly agaric...  \n",
       "Amanita virosa       Amanita virosa, also known as the destroying a...  \n",
       "Boletus edulis       Boletus edulis, known by the english as the pe...  \n",
       "Trametes versicolor  Turkey tail (Trametes versicolor) is one of th...  "
      ]
     },
     "execution_count": 30,
     "metadata": {},
     "output_type": "execute_result"
    }
   ],
   "source": [
    "mush_df[mush_df['Fun Fact']!=False]"
   ]
  },
  {
   "cell_type": "code",
   "execution_count": 28,
   "id": "143a4640",
   "metadata": {},
   "outputs": [
    {
     "ename": "TypeError",
     "evalue": "string indices must be integers",
     "output_type": "error",
     "traceback": [
      "\u001b[0;31m---------------------------------------------------------------------------\u001b[0m",
      "\u001b[0;31mTypeError\u001b[0m                                 Traceback (most recent call last)",
      "Input \u001b[0;32mIn [28]\u001b[0m, in \u001b[0;36m<cell line: 1>\u001b[0;34m()\u001b[0m\n\u001b[1;32m      1\u001b[0m \u001b[38;5;28;01mfor\u001b[39;00m i \u001b[38;5;129;01min\u001b[39;00m mush_df:\n\u001b[0;32m----> 2\u001b[0m     \u001b[38;5;28;01mif\u001b[39;00m \u001b[43mi\u001b[49m\u001b[43m[\u001b[49m\u001b[38;5;124;43m'\u001b[39;49m\u001b[38;5;124;43mFun Fact\u001b[39;49m\u001b[38;5;124;43m'\u001b[39;49m\u001b[43m]\u001b[49m:\n\u001b[1;32m      3\u001b[0m         \u001b[38;5;28mprint\u001b[39m(i[\u001b[38;5;124m'\u001b[39m\u001b[38;5;124mlist name\u001b[39m\u001b[38;5;124m'\u001b[39m])\n",
      "\u001b[0;31mTypeError\u001b[0m: string indices must be integers"
     ]
    }
   ],
   "source": [
    "for i in mush_df:\n",
    "    if i['Fun Fact']:\n",
    "        print(i['list name'])"
   ]
  },
  {
   "cell_type": "code",
   "execution_count": 48,
   "id": "8191fd38",
   "metadata": {},
   "outputs": [],
   "source": [
    "mush_df.drop(axis=1, columns=('Amanit virosa', 'Fun Fact'),inplace=True)"
   ]
  },
  {
   "cell_type": "code",
   "execution_count": 13,
   "id": "ebc04b11",
   "metadata": {},
   "outputs": [
    {
     "data": {
      "text/plain": [
       "['Cortinarius torvus',\n",
       " 'Xerocomus ferrugineus',\n",
       " 'Cerioporus varius',\n",
       " 'Plicatura crispa',\n",
       " 'Xylodon paradoxus',\n",
       " 'Auricularia auricula judae',\n",
       " 'Basidioradulum radula',\n",
       " 'Ganoderma pfeifferi',\n",
       " 'Russula mariae',\n",
       " 'Cortinarius malicorius']"
      ]
     },
     "execution_count": 13,
     "metadata": {},
     "output_type": "execute_result"
    }
   ],
   "source": [
    "error_list"
   ]
  },
  {
   "cell_type": "code",
   "execution_count": 17,
   "id": "98082e18",
   "metadata": {},
   "outputs": [
    {
     "data": {
      "text/html": [
       "<div>\n",
       "<style scoped>\n",
       "    .dataframe tbody tr th:only-of-type {\n",
       "        vertical-align: middle;\n",
       "    }\n",
       "\n",
       "    .dataframe tbody tr th {\n",
       "        vertical-align: top;\n",
       "    }\n",
       "\n",
       "    .dataframe thead th {\n",
       "        text-align: right;\n",
       "    }\n",
       "</style>\n",
       "<table border=\"1\" class=\"dataframe\">\n",
       "  <thead>\n",
       "    <tr style=\"text-align: right;\">\n",
       "      <th></th>\n",
       "      <th>list name</th>\n",
       "    </tr>\n",
       "  </thead>\n",
       "  <tbody>\n",
       "    <tr>\n",
       "      <th>0</th>\n",
       "      <td>Agaricus arvensis</td>\n",
       "    </tr>\n",
       "    <tr>\n",
       "      <th>1</th>\n",
       "      <td>Byssomerulius corium</td>\n",
       "    </tr>\n",
       "    <tr>\n",
       "      <th>2</th>\n",
       "      <td>Cortinarius torvus</td>\n",
       "    </tr>\n",
       "    <tr>\n",
       "      <th>3</th>\n",
       "      <td>Hypholoma fasciculare</td>\n",
       "    </tr>\n",
       "    <tr>\n",
       "      <th>4</th>\n",
       "      <td>Tricholoma scalpturatum</td>\n",
       "    </tr>\n",
       "    <tr>\n",
       "      <th>5</th>\n",
       "      <td>Agaricus impudicus</td>\n",
       "    </tr>\n",
       "    <tr>\n",
       "      <th>6</th>\n",
       "      <td>Cantharellus cibarius</td>\n",
       "    </tr>\n",
       "    <tr>\n",
       "      <th>7</th>\n",
       "      <td>Cuphophyllus virgineus</td>\n",
       "    </tr>\n",
       "    <tr>\n",
       "      <th>8</th>\n",
       "      <td>Leccinum scabrum</td>\n",
       "    </tr>\n",
       "    <tr>\n",
       "      <th>9</th>\n",
       "      <td>Xerocomellus chrysenteron</td>\n",
       "    </tr>\n",
       "    <tr>\n",
       "      <th>10</th>\n",
       "      <td>Amanita muscaria</td>\n",
       "    </tr>\n",
       "    <tr>\n",
       "      <th>11</th>\n",
       "      <td>Cerioporus squamosus</td>\n",
       "    </tr>\n",
       "    <tr>\n",
       "      <th>12</th>\n",
       "      <td>Cylindrobasidium laeve</td>\n",
       "    </tr>\n",
       "    <tr>\n",
       "      <th>13</th>\n",
       "      <td>Mycena galericulata</td>\n",
       "    </tr>\n",
       "    <tr>\n",
       "      <th>14</th>\n",
       "      <td>Xerocomus ferrugineus</td>\n",
       "    </tr>\n",
       "    <tr>\n",
       "      <th>15</th>\n",
       "      <td>Amanita virosa</td>\n",
       "    </tr>\n",
       "    <tr>\n",
       "      <th>16</th>\n",
       "      <td>Cerioporus varius</td>\n",
       "    </tr>\n",
       "    <tr>\n",
       "      <th>17</th>\n",
       "      <td>Fomes fomentarius</td>\n",
       "    </tr>\n",
       "    <tr>\n",
       "      <th>18</th>\n",
       "      <td>Plicatura crispa</td>\n",
       "    </tr>\n",
       "    <tr>\n",
       "      <th>19</th>\n",
       "      <td>Xylodon paradoxus</td>\n",
       "    </tr>\n",
       "    <tr>\n",
       "      <th>20</th>\n",
       "      <td>Armillaria lutea</td>\n",
       "    </tr>\n",
       "    <tr>\n",
       "      <th>21</th>\n",
       "      <td>Coprinellus micaceus</td>\n",
       "    </tr>\n",
       "    <tr>\n",
       "      <th>22</th>\n",
       "      <td>Fomitopsis pinicola</td>\n",
       "    </tr>\n",
       "    <tr>\n",
       "      <th>23</th>\n",
       "      <td>Pluteus cervinus</td>\n",
       "    </tr>\n",
       "    <tr>\n",
       "      <th>24</th>\n",
       "      <td>Auricularia auricula judae</td>\n",
       "    </tr>\n",
       "    <tr>\n",
       "      <th>25</th>\n",
       "      <td>Cortinarius elatior</td>\n",
       "    </tr>\n",
       "    <tr>\n",
       "      <th>26</th>\n",
       "      <td>Ganoderma applanatum</td>\n",
       "    </tr>\n",
       "    <tr>\n",
       "      <th>27</th>\n",
       "      <td>Psathyrella candolleana</td>\n",
       "    </tr>\n",
       "    <tr>\n",
       "      <th>28</th>\n",
       "      <td>Basidioradulum radula</td>\n",
       "    </tr>\n",
       "    <tr>\n",
       "      <th>29</th>\n",
       "      <td>Cortinarius flexipes</td>\n",
       "    </tr>\n",
       "    <tr>\n",
       "      <th>30</th>\n",
       "      <td>Ganoderma pfeifferi</td>\n",
       "    </tr>\n",
       "    <tr>\n",
       "      <th>31</th>\n",
       "      <td>Russula mariae</td>\n",
       "    </tr>\n",
       "    <tr>\n",
       "      <th>32</th>\n",
       "      <td>Boletus edulis</td>\n",
       "    </tr>\n",
       "    <tr>\n",
       "      <th>33</th>\n",
       "      <td>Cortinarius malicorius</td>\n",
       "    </tr>\n",
       "    <tr>\n",
       "      <th>34</th>\n",
       "      <td>Hericium erinaceus</td>\n",
       "    </tr>\n",
       "    <tr>\n",
       "      <th>35</th>\n",
       "      <td>Trametes versicolor</td>\n",
       "    </tr>\n",
       "  </tbody>\n",
       "</table>\n",
       "</div>"
      ],
      "text/plain": [
       "                     list name\n",
       "0            Agaricus arvensis\n",
       "1         Byssomerulius corium\n",
       "2           Cortinarius torvus\n",
       "3        Hypholoma fasciculare\n",
       "4      Tricholoma scalpturatum\n",
       "5           Agaricus impudicus\n",
       "6        Cantharellus cibarius\n",
       "7       Cuphophyllus virgineus\n",
       "8             Leccinum scabrum\n",
       "9    Xerocomellus chrysenteron\n",
       "10            Amanita muscaria\n",
       "11        Cerioporus squamosus\n",
       "12      Cylindrobasidium laeve\n",
       "13         Mycena galericulata\n",
       "14       Xerocomus ferrugineus\n",
       "15              Amanita virosa\n",
       "16           Cerioporus varius\n",
       "17           Fomes fomentarius\n",
       "18            Plicatura crispa\n",
       "19           Xylodon paradoxus\n",
       "20            Armillaria lutea\n",
       "21        Coprinellus micaceus\n",
       "22         Fomitopsis pinicola\n",
       "23            Pluteus cervinus\n",
       "24  Auricularia auricula judae\n",
       "25         Cortinarius elatior\n",
       "26        Ganoderma applanatum\n",
       "27     Psathyrella candolleana\n",
       "28       Basidioradulum radula\n",
       "29        Cortinarius flexipes\n",
       "30         Ganoderma pfeifferi\n",
       "31              Russula mariae\n",
       "32              Boletus edulis\n",
       "33      Cortinarius malicorius\n",
       "34          Hericium erinaceus\n",
       "35         Trametes versicolor"
      ]
     },
     "execution_count": 17,
     "metadata": {},
     "output_type": "execute_result"
    }
   ],
   "source": []
  },
  {
   "cell_type": "code",
   "execution_count": null,
   "id": "921afd8f",
   "metadata": {},
   "outputs": [],
   "source": []
  }
 ],
 "metadata": {
  "kernelspec": {
   "display_name": "Python 3 (ipykernel)",
   "language": "python",
   "name": "python3"
  },
  "language_info": {
   "codemirror_mode": {
    "name": "ipython",
    "version": 3
   },
   "file_extension": ".py",
   "mimetype": "text/x-python",
   "name": "python",
   "nbconvert_exporter": "python",
   "pygments_lexer": "ipython3",
   "version": "3.8.5"
  }
 },
 "nbformat": 4,
 "nbformat_minor": 5
}
