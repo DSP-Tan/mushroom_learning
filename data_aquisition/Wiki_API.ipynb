{
 "cells": [
  {
   "cell_type": "code",
   "execution_count": 1,
   "id": "01980aef",
   "metadata": {},
   "outputs": [],
   "source": [
    "import requests"
   ]
  },
  {
   "cell_type": "code",
   "execution_count": 2,
   "id": "3d6b9378",
   "metadata": {},
   "outputs": [],
   "source": [
    "url='https://en.wikipedia.org/w/api.php'"
   ]
  },
  {
   "cell_type": "markdown",
   "id": "db128c73",
   "metadata": {},
   "source": [
    "# Parse a call for amanita muscaria"
   ]
  },
  {
   "cell_type": "code",
   "execution_count": 3,
   "id": "faa3d314",
   "metadata": {},
   "outputs": [],
   "source": [
    "params={\n",
    "    'action':'query',\n",
    "    'format':'json',\n",
    "    'titles':'amanita muscaria',\n",
    "    'prop':'revisions',               # This is what gets us the content.\n",
    "    'rvsection':0,\n",
    "    'rvprop':'content'\n",
    "}\n",
    "response=requests.get(url,params).json()"
   ]
  },
  {
   "cell_type": "code",
   "execution_count": 4,
   "id": "73233709",
   "metadata": {},
   "outputs": [
    {
     "name": "stdout",
     "output_type": "stream",
     "text": [
      "{'batchcomplete': '', 'warnings': {'main': {'*': 'Subscribe to the mediawiki-api-announce mailing list at <https://lists.wikimedia.org/postorius/lists/mediawiki-api-announce.lists.wikimedia.org/> for notice of API deprecations and breaking changes. Use [[Special:ApiFeatureUsage]] to see usage of deprecated features by your application.'}, 'revisions': {'*': 'Because \"rvslots\" was not specified, a legacy format has been used for the output. This format is deprecated, and in the future the new format will always be used.'}}, 'query': {'normalized': [{'from': 'amanita muscaria', 'to': 'Amanita muscaria'}], 'pages': {'59385': {'pageid': 59385, 'ns': 0, 'title': 'Amanita muscaria', 'revisions': [{'contentformat': 'text/x-wiki', 'contentmodel': 'wikitext', '*': '{{short description|Species of fungus in the genus Amanita}}\\n{{use British English|date=March 2013}}\\n{{Speciesbox\\n|image = Amanita muscaria 3 vliegenzwammen op rij.jpg\\n| image_caption = Showing three stages as the mushroom matures\\n| taxon = Amanita muscaria\\n| authority = ([[Carl Linnaeus|L.]]) [[Jean-Baptiste Lamarck|Lam.]] (1783)\\n| subdivision_ranks = Subspecies and varieties\\n| subdivision = *[[Amanita muscaria var. alba|\\'\\'A. muscaria\\'\\' var. \\'\\'alba\\'\\']]\\n*[[Amanita muscaria var. flavivolvata|\\'\\'A. muscaria\\'\\' subsp. \\'\\'flavivolvata\\'\\']] Singer<ref name=\"tulloss1\"/><!-- defined by Template:Amanita variety --><ref name=\"Infraspecific Taxa\">{{cite web |title=Infraspecific taxa of muscaria |url=http://www.amanitaceae.org/?species%20muscaria |website=amanitaceae.org}}</ref>\\n*[[Amanita muscaria var. guessowii|\\'\\'A. muscaria\\'\\' var. \\'\\'guessowii\\'\\']] Veselý<ref name=\"tulloss2\"/><!-- defined by Template:Amanita variety -->\\n*[[Amanita muscaria var. inzengae|\\'\\'A. muscaria\\'\\' var. \\'\\'inzengae\\'\\']] Neville & Poumarat<ref name=\"tulloss3\"/><!-- defined by Template:Amanita variety --><ref name=\"Infraspecific Taxa\" />\\n}}\\n{{mycomorphbox\\n| name = \\'\\'Amanita muscaria\\'\\'\\n| whichGills = free\\n| capShape = flat\\n| capShape2 = convex\\n| hymeniumType=gills\\n| stipeCharacter=ring and volva\\n| ecologicalType=mycorrhizal\\n| sporePrintColor=white\\n| howEdible=poisonous \\n| howEdible2=psychoactive\\n}}\\n\\n\\'\\'\\'\\'\\'Amanita muscaria\\'\\'\\'\\'\\', commonly known as the \\'\\'\\'fly agaric\\'\\'\\' or \\'\\'\\'fly amanita\\'\\'\\',<ref name=NGSWG>{{NGSWG}}</ref> is a [[basidiomycete]] of the genus \\'\\'[[Amanita]]\\'\\'. It is also a [[muscimol mushroom]]. Native throughout the [[temperate]] and [[boreal ecosystem|boreal]] regions of the Northern Hemisphere, \\'\\'Amanita muscaria\\'\\' has been unintentionally [[introduced species|introduced]] to many countries in the Southern Hemisphere, generally as a [[symbiont]] with pine and birch plantations, and is now a true [[Cosmopolitan distribution|cosmopolitan]] species. It [[mycorrhiza|associates]] with various [[deciduous]] and [[conifer]]ous trees.\\n\\nArguably the most iconic [[toadstool]] species, the fly agaric is a large white-[[lamella (mycology)|gilled]], white-spotted, usually red mushroom, and is one of the most recognizable and widely encountered in popular culture. This includes video game design, such as the extensive use of a recognizable \\'\\'Amanita muscaria\\'\\' in the [[Mario (franchise)|Mario]] franchise and its [[Super Mushroom]] power up.<ref>{{Cite journal|url=https://www.sciencedirect.com/science/article/abs/pii/S0024320505008805|doi = 10.1016/j.lfs.2005.09.003|title = The most widely recognized mushroom: Chemistry of the genus Amanita|year = 2005|last1 = Li|first1 = Chen|last2 = Oberlies|first2 = Nicholas H.|journal = Life Sciences|volume = 78|issue = 5|pages = 532–538|pmid = 16203016}}</ref>\\n\\nDespite its easily distinguishable features, \\'\\'Amanita muscaria\\'\\' is a fungus with several known variations, or subspecies. These subspecies are slightly different, some having yellow or white caps, but they are all usually called fly agarics, and they are most of the time recognizable by their notable white spots. Recent DNA fungi research, however, has shown that some of these variations are not the same species at all, such as the [[peach-colored fly agaric]] (\\'\\'Amanita persicina\\'\\') for example, but the common name \\'fly agaric\\' clings on.\\n\\nAlthough poisonous, death due to poisoning from \\'\\'A. muscaria\\'\\' ingestion is quite rare. [[Parboiling]] twice with water draining weakens its toxicity and breaks down the mushroom\\'s psychoactive substances; it is eaten in parts of Europe, Asia, and North America. All \\'\\'Amanita muscaria\\'\\' varieties, but in particular \\'\\'A. muscaria\\'\\' var. \\'\\'muscaria\\'\\', are noted for their [[hallucinogenic]] properties, with the main psychoactive constituents being the neurotoxins [[ibotenic acid]] and [[muscimol]]. A local variety of the mushroom was used as an intoxicant and [[entheogen]] by the [[indigenous peoples of Siberia]] and by the [[Sámi]], and has a religious significance in these cultures. There has been much speculation on possible traditional use of this mushroom as an intoxicant in other places such as the Middle East, Eurasia, North America, and Scandinavia.'}]}}}}\n"
     ]
    }
   ],
   "source": [
    "print(response)"
   ]
  },
  {
   "cell_type": "code",
   "execution_count": 5,
   "id": "45100bf0",
   "metadata": {},
   "outputs": [
    {
     "data": {
      "text/plain": [
       "{'normalized': [{'from': 'amanita muscaria', 'to': 'Amanita muscaria'}],\n",
       " 'pages': {'59385': {'pageid': 59385,\n",
       "   'ns': 0,\n",
       "   'title': 'Amanita muscaria',\n",
       "   'revisions': [{'contentformat': 'text/x-wiki',\n",
       "     'contentmodel': 'wikitext',\n",
       "     '*': '{{short description|Species of fungus in the genus Amanita}}\\n{{use British English|date=March 2013}}\\n{{Speciesbox\\n|image = Amanita muscaria 3 vliegenzwammen op rij.jpg\\n| image_caption = Showing three stages as the mushroom matures\\n| taxon = Amanita muscaria\\n| authority = ([[Carl Linnaeus|L.]]) [[Jean-Baptiste Lamarck|Lam.]] (1783)\\n| subdivision_ranks = Subspecies and varieties\\n| subdivision = *[[Amanita muscaria var. alba|\\'\\'A. muscaria\\'\\' var. \\'\\'alba\\'\\']]\\n*[[Amanita muscaria var. flavivolvata|\\'\\'A. muscaria\\'\\' subsp. \\'\\'flavivolvata\\'\\']] Singer<ref name=\"tulloss1\"/><!-- defined by Template:Amanita variety --><ref name=\"Infraspecific Taxa\">{{cite web |title=Infraspecific taxa of muscaria |url=http://www.amanitaceae.org/?species%20muscaria |website=amanitaceae.org}}</ref>\\n*[[Amanita muscaria var. guessowii|\\'\\'A. muscaria\\'\\' var. \\'\\'guessowii\\'\\']] Veselý<ref name=\"tulloss2\"/><!-- defined by Template:Amanita variety -->\\n*[[Amanita muscaria var. inzengae|\\'\\'A. muscaria\\'\\' var. \\'\\'inzengae\\'\\']] Neville & Poumarat<ref name=\"tulloss3\"/><!-- defined by Template:Amanita variety --><ref name=\"Infraspecific Taxa\" />\\n}}\\n{{mycomorphbox\\n| name = \\'\\'Amanita muscaria\\'\\'\\n| whichGills = free\\n| capShape = flat\\n| capShape2 = convex\\n| hymeniumType=gills\\n| stipeCharacter=ring and volva\\n| ecologicalType=mycorrhizal\\n| sporePrintColor=white\\n| howEdible=poisonous \\n| howEdible2=psychoactive\\n}}\\n\\n\\'\\'\\'\\'\\'Amanita muscaria\\'\\'\\'\\'\\', commonly known as the \\'\\'\\'fly agaric\\'\\'\\' or \\'\\'\\'fly amanita\\'\\'\\',<ref name=NGSWG>{{NGSWG}}</ref> is a [[basidiomycete]] of the genus \\'\\'[[Amanita]]\\'\\'. It is also a [[muscimol mushroom]]. Native throughout the [[temperate]] and [[boreal ecosystem|boreal]] regions of the Northern Hemisphere, \\'\\'Amanita muscaria\\'\\' has been unintentionally [[introduced species|introduced]] to many countries in the Southern Hemisphere, generally as a [[symbiont]] with pine and birch plantations, and is now a true [[Cosmopolitan distribution|cosmopolitan]] species. It [[mycorrhiza|associates]] with various [[deciduous]] and [[conifer]]ous trees.\\n\\nArguably the most iconic [[toadstool]] species, the fly agaric is a large white-[[lamella (mycology)|gilled]], white-spotted, usually red mushroom, and is one of the most recognizable and widely encountered in popular culture. This includes video game design, such as the extensive use of a recognizable \\'\\'Amanita muscaria\\'\\' in the [[Mario (franchise)|Mario]] franchise and its [[Super Mushroom]] power up.<ref>{{Cite journal|url=https://www.sciencedirect.com/science/article/abs/pii/S0024320505008805|doi = 10.1016/j.lfs.2005.09.003|title = The most widely recognized mushroom: Chemistry of the genus Amanita|year = 2005|last1 = Li|first1 = Chen|last2 = Oberlies|first2 = Nicholas H.|journal = Life Sciences|volume = 78|issue = 5|pages = 532–538|pmid = 16203016}}</ref>\\n\\nDespite its easily distinguishable features, \\'\\'Amanita muscaria\\'\\' is a fungus with several known variations, or subspecies. These subspecies are slightly different, some having yellow or white caps, but they are all usually called fly agarics, and they are most of the time recognizable by their notable white spots. Recent DNA fungi research, however, has shown that some of these variations are not the same species at all, such as the [[peach-colored fly agaric]] (\\'\\'Amanita persicina\\'\\') for example, but the common name \\'fly agaric\\' clings on.\\n\\nAlthough poisonous, death due to poisoning from \\'\\'A. muscaria\\'\\' ingestion is quite rare. [[Parboiling]] twice with water draining weakens its toxicity and breaks down the mushroom\\'s psychoactive substances; it is eaten in parts of Europe, Asia, and North America. All \\'\\'Amanita muscaria\\'\\' varieties, but in particular \\'\\'A. muscaria\\'\\' var. \\'\\'muscaria\\'\\', are noted for their [[hallucinogenic]] properties, with the main psychoactive constituents being the neurotoxins [[ibotenic acid]] and [[muscimol]]. A local variety of the mushroom was used as an intoxicant and [[entheogen]] by the [[indigenous peoples of Siberia]] and by the [[Sámi]], and has a religious significance in these cultures. There has been much speculation on possible traditional use of this mushroom as an intoxicant in other places such as the Middle East, Eurasia, North America, and Scandinavia.'}]}}}"
      ]
     },
     "execution_count": 5,
     "metadata": {},
     "output_type": "execute_result"
    }
   ],
   "source": [
    "response['query']"
   ]
  },
  {
   "cell_type": "code",
   "execution_count": 6,
   "id": "59c00d6b",
   "metadata": {},
   "outputs": [
    {
     "data": {
      "text/plain": [
       "{'59385': {'pageid': 59385,\n",
       "  'ns': 0,\n",
       "  'title': 'Amanita muscaria',\n",
       "  'revisions': [{'contentformat': 'text/x-wiki',\n",
       "    'contentmodel': 'wikitext',\n",
       "    '*': '{{short description|Species of fungus in the genus Amanita}}\\n{{use British English|date=March 2013}}\\n{{Speciesbox\\n|image = Amanita muscaria 3 vliegenzwammen op rij.jpg\\n| image_caption = Showing three stages as the mushroom matures\\n| taxon = Amanita muscaria\\n| authority = ([[Carl Linnaeus|L.]]) [[Jean-Baptiste Lamarck|Lam.]] (1783)\\n| subdivision_ranks = Subspecies and varieties\\n| subdivision = *[[Amanita muscaria var. alba|\\'\\'A. muscaria\\'\\' var. \\'\\'alba\\'\\']]\\n*[[Amanita muscaria var. flavivolvata|\\'\\'A. muscaria\\'\\' subsp. \\'\\'flavivolvata\\'\\']] Singer<ref name=\"tulloss1\"/><!-- defined by Template:Amanita variety --><ref name=\"Infraspecific Taxa\">{{cite web |title=Infraspecific taxa of muscaria |url=http://www.amanitaceae.org/?species%20muscaria |website=amanitaceae.org}}</ref>\\n*[[Amanita muscaria var. guessowii|\\'\\'A. muscaria\\'\\' var. \\'\\'guessowii\\'\\']] Veselý<ref name=\"tulloss2\"/><!-- defined by Template:Amanita variety -->\\n*[[Amanita muscaria var. inzengae|\\'\\'A. muscaria\\'\\' var. \\'\\'inzengae\\'\\']] Neville & Poumarat<ref name=\"tulloss3\"/><!-- defined by Template:Amanita variety --><ref name=\"Infraspecific Taxa\" />\\n}}\\n{{mycomorphbox\\n| name = \\'\\'Amanita muscaria\\'\\'\\n| whichGills = free\\n| capShape = flat\\n| capShape2 = convex\\n| hymeniumType=gills\\n| stipeCharacter=ring and volva\\n| ecologicalType=mycorrhizal\\n| sporePrintColor=white\\n| howEdible=poisonous \\n| howEdible2=psychoactive\\n}}\\n\\n\\'\\'\\'\\'\\'Amanita muscaria\\'\\'\\'\\'\\', commonly known as the \\'\\'\\'fly agaric\\'\\'\\' or \\'\\'\\'fly amanita\\'\\'\\',<ref name=NGSWG>{{NGSWG}}</ref> is a [[basidiomycete]] of the genus \\'\\'[[Amanita]]\\'\\'. It is also a [[muscimol mushroom]]. Native throughout the [[temperate]] and [[boreal ecosystem|boreal]] regions of the Northern Hemisphere, \\'\\'Amanita muscaria\\'\\' has been unintentionally [[introduced species|introduced]] to many countries in the Southern Hemisphere, generally as a [[symbiont]] with pine and birch plantations, and is now a true [[Cosmopolitan distribution|cosmopolitan]] species. It [[mycorrhiza|associates]] with various [[deciduous]] and [[conifer]]ous trees.\\n\\nArguably the most iconic [[toadstool]] species, the fly agaric is a large white-[[lamella (mycology)|gilled]], white-spotted, usually red mushroom, and is one of the most recognizable and widely encountered in popular culture. This includes video game design, such as the extensive use of a recognizable \\'\\'Amanita muscaria\\'\\' in the [[Mario (franchise)|Mario]] franchise and its [[Super Mushroom]] power up.<ref>{{Cite journal|url=https://www.sciencedirect.com/science/article/abs/pii/S0024320505008805|doi = 10.1016/j.lfs.2005.09.003|title = The most widely recognized mushroom: Chemistry of the genus Amanita|year = 2005|last1 = Li|first1 = Chen|last2 = Oberlies|first2 = Nicholas H.|journal = Life Sciences|volume = 78|issue = 5|pages = 532–538|pmid = 16203016}}</ref>\\n\\nDespite its easily distinguishable features, \\'\\'Amanita muscaria\\'\\' is a fungus with several known variations, or subspecies. These subspecies are slightly different, some having yellow or white caps, but they are all usually called fly agarics, and they are most of the time recognizable by their notable white spots. Recent DNA fungi research, however, has shown that some of these variations are not the same species at all, such as the [[peach-colored fly agaric]] (\\'\\'Amanita persicina\\'\\') for example, but the common name \\'fly agaric\\' clings on.\\n\\nAlthough poisonous, death due to poisoning from \\'\\'A. muscaria\\'\\' ingestion is quite rare. [[Parboiling]] twice with water draining weakens its toxicity and breaks down the mushroom\\'s psychoactive substances; it is eaten in parts of Europe, Asia, and North America. All \\'\\'Amanita muscaria\\'\\' varieties, but in particular \\'\\'A. muscaria\\'\\' var. \\'\\'muscaria\\'\\', are noted for their [[hallucinogenic]] properties, with the main psychoactive constituents being the neurotoxins [[ibotenic acid]] and [[muscimol]]. A local variety of the mushroom was used as an intoxicant and [[entheogen]] by the [[indigenous peoples of Siberia]] and by the [[Sámi]], and has a religious significance in these cultures. There has been much speculation on possible traditional use of this mushroom as an intoxicant in other places such as the Middle East, Eurasia, North America, and Scandinavia.'}]}}"
      ]
     },
     "execution_count": 6,
     "metadata": {},
     "output_type": "execute_result"
    }
   ],
   "source": [
    "response['query']['pages']"
   ]
  },
  {
   "cell_type": "code",
   "execution_count": 7,
   "id": "ecb39136",
   "metadata": {},
   "outputs": [
    {
     "data": {
      "text/plain": [
       "dict_keys(['59385'])"
      ]
     },
     "execution_count": 7,
     "metadata": {},
     "output_type": "execute_result"
    }
   ],
   "source": [
    "response['query']['pages'].keys()"
   ]
  },
  {
   "cell_type": "markdown",
   "id": "42da007f",
   "metadata": {},
   "source": [
    "**There might be cases where there is more than one page, although this is ulikely, since amanita muscaria is probably one of the largest entries. But this is something to be conscious of for generalisation. If this were the case you would just loop over the pages each time.**"
   ]
  },
  {
   "cell_type": "code",
   "execution_count": 8,
   "id": "94bd6a15",
   "metadata": {},
   "outputs": [],
   "source": [
    "page=list(response['query']['pages'].keys())[0]"
   ]
  },
  {
   "cell_type": "code",
   "execution_count": 9,
   "id": "9eb2d866",
   "metadata": {},
   "outputs": [
    {
     "data": {
      "text/plain": [
       "{'pageid': 59385,\n",
       " 'ns': 0,\n",
       " 'title': 'Amanita muscaria',\n",
       " 'revisions': [{'contentformat': 'text/x-wiki',\n",
       "   'contentmodel': 'wikitext',\n",
       "   '*': '{{short description|Species of fungus in the genus Amanita}}\\n{{use British English|date=March 2013}}\\n{{Speciesbox\\n|image = Amanita muscaria 3 vliegenzwammen op rij.jpg\\n| image_caption = Showing three stages as the mushroom matures\\n| taxon = Amanita muscaria\\n| authority = ([[Carl Linnaeus|L.]]) [[Jean-Baptiste Lamarck|Lam.]] (1783)\\n| subdivision_ranks = Subspecies and varieties\\n| subdivision = *[[Amanita muscaria var. alba|\\'\\'A. muscaria\\'\\' var. \\'\\'alba\\'\\']]\\n*[[Amanita muscaria var. flavivolvata|\\'\\'A. muscaria\\'\\' subsp. \\'\\'flavivolvata\\'\\']] Singer<ref name=\"tulloss1\"/><!-- defined by Template:Amanita variety --><ref name=\"Infraspecific Taxa\">{{cite web |title=Infraspecific taxa of muscaria |url=http://www.amanitaceae.org/?species%20muscaria |website=amanitaceae.org}}</ref>\\n*[[Amanita muscaria var. guessowii|\\'\\'A. muscaria\\'\\' var. \\'\\'guessowii\\'\\']] Veselý<ref name=\"tulloss2\"/><!-- defined by Template:Amanita variety -->\\n*[[Amanita muscaria var. inzengae|\\'\\'A. muscaria\\'\\' var. \\'\\'inzengae\\'\\']] Neville & Poumarat<ref name=\"tulloss3\"/><!-- defined by Template:Amanita variety --><ref name=\"Infraspecific Taxa\" />\\n}}\\n{{mycomorphbox\\n| name = \\'\\'Amanita muscaria\\'\\'\\n| whichGills = free\\n| capShape = flat\\n| capShape2 = convex\\n| hymeniumType=gills\\n| stipeCharacter=ring and volva\\n| ecologicalType=mycorrhizal\\n| sporePrintColor=white\\n| howEdible=poisonous \\n| howEdible2=psychoactive\\n}}\\n\\n\\'\\'\\'\\'\\'Amanita muscaria\\'\\'\\'\\'\\', commonly known as the \\'\\'\\'fly agaric\\'\\'\\' or \\'\\'\\'fly amanita\\'\\'\\',<ref name=NGSWG>{{NGSWG}}</ref> is a [[basidiomycete]] of the genus \\'\\'[[Amanita]]\\'\\'. It is also a [[muscimol mushroom]]. Native throughout the [[temperate]] and [[boreal ecosystem|boreal]] regions of the Northern Hemisphere, \\'\\'Amanita muscaria\\'\\' has been unintentionally [[introduced species|introduced]] to many countries in the Southern Hemisphere, generally as a [[symbiont]] with pine and birch plantations, and is now a true [[Cosmopolitan distribution|cosmopolitan]] species. It [[mycorrhiza|associates]] with various [[deciduous]] and [[conifer]]ous trees.\\n\\nArguably the most iconic [[toadstool]] species, the fly agaric is a large white-[[lamella (mycology)|gilled]], white-spotted, usually red mushroom, and is one of the most recognizable and widely encountered in popular culture. This includes video game design, such as the extensive use of a recognizable \\'\\'Amanita muscaria\\'\\' in the [[Mario (franchise)|Mario]] franchise and its [[Super Mushroom]] power up.<ref>{{Cite journal|url=https://www.sciencedirect.com/science/article/abs/pii/S0024320505008805|doi = 10.1016/j.lfs.2005.09.003|title = The most widely recognized mushroom: Chemistry of the genus Amanita|year = 2005|last1 = Li|first1 = Chen|last2 = Oberlies|first2 = Nicholas H.|journal = Life Sciences|volume = 78|issue = 5|pages = 532–538|pmid = 16203016}}</ref>\\n\\nDespite its easily distinguishable features, \\'\\'Amanita muscaria\\'\\' is a fungus with several known variations, or subspecies. These subspecies are slightly different, some having yellow or white caps, but they are all usually called fly agarics, and they are most of the time recognizable by their notable white spots. Recent DNA fungi research, however, has shown that some of these variations are not the same species at all, such as the [[peach-colored fly agaric]] (\\'\\'Amanita persicina\\'\\') for example, but the common name \\'fly agaric\\' clings on.\\n\\nAlthough poisonous, death due to poisoning from \\'\\'A. muscaria\\'\\' ingestion is quite rare. [[Parboiling]] twice with water draining weakens its toxicity and breaks down the mushroom\\'s psychoactive substances; it is eaten in parts of Europe, Asia, and North America. All \\'\\'Amanita muscaria\\'\\' varieties, but in particular \\'\\'A. muscaria\\'\\' var. \\'\\'muscaria\\'\\', are noted for their [[hallucinogenic]] properties, with the main psychoactive constituents being the neurotoxins [[ibotenic acid]] and [[muscimol]]. A local variety of the mushroom was used as an intoxicant and [[entheogen]] by the [[indigenous peoples of Siberia]] and by the [[Sámi]], and has a religious significance in these cultures. There has been much speculation on possible traditional use of this mushroom as an intoxicant in other places such as the Middle East, Eurasia, North America, and Scandinavia.'}]}"
      ]
     },
     "execution_count": 9,
     "metadata": {},
     "output_type": "execute_result"
    }
   ],
   "source": [
    "response['query']['pages'][page]"
   ]
  },
  {
   "cell_type": "code",
   "execution_count": 10,
   "id": "b7deced2",
   "metadata": {},
   "outputs": [
    {
     "data": {
      "text/plain": [
       "dict_keys(['pageid', 'ns', 'title', 'revisions'])"
      ]
     },
     "execution_count": 10,
     "metadata": {},
     "output_type": "execute_result"
    }
   ],
   "source": [
    "response['query']['pages'][page].keys()"
   ]
  },
  {
   "cell_type": "code",
   "execution_count": 11,
   "id": "aad8e4c4",
   "metadata": {},
   "outputs": [
    {
     "data": {
      "text/plain": [
       "[{'contentformat': 'text/x-wiki',\n",
       "  'contentmodel': 'wikitext',\n",
       "  '*': '{{short description|Species of fungus in the genus Amanita}}\\n{{use British English|date=March 2013}}\\n{{Speciesbox\\n|image = Amanita muscaria 3 vliegenzwammen op rij.jpg\\n| image_caption = Showing three stages as the mushroom matures\\n| taxon = Amanita muscaria\\n| authority = ([[Carl Linnaeus|L.]]) [[Jean-Baptiste Lamarck|Lam.]] (1783)\\n| subdivision_ranks = Subspecies and varieties\\n| subdivision = *[[Amanita muscaria var. alba|\\'\\'A. muscaria\\'\\' var. \\'\\'alba\\'\\']]\\n*[[Amanita muscaria var. flavivolvata|\\'\\'A. muscaria\\'\\' subsp. \\'\\'flavivolvata\\'\\']] Singer<ref name=\"tulloss1\"/><!-- defined by Template:Amanita variety --><ref name=\"Infraspecific Taxa\">{{cite web |title=Infraspecific taxa of muscaria |url=http://www.amanitaceae.org/?species%20muscaria |website=amanitaceae.org}}</ref>\\n*[[Amanita muscaria var. guessowii|\\'\\'A. muscaria\\'\\' var. \\'\\'guessowii\\'\\']] Veselý<ref name=\"tulloss2\"/><!-- defined by Template:Amanita variety -->\\n*[[Amanita muscaria var. inzengae|\\'\\'A. muscaria\\'\\' var. \\'\\'inzengae\\'\\']] Neville & Poumarat<ref name=\"tulloss3\"/><!-- defined by Template:Amanita variety --><ref name=\"Infraspecific Taxa\" />\\n}}\\n{{mycomorphbox\\n| name = \\'\\'Amanita muscaria\\'\\'\\n| whichGills = free\\n| capShape = flat\\n| capShape2 = convex\\n| hymeniumType=gills\\n| stipeCharacter=ring and volva\\n| ecologicalType=mycorrhizal\\n| sporePrintColor=white\\n| howEdible=poisonous \\n| howEdible2=psychoactive\\n}}\\n\\n\\'\\'\\'\\'\\'Amanita muscaria\\'\\'\\'\\'\\', commonly known as the \\'\\'\\'fly agaric\\'\\'\\' or \\'\\'\\'fly amanita\\'\\'\\',<ref name=NGSWG>{{NGSWG}}</ref> is a [[basidiomycete]] of the genus \\'\\'[[Amanita]]\\'\\'. It is also a [[muscimol mushroom]]. Native throughout the [[temperate]] and [[boreal ecosystem|boreal]] regions of the Northern Hemisphere, \\'\\'Amanita muscaria\\'\\' has been unintentionally [[introduced species|introduced]] to many countries in the Southern Hemisphere, generally as a [[symbiont]] with pine and birch plantations, and is now a true [[Cosmopolitan distribution|cosmopolitan]] species. It [[mycorrhiza|associates]] with various [[deciduous]] and [[conifer]]ous trees.\\n\\nArguably the most iconic [[toadstool]] species, the fly agaric is a large white-[[lamella (mycology)|gilled]], white-spotted, usually red mushroom, and is one of the most recognizable and widely encountered in popular culture. This includes video game design, such as the extensive use of a recognizable \\'\\'Amanita muscaria\\'\\' in the [[Mario (franchise)|Mario]] franchise and its [[Super Mushroom]] power up.<ref>{{Cite journal|url=https://www.sciencedirect.com/science/article/abs/pii/S0024320505008805|doi = 10.1016/j.lfs.2005.09.003|title = The most widely recognized mushroom: Chemistry of the genus Amanita|year = 2005|last1 = Li|first1 = Chen|last2 = Oberlies|first2 = Nicholas H.|journal = Life Sciences|volume = 78|issue = 5|pages = 532–538|pmid = 16203016}}</ref>\\n\\nDespite its easily distinguishable features, \\'\\'Amanita muscaria\\'\\' is a fungus with several known variations, or subspecies. These subspecies are slightly different, some having yellow or white caps, but they are all usually called fly agarics, and they are most of the time recognizable by their notable white spots. Recent DNA fungi research, however, has shown that some of these variations are not the same species at all, such as the [[peach-colored fly agaric]] (\\'\\'Amanita persicina\\'\\') for example, but the common name \\'fly agaric\\' clings on.\\n\\nAlthough poisonous, death due to poisoning from \\'\\'A. muscaria\\'\\' ingestion is quite rare. [[Parboiling]] twice with water draining weakens its toxicity and breaks down the mushroom\\'s psychoactive substances; it is eaten in parts of Europe, Asia, and North America. All \\'\\'Amanita muscaria\\'\\' varieties, but in particular \\'\\'A. muscaria\\'\\' var. \\'\\'muscaria\\'\\', are noted for their [[hallucinogenic]] properties, with the main psychoactive constituents being the neurotoxins [[ibotenic acid]] and [[muscimol]]. A local variety of the mushroom was used as an intoxicant and [[entheogen]] by the [[indigenous peoples of Siberia]] and by the [[Sámi]], and has a religious significance in these cultures. There has been much speculation on possible traditional use of this mushroom as an intoxicant in other places such as the Middle East, Eurasia, North America, and Scandinavia.'}]"
      ]
     },
     "execution_count": 11,
     "metadata": {},
     "output_type": "execute_result"
    }
   ],
   "source": [
    "response['query']['pages'][page]['revisions']"
   ]
  },
  {
   "cell_type": "code",
   "execution_count": 12,
   "id": "45cb8d05",
   "metadata": {},
   "outputs": [
    {
     "name": "stdout",
     "output_type": "stream",
     "text": [
      "<class 'list'>\n",
      "1\n"
     ]
    }
   ],
   "source": [
    "print(type(response['query']['pages']['59385']['revisions']))\n",
    "print(len(response['query']['pages']['59385']['revisions']))"
   ]
  },
  {
   "cell_type": "code",
   "execution_count": 13,
   "id": "febdb5a7",
   "metadata": {},
   "outputs": [
    {
     "data": {
      "text/plain": [
       "{'contentformat': 'text/x-wiki',\n",
       " 'contentmodel': 'wikitext',\n",
       " '*': '{{short description|Species of fungus in the genus Amanita}}\\n{{use British English|date=March 2013}}\\n{{Speciesbox\\n|image = Amanita muscaria 3 vliegenzwammen op rij.jpg\\n| image_caption = Showing three stages as the mushroom matures\\n| taxon = Amanita muscaria\\n| authority = ([[Carl Linnaeus|L.]]) [[Jean-Baptiste Lamarck|Lam.]] (1783)\\n| subdivision_ranks = Subspecies and varieties\\n| subdivision = *[[Amanita muscaria var. alba|\\'\\'A. muscaria\\'\\' var. \\'\\'alba\\'\\']]\\n*[[Amanita muscaria var. flavivolvata|\\'\\'A. muscaria\\'\\' subsp. \\'\\'flavivolvata\\'\\']] Singer<ref name=\"tulloss1\"/><!-- defined by Template:Amanita variety --><ref name=\"Infraspecific Taxa\">{{cite web |title=Infraspecific taxa of muscaria |url=http://www.amanitaceae.org/?species%20muscaria |website=amanitaceae.org}}</ref>\\n*[[Amanita muscaria var. guessowii|\\'\\'A. muscaria\\'\\' var. \\'\\'guessowii\\'\\']] Veselý<ref name=\"tulloss2\"/><!-- defined by Template:Amanita variety -->\\n*[[Amanita muscaria var. inzengae|\\'\\'A. muscaria\\'\\' var. \\'\\'inzengae\\'\\']] Neville & Poumarat<ref name=\"tulloss3\"/><!-- defined by Template:Amanita variety --><ref name=\"Infraspecific Taxa\" />\\n}}\\n{{mycomorphbox\\n| name = \\'\\'Amanita muscaria\\'\\'\\n| whichGills = free\\n| capShape = flat\\n| capShape2 = convex\\n| hymeniumType=gills\\n| stipeCharacter=ring and volva\\n| ecologicalType=mycorrhizal\\n| sporePrintColor=white\\n| howEdible=poisonous \\n| howEdible2=psychoactive\\n}}\\n\\n\\'\\'\\'\\'\\'Amanita muscaria\\'\\'\\'\\'\\', commonly known as the \\'\\'\\'fly agaric\\'\\'\\' or \\'\\'\\'fly amanita\\'\\'\\',<ref name=NGSWG>{{NGSWG}}</ref> is a [[basidiomycete]] of the genus \\'\\'[[Amanita]]\\'\\'. It is also a [[muscimol mushroom]]. Native throughout the [[temperate]] and [[boreal ecosystem|boreal]] regions of the Northern Hemisphere, \\'\\'Amanita muscaria\\'\\' has been unintentionally [[introduced species|introduced]] to many countries in the Southern Hemisphere, generally as a [[symbiont]] with pine and birch plantations, and is now a true [[Cosmopolitan distribution|cosmopolitan]] species. It [[mycorrhiza|associates]] with various [[deciduous]] and [[conifer]]ous trees.\\n\\nArguably the most iconic [[toadstool]] species, the fly agaric is a large white-[[lamella (mycology)|gilled]], white-spotted, usually red mushroom, and is one of the most recognizable and widely encountered in popular culture. This includes video game design, such as the extensive use of a recognizable \\'\\'Amanita muscaria\\'\\' in the [[Mario (franchise)|Mario]] franchise and its [[Super Mushroom]] power up.<ref>{{Cite journal|url=https://www.sciencedirect.com/science/article/abs/pii/S0024320505008805|doi = 10.1016/j.lfs.2005.09.003|title = The most widely recognized mushroom: Chemistry of the genus Amanita|year = 2005|last1 = Li|first1 = Chen|last2 = Oberlies|first2 = Nicholas H.|journal = Life Sciences|volume = 78|issue = 5|pages = 532–538|pmid = 16203016}}</ref>\\n\\nDespite its easily distinguishable features, \\'\\'Amanita muscaria\\'\\' is a fungus with several known variations, or subspecies. These subspecies are slightly different, some having yellow or white caps, but they are all usually called fly agarics, and they are most of the time recognizable by their notable white spots. Recent DNA fungi research, however, has shown that some of these variations are not the same species at all, such as the [[peach-colored fly agaric]] (\\'\\'Amanita persicina\\'\\') for example, but the common name \\'fly agaric\\' clings on.\\n\\nAlthough poisonous, death due to poisoning from \\'\\'A. muscaria\\'\\' ingestion is quite rare. [[Parboiling]] twice with water draining weakens its toxicity and breaks down the mushroom\\'s psychoactive substances; it is eaten in parts of Europe, Asia, and North America. All \\'\\'Amanita muscaria\\'\\' varieties, but in particular \\'\\'A. muscaria\\'\\' var. \\'\\'muscaria\\'\\', are noted for their [[hallucinogenic]] properties, with the main psychoactive constituents being the neurotoxins [[ibotenic acid]] and [[muscimol]]. A local variety of the mushroom was used as an intoxicant and [[entheogen]] by the [[indigenous peoples of Siberia]] and by the [[Sámi]], and has a religious significance in these cultures. There has been much speculation on possible traditional use of this mushroom as an intoxicant in other places such as the Middle East, Eurasia, North America, and Scandinavia.'}"
      ]
     },
     "execution_count": 13,
     "metadata": {},
     "output_type": "execute_result"
    }
   ],
   "source": [
    "response['query']['pages']['59385']['revisions'][0]"
   ]
  },
  {
   "cell_type": "code",
   "execution_count": 14,
   "id": "49455d82",
   "metadata": {},
   "outputs": [
    {
     "name": "stdout",
     "output_type": "stream",
     "text": [
      "<class 'dict'>\n"
     ]
    },
    {
     "data": {
      "text/plain": [
       "dict_keys(['contentformat', 'contentmodel', '*'])"
      ]
     },
     "execution_count": 14,
     "metadata": {},
     "output_type": "execute_result"
    }
   ],
   "source": [
    "print(type(response['query']['pages']['59385']['revisions'][0]))\n",
    "response['query']['pages']['59385']['revisions'][0].keys()"
   ]
  },
  {
   "cell_type": "code",
   "execution_count": 15,
   "id": "b83e8767",
   "metadata": {},
   "outputs": [
    {
     "data": {
      "text/plain": [
       "'{{short description|Species of fungus in the genus Amanita}}\\n{{use British English|date=March 2013}}\\n{{Speciesbox\\n|image = Amanita muscaria 3 vliegenzwammen op rij.jpg\\n| image_caption = Showing three stages as the mushroom matures\\n| taxon = Amanita muscaria\\n| authority = ([[Carl Linnaeus|L.]]) [[Jean-Baptiste Lamarck|Lam.]] (1783)\\n| subdivision_ranks = Subspecies and varieties\\n| subdivision = *[[Amanita muscaria var. alba|\\'\\'A. muscaria\\'\\' var. \\'\\'alba\\'\\']]\\n*[[Amanita muscaria var. flavivolvata|\\'\\'A. muscaria\\'\\' subsp. \\'\\'flavivolvata\\'\\']] Singer<ref name=\"tulloss1\"/><!-- defined by Template:Amanita variety --><ref name=\"Infraspecific Taxa\">{{cite web |title=Infraspecific taxa of muscaria |url=http://www.amanitaceae.org/?species%20muscaria |website=amanitaceae.org}}</ref>\\n*[[Amanita muscaria var. guessowii|\\'\\'A. muscaria\\'\\' var. \\'\\'guessowii\\'\\']] Veselý<ref name=\"tulloss2\"/><!-- defined by Template:Amanita variety -->\\n*[[Amanita muscaria var. inzengae|\\'\\'A. muscaria\\'\\' var. \\'\\'inzengae\\'\\']] Neville & Poumarat<ref name=\"tulloss3\"/><!-- defined by Template:Amanita variety --><ref name=\"Infraspecific Taxa\" />\\n}}\\n{{mycomorphbox\\n| name = \\'\\'Amanita muscaria\\'\\'\\n| whichGills = free\\n| capShape = flat\\n| capShape2 = convex\\n| hymeniumType=gills\\n| stipeCharacter=ring and volva\\n| ecologicalType=mycorrhizal\\n| sporePrintColor=white\\n| howEdible=poisonous \\n| howEdible2=psychoactive\\n}}\\n\\n\\'\\'\\'\\'\\'Amanita muscaria\\'\\'\\'\\'\\', commonly known as the \\'\\'\\'fly agaric\\'\\'\\' or \\'\\'\\'fly amanita\\'\\'\\',<ref name=NGSWG>{{NGSWG}}</ref> is a [[basidiomycete]] of the genus \\'\\'[[Amanita]]\\'\\'. It is also a [[muscimol mushroom]]. Native throughout the [[temperate]] and [[boreal ecosystem|boreal]] regions of the Northern Hemisphere, \\'\\'Amanita muscaria\\'\\' has been unintentionally [[introduced species|introduced]] to many countries in the Southern Hemisphere, generally as a [[symbiont]] with pine and birch plantations, and is now a true [[Cosmopolitan distribution|cosmopolitan]] species. It [[mycorrhiza|associates]] with various [[deciduous]] and [[conifer]]ous trees.\\n\\nArguably the most iconic [[toadstool]] species, the fly agaric is a large white-[[lamella (mycology)|gilled]], white-spotted, usually red mushroom, and is one of the most recognizable and widely encountered in popular culture. This includes video game design, such as the extensive use of a recognizable \\'\\'Amanita muscaria\\'\\' in the [[Mario (franchise)|Mario]] franchise and its [[Super Mushroom]] power up.<ref>{{Cite journal|url=https://www.sciencedirect.com/science/article/abs/pii/S0024320505008805|doi = 10.1016/j.lfs.2005.09.003|title = The most widely recognized mushroom: Chemistry of the genus Amanita|year = 2005|last1 = Li|first1 = Chen|last2 = Oberlies|first2 = Nicholas H.|journal = Life Sciences|volume = 78|issue = 5|pages = 532–538|pmid = 16203016}}</ref>\\n\\nDespite its easily distinguishable features, \\'\\'Amanita muscaria\\'\\' is a fungus with several known variations, or subspecies. These subspecies are slightly different, some having yellow or white caps, but they are all usually called fly agarics, and they are most of the time recognizable by their notable white spots. Recent DNA fungi research, however, has shown that some of these variations are not the same species at all, such as the [[peach-colored fly agaric]] (\\'\\'Amanita persicina\\'\\') for example, but the common name \\'fly agaric\\' clings on.\\n\\nAlthough poisonous, death due to poisoning from \\'\\'A. muscaria\\'\\' ingestion is quite rare. [[Parboiling]] twice with water draining weakens its toxicity and breaks down the mushroom\\'s psychoactive substances; it is eaten in parts of Europe, Asia, and North America. All \\'\\'Amanita muscaria\\'\\' varieties, but in particular \\'\\'A. muscaria\\'\\' var. \\'\\'muscaria\\'\\', are noted for their [[hallucinogenic]] properties, with the main psychoactive constituents being the neurotoxins [[ibotenic acid]] and [[muscimol]]. A local variety of the mushroom was used as an intoxicant and [[entheogen]] by the [[indigenous peoples of Siberia]] and by the [[Sámi]], and has a religious significance in these cultures. There has been much speculation on possible traditional use of this mushroom as an intoxicant in other places such as the Middle East, Eurasia, North America, and Scandinavia.'"
      ]
     },
     "execution_count": 15,
     "metadata": {},
     "output_type": "execute_result"
    }
   ],
   "source": [
    "response['query']['pages']['59385']['revisions'][0]['*']"
   ]
  },
  {
   "cell_type": "code",
   "execution_count": 16,
   "id": "bcd14a38",
   "metadata": {},
   "outputs": [
    {
     "data": {
      "text/plain": [
       "str"
      ]
     },
     "execution_count": 16,
     "metadata": {},
     "output_type": "execute_result"
    }
   ],
   "source": [
    "type(response['query']['pages']['59385']['revisions'][0]['*'])"
   ]
  },
  {
   "cell_type": "code",
   "execution_count": 17,
   "id": "fdaca7bf",
   "metadata": {},
   "outputs": [
    {
     "name": "stdout",
     "output_type": "stream",
     "text": [
      "{{short description|Species of fungus in the genus Amanita}}\n",
      "{{use British English|date=March 2013}}\n",
      "{{Speciesbox\n",
      "|image = Amanita muscaria 3 vliegenzwammen op rij.jpg\n",
      "| image_caption = Showing three stages as the mushroom matures\n",
      "| taxon = Amanita muscaria\n",
      "| authority = ([[Carl Linnaeus|L.]]) [[Jean-Baptiste Lamarck|Lam.]] (1783)\n",
      "| subdivision_ranks = Subspecies and varieties\n",
      "| subdivision = *[[Amanita muscaria var. alba|''A. muscaria'' var. ''alba'']]\n",
      "*[[Amanita muscaria var. flavivolvata|''A. muscaria'' subsp. ''flavivolvata'']] Singer<ref name=\"tulloss1\"/><!-- defined by Template:Amanita variety --><ref name=\"Infraspecific Taxa\">{{cite web |title=Infraspecific taxa of muscaria |url=http://www.amanitaceae.org/?species%20muscaria |website=amanitaceae.org}}</ref>\n",
      "*[[Amanita muscaria var. guessowii|''A. muscaria'' var. ''guessowii'']] Veselý<ref name=\"tulloss2\"/><!-- defined by Template:Amanita variety -->\n",
      "*[[Amanita muscaria var. inzengae|''A. muscaria'' var. ''inzengae'']] Neville & Poumarat<ref name=\"tulloss3\"/><!-- defined by Template:Amanita variety --><ref name=\"Infraspecific Taxa\" />\n",
      "}}\n",
      "{{mycomorphbox\n",
      "| name = ''Amanita muscaria''\n",
      "| whichGills = free\n",
      "| capShape = flat\n",
      "| capShape2 = convex\n",
      "| hymeniumType=gills\n",
      "| stipeCharacter=ring and volva\n",
      "| ecologicalType=mycorrhizal\n",
      "| sporePrintColor=white\n",
      "| howEdible=poisonous \n",
      "| howEdible2=psychoactive\n",
      "}}\n",
      "\n",
      "'''''Amanita muscaria''''', commonly known as the '''fly agaric''' or '''fly amanita''',<ref name=NGSWG>{{NGSWG}}</ref> is a [[basidiomycete]] of the genus ''[[Amanita]]''. It is also a [[muscimol mushroom]]. Native throughout the [[temperate]] and [[boreal ecosystem|boreal]] regions of the Northern Hemisphere, ''Amanita muscaria'' has been unintentionally [[introduced species|introduced]] to many countries in the Southern Hemisphere, generally as a [[symbiont]] with pine and birch plantations, and is now a true [[Cosmopolitan distribution|cosmopolitan]] species. It [[mycorrhiza|associates]] with various [[deciduous]] and [[conifer]]ous trees.\n",
      "\n",
      "Arguably the most iconic [[toadstool]] species, the fly agaric is a large white-[[lamella (mycology)|gilled]], white-spotted, usually red mushroom, and is one of the most recognizable and widely encountered in popular culture. This includes video game design, such as the extensive use of a recognizable ''Amanita muscaria'' in the [[Mario (franchise)|Mario]] franchise and its [[Super Mushroom]] power up.<ref>{{Cite journal|url=https://www.sciencedirect.com/science/article/abs/pii/S0024320505008805|doi = 10.1016/j.lfs.2005.09.003|title = The most widely recognized mushroom: Chemistry of the genus Amanita|year = 2005|last1 = Li|first1 = Chen|last2 = Oberlies|first2 = Nicholas H.|journal = Life Sciences|volume = 78|issue = 5|pages = 532–538|pmid = 16203016}}</ref>\n",
      "\n",
      "Despite its easily distinguishable features, ''Amanita muscaria'' is a fungus with several known variations, or subspecies. These subspecies are slightly different, some having yellow or white caps, but they are all usually called fly agarics, and they are most of the time recognizable by their notable white spots. Recent DNA fungi research, however, has shown that some of these variations are not the same species at all, such as the [[peach-colored fly agaric]] (''Amanita persicina'') for example, but the common name 'fly agaric' clings on.\n",
      "\n",
      "Although poisonous, death due to poisoning from ''A. muscaria'' ingestion is quite rare. [[Parboiling]] twice with water draining weakens its toxicity and breaks down the mushroom's psychoactive substances; it is eaten in parts of Europe, Asia, and North America. All ''Amanita muscaria'' varieties, but in particular ''A. muscaria'' var. ''muscaria'', are noted for their [[hallucinogenic]] properties, with the main psychoactive constituents being the neurotoxins [[ibotenic acid]] and [[muscimol]]. A local variety of the mushroom was used as an intoxicant and [[entheogen]] by the [[indigenous peoples of Siberia]] and by the [[Sámi]], and has a religious significance in these cultures. There has been much speculation on possible traditional use of this mushroom as an intoxicant in other places such as the Middle East, Eurasia, North America, and Scandinavia.\n"
     ]
    }
   ],
   "source": [
    "print(response['query']['pages']['59385']['revisions'][0]['*'])"
   ]
  },
  {
   "cell_type": "code",
   "execution_count": 18,
   "id": "1e27c86b",
   "metadata": {},
   "outputs": [
    {
     "data": {
      "text/plain": [
       "['{{short description|Species of fungus in the genus Amanita}}',\n",
       " '{{use British English|date=March 2013}}',\n",
       " '{{Speciesbox',\n",
       " '|image = Amanita muscaria 3 vliegenzwammen op rij.jpg',\n",
       " '| image_caption = Showing three stages as the mushroom matures',\n",
       " '| taxon = Amanita muscaria',\n",
       " '| authority = ([[Carl Linnaeus|L.]]) [[Jean-Baptiste Lamarck|Lam.]] (1783)',\n",
       " '| subdivision_ranks = Subspecies and varieties',\n",
       " \"| subdivision = *[[Amanita muscaria var. alba|''A. muscaria'' var. ''alba'']]\",\n",
       " '*[[Amanita muscaria var. flavivolvata|\\'\\'A. muscaria\\'\\' subsp. \\'\\'flavivolvata\\'\\']] Singer<ref name=\"tulloss1\"/><!-- defined by Template:Amanita variety --><ref name=\"Infraspecific Taxa\">{{cite web |title=Infraspecific taxa of muscaria |url=http://www.amanitaceae.org/?species%20muscaria |website=amanitaceae.org}}</ref>',\n",
       " '*[[Amanita muscaria var. guessowii|\\'\\'A. muscaria\\'\\' var. \\'\\'guessowii\\'\\']] Veselý<ref name=\"tulloss2\"/><!-- defined by Template:Amanita variety -->',\n",
       " '*[[Amanita muscaria var. inzengae|\\'\\'A. muscaria\\'\\' var. \\'\\'inzengae\\'\\']] Neville & Poumarat<ref name=\"tulloss3\"/><!-- defined by Template:Amanita variety --><ref name=\"Infraspecific Taxa\" />',\n",
       " '}}',\n",
       " '{{mycomorphbox',\n",
       " \"| name = ''Amanita muscaria''\",\n",
       " '| whichGills = free',\n",
       " '| capShape = flat',\n",
       " '| capShape2 = convex',\n",
       " '| hymeniumType=gills',\n",
       " '| stipeCharacter=ring and volva',\n",
       " '| ecologicalType=mycorrhizal',\n",
       " '| sporePrintColor=white',\n",
       " '| howEdible=poisonous ',\n",
       " '| howEdible2=psychoactive',\n",
       " '}}',\n",
       " '',\n",
       " \"'''''Amanita muscaria''''', commonly known as the '''fly agaric''' or '''fly amanita''',<ref name=NGSWG>{{NGSWG}}</ref> is a [[basidiomycete]] of the genus ''[[Amanita]]''. It is also a [[muscimol mushroom]]. Native throughout the [[temperate]] and [[boreal ecosystem|boreal]] regions of the Northern Hemisphere, ''Amanita muscaria'' has been unintentionally [[introduced species|introduced]] to many countries in the Southern Hemisphere, generally as a [[symbiont]] with pine and birch plantations, and is now a true [[Cosmopolitan distribution|cosmopolitan]] species. It [[mycorrhiza|associates]] with various [[deciduous]] and [[conifer]]ous trees.\",\n",
       " '',\n",
       " \"Arguably the most iconic [[toadstool]] species, the fly agaric is a large white-[[lamella (mycology)|gilled]], white-spotted, usually red mushroom, and is one of the most recognizable and widely encountered in popular culture. This includes video game design, such as the extensive use of a recognizable ''Amanita muscaria'' in the [[Mario (franchise)|Mario]] franchise and its [[Super Mushroom]] power up.<ref>{{Cite journal|url=https://www.sciencedirect.com/science/article/abs/pii/S0024320505008805|doi = 10.1016/j.lfs.2005.09.003|title = The most widely recognized mushroom: Chemistry of the genus Amanita|year = 2005|last1 = Li|first1 = Chen|last2 = Oberlies|first2 = Nicholas H.|journal = Life Sciences|volume = 78|issue = 5|pages = 532–538|pmid = 16203016}}</ref>\",\n",
       " '',\n",
       " \"Despite its easily distinguishable features, ''Amanita muscaria'' is a fungus with several known variations, or subspecies. These subspecies are slightly different, some having yellow or white caps, but they are all usually called fly agarics, and they are most of the time recognizable by their notable white spots. Recent DNA fungi research, however, has shown that some of these variations are not the same species at all, such as the [[peach-colored fly agaric]] (''Amanita persicina'') for example, but the common name 'fly agaric' clings on.\",\n",
       " '',\n",
       " \"Although poisonous, death due to poisoning from ''A. muscaria'' ingestion is quite rare. [[Parboiling]] twice with water draining weakens its toxicity and breaks down the mushroom's psychoactive substances; it is eaten in parts of Europe, Asia, and North America. All ''Amanita muscaria'' varieties, but in particular ''A. muscaria'' var. ''muscaria'', are noted for their [[hallucinogenic]] properties, with the main psychoactive constituents being the neurotoxins [[ibotenic acid]] and [[muscimol]]. A local variety of the mushroom was used as an intoxicant and [[entheogen]] by the [[indigenous peoples of Siberia]] and by the [[Sámi]], and has a religious significance in these cultures. There has been much speculation on possible traditional use of this mushroom as an intoxicant in other places such as the Middle East, Eurasia, North America, and Scandinavia.\"]"
      ]
     },
     "execution_count": 18,
     "metadata": {},
     "output_type": "execute_result"
    }
   ],
   "source": [
    "response['query']['pages']['59385']['revisions'][0]['*'].split('\\n')"
   ]
  },
  {
   "cell_type": "code",
   "execution_count": 19,
   "id": "d5350f5d",
   "metadata": {},
   "outputs": [
    {
     "name": "stdout",
     "output_type": "stream",
     "text": [
      "The deets are at Mycomorphbox\n"
     ]
    }
   ],
   "source": [
    "print('The deets are at Mycomorphbox')"
   ]
  },
  {
   "cell_type": "markdown",
   "id": "b27009cb",
   "metadata": {},
   "source": [
    "https://en.wikipedia.org/wiki/Template:Mycomorphbox"
   ]
  },
  {
   "cell_type": "markdown",
   "id": "18be998b",
   "metadata": {},
   "source": [
    "Let's extract the info from there just using string methods."
   ]
  },
  {
   "cell_type": "code",
   "execution_count": 20,
   "id": "4d4722f7",
   "metadata": {},
   "outputs": [],
   "source": [
    "lines=response['query']['pages']['59385']['revisions'][0]['*'].split('\\n')"
   ]
  },
  {
   "cell_type": "code",
   "execution_count": 21,
   "id": "da75efb4",
   "metadata": {},
   "outputs": [
    {
     "name": "stdout",
     "output_type": "stream",
     "text": [
      "| howEdible=poisonous \n",
      "poisonous \n"
     ]
    }
   ],
   "source": [
    "for line in lines:\n",
    "    if 'howEdible=' in line:\n",
    "        print(line)\n",
    "        howEdible=line\n",
    "        \n",
    "edibility1=howEdible.split('=')[1]\n",
    "print(edibility1)"
   ]
  },
  {
   "cell_type": "code",
   "execution_count": 22,
   "id": "1f9cc052",
   "metadata": {},
   "outputs": [
    {
     "name": "stdout",
     "output_type": "stream",
     "text": [
      "| howEdible2=psychoactive\n",
      "psychoactive\n"
     ]
    }
   ],
   "source": [
    "for line in lines:\n",
    "    if 'howEdible2=' in line:\n",
    "        print(line)\n",
    "        howEdible2=line\n",
    "edibility2=howEdible2.split('=')[1]\n",
    "print(edibility2)"
   ]
  },
  {
   "cell_type": "code",
   "execution_count": 23,
   "id": "11cb88b0",
   "metadata": {},
   "outputs": [
    {
     "name": "stdout",
     "output_type": "stream",
     "text": [
      "| whichGills = free\n",
      " free\n"
     ]
    }
   ],
   "source": [
    "for line in lines:\n",
    "    if 'whichGills =' in line:\n",
    "        print(line)\n",
    "        whichGills=line\n",
    "gills=whichGills.split('=')[1]\n",
    "print(gills)"
   ]
  },
  {
   "cell_type": "code",
   "execution_count": 24,
   "id": "ae165684",
   "metadata": {},
   "outputs": [
    {
     "name": "stdout",
     "output_type": "stream",
     "text": [
      "| ecologicalType=mycorrhizal\n",
      "mycorrhizal\n"
     ]
    }
   ],
   "source": [
    "for line in lines:\n",
    "    if 'ecologicalType=' in line:\n",
    "        print(line)\n",
    "        ecologicalType=line\n",
    "ecotype=ecologicalType.split('=')[1]\n",
    "print(ecotype)"
   ]
  },
  {
   "cell_type": "markdown",
   "id": "d763e717",
   "metadata": {},
   "source": [
    "# Generalise to any name and make functions"
   ]
  },
  {
   "cell_type": "code",
   "execution_count": 40,
   "id": "fac38214",
   "metadata": {},
   "outputs": [],
   "source": [
    "def get_myco_info(attribute,lines):\n",
    "    '''\n",
    "    attribute is the thing you are searching for, as a string, commensurate\n",
    "    with the mycobox way of writing them:\n",
    "    \"| name = ''Amanita muscaria''\",\n",
    "    '| whichGills = free',\n",
    "    '| capShape = flat',\n",
    "    '| capShape2 = convex',\n",
    "    '| hymeniumType=gills',\n",
    "    '| stipeCharacter=ring and volva',\n",
    "    '| ecologicalType=mycorrhizal',\n",
    "    '| sporePrintColor=white',\n",
    "    '| howEdible=poisonous ',\n",
    "    '| howEdible2=psychoactive'\n",
    "    \n",
    "    lines is a list of strings, which contain the mycobox\n",
    "    NOTE: if lines contains any of these keywords before the mycobox\n",
    "    this function may (will) not work properly\n",
    "    '''\n",
    "    start=False\n",
    "    for line in lines:\n",
    "        # only start looking for the keywords after you see the mycomorphbox.\n",
    "        if '{{mycomorphbox' in line:\n",
    "            start=True\n",
    "        if start and attribute in line:\n",
    "            mycoattrib=line\n",
    "            # break to avoid things like howEdible being\n",
    "            # overwritten by howEdible2/\n",
    "            break\n",
    "    return mycoattrib.split('=')[1].strip()\n",
    "    \n",
    "    "
   ]
  },
  {
   "cell_type": "code",
   "execution_count": 41,
   "id": "a5949fcc",
   "metadata": {},
   "outputs": [
    {
     "name": "stdout",
     "output_type": "stream",
     "text": [
      "convex\n",
      "free\n"
     ]
    }
   ],
   "source": [
    "print(get_myco_info('capShape',lines))\n",
    "print(get_myco_info('whichGills',lines))"
   ]
  },
  {
   "cell_type": "code",
   "execution_count": 27,
   "id": "5c893eee",
   "metadata": {},
   "outputs": [
    {
     "name": "stdout",
     "output_type": "stream",
     "text": [
      "attribute            value               \n",
      "\n",
      "whichGills           free\n",
      "capShape             flat\n",
      "capShape2            convex\n",
      "hymeniumType         gills\n",
      "stipeCharacter       ring and volva\n",
      "ecologicalType       mycorrhizal\n",
      "sporePrintColor      white\n",
      "howEdible            poisonous\n",
      "howEdible2           psychoactive\n"
     ]
    }
   ],
   "source": [
    "attribs=['whichGills','capShape','capShape2','hymeniumType','stipeCharacter',\\\n",
    "         'ecologicalType','sporePrintColor','howEdible','howEdible2']\n",
    "attribute='attribute'\n",
    "value='value'\n",
    "print(f'{attribute:20} {value:20}\\n')\n",
    "for attrib in attribs:\n",
    "    print(f'{attrib:20} {get_myco_info(attrib,lines)}')"
   ]
  },
  {
   "cell_type": "markdown",
   "id": "6bb4f30e",
   "metadata": {},
   "source": [
    "**So since this \"wikitext\" format, is clearly not much more useful than just scraping the data from the webpage and html, it seems the best way to do wiki scraping is to use particular libraries.**"
   ]
  },
  {
   "cell_type": "markdown",
   "id": "509db234",
   "metadata": {},
   "source": [
    "https://monashdatafluency.github.io/python-web-scraping/section-3-API-based-scraping/"
   ]
  },
  {
   "cell_type": "code",
   "execution_count": 37,
   "id": "2e115707",
   "metadata": {},
   "outputs": [],
   "source": [
    "mushroom='amanita caesarea'\n",
    "url='https://en.wikipedia.org/w/api.php'\n",
    "params={\n",
    "    'action':'query',\n",
    "    'format':'json',\n",
    "    'titles':f'{mushroom}',\n",
    "    'prop':'revisions',               # This is what gets us the content.\n",
    "    'rvsection':0,\n",
    "    'rvprop':'content'\n",
    "}\n",
    "response=requests.get(url,params).json()\n",
    "page=list(response['query']['pages'].keys())[0]\n",
    "lines=response['query']['pages'][page]['revisions'][0]['*'].split('\\n')"
   ]
  },
  {
   "cell_type": "code",
   "execution_count": 42,
   "id": "aea40370",
   "metadata": {},
   "outputs": [
    {
     "data": {
      "text/plain": [
       "['{{Short description|Species of fungus}}',\n",
       " '{{stack begin}}',\n",
       " '{{Speciesbox',\n",
       " ' | image = Oronges.jpg',\n",
       " ' | genus = Amanita',\n",
       " ' | species = caesarea',\n",
       " '| status = LC',\n",
       " '| status_system = IUCN3.1',\n",
       " '| status_ref = <ref>Gonçalves, S.C. 2019. Amanita caesarea. The IUCN Red List of Threatened Species 2019: e.T125433663A125435485. https://dx.doi.org/10.2305/IUCN.UK.2019-3.RLTS.T125433663A125435485.en. Downloaded on 25 September 2021.</ref>',\n",
       " ' | authority  = ([[Scop.]]) [[Pers.]] (1801)',\n",
       " \" | synonyms = *''Agaricus caesareus'' <small>Scop. (1772)</small>\",\n",
       " '}}',\n",
       " '{{mycomorphbox',\n",
       " \"| name = ''Amanita caesarea''\",\n",
       " '| whichGills = free',\n",
       " '| capShape = convex',\n",
       " '| hymeniumType = gills',\n",
       " '| stipeCharacter = ring and volva',\n",
       " '| ecologicalType = mycorrhizal',\n",
       " '| sporePrintColor = white',\n",
       " '| howEdible = choice',\n",
       " '| howEdible2 = caution',\n",
       " '}}',\n",
       " '{{stack end}}',\n",
       " '',\n",
       " \"'''''Amanita caesarea''''', commonly known as  '''Caesar's mushroom''', is a highly regarded [[edible mushroom]] in the [[genus]] ''[[Amanita]]'', native to southern Europe and North Africa. While it was first [[species description|described]] by [[Giovanni Antonio Scopoli]] in 1772, this mushroom was a known favorite of early rulers of the Roman Empire.<ref>{{cite web|last=Volk|first=Tom|title=Tom Volk's Fungus of the Month for March 2002|url=http://botit.botany.wisc.edu/toms_fungi/mar2002.html|access-date=17 November 2012}}</ref>\",\n",
       " '',\n",
       " \"It has a distinctive orange [[pileus (mycology)|cap]], yellow [[lamella (mycology)|gills]] and [[stipe (mycology)|stipe]]. Organic acids have been isolated from this species. Similar orange-capped species occur in North America and India. It was known to and valued by the Ancient Romans, who called it ''[[Boletus]]'', a name now applied to a very different type of fungus.\",\n",
       " '',\n",
       " \"Although it is edible, the Caesar's mushroom is closely related to the psychoactive [[fly agaric]], and to the deadly poisonous [[death cap]] and [[destroying angel]]s.\"]"
      ]
     },
     "execution_count": 42,
     "metadata": {},
     "output_type": "execute_result"
    }
   ],
   "source": [
    "lines"
   ]
  },
  {
   "cell_type": "code",
   "execution_count": 49,
   "id": "bcf3b54e",
   "metadata": {},
   "outputs": [
    {
     "name": "stdout",
     "output_type": "stream",
     "text": [
      "choice\n",
      "free\n"
     ]
    }
   ],
   "source": [
    "print(get_myco_info('howEdible',lines))\n",
    "print(get_myco_info('whichGills',lines))"
   ]
  },
  {
   "cell_type": "code",
   "execution_count": 46,
   "id": "e7649a0e",
   "metadata": {},
   "outputs": [
    {
     "name": "stdout",
     "output_type": "stream",
     "text": [
      "choice\n"
     ]
    }
   ],
   "source": [
    "attribute='howEdible'\n",
    "start=False\n",
    "for line in lines:\n",
    "        # only start looking for the keywords after you see the mycomorphbox.\n",
    "        if '{{mycomorphbox' in line:\n",
    "            start=True\n",
    "        if start and attribute in line:\n",
    "            mycoattrib=line\n",
    "            # break to avoid things like howEdible being\n",
    "            # overwritten by howEdible2/\n",
    "            break\n",
    "\n",
    "print(mycoattrib.split('=')[1].strip())\n",
    "    "
   ]
  },
  {
   "cell_type": "code",
   "execution_count": 39,
   "id": "a8dcea58",
   "metadata": {},
   "outputs": [
    {
     "name": "stdout",
     "output_type": "stream",
     "text": [
      "attribute            value               \n",
      "\n",
      "whichGills           free\n",
      "capShape             convex\n"
     ]
    },
    {
     "ename": "UnboundLocalError",
     "evalue": "local variable 'mycoattrib' referenced before assignment",
     "output_type": "error",
     "traceback": [
      "\u001b[0;31m---------------------------------------------------------------------------\u001b[0m",
      "\u001b[0;31mUnboundLocalError\u001b[0m                         Traceback (most recent call last)",
      "Input \u001b[0;32mIn [39]\u001b[0m, in \u001b[0;36m<cell line: 6>\u001b[0;34m()\u001b[0m\n\u001b[1;32m      5\u001b[0m \u001b[38;5;28mprint\u001b[39m(\u001b[38;5;124mf\u001b[39m\u001b[38;5;124m'\u001b[39m\u001b[38;5;132;01m{\u001b[39;00mattribute\u001b[38;5;132;01m:\u001b[39;00m\u001b[38;5;124m20\u001b[39m\u001b[38;5;132;01m}\u001b[39;00m\u001b[38;5;124m \u001b[39m\u001b[38;5;132;01m{\u001b[39;00mvalue\u001b[38;5;132;01m:\u001b[39;00m\u001b[38;5;124m20\u001b[39m\u001b[38;5;132;01m}\u001b[39;00m\u001b[38;5;130;01m\\n\u001b[39;00m\u001b[38;5;124m'\u001b[39m)\n\u001b[1;32m      6\u001b[0m \u001b[38;5;28;01mfor\u001b[39;00m attrib \u001b[38;5;129;01min\u001b[39;00m attribs:\n\u001b[0;32m----> 7\u001b[0m     \u001b[38;5;28mprint\u001b[39m(\u001b[38;5;124mf\u001b[39m\u001b[38;5;124m'\u001b[39m\u001b[38;5;132;01m{\u001b[39;00mattrib\u001b[38;5;132;01m:\u001b[39;00m\u001b[38;5;124m20\u001b[39m\u001b[38;5;132;01m}\u001b[39;00m\u001b[38;5;124m \u001b[39m\u001b[38;5;132;01m{\u001b[39;00mget_myco_info(attrib,lines)\u001b[38;5;132;01m}\u001b[39;00m\u001b[38;5;124m'\u001b[39m)\n",
      "Input \u001b[0;32mIn [25]\u001b[0m, in \u001b[0;36mget_myco_info\u001b[0;34m(attribute, lines)\u001b[0m\n\u001b[1;32m     27\u001b[0m         \u001b[38;5;66;03m# break to avoid things like howEdible being\u001b[39;00m\n\u001b[1;32m     28\u001b[0m         \u001b[38;5;66;03m# overwritten by howEdible2/\u001b[39;00m\n\u001b[1;32m     29\u001b[0m         \u001b[38;5;28;01mbreak\u001b[39;00m\n\u001b[0;32m---> 30\u001b[0m \u001b[38;5;28;01mreturn\u001b[39;00m \u001b[43mmycoattrib\u001b[49m\u001b[38;5;241m.\u001b[39msplit(\u001b[38;5;124m'\u001b[39m\u001b[38;5;124m=\u001b[39m\u001b[38;5;124m'\u001b[39m)[\u001b[38;5;241m1\u001b[39m]\u001b[38;5;241m.\u001b[39mstrip()\n",
      "\u001b[0;31mUnboundLocalError\u001b[0m: local variable 'mycoattrib' referenced before assignment"
     ]
    }
   ],
   "source": [
    "attribs=['whichGills','capShape','capShape2','hymeniumType','stipeCharacter',\\\n",
    "         'ecologicalType','sporePrintColor','howEdible','howEdible2']\n",
    "attribute='attribute'\n",
    "value='value'\n",
    "print(f'{attribute:20} {value:20}\\n')\n",
    "for attrib in attribs:\n",
    "    print(f'{attrib:20} {get_myco_info(attrib,lines)}')"
   ]
  },
  {
   "cell_type": "markdown",
   "id": "6128d2bd",
   "metadata": {},
   "source": [
    "**This error is because capShape2 is not in this description, since there is only one thing to say about the cap shape. So the function must be made to be robust against non-existing mycological attributes. It should be easiy enough to do. Just say:**\n",
    "\n",
    "if (attrib never found)<br>\n",
    "&emsp;continue"
   ]
  },
  {
   "cell_type": "code",
   "execution_count": null,
   "id": "30e85fb6",
   "metadata": {},
   "outputs": [],
   "source": []
  }
 ],
 "metadata": {
  "kernelspec": {
   "display_name": "Python 3 (ipykernel)",
   "language": "python",
   "name": "python3"
  },
  "language_info": {
   "codemirror_mode": {
    "name": "ipython",
    "version": 3
   },
   "file_extension": ".py",
   "mimetype": "text/x-python",
   "name": "python",
   "nbconvert_exporter": "python",
   "pygments_lexer": "ipython3",
   "version": "3.8.12"
  },
  "toc": {
   "base_numbering": 1,
   "nav_menu": {},
   "number_sections": true,
   "sideBar": true,
   "skip_h1_title": false,
   "title_cell": "Table of Contents",
   "title_sidebar": "Contents",
   "toc_cell": false,
   "toc_position": {},
   "toc_section_display": true,
   "toc_window_display": false
  }
 },
 "nbformat": 4,
 "nbformat_minor": 5
}
