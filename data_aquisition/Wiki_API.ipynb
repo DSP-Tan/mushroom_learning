{
 "cells": [
  {
   "cell_type": "code",
   "execution_count": 1,
   "id": "7bd592c0",
   "metadata": {},
   "outputs": [],
   "source": [
    "import requests"
   ]
  },
  {
   "cell_type": "code",
   "execution_count": 3,
   "id": "668cbdc6",
   "metadata": {},
   "outputs": [],
   "source": [
    "url='https://en.wikipedia.org/w/api.php'"
   ]
  },
  {
   "cell_type": "code",
   "execution_count": 17,
   "id": "d654cd27",
   "metadata": {},
   "outputs": [],
   "source": [
    "params={\n",
    "    'action':'query',\n",
    "    'format':'json',\n",
    "    'titles':'amanita muscaria',\n",
    "    'prop':'revisions',               # This is what gets us the content.\n",
    "    'rvsection':0,\n",
    "    'rvprop':'content'\n",
    "}\n",
    "response=requests.get(url,params).json()"
   ]
  },
  {
   "cell_type": "code",
   "execution_count": 20,
   "id": "a68c488b",
   "metadata": {},
   "outputs": [
    {
     "name": "stdout",
     "output_type": "stream",
     "text": [
      "{'batchcomplete': '', 'warnings': {'main': {'*': 'Subscribe to the mediawiki-api-announce mailing list at <https://lists.wikimedia.org/postorius/lists/mediawiki-api-announce.lists.wikimedia.org/> for notice of API deprecations and breaking changes. Use [[Special:ApiFeatureUsage]] to see usage of deprecated features by your application.'}, 'revisions': {'*': 'Because \"rvslots\" was not specified, a legacy format has been used for the output. This format is deprecated, and in the future the new format will always be used.'}}, 'query': {'normalized': [{'from': 'amanita muscaria', 'to': 'Amanita muscaria'}], 'pages': {'59385': {'pageid': 59385, 'ns': 0, 'title': 'Amanita muscaria', 'revisions': [{'contentformat': 'text/x-wiki', 'contentmodel': 'wikitext', '*': '{{short description|Species of fungus in the genus Amanita}}\\n{{use British English|date=March 2013}}\\n{{Speciesbox\\n|image = Amanita muscaria 3 vliegenzwammen op rij.jpg\\n| image_caption = Showing three stages as the mushroom matures\\n| taxon = Amanita muscaria\\n| authority = ([[Carl Linnaeus|L.]]) [[Jean-Baptiste Lamarck|Lam.]] (1783)\\n| subdivision_ranks = Subspecies and varieties\\n| subdivision = *[[Amanita muscaria var. alba|\\'\\'A. muscaria\\'\\' var. \\'\\'alba\\'\\']]\\n*[[Amanita muscaria var. flavivolvata|\\'\\'A. muscaria\\'\\' subsp. \\'\\'flavivolvata\\'\\']] Singer<ref name=\"tulloss1\"/><!-- defined by Template:Amanita variety --><ref name=\"Infraspecific Taxa\">{{cite web |title=Infraspecific taxa of muscaria |url=http://www.amanitaceae.org/?species%20muscaria |website=amanitaceae.org}}</ref>\\n*[[Amanita muscaria var. guessowii|\\'\\'A. muscaria\\'\\' var. \\'\\'guessowii\\'\\']] Veselý<ref name=\"tulloss2\"/><!-- defined by Template:Amanita variety -->\\n*[[Amanita muscaria var. inzengae|\\'\\'A. muscaria\\'\\' var. \\'\\'inzengae\\'\\']] Neville & Poumarat<ref name=\"tulloss3\"/><!-- defined by Template:Amanita variety --><ref name=\"Infraspecific Taxa\" />\\n}}\\n{{mycomorphbox\\n| name = \\'\\'Amanita muscaria\\'\\'\\n| whichGills = free\\n| capShape = flat\\n| capShape2 = convex\\n| hymeniumType=gills\\n| stipeCharacter=ring and volva\\n| ecologicalType=mycorrhizal\\n| sporePrintColor=white\\n| howEdible=poisonous \\n| howEdible2=psychoactive\\n}}\\n\\n\\'\\'\\'\\'\\'Amanita muscaria\\'\\'\\'\\'\\', commonly known as the \\'\\'\\'fly agaric\\'\\'\\' or \\'\\'\\'fly amanita\\'\\'\\',<ref name=NGSWG>{{NGSWG}}</ref> is a [[basidiomycete]] of the genus \\'\\'[[Amanita]]\\'\\'. It is also a [[muscimol mushroom]]. Native throughout the [[temperate]] and [[boreal ecosystem|boreal]] regions of the Northern Hemisphere, \\'\\'Amanita muscaria\\'\\' has been unintentionally [[introduced species|introduced]] to many countries in the Southern Hemisphere, generally as a [[symbiont]] with pine and birch plantations, and is now a true [[Cosmopolitan distribution|cosmopolitan]] species. It [[mycorrhiza|associates]] with various [[deciduous]] and [[conifer]]ous trees.\\n\\nArguably the most iconic [[toadstool]] species, the fly agaric is a large white-[[lamella (mycology)|gilled]], white-spotted, usually red mushroom, and is one of the most recognizable and widely encountered in popular culture. This includes video game design, such as the extensive use of a recognizable \\'\\'Amanita muscaria\\'\\' in the [[Mario (franchise)|Mario]] franchise and its [[Super Mushroom]] power up.<ref>{{Cite journal|url=https://www.sciencedirect.com/science/article/abs/pii/S0024320505008805|doi = 10.1016/j.lfs.2005.09.003|title = The most widely recognized mushroom: Chemistry of the genus Amanita|year = 2005|last1 = Li|first1 = Chen|last2 = Oberlies|first2 = Nicholas H.|journal = Life Sciences|volume = 78|issue = 5|pages = 532–538|pmid = 16203016}}</ref>\\n\\nDespite its easily distinguishable features, \\'\\'Amanita muscaria\\'\\' is a fungus with several known variations, or subspecies. These subspecies are slightly different, some having yellow or white caps, but they are all usually called fly agarics, and they are most of the time recognizable by their notable white spots. Recent DNA fungi research, however, has shown that some of these variations are not the same species at all, such as the [[peach-colored fly agaric]] (\\'\\'Amanita persicina\\'\\') for example, but the common name \\'fly agaric\\' clings on.\\n\\nAlthough poisonous, death due to poisoning from \\'\\'A. muscaria\\'\\' ingestion is quite rare. [[Parboiling]] twice with water draining weakens its toxicity and breaks down the mushroom\\'s psychoactive substances; it is eaten in parts of Europe, Asia, and North America. All \\'\\'Amanita muscaria\\'\\' varieties, but in particular \\'\\'A. muscaria\\'\\' var. \\'\\'muscaria\\'\\', are noted for their [[hallucinogenic]] properties, with the main psychoactive constituents being the neurotoxins [[ibotenic acid]] and [[muscimol]]. A local variety of the mushroom was used as an intoxicant and [[entheogen]] by the [[indigenous peoples of Siberia]] and by the [[Sámi]], and has a religious significance in these cultures. There has been much speculation on possible traditional use of this mushroom as an intoxicant in other places such as the Middle East, Eurasia, North America, and Scandinavia.'}]}}}}\n"
     ]
    }
   ],
   "source": [
    "print(response)"
   ]
  },
  {
   "cell_type": "code",
   "execution_count": 24,
   "id": "1ea977b5",
   "metadata": {},
   "outputs": [
    {
     "data": {
      "text/plain": [
       "{'normalized': [{'from': 'amanita muscaria', 'to': 'Amanita muscaria'}],\n",
       " 'pages': {'59385': {'pageid': 59385,\n",
       "   'ns': 0,\n",
       "   'title': 'Amanita muscaria',\n",
       "   'revisions': [{'contentformat': 'text/x-wiki',\n",
       "     'contentmodel': 'wikitext',\n",
       "     '*': '{{short description|Species of fungus in the genus Amanita}}\\n{{use British English|date=March 2013}}\\n{{Speciesbox\\n|image = Amanita muscaria 3 vliegenzwammen op rij.jpg\\n| image_caption = Showing three stages as the mushroom matures\\n| taxon = Amanita muscaria\\n| authority = ([[Carl Linnaeus|L.]]) [[Jean-Baptiste Lamarck|Lam.]] (1783)\\n| subdivision_ranks = Subspecies and varieties\\n| subdivision = *[[Amanita muscaria var. alba|\\'\\'A. muscaria\\'\\' var. \\'\\'alba\\'\\']]\\n*[[Amanita muscaria var. flavivolvata|\\'\\'A. muscaria\\'\\' subsp. \\'\\'flavivolvata\\'\\']] Singer<ref name=\"tulloss1\"/><!-- defined by Template:Amanita variety --><ref name=\"Infraspecific Taxa\">{{cite web |title=Infraspecific taxa of muscaria |url=http://www.amanitaceae.org/?species%20muscaria |website=amanitaceae.org}}</ref>\\n*[[Amanita muscaria var. guessowii|\\'\\'A. muscaria\\'\\' var. \\'\\'guessowii\\'\\']] Veselý<ref name=\"tulloss2\"/><!-- defined by Template:Amanita variety -->\\n*[[Amanita muscaria var. inzengae|\\'\\'A. muscaria\\'\\' var. \\'\\'inzengae\\'\\']] Neville & Poumarat<ref name=\"tulloss3\"/><!-- defined by Template:Amanita variety --><ref name=\"Infraspecific Taxa\" />\\n}}\\n{{mycomorphbox\\n| name = \\'\\'Amanita muscaria\\'\\'\\n| whichGills = free\\n| capShape = flat\\n| capShape2 = convex\\n| hymeniumType=gills\\n| stipeCharacter=ring and volva\\n| ecologicalType=mycorrhizal\\n| sporePrintColor=white\\n| howEdible=poisonous \\n| howEdible2=psychoactive\\n}}\\n\\n\\'\\'\\'\\'\\'Amanita muscaria\\'\\'\\'\\'\\', commonly known as the \\'\\'\\'fly agaric\\'\\'\\' or \\'\\'\\'fly amanita\\'\\'\\',<ref name=NGSWG>{{NGSWG}}</ref> is a [[basidiomycete]] of the genus \\'\\'[[Amanita]]\\'\\'. It is also a [[muscimol mushroom]]. Native throughout the [[temperate]] and [[boreal ecosystem|boreal]] regions of the Northern Hemisphere, \\'\\'Amanita muscaria\\'\\' has been unintentionally [[introduced species|introduced]] to many countries in the Southern Hemisphere, generally as a [[symbiont]] with pine and birch plantations, and is now a true [[Cosmopolitan distribution|cosmopolitan]] species. It [[mycorrhiza|associates]] with various [[deciduous]] and [[conifer]]ous trees.\\n\\nArguably the most iconic [[toadstool]] species, the fly agaric is a large white-[[lamella (mycology)|gilled]], white-spotted, usually red mushroom, and is one of the most recognizable and widely encountered in popular culture. This includes video game design, such as the extensive use of a recognizable \\'\\'Amanita muscaria\\'\\' in the [[Mario (franchise)|Mario]] franchise and its [[Super Mushroom]] power up.<ref>{{Cite journal|url=https://www.sciencedirect.com/science/article/abs/pii/S0024320505008805|doi = 10.1016/j.lfs.2005.09.003|title = The most widely recognized mushroom: Chemistry of the genus Amanita|year = 2005|last1 = Li|first1 = Chen|last2 = Oberlies|first2 = Nicholas H.|journal = Life Sciences|volume = 78|issue = 5|pages = 532–538|pmid = 16203016}}</ref>\\n\\nDespite its easily distinguishable features, \\'\\'Amanita muscaria\\'\\' is a fungus with several known variations, or subspecies. These subspecies are slightly different, some having yellow or white caps, but they are all usually called fly agarics, and they are most of the time recognizable by their notable white spots. Recent DNA fungi research, however, has shown that some of these variations are not the same species at all, such as the [[peach-colored fly agaric]] (\\'\\'Amanita persicina\\'\\') for example, but the common name \\'fly agaric\\' clings on.\\n\\nAlthough poisonous, death due to poisoning from \\'\\'A. muscaria\\'\\' ingestion is quite rare. [[Parboiling]] twice with water draining weakens its toxicity and breaks down the mushroom\\'s psychoactive substances; it is eaten in parts of Europe, Asia, and North America. All \\'\\'Amanita muscaria\\'\\' varieties, but in particular \\'\\'A. muscaria\\'\\' var. \\'\\'muscaria\\'\\', are noted for their [[hallucinogenic]] properties, with the main psychoactive constituents being the neurotoxins [[ibotenic acid]] and [[muscimol]]. A local variety of the mushroom was used as an intoxicant and [[entheogen]] by the [[indigenous peoples of Siberia]] and by the [[Sámi]], and has a religious significance in these cultures. There has been much speculation on possible traditional use of this mushroom as an intoxicant in other places such as the Middle East, Eurasia, North America, and Scandinavia.'}]}}}"
      ]
     },
     "execution_count": 24,
     "metadata": {},
     "output_type": "execute_result"
    }
   ],
   "source": [
    "response['query']"
   ]
  },
  {
   "cell_type": "code",
   "execution_count": 32,
   "id": "fc7eaa10",
   "metadata": {},
   "outputs": [
    {
     "data": {
      "text/plain": [
       "{'59385': {'pageid': 59385,\n",
       "  'ns': 0,\n",
       "  'title': 'Amanita muscaria',\n",
       "  'revisions': [{'contentformat': 'text/x-wiki',\n",
       "    'contentmodel': 'wikitext',\n",
       "    '*': '{{short description|Species of fungus in the genus Amanita}}\\n{{use British English|date=March 2013}}\\n{{Speciesbox\\n|image = Amanita muscaria 3 vliegenzwammen op rij.jpg\\n| image_caption = Showing three stages as the mushroom matures\\n| taxon = Amanita muscaria\\n| authority = ([[Carl Linnaeus|L.]]) [[Jean-Baptiste Lamarck|Lam.]] (1783)\\n| subdivision_ranks = Subspecies and varieties\\n| subdivision = *[[Amanita muscaria var. alba|\\'\\'A. muscaria\\'\\' var. \\'\\'alba\\'\\']]\\n*[[Amanita muscaria var. flavivolvata|\\'\\'A. muscaria\\'\\' subsp. \\'\\'flavivolvata\\'\\']] Singer<ref name=\"tulloss1\"/><!-- defined by Template:Amanita variety --><ref name=\"Infraspecific Taxa\">{{cite web |title=Infraspecific taxa of muscaria |url=http://www.amanitaceae.org/?species%20muscaria |website=amanitaceae.org}}</ref>\\n*[[Amanita muscaria var. guessowii|\\'\\'A. muscaria\\'\\' var. \\'\\'guessowii\\'\\']] Veselý<ref name=\"tulloss2\"/><!-- defined by Template:Amanita variety -->\\n*[[Amanita muscaria var. inzengae|\\'\\'A. muscaria\\'\\' var. \\'\\'inzengae\\'\\']] Neville & Poumarat<ref name=\"tulloss3\"/><!-- defined by Template:Amanita variety --><ref name=\"Infraspecific Taxa\" />\\n}}\\n{{mycomorphbox\\n| name = \\'\\'Amanita muscaria\\'\\'\\n| whichGills = free\\n| capShape = flat\\n| capShape2 = convex\\n| hymeniumType=gills\\n| stipeCharacter=ring and volva\\n| ecologicalType=mycorrhizal\\n| sporePrintColor=white\\n| howEdible=poisonous \\n| howEdible2=psychoactive\\n}}\\n\\n\\'\\'\\'\\'\\'Amanita muscaria\\'\\'\\'\\'\\', commonly known as the \\'\\'\\'fly agaric\\'\\'\\' or \\'\\'\\'fly amanita\\'\\'\\',<ref name=NGSWG>{{NGSWG}}</ref> is a [[basidiomycete]] of the genus \\'\\'[[Amanita]]\\'\\'. It is also a [[muscimol mushroom]]. Native throughout the [[temperate]] and [[boreal ecosystem|boreal]] regions of the Northern Hemisphere, \\'\\'Amanita muscaria\\'\\' has been unintentionally [[introduced species|introduced]] to many countries in the Southern Hemisphere, generally as a [[symbiont]] with pine and birch plantations, and is now a true [[Cosmopolitan distribution|cosmopolitan]] species. It [[mycorrhiza|associates]] with various [[deciduous]] and [[conifer]]ous trees.\\n\\nArguably the most iconic [[toadstool]] species, the fly agaric is a large white-[[lamella (mycology)|gilled]], white-spotted, usually red mushroom, and is one of the most recognizable and widely encountered in popular culture. This includes video game design, such as the extensive use of a recognizable \\'\\'Amanita muscaria\\'\\' in the [[Mario (franchise)|Mario]] franchise and its [[Super Mushroom]] power up.<ref>{{Cite journal|url=https://www.sciencedirect.com/science/article/abs/pii/S0024320505008805|doi = 10.1016/j.lfs.2005.09.003|title = The most widely recognized mushroom: Chemistry of the genus Amanita|year = 2005|last1 = Li|first1 = Chen|last2 = Oberlies|first2 = Nicholas H.|journal = Life Sciences|volume = 78|issue = 5|pages = 532–538|pmid = 16203016}}</ref>\\n\\nDespite its easily distinguishable features, \\'\\'Amanita muscaria\\'\\' is a fungus with several known variations, or subspecies. These subspecies are slightly different, some having yellow or white caps, but they are all usually called fly agarics, and they are most of the time recognizable by their notable white spots. Recent DNA fungi research, however, has shown that some of these variations are not the same species at all, such as the [[peach-colored fly agaric]] (\\'\\'Amanita persicina\\'\\') for example, but the common name \\'fly agaric\\' clings on.\\n\\nAlthough poisonous, death due to poisoning from \\'\\'A. muscaria\\'\\' ingestion is quite rare. [[Parboiling]] twice with water draining weakens its toxicity and breaks down the mushroom\\'s psychoactive substances; it is eaten in parts of Europe, Asia, and North America. All \\'\\'Amanita muscaria\\'\\' varieties, but in particular \\'\\'A. muscaria\\'\\' var. \\'\\'muscaria\\'\\', are noted for their [[hallucinogenic]] properties, with the main psychoactive constituents being the neurotoxins [[ibotenic acid]] and [[muscimol]]. A local variety of the mushroom was used as an intoxicant and [[entheogen]] by the [[indigenous peoples of Siberia]] and by the [[Sámi]], and has a religious significance in these cultures. There has been much speculation on possible traditional use of this mushroom as an intoxicant in other places such as the Middle East, Eurasia, North America, and Scandinavia.'}]}}"
      ]
     },
     "execution_count": 32,
     "metadata": {},
     "output_type": "execute_result"
    }
   ],
   "source": [
    "response['query']['pages']"
   ]
  },
  {
   "cell_type": "code",
   "execution_count": 33,
   "id": "ae855779",
   "metadata": {},
   "outputs": [
    {
     "data": {
      "text/plain": [
       "dict_keys(['59385'])"
      ]
     },
     "execution_count": 33,
     "metadata": {},
     "output_type": "execute_result"
    }
   ],
   "source": [
    "response['query']['pages'].keys()"
   ]
  },
  {
   "cell_type": "code",
   "execution_count": 48,
   "id": "ccb7636e",
   "metadata": {},
   "outputs": [
    {
     "data": {
      "text/plain": [
       "'59385'"
      ]
     },
     "execution_count": 48,
     "metadata": {},
     "output_type": "execute_result"
    }
   ],
   "source": [
    "list(response['query']['pages'].keys())[0]"
   ]
  },
  {
   "cell_type": "code",
   "execution_count": 34,
   "id": "100d9ba9",
   "metadata": {},
   "outputs": [
    {
     "data": {
      "text/plain": [
       "{'pageid': 59385,\n",
       " 'ns': 0,\n",
       " 'title': 'Amanita muscaria',\n",
       " 'revisions': [{'contentformat': 'text/x-wiki',\n",
       "   'contentmodel': 'wikitext',\n",
       "   '*': '{{short description|Species of fungus in the genus Amanita}}\\n{{use British English|date=March 2013}}\\n{{Speciesbox\\n|image = Amanita muscaria 3 vliegenzwammen op rij.jpg\\n| image_caption = Showing three stages as the mushroom matures\\n| taxon = Amanita muscaria\\n| authority = ([[Carl Linnaeus|L.]]) [[Jean-Baptiste Lamarck|Lam.]] (1783)\\n| subdivision_ranks = Subspecies and varieties\\n| subdivision = *[[Amanita muscaria var. alba|\\'\\'A. muscaria\\'\\' var. \\'\\'alba\\'\\']]\\n*[[Amanita muscaria var. flavivolvata|\\'\\'A. muscaria\\'\\' subsp. \\'\\'flavivolvata\\'\\']] Singer<ref name=\"tulloss1\"/><!-- defined by Template:Amanita variety --><ref name=\"Infraspecific Taxa\">{{cite web |title=Infraspecific taxa of muscaria |url=http://www.amanitaceae.org/?species%20muscaria |website=amanitaceae.org}}</ref>\\n*[[Amanita muscaria var. guessowii|\\'\\'A. muscaria\\'\\' var. \\'\\'guessowii\\'\\']] Veselý<ref name=\"tulloss2\"/><!-- defined by Template:Amanita variety -->\\n*[[Amanita muscaria var. inzengae|\\'\\'A. muscaria\\'\\' var. \\'\\'inzengae\\'\\']] Neville & Poumarat<ref name=\"tulloss3\"/><!-- defined by Template:Amanita variety --><ref name=\"Infraspecific Taxa\" />\\n}}\\n{{mycomorphbox\\n| name = \\'\\'Amanita muscaria\\'\\'\\n| whichGills = free\\n| capShape = flat\\n| capShape2 = convex\\n| hymeniumType=gills\\n| stipeCharacter=ring and volva\\n| ecologicalType=mycorrhizal\\n| sporePrintColor=white\\n| howEdible=poisonous \\n| howEdible2=psychoactive\\n}}\\n\\n\\'\\'\\'\\'\\'Amanita muscaria\\'\\'\\'\\'\\', commonly known as the \\'\\'\\'fly agaric\\'\\'\\' or \\'\\'\\'fly amanita\\'\\'\\',<ref name=NGSWG>{{NGSWG}}</ref> is a [[basidiomycete]] of the genus \\'\\'[[Amanita]]\\'\\'. It is also a [[muscimol mushroom]]. Native throughout the [[temperate]] and [[boreal ecosystem|boreal]] regions of the Northern Hemisphere, \\'\\'Amanita muscaria\\'\\' has been unintentionally [[introduced species|introduced]] to many countries in the Southern Hemisphere, generally as a [[symbiont]] with pine and birch plantations, and is now a true [[Cosmopolitan distribution|cosmopolitan]] species. It [[mycorrhiza|associates]] with various [[deciduous]] and [[conifer]]ous trees.\\n\\nArguably the most iconic [[toadstool]] species, the fly agaric is a large white-[[lamella (mycology)|gilled]], white-spotted, usually red mushroom, and is one of the most recognizable and widely encountered in popular culture. This includes video game design, such as the extensive use of a recognizable \\'\\'Amanita muscaria\\'\\' in the [[Mario (franchise)|Mario]] franchise and its [[Super Mushroom]] power up.<ref>{{Cite journal|url=https://www.sciencedirect.com/science/article/abs/pii/S0024320505008805|doi = 10.1016/j.lfs.2005.09.003|title = The most widely recognized mushroom: Chemistry of the genus Amanita|year = 2005|last1 = Li|first1 = Chen|last2 = Oberlies|first2 = Nicholas H.|journal = Life Sciences|volume = 78|issue = 5|pages = 532–538|pmid = 16203016}}</ref>\\n\\nDespite its easily distinguishable features, \\'\\'Amanita muscaria\\'\\' is a fungus with several known variations, or subspecies. These subspecies are slightly different, some having yellow or white caps, but they are all usually called fly agarics, and they are most of the time recognizable by their notable white spots. Recent DNA fungi research, however, has shown that some of these variations are not the same species at all, such as the [[peach-colored fly agaric]] (\\'\\'Amanita persicina\\'\\') for example, but the common name \\'fly agaric\\' clings on.\\n\\nAlthough poisonous, death due to poisoning from \\'\\'A. muscaria\\'\\' ingestion is quite rare. [[Parboiling]] twice with water draining weakens its toxicity and breaks down the mushroom\\'s psychoactive substances; it is eaten in parts of Europe, Asia, and North America. All \\'\\'Amanita muscaria\\'\\' varieties, but in particular \\'\\'A. muscaria\\'\\' var. \\'\\'muscaria\\'\\', are noted for their [[hallucinogenic]] properties, with the main psychoactive constituents being the neurotoxins [[ibotenic acid]] and [[muscimol]]. A local variety of the mushroom was used as an intoxicant and [[entheogen]] by the [[indigenous peoples of Siberia]] and by the [[Sámi]], and has a religious significance in these cultures. There has been much speculation on possible traditional use of this mushroom as an intoxicant in other places such as the Middle East, Eurasia, North America, and Scandinavia.'}]}"
      ]
     },
     "execution_count": 34,
     "metadata": {},
     "output_type": "execute_result"
    }
   ],
   "source": [
    "response['query']['pages']['59385']"
   ]
  },
  {
   "cell_type": "code",
   "execution_count": 35,
   "id": "4160b90a",
   "metadata": {},
   "outputs": [
    {
     "data": {
      "text/plain": [
       "dict_keys(['pageid', 'ns', 'title', 'revisions'])"
      ]
     },
     "execution_count": 35,
     "metadata": {},
     "output_type": "execute_result"
    }
   ],
   "source": [
    "response['query']['pages']['59385'].keys()"
   ]
  },
  {
   "cell_type": "code",
   "execution_count": 36,
   "id": "7ed14212",
   "metadata": {},
   "outputs": [
    {
     "data": {
      "text/plain": [
       "[{'contentformat': 'text/x-wiki',\n",
       "  'contentmodel': 'wikitext',\n",
       "  '*': '{{short description|Species of fungus in the genus Amanita}}\\n{{use British English|date=March 2013}}\\n{{Speciesbox\\n|image = Amanita muscaria 3 vliegenzwammen op rij.jpg\\n| image_caption = Showing three stages as the mushroom matures\\n| taxon = Amanita muscaria\\n| authority = ([[Carl Linnaeus|L.]]) [[Jean-Baptiste Lamarck|Lam.]] (1783)\\n| subdivision_ranks = Subspecies and varieties\\n| subdivision = *[[Amanita muscaria var. alba|\\'\\'A. muscaria\\'\\' var. \\'\\'alba\\'\\']]\\n*[[Amanita muscaria var. flavivolvata|\\'\\'A. muscaria\\'\\' subsp. \\'\\'flavivolvata\\'\\']] Singer<ref name=\"tulloss1\"/><!-- defined by Template:Amanita variety --><ref name=\"Infraspecific Taxa\">{{cite web |title=Infraspecific taxa of muscaria |url=http://www.amanitaceae.org/?species%20muscaria |website=amanitaceae.org}}</ref>\\n*[[Amanita muscaria var. guessowii|\\'\\'A. muscaria\\'\\' var. \\'\\'guessowii\\'\\']] Veselý<ref name=\"tulloss2\"/><!-- defined by Template:Amanita variety -->\\n*[[Amanita muscaria var. inzengae|\\'\\'A. muscaria\\'\\' var. \\'\\'inzengae\\'\\']] Neville & Poumarat<ref name=\"tulloss3\"/><!-- defined by Template:Amanita variety --><ref name=\"Infraspecific Taxa\" />\\n}}\\n{{mycomorphbox\\n| name = \\'\\'Amanita muscaria\\'\\'\\n| whichGills = free\\n| capShape = flat\\n| capShape2 = convex\\n| hymeniumType=gills\\n| stipeCharacter=ring and volva\\n| ecologicalType=mycorrhizal\\n| sporePrintColor=white\\n| howEdible=poisonous \\n| howEdible2=psychoactive\\n}}\\n\\n\\'\\'\\'\\'\\'Amanita muscaria\\'\\'\\'\\'\\', commonly known as the \\'\\'\\'fly agaric\\'\\'\\' or \\'\\'\\'fly amanita\\'\\'\\',<ref name=NGSWG>{{NGSWG}}</ref> is a [[basidiomycete]] of the genus \\'\\'[[Amanita]]\\'\\'. It is also a [[muscimol mushroom]]. Native throughout the [[temperate]] and [[boreal ecosystem|boreal]] regions of the Northern Hemisphere, \\'\\'Amanita muscaria\\'\\' has been unintentionally [[introduced species|introduced]] to many countries in the Southern Hemisphere, generally as a [[symbiont]] with pine and birch plantations, and is now a true [[Cosmopolitan distribution|cosmopolitan]] species. It [[mycorrhiza|associates]] with various [[deciduous]] and [[conifer]]ous trees.\\n\\nArguably the most iconic [[toadstool]] species, the fly agaric is a large white-[[lamella (mycology)|gilled]], white-spotted, usually red mushroom, and is one of the most recognizable and widely encountered in popular culture. This includes video game design, such as the extensive use of a recognizable \\'\\'Amanita muscaria\\'\\' in the [[Mario (franchise)|Mario]] franchise and its [[Super Mushroom]] power up.<ref>{{Cite journal|url=https://www.sciencedirect.com/science/article/abs/pii/S0024320505008805|doi = 10.1016/j.lfs.2005.09.003|title = The most widely recognized mushroom: Chemistry of the genus Amanita|year = 2005|last1 = Li|first1 = Chen|last2 = Oberlies|first2 = Nicholas H.|journal = Life Sciences|volume = 78|issue = 5|pages = 532–538|pmid = 16203016}}</ref>\\n\\nDespite its easily distinguishable features, \\'\\'Amanita muscaria\\'\\' is a fungus with several known variations, or subspecies. These subspecies are slightly different, some having yellow or white caps, but they are all usually called fly agarics, and they are most of the time recognizable by their notable white spots. Recent DNA fungi research, however, has shown that some of these variations are not the same species at all, such as the [[peach-colored fly agaric]] (\\'\\'Amanita persicina\\'\\') for example, but the common name \\'fly agaric\\' clings on.\\n\\nAlthough poisonous, death due to poisoning from \\'\\'A. muscaria\\'\\' ingestion is quite rare. [[Parboiling]] twice with water draining weakens its toxicity and breaks down the mushroom\\'s psychoactive substances; it is eaten in parts of Europe, Asia, and North America. All \\'\\'Amanita muscaria\\'\\' varieties, but in particular \\'\\'A. muscaria\\'\\' var. \\'\\'muscaria\\'\\', are noted for their [[hallucinogenic]] properties, with the main psychoactive constituents being the neurotoxins [[ibotenic acid]] and [[muscimol]]. A local variety of the mushroom was used as an intoxicant and [[entheogen]] by the [[indigenous peoples of Siberia]] and by the [[Sámi]], and has a religious significance in these cultures. There has been much speculation on possible traditional use of this mushroom as an intoxicant in other places such as the Middle East, Eurasia, North America, and Scandinavia.'}]"
      ]
     },
     "execution_count": 36,
     "metadata": {},
     "output_type": "execute_result"
    }
   ],
   "source": [
    "response['query']['pages']['59385']['revisions']"
   ]
  },
  {
   "cell_type": "code",
   "execution_count": 39,
   "id": "c3342d34",
   "metadata": {},
   "outputs": [
    {
     "data": {
      "text/plain": [
       "{'contentformat': 'text/x-wiki',\n",
       " 'contentmodel': 'wikitext',\n",
       " '*': '{{short description|Species of fungus in the genus Amanita}}\\n{{use British English|date=March 2013}}\\n{{Speciesbox\\n|image = Amanita muscaria 3 vliegenzwammen op rij.jpg\\n| image_caption = Showing three stages as the mushroom matures\\n| taxon = Amanita muscaria\\n| authority = ([[Carl Linnaeus|L.]]) [[Jean-Baptiste Lamarck|Lam.]] (1783)\\n| subdivision_ranks = Subspecies and varieties\\n| subdivision = *[[Amanita muscaria var. alba|\\'\\'A. muscaria\\'\\' var. \\'\\'alba\\'\\']]\\n*[[Amanita muscaria var. flavivolvata|\\'\\'A. muscaria\\'\\' subsp. \\'\\'flavivolvata\\'\\']] Singer<ref name=\"tulloss1\"/><!-- defined by Template:Amanita variety --><ref name=\"Infraspecific Taxa\">{{cite web |title=Infraspecific taxa of muscaria |url=http://www.amanitaceae.org/?species%20muscaria |website=amanitaceae.org}}</ref>\\n*[[Amanita muscaria var. guessowii|\\'\\'A. muscaria\\'\\' var. \\'\\'guessowii\\'\\']] Veselý<ref name=\"tulloss2\"/><!-- defined by Template:Amanita variety -->\\n*[[Amanita muscaria var. inzengae|\\'\\'A. muscaria\\'\\' var. \\'\\'inzengae\\'\\']] Neville & Poumarat<ref name=\"tulloss3\"/><!-- defined by Template:Amanita variety --><ref name=\"Infraspecific Taxa\" />\\n}}\\n{{mycomorphbox\\n| name = \\'\\'Amanita muscaria\\'\\'\\n| whichGills = free\\n| capShape = flat\\n| capShape2 = convex\\n| hymeniumType=gills\\n| stipeCharacter=ring and volva\\n| ecologicalType=mycorrhizal\\n| sporePrintColor=white\\n| howEdible=poisonous \\n| howEdible2=psychoactive\\n}}\\n\\n\\'\\'\\'\\'\\'Amanita muscaria\\'\\'\\'\\'\\', commonly known as the \\'\\'\\'fly agaric\\'\\'\\' or \\'\\'\\'fly amanita\\'\\'\\',<ref name=NGSWG>{{NGSWG}}</ref> is a [[basidiomycete]] of the genus \\'\\'[[Amanita]]\\'\\'. It is also a [[muscimol mushroom]]. Native throughout the [[temperate]] and [[boreal ecosystem|boreal]] regions of the Northern Hemisphere, \\'\\'Amanita muscaria\\'\\' has been unintentionally [[introduced species|introduced]] to many countries in the Southern Hemisphere, generally as a [[symbiont]] with pine and birch plantations, and is now a true [[Cosmopolitan distribution|cosmopolitan]] species. It [[mycorrhiza|associates]] with various [[deciduous]] and [[conifer]]ous trees.\\n\\nArguably the most iconic [[toadstool]] species, the fly agaric is a large white-[[lamella (mycology)|gilled]], white-spotted, usually red mushroom, and is one of the most recognizable and widely encountered in popular culture. This includes video game design, such as the extensive use of a recognizable \\'\\'Amanita muscaria\\'\\' in the [[Mario (franchise)|Mario]] franchise and its [[Super Mushroom]] power up.<ref>{{Cite journal|url=https://www.sciencedirect.com/science/article/abs/pii/S0024320505008805|doi = 10.1016/j.lfs.2005.09.003|title = The most widely recognized mushroom: Chemistry of the genus Amanita|year = 2005|last1 = Li|first1 = Chen|last2 = Oberlies|first2 = Nicholas H.|journal = Life Sciences|volume = 78|issue = 5|pages = 532–538|pmid = 16203016}}</ref>\\n\\nDespite its easily distinguishable features, \\'\\'Amanita muscaria\\'\\' is a fungus with several known variations, or subspecies. These subspecies are slightly different, some having yellow or white caps, but they are all usually called fly agarics, and they are most of the time recognizable by their notable white spots. Recent DNA fungi research, however, has shown that some of these variations are not the same species at all, such as the [[peach-colored fly agaric]] (\\'\\'Amanita persicina\\'\\') for example, but the common name \\'fly agaric\\' clings on.\\n\\nAlthough poisonous, death due to poisoning from \\'\\'A. muscaria\\'\\' ingestion is quite rare. [[Parboiling]] twice with water draining weakens its toxicity and breaks down the mushroom\\'s psychoactive substances; it is eaten in parts of Europe, Asia, and North America. All \\'\\'Amanita muscaria\\'\\' varieties, but in particular \\'\\'A. muscaria\\'\\' var. \\'\\'muscaria\\'\\', are noted for their [[hallucinogenic]] properties, with the main psychoactive constituents being the neurotoxins [[ibotenic acid]] and [[muscimol]]. A local variety of the mushroom was used as an intoxicant and [[entheogen]] by the [[indigenous peoples of Siberia]] and by the [[Sámi]], and has a religious significance in these cultures. There has been much speculation on possible traditional use of this mushroom as an intoxicant in other places such as the Middle East, Eurasia, North America, and Scandinavia.'}"
      ]
     },
     "execution_count": 39,
     "metadata": {},
     "output_type": "execute_result"
    }
   ],
   "source": [
    "response['query']['pages']['59385']['revisions'][0]"
   ]
  },
  {
   "cell_type": "code",
   "execution_count": 40,
   "id": "226a23fe",
   "metadata": {},
   "outputs": [
    {
     "data": {
      "text/plain": [
       "'{{short description|Species of fungus in the genus Amanita}}\\n{{use British English|date=March 2013}}\\n{{Speciesbox\\n|image = Amanita muscaria 3 vliegenzwammen op rij.jpg\\n| image_caption = Showing three stages as the mushroom matures\\n| taxon = Amanita muscaria\\n| authority = ([[Carl Linnaeus|L.]]) [[Jean-Baptiste Lamarck|Lam.]] (1783)\\n| subdivision_ranks = Subspecies and varieties\\n| subdivision = *[[Amanita muscaria var. alba|\\'\\'A. muscaria\\'\\' var. \\'\\'alba\\'\\']]\\n*[[Amanita muscaria var. flavivolvata|\\'\\'A. muscaria\\'\\' subsp. \\'\\'flavivolvata\\'\\']] Singer<ref name=\"tulloss1\"/><!-- defined by Template:Amanita variety --><ref name=\"Infraspecific Taxa\">{{cite web |title=Infraspecific taxa of muscaria |url=http://www.amanitaceae.org/?species%20muscaria |website=amanitaceae.org}}</ref>\\n*[[Amanita muscaria var. guessowii|\\'\\'A. muscaria\\'\\' var. \\'\\'guessowii\\'\\']] Veselý<ref name=\"tulloss2\"/><!-- defined by Template:Amanita variety -->\\n*[[Amanita muscaria var. inzengae|\\'\\'A. muscaria\\'\\' var. \\'\\'inzengae\\'\\']] Neville & Poumarat<ref name=\"tulloss3\"/><!-- defined by Template:Amanita variety --><ref name=\"Infraspecific Taxa\" />\\n}}\\n{{mycomorphbox\\n| name = \\'\\'Amanita muscaria\\'\\'\\n| whichGills = free\\n| capShape = flat\\n| capShape2 = convex\\n| hymeniumType=gills\\n| stipeCharacter=ring and volva\\n| ecologicalType=mycorrhizal\\n| sporePrintColor=white\\n| howEdible=poisonous \\n| howEdible2=psychoactive\\n}}\\n\\n\\'\\'\\'\\'\\'Amanita muscaria\\'\\'\\'\\'\\', commonly known as the \\'\\'\\'fly agaric\\'\\'\\' or \\'\\'\\'fly amanita\\'\\'\\',<ref name=NGSWG>{{NGSWG}}</ref> is a [[basidiomycete]] of the genus \\'\\'[[Amanita]]\\'\\'. It is also a [[muscimol mushroom]]. Native throughout the [[temperate]] and [[boreal ecosystem|boreal]] regions of the Northern Hemisphere, \\'\\'Amanita muscaria\\'\\' has been unintentionally [[introduced species|introduced]] to many countries in the Southern Hemisphere, generally as a [[symbiont]] with pine and birch plantations, and is now a true [[Cosmopolitan distribution|cosmopolitan]] species. It [[mycorrhiza|associates]] with various [[deciduous]] and [[conifer]]ous trees.\\n\\nArguably the most iconic [[toadstool]] species, the fly agaric is a large white-[[lamella (mycology)|gilled]], white-spotted, usually red mushroom, and is one of the most recognizable and widely encountered in popular culture. This includes video game design, such as the extensive use of a recognizable \\'\\'Amanita muscaria\\'\\' in the [[Mario (franchise)|Mario]] franchise and its [[Super Mushroom]] power up.<ref>{{Cite journal|url=https://www.sciencedirect.com/science/article/abs/pii/S0024320505008805|doi = 10.1016/j.lfs.2005.09.003|title = The most widely recognized mushroom: Chemistry of the genus Amanita|year = 2005|last1 = Li|first1 = Chen|last2 = Oberlies|first2 = Nicholas H.|journal = Life Sciences|volume = 78|issue = 5|pages = 532–538|pmid = 16203016}}</ref>\\n\\nDespite its easily distinguishable features, \\'\\'Amanita muscaria\\'\\' is a fungus with several known variations, or subspecies. These subspecies are slightly different, some having yellow or white caps, but they are all usually called fly agarics, and they are most of the time recognizable by their notable white spots. Recent DNA fungi research, however, has shown that some of these variations are not the same species at all, such as the [[peach-colored fly agaric]] (\\'\\'Amanita persicina\\'\\') for example, but the common name \\'fly agaric\\' clings on.\\n\\nAlthough poisonous, death due to poisoning from \\'\\'A. muscaria\\'\\' ingestion is quite rare. [[Parboiling]] twice with water draining weakens its toxicity and breaks down the mushroom\\'s psychoactive substances; it is eaten in parts of Europe, Asia, and North America. All \\'\\'Amanita muscaria\\'\\' varieties, but in particular \\'\\'A. muscaria\\'\\' var. \\'\\'muscaria\\'\\', are noted for their [[hallucinogenic]] properties, with the main psychoactive constituents being the neurotoxins [[ibotenic acid]] and [[muscimol]]. A local variety of the mushroom was used as an intoxicant and [[entheogen]] by the [[indigenous peoples of Siberia]] and by the [[Sámi]], and has a religious significance in these cultures. There has been much speculation on possible traditional use of this mushroom as an intoxicant in other places such as the Middle East, Eurasia, North America, and Scandinavia.'"
      ]
     },
     "execution_count": 40,
     "metadata": {},
     "output_type": "execute_result"
    }
   ],
   "source": [
    "response['query']['pages']['59385']['revisions'][0]['*']"
   ]
  },
  {
   "cell_type": "code",
   "execution_count": 41,
   "id": "b1cf0e2e",
   "metadata": {},
   "outputs": [
    {
     "data": {
      "text/plain": [
       "str"
      ]
     },
     "execution_count": 41,
     "metadata": {},
     "output_type": "execute_result"
    }
   ],
   "source": [
    "type(response['query']['pages']['59385']['revisions'][0]['*'])"
   ]
  },
  {
   "cell_type": "code",
   "execution_count": 42,
   "id": "3e343a30",
   "metadata": {},
   "outputs": [
    {
     "name": "stdout",
     "output_type": "stream",
     "text": [
      "{{short description|Species of fungus in the genus Amanita}}\n",
      "{{use British English|date=March 2013}}\n",
      "{{Speciesbox\n",
      "|image = Amanita muscaria 3 vliegenzwammen op rij.jpg\n",
      "| image_caption = Showing three stages as the mushroom matures\n",
      "| taxon = Amanita muscaria\n",
      "| authority = ([[Carl Linnaeus|L.]]) [[Jean-Baptiste Lamarck|Lam.]] (1783)\n",
      "| subdivision_ranks = Subspecies and varieties\n",
      "| subdivision = *[[Amanita muscaria var. alba|''A. muscaria'' var. ''alba'']]\n",
      "*[[Amanita muscaria var. flavivolvata|''A. muscaria'' subsp. ''flavivolvata'']] Singer<ref name=\"tulloss1\"/><!-- defined by Template:Amanita variety --><ref name=\"Infraspecific Taxa\">{{cite web |title=Infraspecific taxa of muscaria |url=http://www.amanitaceae.org/?species%20muscaria |website=amanitaceae.org}}</ref>\n",
      "*[[Amanita muscaria var. guessowii|''A. muscaria'' var. ''guessowii'']] Veselý<ref name=\"tulloss2\"/><!-- defined by Template:Amanita variety -->\n",
      "*[[Amanita muscaria var. inzengae|''A. muscaria'' var. ''inzengae'']] Neville & Poumarat<ref name=\"tulloss3\"/><!-- defined by Template:Amanita variety --><ref name=\"Infraspecific Taxa\" />\n",
      "}}\n",
      "{{mycomorphbox\n",
      "| name = ''Amanita muscaria''\n",
      "| whichGills = free\n",
      "| capShape = flat\n",
      "| capShape2 = convex\n",
      "| hymeniumType=gills\n",
      "| stipeCharacter=ring and volva\n",
      "| ecologicalType=mycorrhizal\n",
      "| sporePrintColor=white\n",
      "| howEdible=poisonous \n",
      "| howEdible2=psychoactive\n",
      "}}\n",
      "\n",
      "'''''Amanita muscaria''''', commonly known as the '''fly agaric''' or '''fly amanita''',<ref name=NGSWG>{{NGSWG}}</ref> is a [[basidiomycete]] of the genus ''[[Amanita]]''. It is also a [[muscimol mushroom]]. Native throughout the [[temperate]] and [[boreal ecosystem|boreal]] regions of the Northern Hemisphere, ''Amanita muscaria'' has been unintentionally [[introduced species|introduced]] to many countries in the Southern Hemisphere, generally as a [[symbiont]] with pine and birch plantations, and is now a true [[Cosmopolitan distribution|cosmopolitan]] species. It [[mycorrhiza|associates]] with various [[deciduous]] and [[conifer]]ous trees.\n",
      "\n",
      "Arguably the most iconic [[toadstool]] species, the fly agaric is a large white-[[lamella (mycology)|gilled]], white-spotted, usually red mushroom, and is one of the most recognizable and widely encountered in popular culture. This includes video game design, such as the extensive use of a recognizable ''Amanita muscaria'' in the [[Mario (franchise)|Mario]] franchise and its [[Super Mushroom]] power up.<ref>{{Cite journal|url=https://www.sciencedirect.com/science/article/abs/pii/S0024320505008805|doi = 10.1016/j.lfs.2005.09.003|title = The most widely recognized mushroom: Chemistry of the genus Amanita|year = 2005|last1 = Li|first1 = Chen|last2 = Oberlies|first2 = Nicholas H.|journal = Life Sciences|volume = 78|issue = 5|pages = 532–538|pmid = 16203016}}</ref>\n",
      "\n",
      "Despite its easily distinguishable features, ''Amanita muscaria'' is a fungus with several known variations, or subspecies. These subspecies are slightly different, some having yellow or white caps, but they are all usually called fly agarics, and they are most of the time recognizable by their notable white spots. Recent DNA fungi research, however, has shown that some of these variations are not the same species at all, such as the [[peach-colored fly agaric]] (''Amanita persicina'') for example, but the common name 'fly agaric' clings on.\n",
      "\n",
      "Although poisonous, death due to poisoning from ''A. muscaria'' ingestion is quite rare. [[Parboiling]] twice with water draining weakens its toxicity and breaks down the mushroom's psychoactive substances; it is eaten in parts of Europe, Asia, and North America. All ''Amanita muscaria'' varieties, but in particular ''A. muscaria'' var. ''muscaria'', are noted for their [[hallucinogenic]] properties, with the main psychoactive constituents being the neurotoxins [[ibotenic acid]] and [[muscimol]]. A local variety of the mushroom was used as an intoxicant and [[entheogen]] by the [[indigenous peoples of Siberia]] and by the [[Sámi]], and has a religious significance in these cultures. There has been much speculation on possible traditional use of this mushroom as an intoxicant in other places such as the Middle East, Eurasia, North America, and Scandinavia.\n"
     ]
    }
   ],
   "source": [
    "print(response['query']['pages']['59385']['revisions'][0]['*'])"
   ]
  },
  {
   "cell_type": "code",
   "execution_count": 43,
   "id": "892b3f95",
   "metadata": {},
   "outputs": [
    {
     "data": {
      "text/plain": [
       "['{{short description|Species of fungus in the genus Amanita}}',\n",
       " '{{use British English|date=March 2013}}',\n",
       " '{{Speciesbox',\n",
       " '|image = Amanita muscaria 3 vliegenzwammen op rij.jpg',\n",
       " '| image_caption = Showing three stages as the mushroom matures',\n",
       " '| taxon = Amanita muscaria',\n",
       " '| authority = ([[Carl Linnaeus|L.]]) [[Jean-Baptiste Lamarck|Lam.]] (1783)',\n",
       " '| subdivision_ranks = Subspecies and varieties',\n",
       " \"| subdivision = *[[Amanita muscaria var. alba|''A. muscaria'' var. ''alba'']]\",\n",
       " '*[[Amanita muscaria var. flavivolvata|\\'\\'A. muscaria\\'\\' subsp. \\'\\'flavivolvata\\'\\']] Singer<ref name=\"tulloss1\"/><!-- defined by Template:Amanita variety --><ref name=\"Infraspecific Taxa\">{{cite web |title=Infraspecific taxa of muscaria |url=http://www.amanitaceae.org/?species%20muscaria |website=amanitaceae.org}}</ref>',\n",
       " '*[[Amanita muscaria var. guessowii|\\'\\'A. muscaria\\'\\' var. \\'\\'guessowii\\'\\']] Veselý<ref name=\"tulloss2\"/><!-- defined by Template:Amanita variety -->',\n",
       " '*[[Amanita muscaria var. inzengae|\\'\\'A. muscaria\\'\\' var. \\'\\'inzengae\\'\\']] Neville & Poumarat<ref name=\"tulloss3\"/><!-- defined by Template:Amanita variety --><ref name=\"Infraspecific Taxa\" />',\n",
       " '}}',\n",
       " '{{mycomorphbox',\n",
       " \"| name = ''Amanita muscaria''\",\n",
       " '| whichGills = free',\n",
       " '| capShape = flat',\n",
       " '| capShape2 = convex',\n",
       " '| hymeniumType=gills',\n",
       " '| stipeCharacter=ring and volva',\n",
       " '| ecologicalType=mycorrhizal',\n",
       " '| sporePrintColor=white',\n",
       " '| howEdible=poisonous ',\n",
       " '| howEdible2=psychoactive',\n",
       " '}}',\n",
       " '',\n",
       " \"'''''Amanita muscaria''''', commonly known as the '''fly agaric''' or '''fly amanita''',<ref name=NGSWG>{{NGSWG}}</ref> is a [[basidiomycete]] of the genus ''[[Amanita]]''. It is also a [[muscimol mushroom]]. Native throughout the [[temperate]] and [[boreal ecosystem|boreal]] regions of the Northern Hemisphere, ''Amanita muscaria'' has been unintentionally [[introduced species|introduced]] to many countries in the Southern Hemisphere, generally as a [[symbiont]] with pine and birch plantations, and is now a true [[Cosmopolitan distribution|cosmopolitan]] species. It [[mycorrhiza|associates]] with various [[deciduous]] and [[conifer]]ous trees.\",\n",
       " '',\n",
       " \"Arguably the most iconic [[toadstool]] species, the fly agaric is a large white-[[lamella (mycology)|gilled]], white-spotted, usually red mushroom, and is one of the most recognizable and widely encountered in popular culture. This includes video game design, such as the extensive use of a recognizable ''Amanita muscaria'' in the [[Mario (franchise)|Mario]] franchise and its [[Super Mushroom]] power up.<ref>{{Cite journal|url=https://www.sciencedirect.com/science/article/abs/pii/S0024320505008805|doi = 10.1016/j.lfs.2005.09.003|title = The most widely recognized mushroom: Chemistry of the genus Amanita|year = 2005|last1 = Li|first1 = Chen|last2 = Oberlies|first2 = Nicholas H.|journal = Life Sciences|volume = 78|issue = 5|pages = 532–538|pmid = 16203016}}</ref>\",\n",
       " '',\n",
       " \"Despite its easily distinguishable features, ''Amanita muscaria'' is a fungus with several known variations, or subspecies. These subspecies are slightly different, some having yellow or white caps, but they are all usually called fly agarics, and they are most of the time recognizable by their notable white spots. Recent DNA fungi research, however, has shown that some of these variations are not the same species at all, such as the [[peach-colored fly agaric]] (''Amanita persicina'') for example, but the common name 'fly agaric' clings on.\",\n",
       " '',\n",
       " \"Although poisonous, death due to poisoning from ''A. muscaria'' ingestion is quite rare. [[Parboiling]] twice with water draining weakens its toxicity and breaks down the mushroom's psychoactive substances; it is eaten in parts of Europe, Asia, and North America. All ''Amanita muscaria'' varieties, but in particular ''A. muscaria'' var. ''muscaria'', are noted for their [[hallucinogenic]] properties, with the main psychoactive constituents being the neurotoxins [[ibotenic acid]] and [[muscimol]]. A local variety of the mushroom was used as an intoxicant and [[entheogen]] by the [[indigenous peoples of Siberia]] and by the [[Sámi]], and has a religious significance in these cultures. There has been much speculation on possible traditional use of this mushroom as an intoxicant in other places such as the Middle East, Eurasia, North America, and Scandinavia.\"]"
      ]
     },
     "execution_count": 43,
     "metadata": {},
     "output_type": "execute_result"
    }
   ],
   "source": [
    "response['query']['pages']['59385']['revisions'][0]['*'].split('\\n')"
   ]
  },
  {
   "cell_type": "code",
   "execution_count": 44,
   "id": "afc7e0c1",
   "metadata": {},
   "outputs": [],
   "source": [
    "lines=response['query']['pages']['59385']['revisions'][0]['*'].split('\\n')"
   ]
  },
  {
   "cell_type": "code",
   "execution_count": 45,
   "id": "f689c3aa",
   "metadata": {},
   "outputs": [
    {
     "name": "stdout",
     "output_type": "stream",
     "text": [
      "| howEdible=poisonous \n"
     ]
    }
   ],
   "source": [
    "for line in lines:\n",
    "    if 'howEdible=' in line:\n",
    "        print(line)"
   ]
  },
  {
   "cell_type": "code",
   "execution_count": 46,
   "id": "b80e3886",
   "metadata": {},
   "outputs": [
    {
     "name": "stdout",
     "output_type": "stream",
     "text": [
      "| howEdible2=psychoactive\n"
     ]
    }
   ],
   "source": [
    "for line in lines:\n",
    "    if 'howEdible2=' in line:\n",
    "        print(line)"
   ]
  },
  {
   "cell_type": "code",
   "execution_count": 49,
   "id": "6583f621",
   "metadata": {},
   "outputs": [
    {
     "name": "stdout",
     "output_type": "stream",
     "text": [
      "The deets are at Mycomorphbox\n"
     ]
    }
   ],
   "source": [
    "print('The deets are at Mycomorphbox')"
   ]
  },
  {
   "cell_type": "code",
   "execution_count": null,
   "id": "61c7b933",
   "metadata": {},
   "outputs": [],
   "source": []
  }
 ],
 "metadata": {
  "kernelspec": {
   "display_name": "Python 3 (ipykernel)",
   "language": "python",
   "name": "python3"
  },
  "language_info": {
   "codemirror_mode": {
    "name": "ipython",
    "version": 3
   },
   "file_extension": ".py",
   "mimetype": "text/x-python",
   "name": "python",
   "nbconvert_exporter": "python",
   "pygments_lexer": "ipython3",
   "version": "3.8.12"
  },
  "toc": {
   "base_numbering": 1,
   "nav_menu": {},
   "number_sections": true,
   "sideBar": true,
   "skip_h1_title": false,
   "title_cell": "Table of Contents",
   "title_sidebar": "Contents",
   "toc_cell": false,
   "toc_position": {},
   "toc_section_display": true,
   "toc_window_display": false
  }
 },
 "nbformat": 4,
 "nbformat_minor": 5
}
