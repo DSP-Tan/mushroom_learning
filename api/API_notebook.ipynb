{
 "cells": [
  {
   "cell_type": "code",
   "execution_count": 31,
   "metadata": {},
   "outputs": [],
   "source": [
    "import requests\n",
    "import os\n",
    "import numpy as np\n",
    "import pathlib\n",
    "\n",
    "\n",
    "import tensorflow as tf\n",
    "import cv2        as cv\n",
    "import numpy      as np\n",
    "\n",
    "from fastapi                  import FastAPI,File, UploadFile\n",
    "from fastapi.middleware.cors  import CORSMiddleware\n",
    "from mushroom_learning.gcp    import get_model\n",
    "\n",
    "from tensorflow               import keras\n",
    "from tensorflow.keras         import utils\n"
   ]
  },
  {
   "cell_type": "markdown",
   "metadata": {},
   "source": [
    "# Checking API"
   ]
  },
  {
   "cell_type": "code",
   "execution_count": 38,
   "metadata": {},
   "outputs": [],
   "source": [
    "URL_base    = 'http://127.0.0.1:8000/'\n",
    "URL_size    = URL_base+\"size/\"\n",
    "URL_predict = URL_base+\"predict/\""
   ]
  },
  {
   "cell_type": "markdown",
   "metadata": {},
   "source": [
    "## Check base URL"
   ]
  },
  {
   "cell_type": "code",
   "execution_count": 39,
   "metadata": {},
   "outputs": [
    {
     "name": "stdout",
     "output_type": "stream",
     "text": [
      "[\"Don't eat that mushroom!\"]\n"
     ]
    }
   ],
   "source": [
    "response = requests.get(URL_base)\n",
    "print(response.json())"
   ]
  },
  {
   "cell_type": "markdown",
   "metadata": {},
   "source": [
    "## Check image size"
   ]
  },
  {
   "cell_type": "code",
   "execution_count": 81,
   "metadata": {},
   "outputs": [],
   "source": [
    "image_path='../raw_data/Six_Species_Clean/10252_Amanita_muscaria/YE2013PIC18948304.JPG'\n",
    "files = {'mush': image_path  }"
   ]
  },
  {
   "cell_type": "code",
   "execution_count": 82,
   "metadata": {},
   "outputs": [
    {
     "name": "stdout",
     "output_type": "stream",
     "text": [
      "This file is 0.074 Kbytes\n"
     ]
    }
   ],
   "source": [
    "response = requests.get(URL_size,data=files)\n",
    "print(response.json())"
   ]
  },
  {
   "cell_type": "markdown",
   "metadata": {},
   "source": [
    "## Check prediction"
   ]
  },
  {
   "cell_type": "code",
   "execution_count": 83,
   "metadata": {
    "scrolled": true
   },
   "outputs": [
    {
     "name": "stdout",
     "output_type": "stream",
     "text": [
      "This mushroom is most likely poisonous. Score: 0.64\n"
     ]
    }
   ],
   "source": [
    "files = {'mush': image_path}\n",
    "response = requests.get(URL_predict,data=files)\n",
    "print(response.json())"
   ]
  }
 ],
 "metadata": {
  "kernelspec": {
   "display_name": "Python 3 (ipykernel)",
   "language": "python",
   "name": "python3"
  },
  "language_info": {
   "codemirror_mode": {
    "name": "ipython",
    "version": 3
   },
   "file_extension": ".py",
   "mimetype": "text/x-python",
   "name": "python",
   "nbconvert_exporter": "python",
   "pygments_lexer": "ipython3",
   "version": "3.8.12"
  },
  "toc": {
   "base_numbering": 1,
   "nav_menu": {},
   "number_sections": true,
   "sideBar": true,
   "skip_h1_title": false,
   "title_cell": "Table of Contents",
   "title_sidebar": "Contents",
   "toc_cell": false,
   "toc_position": {},
   "toc_section_display": true,
   "toc_window_display": false
  }
 },
 "nbformat": 4,
 "nbformat_minor": 4
}
