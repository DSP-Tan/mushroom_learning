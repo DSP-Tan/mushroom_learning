{
 "cells": [
  {
   "cell_type": "code",
   "execution_count": 38,
   "id": "638ade16-f4d0-402e-bd57-9ea8cf17944f",
   "metadata": {},
   "outputs": [
    {
     "name": "stdout",
     "output_type": "stream",
     "text": [
      "sinuate.jpeg\n",
      "emarginate.jpeg\n",
      "adnexed.jpeg\n",
      "umbonate.jpeg\n",
      "decurrent.jpeg\n",
      "free.jpeg\n",
      "no.jpeg\n",
      "conical.jpeg\n",
      "seceding.jpeg\n",
      "adnate.jpeg\n",
      "inedible.jpeg\n",
      "bell-Shaped.jpeg\n",
      "subdecurrent.jpeg\n",
      "psychoactive.jpeg\n",
      "flat.jpeg\n",
      "convex.jpeg\n",
      "deadly.jpeg\n",
      "hemispherical.jpeg\n",
      "choice.jpeg\n"
     ]
    },
    {
     "ename": "UnidentifiedImageError",
     "evalue": "cannot identify image file '/Users/burty/code/DSP-Tan/mushroom_learning/app/Wiki_images/choice.jpeg'",
     "output_type": "error",
     "traceback": [
      "\u001b[0;31m---------------------------------------------------------------------------\u001b[0m",
      "\u001b[0;31mUnidentifiedImageError\u001b[0m                    Traceback (most recent call last)",
      "Input \u001b[0;32mIn [38]\u001b[0m, in \u001b[0;36m<cell line: 20>\u001b[0;34m()\u001b[0m\n\u001b[1;32m     16\u001b[0m             im\u001b[38;5;241m.\u001b[39mthumbnail(size)\n\u001b[1;32m     17\u001b[0m             im\u001b[38;5;241m.\u001b[39msave(path\u001b[38;5;241m+\u001b[39m\u001b[38;5;28mstr\u001b[39m(item))\n\u001b[0;32m---> 20\u001b[0m \u001b[43mresize\u001b[49m\u001b[43m(\u001b[49m\u001b[43m)\u001b[49m\n",
      "Input \u001b[0;32mIn [38]\u001b[0m, in \u001b[0;36mresize\u001b[0;34m()\u001b[0m\n\u001b[1;32m     12\u001b[0m \u001b[38;5;28;01melse\u001b[39;00m:\n\u001b[1;32m     13\u001b[0m     \u001b[38;5;28mprint\u001b[39m(item)\n\u001b[0;32m---> 14\u001b[0m     im \u001b[38;5;241m=\u001b[39m \u001b[43mImage\u001b[49m\u001b[38;5;241;43m.\u001b[39;49m\u001b[43mopen\u001b[49m\u001b[43m(\u001b[49m\u001b[43mpath\u001b[49m\u001b[38;5;241;43m+\u001b[39;49m\u001b[38;5;28;43mstr\u001b[39;49m\u001b[43m(\u001b[49m\u001b[43mitem\u001b[49m\u001b[43m)\u001b[49m\u001b[43m)\u001b[49m\n\u001b[1;32m     16\u001b[0m     im\u001b[38;5;241m.\u001b[39mthumbnail(size)\n\u001b[1;32m     17\u001b[0m     im\u001b[38;5;241m.\u001b[39msave(path\u001b[38;5;241m+\u001b[39m\u001b[38;5;28mstr\u001b[39m(item))\n",
      "File \u001b[0;32m~/.pyenv/versions/3.8.12/envs/mushroom_learning/lib/python3.8/site-packages/PIL/Image.py:3008\u001b[0m, in \u001b[0;36mopen\u001b[0;34m(fp, mode, formats)\u001b[0m\n\u001b[1;32m   3006\u001b[0m \u001b[38;5;28;01mfor\u001b[39;00m message \u001b[38;5;129;01min\u001b[39;00m accept_warnings:\n\u001b[1;32m   3007\u001b[0m     warnings\u001b[38;5;241m.\u001b[39mwarn(message)\n\u001b[0;32m-> 3008\u001b[0m \u001b[38;5;28;01mraise\u001b[39;00m UnidentifiedImageError(\n\u001b[1;32m   3009\u001b[0m     \u001b[38;5;124m\"\u001b[39m\u001b[38;5;124mcannot identify image file \u001b[39m\u001b[38;5;132;01m%r\u001b[39;00m\u001b[38;5;124m\"\u001b[39m \u001b[38;5;241m%\u001b[39m (filename \u001b[38;5;28;01mif\u001b[39;00m filename \u001b[38;5;28;01melse\u001b[39;00m fp)\n\u001b[1;32m   3010\u001b[0m )\n",
      "\u001b[0;31mUnidentifiedImageError\u001b[0m: cannot identify image file '/Users/burty/code/DSP-Tan/mushroom_learning/app/Wiki_images/choice.jpeg'"
     ]
    }
   ],
   "source": [
    "\n",
    "#!/usr/bin/python\n",
    "from PIL import Image\n",
    "import os, sys\n",
    "\n",
    "path = \"/Users/burty/code/DSP-Tan/mushroom_learning/app/Wiki_images/\"\n",
    "dirs = os.listdir( path )\n",
    "size =125,125\n",
    "def resize():\n",
    "    for item in dirs:\n",
    "        if item == \".ipynb_checkpoints\":\n",
    "            pass\n",
    "        else:\n",
    "            print(item)\n",
    "            im = Image.open(path+str(item))\n",
    "\n",
    "            im.thumbnail(size)\n",
    "            im.save(path+str(item))\n",
    "       \n",
    "\n",
    "resize()"
   ]
  },
  {
   "cell_type": "code",
   "execution_count": 33,
   "id": "571e214f-e7be-4584-8263-6ed26c6e4cc5",
   "metadata": {},
   "outputs": [],
   "source": [
    "im = Image.open(path+'sinuate.jpeg')\n",
    "        \n",
    "im.thumbnail(size)\n",
    "im.save(path+'sinuate.jpeg')"
   ]
  },
  {
   "cell_type": "code",
   "execution_count": null,
   "id": "62c12c05-be18-4e5f-983c-75b45fa4795b",
   "metadata": {},
   "outputs": [],
   "source": [
    " if os.path.isfile(path+item):\n",
    "            im = Image.open(path+item)\n",
    "            f, e = os.path.splitext(path+item)\n",
    "            imResize = im.resize((200,200), Image.ANTIALIAS)\n",
    "            imResize.save(f + ' resized.jpg', 'JPEG', quality=90)"
   ]
  }
 ],
 "metadata": {
  "kernelspec": {
   "display_name": "Python 3 (ipykernel)",
   "language": "python",
   "name": "python3"
  },
  "language_info": {
   "codemirror_mode": {
    "name": "ipython",
    "version": 3
   },
   "file_extension": ".py",
   "mimetype": "text/x-python",
   "name": "python",
   "nbconvert_exporter": "python",
   "pygments_lexer": "ipython3",
   "version": "3.8.12"
  }
 },
 "nbformat": 4,
 "nbformat_minor": 5
}
