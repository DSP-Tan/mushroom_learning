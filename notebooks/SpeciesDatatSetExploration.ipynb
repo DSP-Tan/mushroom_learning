{
 "cells": [
  {
   "cell_type": "code",
   "execution_count": 2,
   "id": "4cc2cc4d",
   "metadata": {},
   "outputs": [],
   "source": [
    "import matplotlib.pyplot as plt\n",
    "import numpy as np\n",
    "import pandas as pd\n",
    "import os\n",
    "import PIL\n",
    "import tensorflow as tf\n",
    "\n",
    "from tensorflow import keras\n",
    "from tensorflow.keras import layers\n",
    "from tensorflow.keras.models import Sequential\n",
    "\n",
    "import pathlib"
   ]
  },
  {
   "cell_type": "code",
   "execution_count": 3,
   "id": "4f5fd0eb",
   "metadata": {},
   "outputs": [],
   "source": [
    "# Api imports\n",
    "import requests"
   ]
  },
  {
   "cell_type": "code",
   "execution_count": 4,
   "id": "506f8b9c",
   "metadata": {},
   "outputs": [],
   "source": [
    "import pathlib\n",
    "\n",
    "\n",
    "def get_images_directory(directory):\n",
    "    data_dir = pathlib.Path(directory)\n",
    "    return data_dir"
   ]
  },
  {
   "cell_type": "markdown",
   "id": "761c4a23",
   "metadata": {},
   "source": [
    "# Look at directory"
   ]
  },
  {
   "cell_type": "code",
   "execution_count": 5,
   "id": "8eb9254b",
   "metadata": {},
   "outputs": [
    {
     "name": "stderr",
     "output_type": "stream",
     "text": [
      "'pwd' is not recognized as an internal or external command,\n",
      "operable program or batch file.\n"
     ]
    }
   ],
   "source": [
    "! pwd"
   ]
  },
  {
   "cell_type": "code",
   "execution_count": 6,
   "id": "b3ca969a",
   "metadata": {
    "collapsed": true
   },
   "outputs": [
    {
     "name": "stderr",
     "output_type": "stream",
     "text": [
      "'ls' is not recognized as an internal or external command,\n",
      "operable program or batch file.\n"
     ]
    }
   ],
   "source": [
    "! ls -rtlh ../raw_data/fungi_identification/images/"
   ]
  },
  {
   "cell_type": "markdown",
   "id": "afdc731e",
   "metadata": {},
   "source": [
    "## Find number of species"
   ]
  },
  {
   "cell_type": "markdown",
   "id": "6037448e",
   "metadata": {},
   "source": [
    "### linux method"
   ]
  },
  {
   "cell_type": "code",
   "execution_count": 7,
   "id": "329e9c3e",
   "metadata": {},
   "outputs": [
    {
     "name": "stderr",
     "output_type": "stream",
     "text": [
      "'wc' is not recognized as an internal or external command,\n",
      "operable program or batch file.\n"
     ]
    }
   ],
   "source": [
    "ls -rtlh ../raw_data/fungi_identification/images/ | wc"
   ]
  },
  {
   "cell_type": "code",
   "execution_count": 8,
   "id": "5adfb38b",
   "metadata": {},
   "outputs": [],
   "source": [
    "num_species=1395"
   ]
  },
  {
   "cell_type": "markdown",
   "id": "f28a84b9",
   "metadata": {},
   "source": [
    "### Python method"
   ]
  },
  {
   "cell_type": "code",
   "execution_count": 9,
   "id": "2be989b4",
   "metadata": {},
   "outputs": [
    {
     "ename": "FileNotFoundError",
     "evalue": "[WinError 3] The system cannot find the path specified: '../raw_data/fungi_identification/images/'",
     "output_type": "error",
     "traceback": [
      "\u001b[1;31m---------------------------------------------------------------------------\u001b[0m",
      "\u001b[1;31mFileNotFoundError\u001b[0m                         Traceback (most recent call last)",
      "\u001b[1;32m\\Ubuntu\\home\\stella\\code\\DSP-Tan\\mushroom_learning\\notebooks\\SpeciesDatatSetExploration.ipynb Cell 12'\u001b[0m in \u001b[0;36m<cell line: 6>\u001b[1;34m()\u001b[0m\n\u001b[0;32m      <a href='vscode-notebook-cell://wsl%24/Ubuntu/home/stella/code/DSP-Tan/mushroom_learning/notebooks/SpeciesDatatSetExploration.ipynb#ch0000011?line=2'>3</a>\u001b[0m path_to_imgs\u001b[39m=\u001b[39m\u001b[39m'\u001b[39m\u001b[39m../raw_data/fungi_identification/images/\u001b[39m\u001b[39m'\u001b[39m\n\u001b[0;32m      <a href='vscode-notebook-cell://wsl%24/Ubuntu/home/stella/code/DSP-Tan/mushroom_learning/notebooks/SpeciesDatatSetExploration.ipynb#ch0000011?line=4'>5</a>\u001b[0m \u001b[39m# listing directories\u001b[39;00m\n\u001b[1;32m----> <a href='vscode-notebook-cell://wsl%24/Ubuntu/home/stella/code/DSP-Tan/mushroom_learning/notebooks/SpeciesDatatSetExploration.ipynb#ch0000011?line=5'>6</a>\u001b[0m species_dir_list\u001b[39m=\u001b[39mos\u001b[39m.\u001b[39mlistdir(path_to_imgs)\n",
      "\u001b[1;31mFileNotFoundError\u001b[0m: [WinError 3] The system cannot find the path specified: '../raw_data/fungi_identification/images/'"
     ]
    }
   ],
   "source": [
    "import os, sys\n",
    "\n",
    "path_to_imgs='../raw_data/fungi_identification/images/'\n",
    "\n",
    "# listing directories\n",
    "species_dir_list=os.listdir(path_to_imgs)\n",
    "\n",
    "# renaming directory \n",
    "#os.rename(\"old_name\",\"new_name\")\n",
    "# you can list again after if you like"
   ]
  },
  {
   "cell_type": "code",
   "execution_count": null,
   "id": "83fd2d27",
   "metadata": {},
   "outputs": [],
   "source": [
    "species_dir_list[1]"
   ]
  },
  {
   "cell_type": "markdown",
   "id": "75f63fd0",
   "metadata": {},
   "source": [
    "#### check for spaces in names"
   ]
  },
  {
   "cell_type": "code",
   "execution_count": null,
   "id": "5ac62375",
   "metadata": {},
   "outputs": [],
   "source": [
    "for i in species_dir_list:\n",
    "    if ' ' in i:\n",
    "        print(i)"
   ]
  },
  {
   "cell_type": "markdown",
   "id": "f99ec072",
   "metadata": {},
   "source": [
    "**There are none**"
   ]
  },
  {
   "cell_type": "markdown",
   "id": "98895804",
   "metadata": {},
   "source": [
    "#### Get rid of spaces in directory names"
   ]
  },
  {
   "cell_type": "code",
   "execution_count": null,
   "id": "81cbdeec",
   "metadata": {},
   "outputs": [],
   "source": [
    "for i in species_list:\n",
    "    if ' ' in i:\n",
    "        mytable = i.maketrans(\" \", \"_\")\n",
    "        i_new=i.translate(mytable)\n",
    "        os.rename(path_to_imgs+i,path_to_imgs+i_new)"
   ]
  },
  {
   "cell_type": "code",
   "execution_count": null,
   "id": "ea94bf87",
   "metadata": {},
   "outputs": [],
   "source": [
    "#### Count number of species"
   ]
  },
  {
   "cell_type": "code",
   "execution_count": null,
   "id": "5931bbd1",
   "metadata": {},
   "outputs": [],
   "source": [
    "print(f'We have {len(species_dir_list)} different species')"
   ]
  },
  {
   "cell_type": "code",
   "execution_count": null,
   "id": "3e49b3be",
   "metadata": {},
   "outputs": [],
   "source": [
    "def find_species(species_name,species_list):\n",
    "    '''\n",
    "    This takes a species name as a string, which should have an _ between the genus and species,\n",
    "    and returns its containing directory to you. It must \n",
    "    '''\n",
    "    for i in species_list:\n",
    "        if species_name.lower() in i.lower():\n",
    "            return path_to_imgs+i"
   ]
  },
  {
   "cell_type": "code",
   "execution_count": null,
   "id": "8dbe64d8",
   "metadata": {},
   "outputs": [],
   "source": [
    "amanites=find_species('amanita_muscaria',species_dir_list)\n",
    "print(amanites)"
   ]
  },
  {
   "cell_type": "markdown",
   "id": "152c3a0e",
   "metadata": {},
   "source": [
    "## Find number of photos of each species"
   ]
  },
  {
   "cell_type": "code",
   "execution_count": null,
   "id": "7b56ce7c",
   "metadata": {},
   "outputs": [],
   "source": [
    "def num_of_species(spec_dir):\n",
    "    return len( list(os.listdir(spec_dir)) )"
   ]
  },
  {
   "cell_type": "code",
   "execution_count": null,
   "id": "01a155a3",
   "metadata": {},
   "outputs": [],
   "source": [
    "num_of_species(find_species('amanita_muscaria',species_dir_list))"
   ]
  },
  {
   "cell_type": "code",
   "execution_count": null,
   "id": "2be1fabe",
   "metadata": {},
   "outputs": [],
   "source": [
    "!pwd"
   ]
  },
  {
   "cell_type": "code",
   "execution_count": null,
   "id": "1b3614a9",
   "metadata": {},
   "outputs": [],
   "source": [
    "spec='species'\n",
    "num='num'\n",
    "print(f'{spec:30} {num:30}')\n",
    "spec_names=[]\n",
    "spec_num_phots=[]\n",
    "for i in species_dir_list:\n",
    "    #This skips the files folder_analysis.sh and folders.txt which are here and are not directories.\n",
    "    if 'folder' in i:\n",
    "        continue\n",
    "    #print(f'{i:50} {len(list(os.listdir(path_to_imgs+i)))}')\n",
    "    spec_names.append(i)\n",
    "    spec_num_phots.append(len(list(os.listdir(path_to_imgs+i))))\n",
    "    \n",
    "zipped = list(zip(spec_names, spec_num_phots))\n",
    "df = pd.DataFrame(zipped, columns=['Name', '# photos'])\n",
    "df.head()"
   ]
  },
  {
   "cell_type": "markdown",
   "id": "634c1f73",
   "metadata": {},
   "source": [
    "### Identify top 20 for choice of what species to detect. "
   ]
  },
  {
   "cell_type": "code",
   "execution_count": null,
   "id": "3a5ffc42",
   "metadata": {},
   "outputs": [],
   "source": [
    "df.sort_values('# photos',ascending=False).head(20)"
   ]
  },
  {
   "cell_type": "code",
   "execution_count": null,
   "id": "37f53650",
   "metadata": {},
   "outputs": [],
   "source": [
    "data_dir=get_images_directory('../raw_data/fungi_identification/images/')"
   ]
  },
  {
   "cell_type": "code",
   "execution_count": null,
   "id": "91734c54",
   "metadata": {},
   "outputs": [],
   "source": [
    "image_count = len(list(data_dir.glob('*/*.JPG')))\n",
    "print(image_count)"
   ]
  },
  {
   "cell_type": "code",
   "execution_count": null,
   "id": "23b67c25",
   "metadata": {
    "collapsed": true
   },
   "outputs": [],
   "source": [
    "death_caps= list(data_dir.glob('63478_Amanita_phalloides/*'))\n",
    "\n",
    "PIL.Image.open(str(death_caps[8]))"
   ]
  },
  {
   "cell_type": "code",
   "execution_count": null,
   "id": "807d2bfc",
   "metadata": {},
   "outputs": [],
   "source": [
    "# fly_agaric is the common name for Amanita_muscaria\n",
    "fly_agarics = list(data_dir.glob('10252_Amanita_muscaria/*'))\n",
    "PIL.Image.open(str(fly_agarics[5]))"
   ]
  },
  {
   "cell_type": "code",
   "execution_count": null,
   "id": "684d2bfd",
   "metadata": {
    "collapsed": true
   },
   "outputs": [],
   "source": [
    "! ls -rtlh '../raw_data/fungi_identification/images/10000_Abortiporus_biennis/'"
   ]
  },
  {
   "cell_type": "code",
   "execution_count": null,
   "id": "b4f7ad50",
   "metadata": {},
   "outputs": [],
   "source": [
    "def get_images_directory(directory):\n",
    "    data_dir = pathlib.Path(directory)\n",
    "    return data_dir"
   ]
  }
 ],
 "metadata": {
  "kernelspec": {
   "display_name": "Python 3 (ipykernel)",
   "language": "python",
   "name": "python3"
  },
  "language_info": {
   "codemirror_mode": {
    "name": "ipython",
    "version": 3
   },
   "file_extension": ".py",
   "mimetype": "text/x-python",
   "name": "python",
   "nbconvert_exporter": "python",
   "pygments_lexer": "ipython3",
   "version": "3.10.1"
  },
  "toc": {
   "base_numbering": 1,
   "nav_menu": {},
   "number_sections": true,
   "sideBar": true,
   "skip_h1_title": false,
   "title_cell": "Table of Contents",
   "title_sidebar": "Contents",
   "toc_cell": false,
   "toc_position": {},
   "toc_section_display": true,
   "toc_window_display": false
  }
 },
 "nbformat": 4,
 "nbformat_minor": 5
}
