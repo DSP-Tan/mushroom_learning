{
 "cells": [
  {
   "cell_type": "code",
   "execution_count": 53,
   "id": "adabceb4",
   "metadata": {},
   "outputs": [],
   "source": [
    "import os\n",
    "import io\n",
    "import json\n",
    "import base64\n",
    "import requests\n",
    "from PIL import Image\n",
    "import numpy as np\n",
    "\n",
    "\n",
    "import tensorflow as tf\n",
    "from tensorflow import keras\n",
    "from tensorflow.keras import layers\n",
    "from tensorflow.keras.models import Sequential\n",
    "from tensorflow.keras.preprocessing import image_dataset_from_directory\n",
    "\n",
    "\n",
    "\n",
    "from requests.structures import CaseInsensitiveDict"
   ]
  },
  {
   "cell_type": "code",
   "execution_count": 30,
   "id": "4ad54578",
   "metadata": {},
   "outputs": [
    {
     "data": {
      "text/plain": [
       "36"
      ]
     },
     "execution_count": 30,
     "metadata": {},
     "output_type": "execute_result"
    }
   ],
   "source": [
    "mushrooms = ['Agaricus_arvensis', 'Agaricus_impudicus', 'Amanita_muscaria', 'Amanita_virosa', 'Armillaria_lutea', 'Auricularia_auricula_judae', 'Basidioradulum_radula', 'Boletus_edulis', 'Byssomerulius_corium','Cantharellus_cibarius','Cerioporus_squamosus','Cerioporus_varius','Coprinellus_micaceus','Cortinarius_elatior','Cortinarius_flexipes','Cortinarius_malicorius','Cortinarius_torvus','Cuphophyllus_virgineus','Cylindrobasidium_laeve','Fomes_fomentarius','Fomitopsis_pinicola','Ganoderma_applanatum','Ganoderma_pfeifferi','Hericium_erinaceus','Hypholoma_fasciculare', 'Leccinum_scabrum', 'Mycena_galericulata', 'Plicatura_crispa', 'Pluteus_cervinus', 'Psathyrella_candolleana', 'Russula_mariae', 'Trametes_versicolor', 'Tricholoma_scalpturatum', 'Xerocomellus_chrysenteron', 'Xerocomus_ferrugineus', 'Xylodon_paradoxus']\n",
    "len(mushrooms)"
   ]
  },
  {
   "cell_type": "markdown",
   "id": "12e43f73",
   "metadata": {},
   "source": [
    "## Confirm everything is where it should be, and is of the correct size etc."
   ]
  },
  {
   "cell_type": "code",
   "execution_count": 12,
   "id": "6239214b",
   "metadata": {},
   "outputs": [
    {
     "name": "stdout",
     "output_type": "stream",
     "text": [
      "/home/danielsptanner/code/DSP-Tan/mushroom_learning/notebooks\n",
      "-rwxr-xr-x 1 danielsptanner danielsptanner 85K Mar  9 11:35 amanita.jpg\n",
      "total 1.2M\n",
      "-rw-r--r-- 1 danielsptanner danielsptanner  85K Mar 11 00:49 keras_metadata.pb\n",
      "drwxr-xr-x 2 danielsptanner danielsptanner 4.0K Mar 11 00:49 variables\n",
      "-rw-r--r-- 1 danielsptanner danielsptanner 562K Mar 11 00:49 saved_model.pb\n",
      "-rw-r--r-- 1 danielsptanner danielsptanner 562K Mar 11 00:49 models_model_1_species_vgg16\n",
      "total 656K\n",
      "-rw-r--r-- 1 danielsptanner danielsptanner  85K Mar 10 18:05 keras_metadata.pb\n",
      "-rw-r--r-- 1 danielsptanner danielsptanner 562K Mar 10 18:05 saved_model.pb\n",
      "drwxr-xr-x 2 danielsptanner danielsptanner 4.0K Mar 10 18:16 variables\n",
      "total 1.2M\n",
      "-rw-r--r-- 1 danielsptanner danielsptanner 562K Mar 10 15:36 models_model_3_species_vgg16\n",
      "-rw-r--r-- 1 danielsptanner danielsptanner  85K Mar 10 16:18 keras_metadata.pb\n",
      "-rw-r--r-- 1 danielsptanner danielsptanner 562K Mar 10 16:18 saved_model.pb\n",
      "drwxr-xr-x 2 danielsptanner danielsptanner 4.0K Mar 10 16:19 variables\n"
     ]
    }
   ],
   "source": [
    "!pwd\n",
    "!ls -rtlh amanita.jpg\n",
    "! ls -rtlh ../model_1_species_vgg16/\n",
    "! ls -rtlh ../model_2_species_vgg16/\n",
    "! ls -rtlh ../model_3_species_vgg16/"
   ]
  },
  {
   "cell_type": "markdown",
   "id": "accbd173",
   "metadata": {},
   "source": [
    "## Set paths"
   ]
  },
  {
   "cell_type": "code",
   "execution_count": 31,
   "id": "34cabee6",
   "metadata": {},
   "outputs": [],
   "source": [
    "names1=['Agaricus_arvensis','Agaricus_impudicus','Amanita_muscaria','Amanita_virosa','Armillaria_lutea',\n",
    "        'Auricularia_auricula_judae','Basidioradulum_radula','Boletus_edulis','Byssomerulius_corium','Cantharellus_cibarius',\n",
    "        'Cerioporus_squamosus','Cerioporus_varius','Other']\n",
    "\n",
    "names2=['Coprinellus_micaceus','Cortinarius_elatior','Cortinarius_flexipes','Cortinarius_malicorius','Cortinarius_torvus',\n",
    "        'Cuphophyllus_virgineus','Cylindrobasidium_laeve','Fomes_fomentarius','Fomitopsis_pinicola','Ganoderma_applanatum',\n",
    "        'Ganoderma_pfeifferi','Hericium_erinaceus','Other']\n",
    "\n",
    "names3=['Hypholoma_fasciculare','Leccinum_scabrum','Mycena_galericulata','Other','Plicatura_crispa','Pluteus_cervinus',\n",
    "        'Psathyrella_candolleana','Russula_mariae','Trametes_versicolor','Tricholoma_scalpturatum','Xerocomellus_chrysenteron',\n",
    "        'Xerocomus_ferrugineus','Xylodon_paradoxus']"
   ]
  },
  {
   "cell_type": "code",
   "execution_count": 13,
   "id": "ffb654b0",
   "metadata": {},
   "outputs": [],
   "source": [
    "img_path='amanita.jpg'\n",
    "model1_path='../model_1_species_vgg16/'\n",
    "model2_path='../model_2_species_vgg16/'\n",
    "model3_path='../model_3_species_vgg16/'"
   ]
  },
  {
   "cell_type": "markdown",
   "id": "5106d226",
   "metadata": {},
   "source": [
    "## Load models"
   ]
  },
  {
   "cell_type": "code",
   "execution_count": 40,
   "id": "c9b27f39",
   "metadata": {},
   "outputs": [
    {
     "name": "stdout",
     "output_type": "stream",
     "text": [
      "WARNING:tensorflow:Detecting that an object or model or tf.train.Checkpoint is being deleted with unrestored values. See the following logs for the specific values in question. To silence these warnings, use `status.expect_partial()`. See https://www.tensorflow.org/api_docs/python/tf/train/Checkpoint#restorefor details about the status object returned by the restore function.\n",
      "WARNING:tensorflow:Value in checkpoint could not be found in the restored object: (root).layer-0.layer-0._random_generator._generator._state_var\n",
      "WARNING:tensorflow:Value in checkpoint could not be found in the restored object: (root).layer-0.layer-1._random_generator._generator._state_var\n",
      "WARNING:tensorflow:Detecting that an object or model or tf.train.Checkpoint is being deleted with unrestored values. See the following logs for the specific values in question. To silence these warnings, use `status.expect_partial()`. See https://www.tensorflow.org/api_docs/python/tf/train/Checkpoint#restorefor details about the status object returned by the restore function.\n",
      "WARNING:tensorflow:Value in checkpoint could not be found in the restored object: (root).layer-0.layer-0._random_generator._generator._state_var\n",
      "WARNING:tensorflow:Value in checkpoint could not be found in the restored object: (root).layer-0.layer-1._random_generator._generator._state_var\n"
     ]
    }
   ],
   "source": [
    "model1=keras.models.load_model(model1_path)\n",
    "model2=keras.models.load_model(model2_path)\n",
    "model3=keras.models.load_model(model3_path)"
   ]
  },
  {
   "cell_type": "markdown",
   "id": "792795d4",
   "metadata": {},
   "source": [
    "## Load and preprocess image."
   ]
  },
  {
   "cell_type": "code",
   "execution_count": 16,
   "id": "8bbfe171",
   "metadata": {},
   "outputs": [],
   "source": [
    "size=(224,224)\n",
    "batch_size = 32\n",
    "\n",
    "img = tf.keras.utils.load_img(\"amanita.jpg\", target_size=size)\n",
    "img_array = tf.keras.utils.img_to_array(img)\n",
    "img_array = tf.expand_dims(img_array, 0)"
   ]
  },
  {
   "cell_type": "markdown",
   "id": "5cf1d8ef",
   "metadata": {},
   "source": [
    "## Do prediction, results to dictionary"
   ]
  },
  {
   "cell_type": "code",
   "execution_count": 58,
   "id": "2bd94f4b",
   "metadata": {},
   "outputs": [
    {
     "name": "stdout",
     "output_type": "stream",
     "text": [
      "[[1.2826712e-07 2.1854573e-06 9.9965596e-01 6.1959355e-08 3.8890176e-09\n",
      "  2.3032936e-08 3.9421622e-09 2.8218472e-04 8.3172781e-11 5.9072918e-05\n",
      "  3.1869463e-10 4.1977546e-09 3.7646589e-07]]\n"
     ]
    }
   ],
   "source": [
    "print(prediction1)"
   ]
  },
  {
   "cell_type": "code",
   "execution_count": 38,
   "id": "de930923",
   "metadata": {},
   "outputs": [],
   "source": [
    "prediction1 = model1.predict(img_array)\n",
    "prediction2 = model2.predict(img_array)\n",
    "prediction3 = model3.predict(img_array)\n",
    "results1={names1[i]:score for i,score in enumerate(prediction1[0])}\n",
    "results2={names2[i]:score for i,score in enumerate(prediction1[0])}\n",
    "results3={names2[i]:score for i,score in enumerate(prediction1[0])}"
   ]
  },
  {
   "cell_type": "code",
   "execution_count": 39,
   "id": "6cfa2043",
   "metadata": {},
   "outputs": [
    {
     "name": "stdout",
     "output_type": "stream",
     "text": [
      "{'Coprinellus_micaceus': 1.2826712e-07, 'Cortinarius_elatior': 2.1854573e-06, 'Cortinarius_flexipes': 0.99965596, 'Cortinarius_malicorius': 6.1959355e-08, 'Cortinarius_torvus': 3.8890176e-09, 'Cuphophyllus_virgineus': 2.3032936e-08, 'Cylindrobasidium_laeve': 3.942162e-09, 'Fomes_fomentarius': 0.00028218472, 'Fomitopsis_pinicola': 8.317278e-11, 'Ganoderma_applanatum': 5.9072918e-05, 'Ganoderma_pfeifferi': 3.1869463e-10, 'Hericium_erinaceus': 4.1977546e-09, 'Other': 3.764659e-07}\n"
     ]
    }
   ],
   "source": [
    "print(results3)"
   ]
  },
  {
   "cell_type": "markdown",
   "id": "1e0fd107",
   "metadata": {},
   "source": [
    "## Stella's function"
   ]
  },
  {
   "cell_type": "code",
   "execution_count": null,
   "id": "d71f85f2",
   "metadata": {},
   "outputs": [],
   "source": [
    "def prediction_to_streamlit(pred_1,pred_2,pred_3):\n",
    "    mushrooms = ['Agaricus_arvensis', 'Agaricus_impudicus', 'Amanita_muscaria', 'Amanita_virosa', 'Armillaria_lutea', 'Auricularia_auricula_judae', 'Basidioradulum_radula', 'Boletus_edulis', 'Byssomerulius_corium','Cantharellus_cibarius','Cerioporus_squamosus','Cerioporus_varius','Coprinellus_micaceus','Cortinarius_elatior','Cortinarius_flexipes','Cortinarius_malicorius','Cortinarius_torvus','Cuphophyllus_virgineus','Cylindrobasidium_laeve','Fomes_fomentarius','Fomitopsis_pinicola','Ganoderma_applanatum','Ganoderma_pfeifferi','Hericium_erinaceus','Hypholoma_fasciculare', 'Leccinum_scabrum', 'Mycena_galericulata', 'Plicatura_crispa', 'Pluteus_cervinus', 'Psathyrella_candolleana', 'Russula_mariae', 'Trametes_versicolor', 'Tricholoma_scalpturatum', 'Xerocomellus_chrysenteron', 'Xerocomus_ferrugineus', 'Xylodon_paradoxus']\n",
    "    all_predictions = np.concatenate([pred_1,pred_2,pred_3],axis=1)\n",
    "    max_value = np.argmax(all_predictions)\n",
    "    predicted_mushroom = mushrooms[max_value]\n",
    "    return max_value, predicted_mushroom"
   ]
  },
  {
   "cell_type": "markdown",
   "id": "475d14d9",
   "metadata": {},
   "source": [
    "## Image preprocessing necessary for API"
   ]
  },
  {
   "cell_type": "markdown",
   "id": "3220de29",
   "metadata": {},
   "source": [
    "### This is what we  pass to the API"
   ]
  },
  {
   "cell_type": "code",
   "execution_count": 43,
   "id": "e0d5265b",
   "metadata": {},
   "outputs": [],
   "source": [
    "# Set up image Jerome's way.\n",
    "with open(img_path, \"rb\") as f:\n",
    "    im_bytes = f.read()\n",
    "im_b64 = base64.b64encode(im_bytes).decode(\"utf8\")\n",
    "headers = {'Content-type': 'application/json', 'Accept': 'text/plain'}\n",
    "payload = json.dumps({\"image\": im_b64})"
   ]
  },
  {
   "cell_type": "code",
   "execution_count": 48,
   "id": "d7d43efa",
   "metadata": {},
   "outputs": [
    {
     "name": "stdout",
     "output_type": "stream",
     "text": [
      "<class 'str'>\n",
      "<class 'str'>\n",
      "{\"image\": \"/9j/4AAQS\n",
      "/9j/4AAQSk\n"
     ]
    }
   ],
   "source": [
    "print(type(payload))\n",
    "print(type(im_b64))\n",
    "print(payload[0:20])\n",
    "print(im_b64[0:10])"
   ]
  },
  {
   "cell_type": "markdown",
   "id": "d474caba",
   "metadata": {},
   "source": [
    "### This payload is a b64_utf8 string, with some headers"
   ]
  },
  {
   "cell_type": "markdown",
   "id": "5c86bee3",
   "metadata": {},
   "source": [
    "### This is what the API does to it to pass to model"
   ]
  },
  {
   "cell_type": "markdown",
   "id": "7618807f",
   "metadata": {},
   "source": [
    "#### Request with async function and await"
   ]
  },
  {
   "cell_type": "code",
   "execution_count": null,
   "id": "c1619723",
   "metadata": {},
   "outputs": [],
   "source": [
    "@app.post(\"/image\")\n",
    "async def process_image(request: Request):\n",
    "    request_body = await request.json()"
   ]
  },
  {
   "cell_type": "markdown",
   "id": "a2ac6605",
   "metadata": {},
   "source": [
    "#### Gets the body image, which is a b64 string with utf8 encoding "
   ]
  },
  {
   "cell_type": "code",
   "execution_count": null,
   "id": "69eb3438",
   "metadata": {},
   "outputs": [],
   "source": [
    "image_b64_utf8 = request_body[\"image\"]"
   ]
  },
  {
   "cell_type": "markdown",
   "id": "6dc85c04",
   "metadata": {},
   "source": [
    "#### Finally makes this b64_utf8 string suitable for passing to model"
   ]
  },
  {
   "cell_type": "code",
   "execution_count": 49,
   "id": "62a9f85d",
   "metadata": {},
   "outputs": [],
   "source": [
    "def new_preproc(image_b64_utf8):\n",
    "    size=(224,224)\n",
    "    \n",
    "    img_bytes = base64.b64decode(image_b64_utf8.encode('utf8'))\n",
    "    # # convert bytes data to PIL Image object\n",
    "    img = Image.open(io.BytesIO(img_bytes))\n",
    "    img_arr = np.asarray(img)\n",
    "    img_rs=tf.image.resize(img_arr,size, method=tf.image.ResizeMethod.NEAREST_NEIGHBOR)\n",
    "    img_exp = tf.expand_dims(img_rs, 0)\n",
    "    return img_exp"
   ]
  },
  {
   "cell_type": "code",
   "execution_count": 54,
   "id": "47dd8197",
   "metadata": {},
   "outputs": [],
   "source": [
    "img_exp = new_preproc(im_b64)"
   ]
  },
  {
   "cell_type": "code",
   "execution_count": 56,
   "id": "ae16d9e0",
   "metadata": {},
   "outputs": [
    {
     "data": {
      "text/plain": [
       "TensorShape([1, 224, 224, 3])"
      ]
     },
     "execution_count": 56,
     "metadata": {},
     "output_type": "execute_result"
    }
   ],
   "source": [
    "img_exp.shape"
   ]
  },
  {
   "cell_type": "code",
   "execution_count": 57,
   "id": "036a1f1a",
   "metadata": {},
   "outputs": [
    {
     "data": {
      "text/plain": [
       "array([[1.2826712e-07, 2.1854573e-06, 9.9965596e-01, 6.1959355e-08,\n",
       "        3.8890176e-09, 2.3032936e-08, 3.9421622e-09, 2.8218472e-04,\n",
       "        8.3172781e-11, 5.9072918e-05, 3.1869463e-10, 4.1977546e-09,\n",
       "        3.7646589e-07]], dtype=float32)"
      ]
     },
     "execution_count": 57,
     "metadata": {},
     "output_type": "execute_result"
    }
   ],
   "source": [
    "model1.predict(img_exp)"
   ]
  },
  {
   "cell_type": "code",
   "execution_count": 59,
   "id": "22af2463",
   "metadata": {},
   "outputs": [
    {
     "data": {
      "text/plain": [
       "array([[1.2826712e-07, 2.1854573e-06, 9.9965596e-01, 6.1959355e-08,\n",
       "        3.8890176e-09, 2.3032936e-08, 3.9421622e-09, 2.8218472e-04,\n",
       "        8.3172781e-11, 5.9072918e-05, 3.1869463e-10, 4.1977546e-09,\n",
       "        3.7646589e-07]], dtype=float32)"
      ]
     },
     "execution_count": 59,
     "metadata": {},
     "output_type": "execute_result"
    }
   ],
   "source": [
    "model1.predict(img_array)"
   ]
  },
  {
   "cell_type": "code",
   "execution_count": null,
   "id": "d6235bde",
   "metadata": {},
   "outputs": [],
   "source": []
  }
 ],
 "metadata": {
  "kernelspec": {
   "display_name": "Python 3 (ipykernel)",
   "language": "python",
   "name": "python3"
  },
  "language_info": {
   "codemirror_mode": {
    "name": "ipython",
    "version": 3
   },
   "file_extension": ".py",
   "mimetype": "text/x-python",
   "name": "python",
   "nbconvert_exporter": "python",
   "pygments_lexer": "ipython3",
   "version": "3.8.5"
  }
 },
 "nbformat": 4,
 "nbformat_minor": 5
}
