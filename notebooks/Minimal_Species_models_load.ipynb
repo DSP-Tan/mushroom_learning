{
 "cells": [
  {
   "cell_type": "code",
   "execution_count": 13,
   "id": "adabceb4",
   "metadata": {},
   "outputs": [],
   "source": [
    "import os\n",
    "import io\n",
    "import json\n",
    "import base64\n",
    "import requests\n",
    "from PIL import Image\n",
    "import numpy as np\n",
    "\n",
    "\n",
    "import tensorflow as tf\n",
    "from tensorflow import keras\n",
    "from tensorflow.keras import layers\n",
    "from tensorflow.keras.models import Sequential\n",
    "from tensorflow.keras.preprocessing import image_dataset_from_directory\n",
    "\n",
    "\n",
    "\n",
    "from requests.structures import CaseInsensitiveDict\n",
    "\n",
    "\n",
    "\n",
    "from webbrowser import get\n",
    "#from aiohttp import request\n",
    "import streamlit as st\n",
    "import matplotlib.pyplot as plt\n",
    "import requests\n",
    "import os\n",
    "import random\n",
    "from PIL import Image\n",
    "#from mushroom_learning.utils import Wiki_Api, get_wiki_image, pic_to_dict"
   ]
  },
  {
   "cell_type": "code",
   "execution_count": 4,
   "id": "4ad54578",
   "metadata": {},
   "outputs": [
    {
     "data": {
      "text/plain": [
       "36"
      ]
     },
     "execution_count": 4,
     "metadata": {},
     "output_type": "execute_result"
    }
   ],
   "source": [
    "mushrooms = ['Agaricus_arvensis', 'Agaricus_impudicus', 'Amanita_muscaria', 'Amanita_virosa', 'Armillaria_lutea', 'Auricularia_auricula_judae', 'Basidioradulum_radula', 'Boletus_edulis', 'Byssomerulius_corium','Cantharellus_cibarius','Cerioporus_squamosus','Cerioporus_varius','Coprinellus_micaceus','Cortinarius_elatior','Cortinarius_flexipes','Cortinarius_malicorius','Cortinarius_torvus','Cuphophyllus_virgineus','Cylindrobasidium_laeve','Fomes_fomentarius','Fomitopsis_pinicola','Ganoderma_applanatum','Ganoderma_pfeifferi','Hericium_erinaceus','Hypholoma_fasciculare', 'Leccinum_scabrum', 'Mycena_galericulata', 'Plicatura_crispa', 'Pluteus_cervinus', 'Psathyrella_candolleana', 'Russula_mariae', 'Trametes_versicolor', 'Tricholoma_scalpturatum', 'Xerocomellus_chrysenteron', 'Xerocomus_ferrugineus', 'Xylodon_paradoxus']\n",
    "len(mushrooms)"
   ]
  },
  {
   "cell_type": "markdown",
   "id": "12e43f73",
   "metadata": {},
   "source": [
    "## Confirm everything is where it should be, and is of the correct size etc."
   ]
  },
  {
   "cell_type": "code",
   "execution_count": 5,
   "id": "6239214b",
   "metadata": {},
   "outputs": [
    {
     "name": "stdout",
     "output_type": "stream",
     "text": [
      "/home/danielsptanner/code/DSP-Tan/mushroom_learning/notebooks\n",
      "-rwxr-xr-x 1 danielsptanner danielsptanner 85K Mar  9 11:35 amanita.jpg\n",
      "total 1.2M\n",
      "-rw-r--r-- 1 danielsptanner danielsptanner  85K Mar 11 10:40 keras_metadata.pb\n",
      "-rw-r--r-- 1 danielsptanner danielsptanner 562K Mar 11 10:40 saved_model.pb\n",
      "-rw-r--r-- 1 danielsptanner danielsptanner 562K Mar 11 10:40 models_model_1_species_vgg16\n",
      "drwxr-xr-x 2 danielsptanner danielsptanner 4.0K Mar 11 10:40 variables\n",
      "total 656K\n",
      "-rw-r--r-- 1 danielsptanner danielsptanner  85K Mar 10 18:05 keras_metadata.pb\n",
      "-rw-r--r-- 1 danielsptanner danielsptanner 562K Mar 10 18:05 saved_model.pb\n",
      "drwxr-xr-x 2 danielsptanner danielsptanner 4.0K Mar 10 18:16 variables\n",
      "total 1.2M\n",
      "-rw-r--r-- 1 danielsptanner danielsptanner 562K Mar 10 15:36 models_model_3_species_vgg16\n",
      "-rw-r--r-- 1 danielsptanner danielsptanner  85K Mar 10 16:18 keras_metadata.pb\n",
      "-rw-r--r-- 1 danielsptanner danielsptanner 562K Mar 10 16:18 saved_model.pb\n",
      "drwxr-xr-x 2 danielsptanner danielsptanner 4.0K Mar 10 16:19 variables\n"
     ]
    }
   ],
   "source": [
    "!pwd\n",
    "!ls -rtlh amanita.jpg\n",
    "! ls -rtlh ../model_1_species_vgg16/\n",
    "! ls -rtlh ../model_2_species_vgg16/\n",
    "! ls -rtlh ../model_3_species_vgg16/"
   ]
  },
  {
   "cell_type": "markdown",
   "id": "accbd173",
   "metadata": {},
   "source": [
    "## Set paths"
   ]
  },
  {
   "cell_type": "code",
   "execution_count": 6,
   "id": "34cabee6",
   "metadata": {},
   "outputs": [],
   "source": [
    "names1=['Agaricus_arvensis','Agaricus_impudicus','Amanita_muscaria','Amanita_virosa','Armillaria_lutea',\n",
    "        'Auricularia_auricula_judae','Basidioradulum_radula','Boletus_edulis','Byssomerulius_corium','Cantharellus_cibarius',\n",
    "        'Cerioporus_squamosus','Cerioporus_varius','Other']\n",
    "\n",
    "names2=['Coprinellus_micaceus','Cortinarius_elatior','Cortinarius_flexipes','Cortinarius_malicorius','Cortinarius_torvus',\n",
    "        'Cuphophyllus_virgineus','Cylindrobasidium_laeve','Fomes_fomentarius','Fomitopsis_pinicola','Ganoderma_applanatum',\n",
    "        'Ganoderma_pfeifferi','Hericium_erinaceus','Other']\n",
    "\n",
    "names3=['Hypholoma_fasciculare','Leccinum_scabrum','Mycena_galericulata','Other','Plicatura_crispa','Pluteus_cervinus',\n",
    "        'Psathyrella_candolleana','Russula_mariae','Trametes_versicolor','Tricholoma_scalpturatum','Xerocomellus_chrysenteron',\n",
    "        'Xerocomus_ferrugineus','Xylodon_paradoxus']"
   ]
  },
  {
   "cell_type": "code",
   "execution_count": null,
   "id": "93e6b7bc",
   "metadata": {},
   "outputs": [],
   "source": [
    "names1_common= ['Horse mushroom', 'Agaricus_impudicus', 'Fly agaric', 'Destroying angel', 'Armillaria gallica', \"Jew's ear\"\n",
    "                'Toothed crust fungus', 'Penny bun', 'Netted crust fungus -check-', \n",
    "                'Chanterelle', \"Dryad's saddle\", \"Elegant polypore\", \"Other\"  ]"
   ]
  },
  {
   "cell_type": "code",
   "execution_count": 7,
   "id": "ffb654b0",
   "metadata": {},
   "outputs": [],
   "source": [
    "img_path='amanita.jpg'\n",
    "model1_path='../model_1_species_vgg16/'\n",
    "model2_path='../model_2_species_vgg16/'\n",
    "model3_path='../model_3_species_vgg16/'"
   ]
  },
  {
   "cell_type": "markdown",
   "id": "5106d226",
   "metadata": {},
   "source": [
    "## Load models"
   ]
  },
  {
   "cell_type": "code",
   "execution_count": 8,
   "id": "c9b27f39",
   "metadata": {},
   "outputs": [
    {
     "name": "stderr",
     "output_type": "stream",
     "text": [
      "2022-03-11 14:14:38.556718: W tensorflow/stream_executor/platform/default/dso_loader.cc:64] Could not load dynamic library 'libcuda.so.1'; dlerror: libcuda.so.1: cannot open shared object file: No such file or directory\n",
      "2022-03-11 14:14:38.556801: W tensorflow/stream_executor/cuda/cuda_driver.cc:269] failed call to cuInit: UNKNOWN ERROR (303)\n",
      "2022-03-11 14:14:38.556826: I tensorflow/stream_executor/cuda/cuda_diagnostics.cc:156] kernel driver does not appear to be running on this host (instance-2): /proc/driver/nvidia/version does not exist\n",
      "2022-03-11 14:14:38.557206: I tensorflow/core/platform/cpu_feature_guard.cc:151] This TensorFlow binary is optimized with oneAPI Deep Neural Network Library (oneDNN) to use the following CPU instructions in performance-critical operations:  AVX2 FMA\n",
      "To enable them in other operations, rebuild TensorFlow with the appropriate compiler flags.\n"
     ]
    }
   ],
   "source": [
    "model1=keras.models.load_model(model1_path)\n",
    "model2=keras.models.load_model(model2_path)\n",
    "model3=keras.models.load_model(model3_path)"
   ]
  },
  {
   "cell_type": "markdown",
   "id": "792795d4",
   "metadata": {},
   "source": [
    "## Load and preprocess image."
   ]
  },
  {
   "cell_type": "code",
   "execution_count": 9,
   "id": "8bbfe171",
   "metadata": {},
   "outputs": [],
   "source": [
    "size=(224,224)\n",
    "batch_size = 32\n",
    "\n",
    "img = tf.keras.utils.load_img(\"amanita.jpg\", target_size=size)\n",
    "img_array = tf.keras.utils.img_to_array(img)\n",
    "img_array = tf.expand_dims(img_array, 0)"
   ]
  },
  {
   "cell_type": "markdown",
   "id": "5cf1d8ef",
   "metadata": {},
   "source": [
    "## Do prediction, results to dictionary"
   ]
  },
  {
   "cell_type": "code",
   "execution_count": null,
   "id": "de930923",
   "metadata": {},
   "outputs": [],
   "source": [
    "prediction1 = model1.predict(img_array)\n",
    "prediction2 = model2.predict(img_array)\n",
    "prediction3 = model3.predict(img_array)\n",
    "results1={names1[i]:score for i,score in enumerate(prediction1[0])}\n",
    "results2={names2[i]:score for i,score in enumerate(prediction1[0])}\n",
    "results3={names2[i]:score for i,score in enumerate(prediction1[0])}"
   ]
  },
  {
   "cell_type": "code",
   "execution_count": null,
   "id": "871ce0f1",
   "metadata": {},
   "outputs": [],
   "source": [
    "eval(str(results1))"
   ]
  },
  {
   "cell_type": "markdown",
   "id": "1e0fd107",
   "metadata": {},
   "source": [
    "## Stella's function"
   ]
  },
  {
   "cell_type": "code",
   "execution_count": null,
   "id": "d71f85f2",
   "metadata": {},
   "outputs": [],
   "source": [
    "def prediction_to_streamlit(pred_1,pred_2,pred_3):\n",
    "    mushrooms = ['Agaricus_arvensis', 'Agaricus_impudicus', 'Amanita_muscaria', 'Amanita_virosa', 'Armillaria_lutea', 'Auricularia_auricula_judae', 'Basidioradulum_radula', 'Boletus_edulis', 'Byssomerulius_corium','Cantharellus_cibarius','Cerioporus_squamosus','Cerioporus_varius','Coprinellus_micaceus','Cortinarius_elatior','Cortinarius_flexipes','Cortinarius_malicorius','Cortinarius_torvus','Cuphophyllus_virgineus','Cylindrobasidium_laeve','Fomes_fomentarius','Fomitopsis_pinicola','Ganoderma_applanatum','Ganoderma_pfeifferi','Hericium_erinaceus','Hypholoma_fasciculare', 'Leccinum_scabrum', 'Mycena_galericulata', 'Plicatura_crispa', 'Pluteus_cervinus', 'Psathyrella_candolleana', 'Russula_mariae', 'Trametes_versicolor', 'Tricholoma_scalpturatum', 'Xerocomellus_chrysenteron', 'Xerocomus_ferrugineus', 'Xylodon_paradoxus']\n",
    "    all_predictions = np.concatenate([pred_1,pred_2,pred_3],axis=1)\n",
    "    max_value = np.argmax(all_predictions)\n",
    "    predicted_mushroom = mushrooms[max_value]\n",
    "    return max_value, predicted_mushroom"
   ]
  },
  {
   "cell_type": "markdown",
   "id": "475d14d9",
   "metadata": {},
   "source": [
    "## Image preprocessing necessary for API"
   ]
  },
  {
   "cell_type": "markdown",
   "id": "3220de29",
   "metadata": {},
   "source": [
    "### This is what we  pass to the API"
   ]
  },
  {
   "cell_type": "code",
   "execution_count": null,
   "id": "e0d5265b",
   "metadata": {},
   "outputs": [],
   "source": [
    "# Set up image Jerome's way.\n",
    "with open(img_path, \"rb\") as f:\n",
    "    im_bytes = f.read()\n",
    "im_b64 = base64.b64encode(im_bytes).decode(\"utf8\")\n",
    "headers = {'Content-type': 'application/json', 'Accept': 'text/plain'}\n",
    "payload = json.dumps({\"image\": im_b64})"
   ]
  },
  {
   "cell_type": "code",
   "execution_count": null,
   "id": "d7d43efa",
   "metadata": {},
   "outputs": [],
   "source": [
    "print(type(payload))\n",
    "print(type(im_b64))\n",
    "print(payload[0:20])\n",
    "print(im_b64[0:10])"
   ]
  },
  {
   "cell_type": "markdown",
   "id": "d474caba",
   "metadata": {},
   "source": [
    "### This payload is a b64_utf8 string, with some headers"
   ]
  },
  {
   "cell_type": "markdown",
   "id": "5c86bee3",
   "metadata": {},
   "source": [
    "### This is what the API does to it to pass to model"
   ]
  },
  {
   "cell_type": "markdown",
   "id": "7618807f",
   "metadata": {},
   "source": [
    "#### Request with async function and await"
   ]
  },
  {
   "cell_type": "code",
   "execution_count": null,
   "id": "c1619723",
   "metadata": {},
   "outputs": [],
   "source": [
    "@app.post(\"/image\")\n",
    "async def process_image(request: Request):\n",
    "    request_body = await request.json()"
   ]
  },
  {
   "cell_type": "markdown",
   "id": "a2ac6605",
   "metadata": {},
   "source": [
    "#### Gets the body image, which is a b64 string with utf8 encoding "
   ]
  },
  {
   "cell_type": "code",
   "execution_count": null,
   "id": "69eb3438",
   "metadata": {},
   "outputs": [],
   "source": [
    "image_b64_utf8 = request_body[\"image\"]"
   ]
  },
  {
   "cell_type": "markdown",
   "id": "6dc85c04",
   "metadata": {},
   "source": [
    "#### Finally makes this b64_utf8 string suitable for passing to model"
   ]
  },
  {
   "cell_type": "code",
   "execution_count": null,
   "id": "62a9f85d",
   "metadata": {},
   "outputs": [],
   "source": [
    "def new_preproc(image_b64_utf8):\n",
    "    size=(224,224)\n",
    "    \n",
    "    img_bytes = base64.b64decode(image_b64_utf8.encode('utf8'))\n",
    "    # # convert bytes data to PIL Image object\n",
    "    img = Image.open(io.BytesIO(img_bytes))\n",
    "    img_arr = np.asarray(img)\n",
    "    img_rs=tf.image.resize(img_arr,size, method=tf.image.ResizeMethod.NEAREST_NEIGHBOR)\n",
    "    img_exp = tf.expand_dims(img_rs, 0)\n",
    "    return img_exp"
   ]
  },
  {
   "cell_type": "code",
   "execution_count": null,
   "id": "47dd8197",
   "metadata": {},
   "outputs": [],
   "source": [
    "img_exp = new_preproc(im_b64)"
   ]
  },
  {
   "cell_type": "code",
   "execution_count": null,
   "id": "ae16d9e0",
   "metadata": {},
   "outputs": [],
   "source": [
    "img_exp.shape"
   ]
  },
  {
   "cell_type": "code",
   "execution_count": null,
   "id": "036a1f1a",
   "metadata": {},
   "outputs": [],
   "source": [
    "model1.predict(img_exp)"
   ]
  },
  {
   "cell_type": "code",
   "execution_count": null,
   "id": "22af2463",
   "metadata": {},
   "outputs": [],
   "source": [
    "model1.predict(img_array)"
   ]
  },
  {
   "cell_type": "code",
   "execution_count": 17,
   "id": "d1c8c419",
   "metadata": {},
   "outputs": [
    {
     "name": "stdout",
     "output_type": "stream",
     "text": [
      "01_DinaharDataset_primary.ipynb    laura_modeling_species.ipynb\r\n",
      "02_UCIDataset.ipynb\t\t   laura_poison_vgg19.ipynb\r\n",
      "36_species_model_vgg16.ipynb\t   laura_test_poison_model.ipynb\r\n",
      "API_notebook.ipynb\t\t   models_model_poison_simple_0.68\r\n",
      "DataSet_Merging_Cleaning.ipynb\t   models_model_species_simple_0.815\r\n",
      "Minimal_Species_models_load.ipynb  new_local_query.py\r\n",
      "SpeciesDatatSetExploration.ipynb   new_new_remote_query.py\r\n",
      "Untitled.ipynb\t\t\t   new_query_api.py\r\n",
      "amanita.jpg\t\t\t   new_remote_query.py\r\n",
      "fart.jpg\t\t\t   output.txt\r\n",
      "laura_model_poison.ipynb\t   query_api.py\r\n"
     ]
    }
   ],
   "source": [
    "! ls"
   ]
  },
  {
   "cell_type": "code",
   "execution_count": 18,
   "id": "cb89da76",
   "metadata": {},
   "outputs": [],
   "source": [
    "image = Image.open('amanita.jpg')\n",
    "buffer = io.BytesIO()\n",
    "image.save(buffer, format='JPEG', quality=75)\n",
    "im_bytes = buffer.getbuffer()\n",
    "# with open(image, \"rb\") as file:\n",
    "#     im_bytes = file.read()\n",
    "image = base64.b64encode(im_bytes).decode(\"utf8\")\n",
    "headers = {'Content-type': 'application/json' , 'Accept' : 'text/plain'}\n",
    "payload = json.dumps({\"image\" : image})"
   ]
  },
  {
   "cell_type": "code",
   "execution_count": 54,
   "id": "d6235bde",
   "metadata": {},
   "outputs": [
    {
     "name": "stdout",
     "output_type": "stream",
     "text": [
      "<class 'dict'>\n"
     ]
    },
    {
     "data": {
      "text/plain": [
       "{'Agaricus_arvensis': 1.299503e-07,\n",
       " 'Agaricus_impudicus': 2.2494623e-06,\n",
       " 'Amanita_muscaria': 0.9996468,\n",
       " 'Amanita_virosa': 6.4207725e-08,\n",
       " 'Armillaria_lutea': 3.9720445e-09,\n",
       " 'Auricularia_auricula_judae': 2.4016526e-08,\n",
       " 'Basidioradulum_radula': 4.1295083e-09,\n",
       " 'Boletus_edulis': 0.00029080213,\n",
       " 'Byssomerulius_corium': 8.519751e-11,\n",
       " 'Cantharellus_cibarius': 5.9597376e-05,\n",
       " 'Cerioporus_squamosus': 3.3394784e-10,\n",
       " 'Cerioporus_varius': 4.4261683e-09,\n",
       " 'Other': 3.844719e-07}"
      ]
     },
     "execution_count": 54,
     "metadata": {},
     "output_type": "execute_result"
    }
   ],
   "source": [
    "# Call speci²aes 1\n",
    "url = \"https://mushroom-docker-lpuaioudtq-ew.a.run.app/species1\"\n",
    "predict1 = requests.post(url , headers = headers , data = payload).json()\n",
    "# This is a dictionary but we had to output as a string, so use eval\n",
    "# to make it a dictionary again.\n",
    "result1=eval(predict1)\n",
    "print(type(result1))\n",
    "result1"
   ]
  },
  {
   "cell_type": "code",
   "execution_count": 25,
   "id": "42ad18ae",
   "metadata": {},
   "outputs": [
    {
     "data": {
      "text/plain": [
       "('Cerioporus_varius', 4.4261683e-09)"
      ]
     },
     "execution_count": 25,
     "metadata": {},
     "output_type": "execute_result"
    }
   ],
   "source": [
    "max_em=0\n",
    "for key, value in result1.items():\n",
    "    if value > max_em:\n",
    "        if key=='Other':\n",
    "            continue\n",
    "        max_res=(key,value)\n",
    "max_res        "
   ]
  },
  {
   "cell_type": "code",
   "execution_count": 45,
   "id": "b479c454",
   "metadata": {},
   "outputs": [],
   "source": [
    "def get_max_mush(dict_res):\n",
    "    max_prob=0\n",
    "    for key, value in dict_res.items():\n",
    "        if key=='Other':\n",
    "            continue\n",
    "        if value > max_prob:\n",
    "            max_res=(key,value)\n",
    "            max_prob=value\n",
    "    return max_res"
   ]
  },
  {
   "cell_type": "code",
   "execution_count": 46,
   "id": "d8c15791",
   "metadata": {},
   "outputs": [],
   "source": [
    "res_1_max=get_max_mush(result1)"
   ]
  },
  {
   "cell_type": "code",
   "execution_count": 30,
   "id": "cd9075f1",
   "metadata": {},
   "outputs": [
    {
     "name": "stdout",
     "output_type": "stream",
     "text": [
      "<class 'dict'>\n"
     ]
    },
    {
     "data": {
      "text/plain": [
       "{'Coprinellus_micaceus': 0.007371621,\n",
       " 'Cortinarius_elatior': 0.4490879,\n",
       " 'Cortinarius_flexipes': 0.0055479864,\n",
       " 'Cortinarius_malicorius': 0.015106743,\n",
       " 'Cortinarius_torvus': 0.009534175,\n",
       " 'Cuphophyllus_virgineus': 0.07830286,\n",
       " 'Cylindrobasidium_laeve': 0.00638089,\n",
       " 'Fomes_fomentarius': 0.00574864,\n",
       " 'Fomitopsis_pinicola': 0.06738396,\n",
       " 'Ganoderma_applanatum': 0.02719464,\n",
       " 'Ganoderma_pfeifferi': 0.026327958,\n",
       " 'Hericium_erinaceus': 0.00044051325,\n",
       " 'Other': 0.30157214}"
      ]
     },
     "execution_count": 30,
     "metadata": {},
     "output_type": "execute_result"
    }
   ],
   "source": [
    "url = \"https://mushroom-docker-lpuaioudtq-ew.a.run.app/species2\"\n",
    "predict2 = requests.post(url , headers = headers , data = payload).json()\n",
    "# This is a dictionary but we had to output as a string, so use eval\n",
    "# to make it a dictionary again.\n",
    "result2=eval(predict2)\n",
    "print(type(result2))\n",
    "result2"
   ]
  },
  {
   "cell_type": "code",
   "execution_count": 47,
   "id": "db733e11",
   "metadata": {},
   "outputs": [],
   "source": [
    "res_2_max=get_max_mush(result2)"
   ]
  },
  {
   "cell_type": "code",
   "execution_count": 34,
   "id": "bc499749",
   "metadata": {},
   "outputs": [
    {
     "name": "stdout",
     "output_type": "stream",
     "text": [
      "<class 'dict'>\n"
     ]
    },
    {
     "data": {
      "text/plain": [
       "{'Hypholoma_fasciculare': 0.2527563,\n",
       " 'Leccinum_scabrum': 0.00024495702,\n",
       " 'Mycena_galericulata': 0.0049598734,\n",
       " 'Other': 0.18292418,\n",
       " 'Plicatura_crispa': 0.004082506,\n",
       " 'Pluteus_cervinus': 0.012862915,\n",
       " 'Psathyrella_candolleana': 0.0027951954,\n",
       " 'Russula_mariae': 0.19056284,\n",
       " 'Trametes_versicolor': 0.020243945,\n",
       " 'Tricholoma_scalpturatum': 0.03118043,\n",
       " 'Xerocomellus_chrysenteron': 0.1622364,\n",
       " 'Xerocomus_ferrugineus': 0.1351459,\n",
       " 'Xylodon_paradoxus': 4.5929173e-06}"
      ]
     },
     "execution_count": 34,
     "metadata": {},
     "output_type": "execute_result"
    }
   ],
   "source": [
    "url = \"https://mushroom-docker-lpuaioudtq-ew.a.run.app/species3\"\n",
    "predict3 = requests.post(url , headers = headers , data = payload).json()\n",
    "# This is a dictionary but we had to output as a string, so use eval\n",
    "# to make it a dictionary again.\n",
    "result3=eval(predict3)\n",
    "print(type(result3))\n",
    "result3"
   ]
  },
  {
   "cell_type": "code",
   "execution_count": 48,
   "id": "574689aa",
   "metadata": {},
   "outputs": [
    {
     "name": "stdout",
     "output_type": "stream",
     "text": [
      "('Hypholoma_fasciculare', 0.2527563)\n"
     ]
    }
   ],
   "source": [
    "res_3_max=get_max_mush(result3)\n",
    "print(res_3_max)"
   ]
  },
  {
   "cell_type": "code",
   "execution_count": 53,
   "id": "a6b2234f",
   "metadata": {},
   "outputs": [
    {
     "ename": "ValueError",
     "evalue": "dictionary update sequence element #0 has length 16; 2 is required",
     "output_type": "error",
     "traceback": [
      "\u001b[0;31m---------------------------------------------------------------------------\u001b[0m",
      "\u001b[0;31mValueError\u001b[0m                                Traceback (most recent call last)",
      "Input \u001b[0;32mIn [53]\u001b[0m, in \u001b[0;36m<cell line: 2>\u001b[0;34m()\u001b[0m\n\u001b[1;32m      1\u001b[0m \u001b[38;5;66;03m#get_max_mush(res_1_max,res_2_max,res_3_max)\u001b[39;00m\n\u001b[0;32m----> 2\u001b[0m \u001b[38;5;28;43mdict\u001b[39;49m\u001b[43m(\u001b[49m\u001b[43mres_1_max\u001b[49m\u001b[43m)\u001b[49m\n",
      "\u001b[0;31mValueError\u001b[0m: dictionary update sequence element #0 has length 16; 2 is required"
     ]
    }
   ],
   "source": [
    "#get_max_mush(res_1_max,res_2_max,res_3_max)\n",
    "dict(res_1_max)"
   ]
  },
  {
   "cell_type": "code",
   "execution_count": 49,
   "id": "6473bb10",
   "metadata": {},
   "outputs": [
    {
     "data": {
      "text/plain": [
       "('Amanita_muscaria', 0.9996468)"
      ]
     },
     "execution_count": 49,
     "metadata": {},
     "output_type": "execute_result"
    }
   ],
   "source": [
    "get_max_mush({res_1_max[0]:res_1_max[1], res_2_max[0]:res_2_max[1], res_3_max[0]:res_3_max[1]})"
   ]
  },
  {
   "cell_type": "code",
   "execution_count": 43,
   "id": "67984455",
   "metadata": {},
   "outputs": [
    {
     "data": {
      "text/plain": [
       "{'Cerioporus_varius': 4.4261683e-09,\n",
       " 'Hericium_erinaceus': 0.00044051325,\n",
       " 'Xylodon_paradoxus': 4.5929173e-06}"
      ]
     },
     "execution_count": 43,
     "metadata": {},
     "output_type": "execute_result"
    }
   ],
   "source": [
    "{res_1_max[0]:res_1_max[1], res_2_max[0]:res_2_max[1], res_3_max[0]:res_3_max[1]}"
   ]
  },
  {
   "cell_type": "code",
   "execution_count": null,
   "id": "c2e59a9f",
   "metadata": {},
   "outputs": [],
   "source": []
  }
 ],
 "metadata": {
  "kernelspec": {
   "display_name": "Python 3 (ipykernel)",
   "language": "python",
   "name": "python3"
  },
  "language_info": {
   "codemirror_mode": {
    "name": "ipython",
    "version": 3
   },
   "file_extension": ".py",
   "mimetype": "text/x-python",
   "name": "python",
   "nbconvert_exporter": "python",
   "pygments_lexer": "ipython3",
   "version": "3.8.5"
  }
 },
 "nbformat": 4,
 "nbformat_minor": 5
}
