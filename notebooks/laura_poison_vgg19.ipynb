{
 "cells": [
  {
   "cell_type": "code",
   "execution_count": 1,
   "id": "79b11e9d-1bcb-46e2-9ee5-d8339d525929",
   "metadata": {},
   "outputs": [],
   "source": [
    "import pathlib\n",
    "import splitfolders\n",
    "import tensorflow as tf\n",
    "from tensorflow.keras.preprocessing import image_dataset_from_directory"
   ]
  },
  {
   "cell_type": "markdown",
   "id": "55da89c9-7f37-4413-b325-31489a7deee4",
   "metadata": {},
   "source": [
    "## get data "
   ]
  },
  {
   "cell_type": "code",
   "execution_count": 2,
   "id": "a90d3ac8-62ce-47e9-b463-eb1d8c65a83b",
   "metadata": {},
   "outputs": [],
   "source": [
    "#path = \"/Users/laurameyer/code/DSP-Tan/mushroom_learning/raw_data/mushroom_poison\""
   ]
  },
  {
   "cell_type": "code",
   "execution_count": 3,
   "id": "781f2700-b704-4890-944a-abdd334349fe",
   "metadata": {},
   "outputs": [],
   "source": [
    "#splitfolders.ratio(path, output=\"../raw_data/mushrooms_poison_train_test\",\n",
    "#                   seed=1337, ratio=(.9, .1), group_prefix=None, move=False)"
   ]
  },
  {
   "cell_type": "code",
   "execution_count": 4,
   "id": "6f809fdb-62be-40f5-87a1-5a1d8e5b1f0d",
   "metadata": {},
   "outputs": [],
   "source": [
    "directory = \"/Users/laurameyer/code/DSP-Tan/mushroom_learning/raw_data/mushrooms_poison_train_test/train\""
   ]
  },
  {
   "cell_type": "code",
   "execution_count": 5,
   "id": "ec657dc9-d4be-4af1-80d7-939fae208acc",
   "metadata": {},
   "outputs": [],
   "source": [
    "def get_images_directory(directory):\n",
    "    data_dir = pathlib.Path(directory)\n",
    "    return data_dir"
   ]
  },
  {
   "cell_type": "code",
   "execution_count": 6,
   "id": "a345ee9e-e887-4231-8654-aa7e950fff9b",
   "metadata": {},
   "outputs": [
    {
     "data": {
      "text/plain": [
       "PosixPath('/Users/laurameyer/code/DSP-Tan/mushroom_learning/raw_data/mushrooms_poison_train_test/train')"
      ]
     },
     "execution_count": 6,
     "metadata": {},
     "output_type": "execute_result"
    }
   ],
   "source": [
    "data_dir = get_images_directory(directory)\n",
    "data_dir"
   ]
  },
  {
   "cell_type": "code",
   "execution_count": 7,
   "id": "ada73fc1-c8bc-499f-8a50-8d05d0a2971b",
   "metadata": {},
   "outputs": [
    {
     "name": "stdout",
     "output_type": "stream",
     "text": [
      "8587\n"
     ]
    }
   ],
   "source": [
    "image_count = len(list(data_dir.glob('*/*.jpg')))\n",
    "print(image_count)"
   ]
  },
  {
   "cell_type": "code",
   "execution_count": 8,
   "id": "47e64311-5744-41d8-96c6-8efd25b129f1",
   "metadata": {},
   "outputs": [],
   "source": [
    "img_height = 224\n",
    "img_width = 224\n",
    "batch_size = 32"
   ]
  },
  {
   "cell_type": "code",
   "execution_count": 9,
   "id": "4bc24dbb-4143-4103-a3b2-d58999b9debe",
   "metadata": {},
   "outputs": [
    {
     "name": "stdout",
     "output_type": "stream",
     "text": [
      "Found 10532 files belonging to 2 classes.\n",
      "Using 8426 files for training.\n"
     ]
    },
    {
     "name": "stderr",
     "output_type": "stream",
     "text": [
      "2022-03-07 18:45:51.643633: I tensorflow/core/platform/cpu_feature_guard.cc:151] This TensorFlow binary is optimized with oneAPI Deep Neural Network Library (oneDNN) to use the following CPU instructions in performance-critical operations:  AVX2 FMA\n",
      "To enable them in other operations, rebuild TensorFlow with the appropriate compiler flags.\n"
     ]
    }
   ],
   "source": [
    "def load_training_data():\n",
    "\n",
    "    return tf.keras.utils.image_dataset_from_directory(\n",
    "      data_dir,\n",
    "      labels='inferred',\n",
    "      label_mode='binary', \n",
    "      validation_split=0.2,\n",
    "      subset=\"training\",\n",
    "      seed=123,\n",
    "      image_size=(img_height, img_width),\n",
    "      batch_size=batch_size\n",
    "    )\n",
    "\n",
    "train_ds = load_training_data()"
   ]
  },
  {
   "cell_type": "code",
   "execution_count": 10,
   "id": "e136fe97-0259-4aee-af59-e8cbf2e9f706",
   "metadata": {},
   "outputs": [
    {
     "name": "stdout",
     "output_type": "stream",
     "text": [
      "Found 10532 files belonging to 2 classes.\n",
      "Using 2106 files for validation.\n"
     ]
    }
   ],
   "source": [
    "def load_validation_data():\n",
    "    return tf.keras.utils.image_dataset_from_directory(\n",
    "      data_dir,\n",
    "      labels='inferred', \n",
    "      label_mode='binary',\n",
    "      validation_split=0.2,\n",
    "      subset=\"validation\",\n",
    "      seed=123,\n",
    "      image_size=(img_height, img_width),\n",
    "      batch_size=batch_size\n",
    "    )\n",
    "\n",
    "val_ds = load_validation_data()"
   ]
  },
  {
   "cell_type": "code",
   "execution_count": 11,
   "id": "0ea88ff3-6217-49e7-a5a1-c7855df493da",
   "metadata": {},
   "outputs": [
    {
     "data": {
      "text/plain": [
       "['edable', 'poison']"
      ]
     },
     "execution_count": 11,
     "metadata": {},
     "output_type": "execute_result"
    }
   ],
   "source": [
    "class_names = train_ds.class_names\n",
    "class_names"
   ]
  },
  {
   "cell_type": "code",
   "execution_count": 17,
   "id": "acdda6dd-8009-49ea-9257-f7efb6620252",
   "metadata": {},
   "outputs": [],
   "source": [
    "num_classes = len(class_names)"
   ]
  },
  {
   "cell_type": "code",
   "execution_count": 13,
   "id": "7ad5831c-f9b1-4dcc-98d3-4d97a84c9d17",
   "metadata": {},
   "outputs": [],
   "source": [
    "def get_labels_from_tfdataset(tfdataset, batched=False):\n",
    "\n",
    "    labels = list(map(lambda x: x[1], tfdataset)) # Get labels \n",
    "\n",
    "    if not batched:\n",
    "        return tf.concat(labels, axis=0) # concat the list of batched labels\n",
    "\n",
    "    return labels"
   ]
  },
  {
   "cell_type": "code",
   "execution_count": 14,
   "id": "554feccd-cab9-4786-ab93-41c9286ce80b",
   "metadata": {},
   "outputs": [],
   "source": [
    "def get_inputs_from_tfdataset(tfdataset, batched=False):\n",
    "\n",
    "    labels = list(map(lambda x: x[0], tfdataset)) # Get labels \n",
    "\n",
    "    if not batched:\n",
    "        return tf.concat(labels, axis=0) # concat the list of batched labels\n",
    "\n",
    "    return labels"
   ]
  },
  {
   "cell_type": "markdown",
   "id": "e21bbd01-031a-452b-8095-68f2af2cc91a",
   "metadata": {},
   "source": [
    "## modeling"
   ]
  },
  {
   "cell_type": "code",
   "execution_count": 12,
   "id": "c746838f-c3ab-4e9e-ab23-68667021bf66",
   "metadata": {},
   "outputs": [],
   "source": [
    "from tensorflow.keras.applications.vgg19 import VGG19"
   ]
  },
  {
   "cell_type": "code",
   "execution_count": 15,
   "id": "c4526958-dea0-4a5b-9b26-b297ba177cfb",
   "metadata": {},
   "outputs": [],
   "source": [
    "val_ds_labels = get_labels_from_tfdataset(val_ds)"
   ]
  },
  {
   "cell_type": "code",
   "execution_count": 16,
   "id": "8f6f12d8-2bf0-4a49-8726-a1995d45ffa3",
   "metadata": {},
   "outputs": [],
   "source": [
    "val_ds_inputs = get_inputs_from_tfdataset(val_ds)"
   ]
  },
  {
   "cell_type": "code",
   "execution_count": 18,
   "id": "19f80e46-9764-4212-b94a-b252e182843a",
   "metadata": {},
   "outputs": [],
   "source": [
    "input_shape = (224, 224, 3)\n",
    "\n",
    "def load_model():\n",
    "    \n",
    "    model = tf.keras.applications.VGG19(weights=\"imagenet\", include_top=False, input_shape=input_shape, classes=num_classes, classifier_activation=\"sigmoid\")\n",
    "    \n",
    "    return model"
   ]
  },
  {
   "cell_type": "code",
   "execution_count": 19,
   "id": "3660b7b2-ffe9-406e-bbb9-14a52b6cdb00",
   "metadata": {},
   "outputs": [],
   "source": [
    "def set_nontrainable_layers(model):\n",
    "    \n",
    "    model.trainable = False\n",
    "    \n",
    "    return model"
   ]
  },
  {
   "cell_type": "code",
   "execution_count": 26,
   "id": "c95430d1-ea6c-495f-9e32-7f0f395a603b",
   "metadata": {},
   "outputs": [],
   "source": [
    "from tensorflow.keras import layers, models\n",
    "\n",
    "def add_last_layers(model):\n",
    "    '''Take a pre-trained model, set its parameters as non-trainables, and add additional trainable layers on top'''\n",
    "    base_model = set_nontrainable_layers(model)\n",
    "    dropout_layer = layers.Dropout(0.2)\n",
    "    flatten_layer = layers.Flatten()\n",
    "    dense_layer_1 = layers.Dense(50, activation='relu')\n",
    "    dense_layer_2 = layers.Dense(20, activation='relu')\n",
    "    prediction_layer = layers.Dense(num_classes, activation='sigmoid')\n",
    "    \n",
    "    model = models.Sequential([\n",
    "        layers.Rescaling(1./255),\n",
    "        base_model,\n",
    "        dropout_layer, \n",
    "        flatten_layer,\n",
    "        dense_layer_1,\n",
    "        dense_layer_2,\n",
    "        prediction_layer\n",
    "    ])\n",
    "    \n",
    "    return model"
   ]
  },
  {
   "cell_type": "code",
   "execution_count": 27,
   "id": "93a3c6c5-d47f-4e64-97bd-4f3446ab66c6",
   "metadata": {},
   "outputs": [],
   "source": [
    "vgg_model = load_model()"
   ]
  },
  {
   "cell_type": "code",
   "execution_count": 28,
   "id": "b0c8cdd1-0ae3-4b02-8f09-fa8b9b2a44f8",
   "metadata": {},
   "outputs": [],
   "source": [
    "vgg_model = add_last_layers(vgg_model)"
   ]
  },
  {
   "cell_type": "code",
   "execution_count": 29,
   "id": "c4a86749-7879-4e36-a7dc-40645e76c882",
   "metadata": {},
   "outputs": [],
   "source": [
    "val_prediction = vgg_model.predict(val_ds_inputs)"
   ]
  },
  {
   "cell_type": "code",
   "execution_count": 30,
   "id": "81d9dbb9-73cc-46c5-92f4-a4d484d458a7",
   "metadata": {},
   "outputs": [
    {
     "name": "stdout",
     "output_type": "stream",
     "text": [
      "(2106, 2)\n"
     ]
    },
    {
     "ename": "NameError",
     "evalue": "name 'np' is not defined",
     "output_type": "error",
     "traceback": [
      "\u001b[0;31m---------------------------------------------------------------------------\u001b[0m",
      "\u001b[0;31mNameError\u001b[0m                                 Traceback (most recent call last)",
      "Input \u001b[0;32mIn [30]\u001b[0m, in \u001b[0;36m<cell line: 5>\u001b[0;34m()\u001b[0m\n\u001b[1;32m      1\u001b[0m \u001b[38;5;28;01mfrom\u001b[39;00m \u001b[38;5;21;01msklearn\u001b[39;00m \u001b[38;5;28;01mimport\u001b[39;00m metrics\n\u001b[1;32m      3\u001b[0m \u001b[38;5;28mprint\u001b[39m(val_prediction\u001b[38;5;241m.\u001b[39mshape)\n\u001b[0;32m----> 5\u001b[0m labels \u001b[38;5;241m=\u001b[39m \u001b[43mnp\u001b[49m\u001b[38;5;241m.\u001b[39margmax(val_prediction, axis\u001b[38;5;241m=\u001b[39m\u001b[38;5;241m1\u001b[39m)\n\u001b[1;32m      7\u001b[0m results \u001b[38;5;241m=\u001b[39m metrics\u001b[38;5;241m.\u001b[39maccuracy_score(val_ds_labels, labels)\n\u001b[1;32m      8\u001b[0m results\n",
      "\u001b[0;31mNameError\u001b[0m: name 'np' is not defined"
     ]
    }
   ],
   "source": [
    "from sklearn import metrics\n",
    "import numpy as np\n",
    "\n",
    "print(val_prediction.shape)\n",
    "\n",
    "labels = np.argmax(val_prediction, axis=1)\n",
    "\n",
    "results = metrics.accuracy_score(val_ds_labels, labels)\n",
    "results"
   ]
  },
  {
   "cell_type": "markdown",
   "id": "da9d2d85-9cf3-4b40-8a97-39e6c9a85f0a",
   "metadata": {},
   "source": [
    "## vgg19"
   ]
  },
  {
   "cell_type": "code",
   "execution_count": null,
   "id": "ec201010-218d-4969-9770-a686a357cc50",
   "metadata": {},
   "outputs": [],
   "source": [
    "from tensorflow.keras import optimizers\n",
    "\n",
    "def build_model(): \n",
    "    model = load_model()\n",
    "    model = add_last_layers(model)\n",
    "    \n",
    "    opt = optimizers.Adam(learning_rate=1e-4)\n",
    "    \n",
    "    model = model.compile(loss=tf.keras.losses.BinaryCrossentropy(from_logits=True),\n",
    "                  optimizer=opt,\n",
    "                  metrics=['accuracy'])\n",
    "    return model"
   ]
  },
  {
   "cell_type": "code",
   "execution_count": null,
   "id": "81bf8c08-7cfd-4298-bafc-69663b86f5b8",
   "metadata": {},
   "outputs": [],
   "source": [
    "from tensorflow.keras.callbacks import EarlyStopping\n",
    "\n",
    "epochs = 100\n",
    "\n",
    "model = build_model()\n",
    "\n",
    "es = EarlyStopping(monitor = 'val_accuracy', \n",
    "                   mode = 'max', \n",
    "                   patience = 5, \n",
    "                   verbose = 1, \n",
    "                   restore_best_weights = True)\n",
    "\n",
    "history = model.fit(train_ds,\n",
    "                    validation_data=val_ds,\n",
    "                    epochs=epochs, \n",
    "                    verbose=1,\n",
    "                    callbacks=[es])"
   ]
  },
  {
   "cell_type": "code",
   "execution_count": null,
   "id": "7345df37-f5e5-4299-b1fe-93f29ca81e2a",
   "metadata": {},
   "outputs": [],
   "source": [
    "model.save(\"../model_poison_vgg19\")"
   ]
  },
  {
   "cell_type": "markdown",
   "id": "4dd20216-c7af-4c61-9a48-220583217e83",
   "metadata": {},
   "source": [
    "## prediction"
   ]
  },
  {
   "cell_type": "code",
   "execution_count": null,
   "id": "3f711595-a3f1-4f8a-b2e4-6336fd818fd1",
   "metadata": {},
   "outputs": [],
   "source": [
    "img = tf.keras.utils.load_img(\n",
    "    \"/Users/laurameyer/Desktop/poisonous-white-mushrooms.jpg\", target_size=(img_height, img_width)\n",
    ")"
   ]
  },
  {
   "cell_type": "code",
   "execution_count": null,
   "id": "1f20692c-79b0-43a4-8c94-20e9589e7a6e",
   "metadata": {},
   "outputs": [],
   "source": [
    "img_array = tf.keras.utils.img_to_array(img)\n",
    "img_array = tf.expand_dims(img_array, 0)"
   ]
  },
  {
   "cell_type": "code",
   "execution_count": null,
   "id": "877a0875-fe07-48b1-8a83-e41d13a4670f",
   "metadata": {},
   "outputs": [],
   "source": [
    "prediction = model.predict(img_array)\n",
    "\n",
    "classif = int(prediction > .5)\n",
    "\n",
    "print(f\"This image most likely belongs to {class_names[classif]} with a score of: {prediction[0][0]:.2f}\")"
   ]
  }
 ],
 "metadata": {
  "kernelspec": {
   "display_name": "Python 3 (ipykernel)",
   "language": "python",
   "name": "python3"
  },
  "language_info": {
   "codemirror_mode": {
    "name": "ipython",
    "version": 3
   },
   "file_extension": ".py",
   "mimetype": "text/x-python",
   "name": "python",
   "nbconvert_exporter": "python",
   "pygments_lexer": "ipython3",
   "version": "3.8.12"
  }
 },
 "nbformat": 4,
 "nbformat_minor": 5
}
