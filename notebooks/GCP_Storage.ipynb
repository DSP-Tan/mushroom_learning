{
 "cells": [
  {
   "cell_type": "code",
   "execution_count": 1,
   "id": "1cf32e3c",
   "metadata": {},
   "outputs": [],
   "source": [
    "from google.cloud             import storage"
   ]
  },
  {
   "cell_type": "markdown",
   "id": "a2051f35",
   "metadata": {},
   "source": [
    "## Practice Uploading a regular file from file path"
   ]
  },
  {
   "cell_type": "code",
   "execution_count": 7,
   "id": "3fce50d1",
   "metadata": {},
   "outputs": [
    {
     "name": "stdout",
     "output_type": "stream",
     "text": [
      "fart_poop.txt\r\n"
     ]
    }
   ],
   "source": [
    "! touch fart_poop.txt\n",
    "! ls fart_poop.txt"
   ]
  },
  {
   "cell_type": "code",
   "execution_count": 8,
   "id": "0bb91f1e",
   "metadata": {},
   "outputs": [
    {
     "name": "stdout",
     "output_type": "stream",
     "text": [
      "gs://mushroom-bucket-le-wagon/heroku_mushroom.tgz\r\n",
      "gs://mushroom-bucket-le-wagon/mushroom_learning.tgz\r\n",
      "gs://mushroom-bucket-le-wagon/api_and_app_10_03_2022/\r\n",
      "gs://mushroom-bucket-le-wagon/data/\r\n",
      "gs://mushroom-bucket-le-wagon/models/\r\n"
     ]
    }
   ],
   "source": [
    "! gsutil ls gs://mushroom-bucket-le-wagon"
   ]
  },
  {
   "cell_type": "code",
   "execution_count": 10,
   "id": "c95b4d2e",
   "metadata": {},
   "outputs": [],
   "source": [
    "file_path=\"fart_poop.txt\"\n",
    "client = storage.Client()\n",
    "bucket = client.get_bucket('mushroom-bucket-le-wagon')\n",
    "blob = bucket.blob(file_path)\n",
    "blob.upload_from_filename(file_path)"
   ]
  },
  {
   "cell_type": "code",
   "execution_count": 11,
   "id": "37570b33",
   "metadata": {},
   "outputs": [
    {
     "name": "stdout",
     "output_type": "stream",
     "text": [
      "gs://mushroom-bucket-le-wagon/fart_poop.txt\r\n",
      "gs://mushroom-bucket-le-wagon/heroku_mushroom.tgz\r\n",
      "gs://mushroom-bucket-le-wagon/mushroom_learning.tgz\r\n",
      "gs://mushroom-bucket-le-wagon/api_and_app_10_03_2022/\r\n",
      "gs://mushroom-bucket-le-wagon/data/\r\n",
      "gs://mushroom-bucket-le-wagon/models/\r\n"
     ]
    }
   ],
   "source": [
    "! gsutil ls gs://mushroom-bucket-le-wagon"
   ]
  },
  {
   "cell_type": "markdown",
   "id": "8493ec83",
   "metadata": {},
   "source": [
    "# Practice uploading a tensorflow model to GCS"
   ]
  },
  {
   "cell_type": "code",
   "execution_count": 15,
   "id": "7ae98e9f",
   "metadata": {},
   "outputs": [],
   "source": [
    "import tensorflow as tf\n",
    "from   tensorflow import keras"
   ]
  },
  {
   "cell_type": "code",
   "execution_count": 16,
   "id": "8ffe4057",
   "metadata": {},
   "outputs": [
    {
     "name": "stdout",
     "output_type": "stream",
     "text": [
      "/home/danielsptanner/code/DSP-Tan/mushroom_learning/notebooks\n",
      "-rwxr-xr-x 1 danielsptanner danielsptanner 85K Mar 11 15:38 ../raw_data/amanita.jpg\n",
      "total 1.2M\n",
      "-rw-r--r-- 1 danielsptanner danielsptanner  85K Mar 13 13:57 keras_metadata.pb\n",
      "-rw-r--r-- 1 danielsptanner danielsptanner 562K Mar 13 13:57 saved_model.pb\n",
      "-rw-r--r-- 1 danielsptanner danielsptanner 562K Mar 13 13:57 models_model_1_species_vgg16\n",
      "drwxr-xr-x 2 danielsptanner danielsptanner 4.0K Mar 13 13:57 variables\n",
      "total 656K\n",
      "-rw-r--r-- 1 danielsptanner danielsptanner  85K Mar 13 13:57 keras_metadata.pb\n",
      "-rw-r--r-- 1 danielsptanner danielsptanner 562K Mar 13 13:57 saved_model.pb\n",
      "drwxr-xr-x 2 danielsptanner danielsptanner 4.0K Mar 13 13:57 variables\n",
      "total 1.2M\n",
      "-rw-r--r-- 1 danielsptanner danielsptanner  85K Mar 13 13:57 keras_metadata.pb\n",
      "-rw-r--r-- 1 danielsptanner danielsptanner 562K Mar 13 13:57 saved_model.pb\n",
      "-rw-r--r-- 1 danielsptanner danielsptanner 562K Mar 13 13:57 models_model_3_species_vgg16\n",
      "drwxr-xr-x 2 danielsptanner danielsptanner 4.0K Mar 13 13:57 variables\n"
     ]
    }
   ],
   "source": [
    "!pwd\n",
    "!ls -rtlh ../raw_data/amanita.jpg\n",
    "! ls -rtlh ../models_from_gcp/model_1_species_vgg16/\n",
    "! ls -rtlh ../models_from_gcp/model_2_species_vgg16/\n",
    "! ls -rtlh ../models_from_gcp/model_3_species_vgg16/"
   ]
  },
  {
   "cell_type": "code",
   "execution_count": 18,
   "id": "7b5f5fa2",
   "metadata": {},
   "outputs": [],
   "source": [
    "img_path='../raw_data/amanita.jpg'\n",
    "model1_path='../models_from_gcp/model_1_species_vgg16/'\n",
    "model2_path='../models_from_gcp/model_2_species_vgg16/'\n",
    "model3_path='../models_from_gcp/model_3_species_vgg16/'"
   ]
  },
  {
   "cell_type": "code",
   "execution_count": 19,
   "id": "f3fffdda",
   "metadata": {},
   "outputs": [
    {
     "name": "stderr",
     "output_type": "stream",
     "text": [
      "2022-06-07 10:00:34.787409: W tensorflow/stream_executor/platform/default/dso_loader.cc:64] Could not load dynamic library 'libcuda.so.1'; dlerror: libcuda.so.1: cannot open shared object file: No such file or directory\n",
      "2022-06-07 10:00:34.787476: W tensorflow/stream_executor/cuda/cuda_driver.cc:269] failed call to cuInit: UNKNOWN ERROR (303)\n",
      "2022-06-07 10:00:34.787504: I tensorflow/stream_executor/cuda/cuda_diagnostics.cc:156] kernel driver does not appear to be running on this host (instance-2): /proc/driver/nvidia/version does not exist\n",
      "2022-06-07 10:00:34.789121: I tensorflow/core/platform/cpu_feature_guard.cc:151] This TensorFlow binary is optimized with oneAPI Deep Neural Network Library (oneDNN) to use the following CPU instructions in performance-critical operations:  AVX2 FMA\n",
      "To enable them in other operations, rebuild TensorFlow with the appropriate compiler flags.\n"
     ]
    }
   ],
   "source": [
    "model1=keras.models.load_model(model1_path)"
   ]
  },
  {
   "cell_type": "code",
   "execution_count": 20,
   "id": "ccc0e2fd",
   "metadata": {},
   "outputs": [
    {
     "data": {
      "text/plain": [
       "<keras.engine.sequential.Sequential at 0x7f58e895ea00>"
      ]
     },
     "execution_count": 20,
     "metadata": {},
     "output_type": "execute_result"
    }
   ],
   "source": [
    "model1"
   ]
  },
  {
   "cell_type": "code",
   "execution_count": 21,
   "id": "5459f70b",
   "metadata": {},
   "outputs": [],
   "source": [
    "size=(224,224)\n",
    "batch_size = 32\n",
    "\n",
    "img = tf.keras.utils.load_img(img_path, target_size=size)\n",
    "img_array = tf.keras.utils.img_to_array(img)\n",
    "img_array = tf.expand_dims(img_array, 0)"
   ]
  },
  {
   "cell_type": "code",
   "execution_count": 22,
   "id": "afec5780",
   "metadata": {},
   "outputs": [],
   "source": [
    "prediction1 = model1.predict(img_array)"
   ]
  },
  {
   "cell_type": "code",
   "execution_count": 23,
   "id": "9fdc69da",
   "metadata": {},
   "outputs": [
    {
     "data": {
      "text/plain": [
       "array([[1.2826712e-07, 2.1854573e-06, 9.9965596e-01, 6.1959355e-08,\n",
       "        3.8890176e-09, 2.3032936e-08, 3.9421622e-09, 2.8218472e-04,\n",
       "        8.3172781e-11, 5.9072918e-05, 3.1869463e-10, 4.1977546e-09,\n",
       "        3.7646589e-07]], dtype=float32)"
      ]
     },
     "execution_count": 23,
     "metadata": {},
     "output_type": "execute_result"
    }
   ],
   "source": [
    "prediction1"
   ]
  },
  {
   "cell_type": "code",
   "execution_count": 24,
   "id": "a3b76c62",
   "metadata": {},
   "outputs": [
    {
     "name": "stderr",
     "output_type": "stream",
     "text": [
      "2022-06-07 10:02:44.297254: W tensorflow/python/util/util.cc:368] Sets are not currently considered sequences, but this may change in the future, so consider avoiding using them.\n"
     ]
    },
    {
     "name": "stdout",
     "output_type": "stream",
     "text": [
      "INFO:tensorflow:Assets written to: gs://mushroom-bucket-le-wagon/model_poop_folder/assets\n"
     ]
    }
   ],
   "source": [
    "model1.save(\"gs://mushroom-bucket-le-wagon/model_poop_folder\")"
   ]
  },
  {
   "cell_type": "code",
   "execution_count": 26,
   "id": "7088d599",
   "metadata": {},
   "outputs": [
    {
     "name": "stdout",
     "output_type": "stream",
     "text": [
      "gs://mushroom-bucket-le-wagon/model_poop_folder/\r\n",
      "gs://mushroom-bucket-le-wagon/model_poop_folder/keras_metadata.pb\r\n",
      "gs://mushroom-bucket-le-wagon/model_poop_folder/saved_model.pb\r\n",
      "gs://mushroom-bucket-le-wagon/model_poop_folder/assets/\r\n",
      "gs://mushroom-bucket-le-wagon/model_poop_folder/variables/\r\n"
     ]
    }
   ],
   "source": [
    "! gsutil ls gs://mushroom-bucket-le-wagon/model_poop_folder "
   ]
  },
  {
   "cell_type": "markdown",
   "id": "9855c5b5",
   "metadata": {},
   "source": [
    "# Practice Downloading Model"
   ]
  },
  {
   "cell_type": "code",
   "execution_count": 28,
   "id": "559882a5",
   "metadata": {},
   "outputs": [],
   "source": [
    "model2=keras.models.load_model(\"gs://mushroom-bucket-le-wagon/model_poop_folder\")"
   ]
  },
  {
   "cell_type": "code",
   "execution_count": 32,
   "id": "ac8fb223",
   "metadata": {},
   "outputs": [
    {
     "data": {
      "text/plain": [
       "True"
      ]
     },
     "execution_count": 32,
     "metadata": {},
     "output_type": "execute_result"
    }
   ],
   "source": [
    "(model2.predict(img_array)==prediction1).all()"
   ]
  },
  {
   "cell_type": "markdown",
   "id": "c6c6cc2b",
   "metadata": {},
   "source": [
    "Let's see if this works on google cloud AI platform, and let's investigate the memory issues too."
   ]
  },
  {
   "cell_type": "code",
   "execution_count": null,
   "id": "c4d7e3aa",
   "metadata": {},
   "outputs": [],
   "source": []
  }
 ],
 "metadata": {
  "kernelspec": {
   "display_name": "Python 3 (ipykernel)",
   "language": "python",
   "name": "python3"
  },
  "language_info": {
   "codemirror_mode": {
    "name": "ipython",
    "version": 3
   },
   "file_extension": ".py",
   "mimetype": "text/x-python",
   "name": "python",
   "nbconvert_exporter": "python",
   "pygments_lexer": "ipython3",
   "version": "3.8.5"
  }
 },
 "nbformat": 4,
 "nbformat_minor": 5
}
