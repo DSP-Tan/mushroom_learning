{
 "cells": [
  {
   "cell_type": "markdown",
   "id": "7abd3256-fcde-4916-ae0e-feac6ce9d9f0",
   "metadata": {},
   "source": [
    "## poison model "
   ]
  },
  {
   "cell_type": "code",
   "execution_count": 28,
   "id": "6a9ed5e2-d9bf-40ba-a051-d7eca3cdc6c7",
   "metadata": {},
   "outputs": [
    {
     "name": "stdout",
     "output_type": "stream",
     "text": [
      "The autoreload extension is already loaded. To reload it, use:\n",
      "  %reload_ext autoreload\n",
      "<google.cloud.storage.client.Client object at 0x126ff34c0>\n"
     ]
    }
   ],
   "source": [
    "%load_ext autoreload\n",
    "%autoreload 2\n",
    "from mushroom_learning.gcp import load_model_from_gcp\n",
    "\n",
    "model = load_model_from_gcp()"
   ]
  },
  {
   "cell_type": "code",
   "execution_count": 30,
   "id": "66bd77b8-4125-455e-bbfa-dbb76965bd97",
   "metadata": {},
   "outputs": [],
   "source": [
    "import tensorflow as tf"
   ]
  },
  {
   "cell_type": "code",
   "execution_count": 31,
   "id": "8a28ec99-1715-4308-8cdf-1f7c0dcd913c",
   "metadata": {},
   "outputs": [],
   "source": [
    "img_height = 224\n",
    "img_width = 224\n",
    "class_names = ['edable', 'poison']\n",
    "\n",
    "img = tf.keras.utils.load_img(\"/Users/laurameyer/Desktop/011_DoZoYI2vj20.jpg\", target_size=(img_height, img_width))\n",
    "\n",
    "img_array = tf.keras.utils.img_to_array(img)\n",
    "img_array = tf.expand_dims(img_array, 0) # Create a batch"
   ]
  },
  {
   "cell_type": "code",
   "execution_count": 32,
   "id": "39918da0-7563-4466-8702-16d54fe73b4c",
   "metadata": {},
   "outputs": [
    {
     "data": {
      "text/plain": [
       "array([[0.23696306]], dtype=float32)"
      ]
     },
     "execution_count": 32,
     "metadata": {},
     "output_type": "execute_result"
    }
   ],
   "source": [
    "prediction = model.predict(img_array)\n",
    "prediction"
   ]
  },
  {
   "cell_type": "code",
   "execution_count": 33,
   "id": "bf0e5ad1-72de-443c-9cfc-9293df9bad7b",
   "metadata": {},
   "outputs": [
    {
     "name": "stdout",
     "output_type": "stream",
     "text": [
      "This image most likely belongs to edable with a score of: 0.24\n"
     ]
    }
   ],
   "source": [
    "classif = int(prediction > .5)\n",
    "print(f\"This image most likely belongs to {class_names[classif]} with a score of: {prediction[0][0]:.2f}\")"
   ]
  },
  {
   "cell_type": "markdown",
   "id": "f391d896-6af9-4552-81ab-26e4345c3751",
   "metadata": {},
   "source": [
    "## species model "
   ]
  },
  {
   "cell_type": "code",
   "execution_count": 40,
   "id": "d98b83ba-68ef-430d-b480-587bbb41891a",
   "metadata": {},
   "outputs": [
    {
     "name": "stdout",
     "output_type": "stream",
     "text": [
      "The autoreload extension is already loaded. To reload it, use:\n",
      "  %reload_ext autoreload\n",
      "WARNING:tensorflow:Detecting that an object or model or tf.train.Checkpoint is being deleted with unrestored values. See the following logs for the specific values in question. To silence these warnings, use `status.expect_partial()`. See https://www.tensorflow.org/api_docs/python/tf/train/Checkpoint#restorefor details about the status object returned by the restore function.\n",
      "WARNING:tensorflow:Value in checkpoint could not be found in the restored object: (root).layer-0.layer-0._random_generator._generator._state_var\n",
      "WARNING:tensorflow:Value in checkpoint could not be found in the restored object: (root).layer-0.layer-1._random_generator._generator._state_var\n",
      "WARNING:tensorflow:Value in checkpoint could not be found in the restored object: (root).layer-0.layer-2._random_generator._generator._state_var\n",
      "WARNING:tensorflow:Detecting that an object or model or tf.train.Checkpoint is being deleted with unrestored values. See the following logs for the specific values in question. To silence these warnings, use `status.expect_partial()`. See https://www.tensorflow.org/api_docs/python/tf/train/Checkpoint#restorefor details about the status object returned by the restore function.\n",
      "WARNING:tensorflow:Value in checkpoint could not be found in the restored object: (root).layer-0.layer-0._random_generator._generator._state_var\n",
      "WARNING:tensorflow:Value in checkpoint could not be found in the restored object: (root).layer-0.layer-1._random_generator._generator._state_var\n",
      "WARNING:tensorflow:Value in checkpoint could not be found in the restored object: (root).layer-0.layer-2._random_generator._generator._state_var\n",
      "WARNING:tensorflow:Detecting that an object or model or tf.train.Checkpoint is being deleted with unrestored values. See the following logs for the specific values in question. To silence these warnings, use `status.expect_partial()`. See https://www.tensorflow.org/api_docs/python/tf/train/Checkpoint#restorefor details about the status object returned by the restore function.\n",
      "WARNING:tensorflow:Value in checkpoint could not be found in the restored object: (root).layer-0.layer-0._random_generator._generator._state_var\n",
      "WARNING:tensorflow:Value in checkpoint could not be found in the restored object: (root).layer-0.layer-1._random_generator._generator._state_var\n",
      "WARNING:tensorflow:Value in checkpoint could not be found in the restored object: (root).layer-0.layer-2._random_generator._generator._state_var\n",
      "WARNING:tensorflow:Detecting that an object or model or tf.train.Checkpoint is being deleted with unrestored values. See the following logs for the specific values in question. To silence these warnings, use `status.expect_partial()`. See https://www.tensorflow.org/api_docs/python/tf/train/Checkpoint#restorefor details about the status object returned by the restore function.\n",
      "WARNING:tensorflow:Value in checkpoint could not be found in the restored object: (root).layer-0.layer-0._random_generator._generator._state_var\n",
      "WARNING:tensorflow:Value in checkpoint could not be found in the restored object: (root).layer-0.layer-1._random_generator._generator._state_var\n",
      "WARNING:tensorflow:Value in checkpoint could not be found in the restored object: (root).layer-0.layer-2._random_generator._generator._state_var\n"
     ]
    }
   ],
   "source": [
    "%load_ext autoreload\n",
    "%autoreload 2\n",
    "from mushroom_learning.gcp import load_model_from_gcp\n",
    "\n",
    "\n",
    "model1 = load_model_from_gcp()"
   ]
  },
  {
   "cell_type": "code",
   "execution_count": 41,
   "id": "054e4a29-16c5-4111-88a0-9899261234c2",
   "metadata": {},
   "outputs": [],
   "source": [
    "model = load_model_from_gcp()\n",
    "\n",
    "img_height = 224\n",
    "img_width = 224\n",
    "class_names = ['amanita_muscaria', 'amanita_virosa', 'boletus_edulis', 'cantharellus_cibarius', 'russula_mairei', 'trametes_versicolor']\n",
    "\n",
    "img = tf.keras.utils.load_img(\"/Users/laurameyer/Desktop/011_DoZoYI2vj20.jpg\", target_size=(img_height, img_width))\n",
    "\n",
    "img_array = tf.keras.utils.img_to_array(img)\n",
    "img_array = tf.expand_dims(img_array, 0)\n",
    "\n",
    "prediction = model1.predict(img_array)\n",
    "prediction"
   ]
  },
  {
   "cell_type": "code",
   "execution_count": 42,
   "id": "97487ec6-1ad4-4fb4-84fc-7038ce812ad9",
   "metadata": {},
   "outputs": [
    {
     "data": {
      "text/plain": [
       "array([[4.7710030e-03, 1.9724139e-04, 3.9633127e-05, 9.9299026e-01,\n",
       "        2.0019612e-03, 1.0004289e-08]], dtype=float32)"
      ]
     },
     "execution_count": 42,
     "metadata": {},
     "output_type": "execute_result"
    }
   ],
   "source": [
    "prediction = model1.predict(img_array)\n",
    "prediction"
   ]
  },
  {
   "cell_type": "code",
   "execution_count": 45,
   "id": "1b2644ef-fc0a-445b-adc2-2ea9dd149f78",
   "metadata": {},
   "outputs": [
    {
     "data": {
      "text/plain": [
       "3"
      ]
     },
     "execution_count": 45,
     "metadata": {},
     "output_type": "execute_result"
    }
   ],
   "source": [
    "import numpy as np\n",
    "np.argmax(prediction)"
   ]
  },
  {
   "cell_type": "code",
   "execution_count": 46,
   "id": "80868cf4-1186-419f-bc83-2ff536366b70",
   "metadata": {},
   "outputs": [],
   "source": [
    "from tensorflow import keras\n",
    "\n",
    "model = keras.models.load_model(\"../model_poison_simple_0.68\")"
   ]
  },
  {
   "cell_type": "code",
   "execution_count": 47,
   "id": "3abf8f01-9192-41d6-a840-e69e66164966",
   "metadata": {},
   "outputs": [
    {
     "data": {
      "text/plain": [
       "keras.engine.sequential.Sequential"
      ]
     },
     "execution_count": 47,
     "metadata": {},
     "output_type": "execute_result"
    }
   ],
   "source": [
    "type(model)"
   ]
  },
  {
   "cell_type": "code",
   "execution_count": null,
   "id": "2004b12b-c275-4fee-9c4d-c6238a9c50bb",
   "metadata": {},
   "outputs": [],
   "source": []
  }
 ],
 "metadata": {
  "kernelspec": {
   "display_name": "Python 3 (ipykernel)",
   "language": "python",
   "name": "python3"
  },
  "language_info": {
   "codemirror_mode": {
    "name": "ipython",
    "version": 3
   },
   "file_extension": ".py",
   "mimetype": "text/x-python",
   "name": "python",
   "nbconvert_exporter": "python",
   "pygments_lexer": "ipython3",
   "version": "3.8.12"
  }
 },
 "nbformat": 4,
 "nbformat_minor": 5
}
