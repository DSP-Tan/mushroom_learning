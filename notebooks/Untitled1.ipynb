{
 "cells": [
  {
   "cell_type": "code",
   "execution_count": 28,
   "id": "93e89b09-2c4c-435e-924d-a555c48a6600",
   "metadata": {},
   "outputs": [],
   "source": [
    "mushrooms = ['Agaricus_arvensis',\n",
    " 'Agaricus_impudicus',\n",
    " 'Amanita_muscaria',\n",
    " 'Amanita_virosa',\n",
    " 'Armillaria_lutea',\n",
    " 'Auricularia_auricula_judae',\n",
    " 'Basidioradulum_radula',\n",
    " 'Boletus_edulis',\n",
    " 'Byssomerulius_corium',\n",
    " 'Cantharellus_cibarius',\n",
    " 'Cerioporus_squamosus',\n",
    " 'Cerioporus_varius',\n",
    " 'Coprinellus_micaceus',\n",
    " 'Cortinarius_elatior',\n",
    " 'Cortinarius_flexipes',\n",
    " 'Cortinarius_malicorius',\n",
    " 'Cortinarius_torvus',\n",
    " 'Cuphophyllus_virgineus',\n",
    " 'Cylindrobasidium_laeve',\n",
    " 'Fomes_fomentarius',\n",
    " 'Fomitopsis_pinicola',\n",
    " 'Ganoderma_applanatum',\n",
    " 'Ganoderma_pfeifferi',\n",
    " 'Hericium_erinaceus',\n",
    " 'Hypholoma_fasciculare',\n",
    " 'Leccinum_scabrum',\n",
    " 'Mycena_galericulata',\n",
    " 'Other',\n",
    " 'Plicatura_crispa',\n",
    " 'Pluteus_cervinus',\n",
    " 'Psathyrella_candolleana',\n",
    " 'Russula_mariae',\n",
    " 'Trametes_versicolor',\n",
    " 'Tricholoma_scalpturatum',\n",
    " 'Xerocomellus_chrysenteron',\n",
    " 'Xerocomus_ferrugineus',\n",
    " 'Xylodon_paradoxus']"
   ]
  },
  {
   "cell_type": "code",
   "execution_count": 20,
   "id": "5fccdb1c-ba7b-4206-a42d-7bf7061d1a03",
   "metadata": {},
   "outputs": [
    {
     "data": {
      "text/plain": [
       "array([[0.87244943, 0.24297278, 0.72735911, 0.39445101, 0.22623934,\n",
       "        0.71139481, 0.45918891, 0.14248769, 0.03635186, 0.0102869 ,\n",
       "        0.62780123, 0.89957464]])"
      ]
     },
     "execution_count": 20,
     "metadata": {},
     "output_type": "execute_result"
    }
   ],
   "source": [
    "import numpy as np\n",
    "\n",
    "pred1 = np.random.random((1, 12)) \n",
    "pred2 = np.random.random((1, 12)) \n",
    "pred3 = np.random.random((1, 12)) "
   ]
  },
  {
   "cell_type": "code",
   "execution_count": 23,
   "id": "0f64e125-2d5d-45dd-9638-885b90b8312d",
   "metadata": {},
   "outputs": [
    {
     "data": {
      "text/plain": [
       "array([[0.87244943, 0.24297278, 0.72735911, 0.39445101, 0.22623934,\n",
       "        0.71139481, 0.45918891, 0.14248769, 0.03635186, 0.0102869 ,\n",
       "        0.62780123, 0.89957464, 0.70036096, 0.88865541, 0.39351861,\n",
       "        0.05794614, 0.98231956, 0.87103196, 0.41574145, 0.83441811,\n",
       "        0.07361633, 0.4224784 , 0.22003213, 0.68038257, 0.24265916,\n",
       "        0.27602851, 0.41006598, 0.80669318, 0.62171842, 0.35551383,\n",
       "        0.81498561, 0.22266459, 0.44006738, 0.27616073, 0.84814202,\n",
       "        0.58583974]])"
      ]
     },
     "execution_count": 23,
     "metadata": {},
     "output_type": "execute_result"
    }
   ],
   "source": [
    "pred_all = np.concatenate((pred1, pred2, pred3), axis=1)\n",
    "pred_all"
   ]
  },
  {
   "cell_type": "code",
   "execution_count": 25,
   "id": "bf6542e2-295a-4b11-a48d-719c6192d1ab",
   "metadata": {},
   "outputs": [
    {
     "data": {
      "text/plain": [
       "16"
      ]
     },
     "execution_count": 25,
     "metadata": {},
     "output_type": "execute_result"
    }
   ],
   "source": [
    "highest_value = np.argmax(pred_all)\n",
    "highest_value"
   ]
  },
  {
   "cell_type": "code",
   "execution_count": 29,
   "id": "f0160820-a926-418b-93b5-36a34f6a0f43",
   "metadata": {},
   "outputs": [
    {
     "data": {
      "text/plain": [
       "'Cortinarius_torvus'"
      ]
     },
     "execution_count": 29,
     "metadata": {},
     "output_type": "execute_result"
    }
   ],
   "source": [
    "mushrooms[highest_value]"
   ]
  },
  {
   "cell_type": "code",
   "execution_count": 30,
   "id": "460f1b2a-5aca-4a88-b400-2f0fd1d5470a",
   "metadata": {},
   "outputs": [
    {
     "data": {
      "text/plain": [
       "'Cortinarius_torvus'"
      ]
     },
     "execution_count": 30,
     "metadata": {},
     "output_type": "execute_result"
    }
   ],
   "source": [
    "mushrooms[16]"
   ]
  },
  {
   "cell_type": "code",
   "execution_count": null,
   "id": "f3d86ab1-8c61-488a-9f43-d97088e597ad",
   "metadata": {},
   "outputs": [],
   "source": []
  }
 ],
 "metadata": {
  "kernelspec": {
   "display_name": "Python 3 (ipykernel)",
   "language": "python",
   "name": "python3"
  },
  "language_info": {
   "codemirror_mode": {
    "name": "ipython",
    "version": 3
   },
   "file_extension": ".py",
   "mimetype": "text/x-python",
   "name": "python",
   "nbconvert_exporter": "python",
   "pygments_lexer": "ipython3",
   "version": "3.8.12"
  }
 },
 "nbformat": 4,
 "nbformat_minor": 5
}
