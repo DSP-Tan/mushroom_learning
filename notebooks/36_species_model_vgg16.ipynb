{
 "cells": [
  {
   "cell_type": "code",
   "execution_count": 6,
   "id": "765d2436-5045-4853-88ed-0fbc66cd17c4",
   "metadata": {},
   "outputs": [],
   "source": [
    "import pathlib"
   ]
  },
  {
   "cell_type": "code",
   "execution_count": 14,
   "id": "d187b1be-9edb-4866-9efd-e565f92872bc",
   "metadata": {},
   "outputs": [],
   "source": [
    "#import splitfolders\n",
    "\n",
    "#path1 = \"/Users/laurameyer/code/DSP-Tan/mushroom_learning/raw_data/1_12_mushroom_species\"\n",
    "#path2 = \"/Users/laurameyer/code/DSP-Tan/mushroom_learning/raw_data/2_12_mushroom_species\"\n",
    "#path3 =  \"/Users/laurameyer/code/DSP-Tan/mushroom_learning/raw_data/3_12_mushroom_species\"\n",
    "\n",
    "#splitfolders.ratio(path1, output=\"../raw_data/1_12_mushroom_species_train_test\",\n",
    "#                   seed=1337, ratio=(.9, .1), group_prefix=None, move=False)\n",
    "\n",
    "#splitfolders.ratio(path2, output=\"../raw_data/2_12_mushroom_species_train_test\",\n",
    "#                   seed=1337, ratio=(.9, .1), group_prefix=None, move=False)\n",
    "\n",
    "#splitfolders.ratio(path3, output=\"../raw_data/3_12_mushroom_species_train_test\",\n",
    "#                   seed=1337, ratio=(.9, .1), group_prefix=None, move=False)"
   ]
  },
  {
   "cell_type": "code",
   "execution_count": 23,
   "id": "562ca8a7-ec9b-4aa4-8c4f-8f7b70ca56e6",
   "metadata": {},
   "outputs": [],
   "source": [
    "directory1 = \"/Users/laurameyer/code/DSP-Tan/mushroom_learning/raw_data/1_12_mushroom_species_train_test/train\""
   ]
  },
  {
   "cell_type": "code",
   "execution_count": 24,
   "id": "d955f7a0-607f-4bec-a607-8a43df701f9f",
   "metadata": {},
   "outputs": [
    {
     "data": {
      "text/plain": [
       "4692"
      ]
     },
     "execution_count": 24,
     "metadata": {},
     "output_type": "execute_result"
    }
   ],
   "source": [
    "def get_images_directory(directory):\n",
    "    data_dir = pathlib.Path(directory)\n",
    "    return data_dir \n",
    "\n",
    "data_dir = get_images_directory(directory1)\n",
    "\n",
    "image_count = len(list(data_dir.glob('*/*.jpg')))\n",
    "image_count"
   ]
  },
  {
   "cell_type": "code",
   "execution_count": null,
   "id": "d406e856-2604-4d25-8355-de8b6ade1f2f",
   "metadata": {},
   "outputs": [],
   "source": []
  },
  {
   "cell_type": "code",
   "execution_count": null,
   "id": "13fc93ef-05b3-4b2d-a8eb-241eaa7b23d5",
   "metadata": {},
   "outputs": [],
   "source": []
  }
 ],
 "metadata": {
  "kernelspec": {
   "display_name": "Python 3 (ipykernel)",
   "language": "python",
   "name": "python3"
  },
  "language_info": {
   "codemirror_mode": {
    "name": "ipython",
    "version": 3
   },
   "file_extension": ".py",
   "mimetype": "text/x-python",
   "name": "python",
   "nbconvert_exporter": "python",
   "pygments_lexer": "ipython3",
   "version": "3.8.12"
  }
 },
 "nbformat": 4,
 "nbformat_minor": 5
}
