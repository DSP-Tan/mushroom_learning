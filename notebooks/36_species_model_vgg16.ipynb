{
 "cells": [
  {
   "cell_type": "markdown",
   "id": "fe891d25-08b5-40ac-8bfa-5ec6bcee7cc1",
   "metadata": {},
   "source": [
    "## VGG16 36 SPECIES MODEL 2"
   ]
  },
  {
   "cell_type": "code",
   "execution_count": 1,
   "id": "e88efee9-d266-4b36-8436-f61af2ca7693",
   "metadata": {},
   "outputs": [],
   "source": [
    "import tensorflow as tf\n",
    "from tensorflow import keras\n",
    "from tensorflow.keras import layers\n",
    "from tensorflow.keras.models import Sequential\n",
    "from tensorflow.keras.preprocessing import image_dataset_from_directory\n",
    "import pathlib"
   ]
  },
  {
   "cell_type": "code",
   "execution_count": 2,
   "id": "eda2c635-c4de-4e9f-8f5c-439294d02681",
   "metadata": {},
   "outputs": [],
   "source": [
    "path = \"/Users/laurameyer/code/DSP-Tan/mushroom_learning/raw_data/2_12_mushroom_species_train_test/train\"\n",
    "path_test = \"/Users/laurameyer/code/DSP-Tan/mushroom_learning/raw_data/2_12_mushroom_species_train_test/test\""
   ]
  },
  {
   "cell_type": "code",
   "execution_count": 3,
   "id": "d955f7a0-607f-4bec-a607-8a43df701f9f",
   "metadata": {},
   "outputs": [
    {
     "data": {
      "text/plain": [
       "3170"
      ]
     },
     "execution_count": 3,
     "metadata": {},
     "output_type": "execute_result"
    }
   ],
   "source": [
    "def get_images_directory(directory):\n",
    "    data_dir = pathlib.Path(directory)\n",
    "    return data_dir \n",
    "\n",
    "data_dir = get_images_directory(path)\n",
    "data_dir_test = get_images_directory(path_test)\n",
    "\n",
    "image_count = len(list(data_dir.glob('*/*.jpg')))\n",
    "image_count"
   ]
  },
  {
   "cell_type": "code",
   "execution_count": 4,
   "id": "d406e856-2604-4d25-8355-de8b6ade1f2f",
   "metadata": {},
   "outputs": [],
   "source": [
    "import os\n",
    "os.environ['TF_CPP_MIN_LOG_LEVEL'] = '2'\n",
    "\n",
    "\n",
    "IMG_HEIGHT = 224\n",
    "IMG_WIDTH = 224\n",
    "BATCH_SIZE = 32\n",
    "\n",
    "\n",
    "def load_training_data(data_dir):\n",
    "\n",
    "    return tf.keras.utils.image_dataset_from_directory(\n",
    "      data_dir,\n",
    "      labels='inferred',\n",
    "      validation_split=0.2,\n",
    "      subset=\"training\",\n",
    "      seed=123,\n",
    "      image_size=(IMG_HEIGHT, IMG_WIDTH),\n",
    "      batch_size=BATCH_SIZE\n",
    "    )\n",
    "    \n",
    "def load_validation_data(data_dir):\n",
    "\n",
    "    return tf.keras.utils.image_dataset_from_directory(\n",
    "      data_dir,\n",
    "      labels='inferred',\n",
    "      validation_split=0.2,\n",
    "      subset=\"validation\",\n",
    "      seed=123,\n",
    "      image_size=(IMG_HEIGHT, IMG_WIDTH),\n",
    "      batch_size=BATCH_SIZE\n",
    "    )\n",
    "\n",
    "def load_testing_data(data_dir):\n",
    "    return tf.keras.utils.image_dataset_from_directory(\n",
    "      data_dir,\n",
    "      labels='inferred',\n",
    "      seed=123,\n",
    "      image_size=(IMG_HEIGHT, IMG_WIDTH),\n",
    "      batch_size=BATCH_SIZE\n",
    "    )"
   ]
  },
  {
   "cell_type": "code",
   "execution_count": 5,
   "id": "13fc93ef-05b3-4b2d-a8eb-241eaa7b23d5",
   "metadata": {},
   "outputs": [],
   "source": [
    "def get_labels_from_tfdataset(tfdataset, batched=False):\n",
    "\n",
    "    labels = list(map(lambda x: x[1], tfdataset)) # Get labels \n",
    "\n",
    "    if not batched:\n",
    "        return tf.concat(labels, axis=0) # concat the list of batched labels\n",
    "\n",
    "    return labels\n",
    "\n",
    "def get_inputs_from_tfdataset(tfdataset, batched=False):\n",
    "\n",
    "    labels = list(map(lambda x: x[0], tfdataset)) # Get labels \n",
    "\n",
    "    if not batched:\n",
    "        return tf.concat(labels, axis=0) # concat the list of batched labels\n",
    "\n",
    "    return labels"
   ]
  },
  {
   "cell_type": "code",
   "execution_count": 6,
   "id": "a84d9faa-1212-4a57-b7a3-83e79f9acace",
   "metadata": {},
   "outputs": [
    {
     "name": "stdout",
     "output_type": "stream",
     "text": [
      "Found 3170 files belonging to 13 classes.\n",
      "Using 2536 files for training.\n",
      "Found 3170 files belonging to 13 classes.\n",
      "Using 634 files for validation.\n",
      "Found 358 files belonging to 13 classes.\n"
     ]
    }
   ],
   "source": [
    "train_ds = load_training_data(data_dir)\n",
    "val_ds = load_validation_data(data_dir)\n",
    "test_ds = load_testing_data(data_dir_test)"
   ]
  },
  {
   "cell_type": "code",
   "execution_count": 7,
   "id": "ba1393a4-a71a-464d-bef8-08ab076c96cf",
   "metadata": {},
   "outputs": [],
   "source": [
    "def data_augmentation():\n",
    "\n",
    "        return keras.Sequential(\n",
    "        [\n",
    "            layers.RandomRotation(0.1),\n",
    "            layers.RandomZoom(0.1),\n",
    "        ]\n",
    "        )"
   ]
  },
  {
   "cell_type": "code",
   "execution_count": 8,
   "id": "30844051-5afe-4739-9876-e735e5131fea",
   "metadata": {},
   "outputs": [],
   "source": [
    "from tensorflow.keras.applications.vgg16 import VGG16\n",
    "\n",
    "input_shape = (224, 224, 3)\n",
    "num_classes = len(train_ds.class_names)\n",
    "\n",
    "def load_model():\n",
    "        return VGG16(weights=\"imagenet\", include_top=False, input_shape=input_shape, classes=num_classes, classifier_activation=\"softmax\")\n",
    "    "
   ]
  },
  {
   "cell_type": "code",
   "execution_count": 9,
   "id": "eccd6bfd-5b81-494f-935b-ccc4f36ce382",
   "metadata": {},
   "outputs": [],
   "source": [
    "def set_nontrainable_layers(model):\n",
    "    \n",
    "    model.trainable = False\n",
    "    \n",
    "    return model"
   ]
  },
  {
   "cell_type": "code",
   "execution_count": 10,
   "id": "381e4f67-735a-45db-a951-61a4020a190e",
   "metadata": {},
   "outputs": [],
   "source": [
    "from tensorflow.keras import layers, models\n",
    "\n",
    "def add_last_layers(model):\n",
    "    '''Take a pre-trained model, set its parameters as non-trainables, and add additional trainable layers on top'''\n",
    "    initializer = tf.keras.initializers.GlorotUniform(seed=0)\n",
    "    base_model = set_nontrainable_layers(model)\n",
    "    dropout_layer = layers.Dropout(0.2)\n",
    "    flatten_layer = layers.Flatten()\n",
    "    dense_layer_1 = layers.Dense(50, activation='relu', kernel_initializer=initializer)\n",
    "    dense_layer_2 = layers.Dense(20, activation='relu', kernel_initializer=initializer)\n",
    "    prediction_layer = layers.Dense(num_classes, activation='softmax')\n",
    "    \n",
    "    model = models.Sequential([\n",
    "        data_augmentation(),\n",
    "        layers.Rescaling(1./255),\n",
    "        base_model,\n",
    "        dropout_layer, \n",
    "        flatten_layer,\n",
    "        dense_layer_1,\n",
    "        dense_layer_2,\n",
    "        prediction_layer\n",
    "    ])\n",
    "    \n",
    "    return model"
   ]
  },
  {
   "cell_type": "code",
   "execution_count": 11,
   "id": "e4d0ef83-1ecc-4738-89ff-75034fe8dbef",
   "metadata": {},
   "outputs": [],
   "source": [
    "from tensorflow.keras import optimizers\n",
    "\n",
    "def build_model():\n",
    "        model = load_model()\n",
    "        model = add_last_layers(model)\n",
    "        \n",
    "        opt = optimizers.Adam(learning_rate=5e-4)\n",
    "        \n",
    "        model.compile(loss=tf.keras.losses.SparseCategoricalCrossentropy(from_logits=True),\n",
    "                    optimizer=opt,\n",
    "                    metrics=['accuracy'])\n",
    "        return model "
   ]
  },
  {
   "cell_type": "code",
   "execution_count": null,
   "id": "d5598a6a-3e52-4dd6-89de-c0f4be7d5842",
   "metadata": {},
   "outputs": [
    {
     "name": "stdout",
     "output_type": "stream",
     "text": [
      "Epoch 1/100\n"
     ]
    },
    {
     "name": "stderr",
     "output_type": "stream",
     "text": [
      "/Users/laurameyer/.pyenv/versions/3.8.12/envs/mushroom_learning/lib/python3.8/site-packages/tensorflow/python/util/dispatch.py:1082: UserWarning: \"`sparse_categorical_crossentropy` received `from_logits=True`, but the `output` argument was produced by a sigmoid or softmax activation and thus does not represent logits. Was this intended?\"\n",
      "  return dispatch_target(*args, **kwargs)\n"
     ]
    },
    {
     "name": "stdout",
     "output_type": "stream",
     "text": [
      "80/80 [==============================] - 876s 11s/step - loss: 2.3427 - accuracy: 0.2007 - val_loss: 2.1636 - val_accuracy: 0.2539\n",
      "Epoch 2/100\n",
      "80/80 [==============================] - 771s 10s/step - loss: 2.0031 - accuracy: 0.2946 - val_loss: 1.8912 - val_accuracy: 0.3549\n",
      "Epoch 3/100\n",
      "70/80 [=========================>....] - ETA: 1:16 - loss: 1.7919 - accuracy: 0.3781"
     ]
    }
   ],
   "source": [
    "from tensorflow.keras.callbacks import EarlyStopping\n",
    "\n",
    "\n",
    "epochs = 100\n",
    "\n",
    "\n",
    "model = build_model()\n",
    "\n",
    "es = EarlyStopping(monitor = 'val_accuracy', \n",
    "                   mode = 'max', \n",
    "                   patience = 5, \n",
    "                   verbose = 1, \n",
    "                   restore_best_weights = True)\n",
    "\n",
    "history = model.fit(train_ds,\n",
    "                    validation_data=val_ds,\n",
    "                    epochs=epochs, \n",
    "                    verbose=1,\n",
    "                    callbacks=[es])"
   ]
  },
  {
   "cell_type": "code",
   "execution_count": null,
   "id": "6e7e40e7-b3e0-4f49-9927-278bcd8f54d8",
   "metadata": {},
   "outputs": [],
   "source": [
    "model.save(\"../model_2_species_vgg16\")"
   ]
  },
  {
   "cell_type": "code",
   "execution_count": null,
   "id": "23f837ff-6fd0-4716-97fb-5f9813f14a90",
   "metadata": {},
   "outputs": [],
   "source": [
    "## let me know when your model is saved locally, the I'll help you to upload it to gcp! "
   ]
  }
 ],
 "metadata": {
  "kernelspec": {
   "display_name": "Python 3 (ipykernel)",
   "language": "python",
   "name": "python3"
  },
  "language_info": {
   "codemirror_mode": {
    "name": "ipython",
    "version": 3
   },
   "file_extension": ".py",
   "mimetype": "text/x-python",
   "name": "python",
   "nbconvert_exporter": "python",
   "pygments_lexer": "ipython3",
   "version": "3.8.12"
  }
 },
 "nbformat": 4,
 "nbformat_minor": 5
}
