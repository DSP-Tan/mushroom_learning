{
 "cells": [
  {
   "cell_type": "code",
   "execution_count": 4,
   "metadata": {},
   "outputs": [
    {
     "name": "stderr",
     "output_type": "stream",
     "text": [
      "2022-03-09 19:34:08.152602: W tensorflow/stream_executor/platform/default/dso_loader.cc:64] Could not load dynamic library 'libcudart.so.11.0'; dlerror: libcudart.so.11.0: cannot open shared object file: No such file or directory\n",
      "2022-03-09 19:34:08.152671: I tensorflow/stream_executor/cuda/cudart_stub.cc:29] Ignore above cudart dlerror if you do not have a GPU set up on your machine.\n"
     ]
    }
   ],
   "source": [
    "import matplotlib.pyplot as plt\n",
    "import pathlib\n",
    "import requests\n",
    "import io\n",
    "import os\n",
    "import numpy as np\n",
    "import pathlib\n",
    "import PIL\n",
    "import base64\n",
    "\n",
    "import tensorflow as tf\n",
    "import cv2        as cv\n",
    "import numpy      as np\n",
    "\n",
    "from fastapi                  import FastAPI,File, UploadFile\n",
    "from fastapi.middleware.cors  import CORSMiddleware\n",
    "#from mushroom_learning.gcp    import get_model\n",
    "\n",
    "from tensorflow               import keras\n",
    "from tensorflow.keras         import utils\n"
   ]
  },
  {
   "cell_type": "markdown",
   "metadata": {},
   "source": [
    "# Checking API"
   ]
  },
  {
   "cell_type": "code",
   "execution_count": 1,
   "metadata": {},
   "outputs": [
    {
     "name": "stdout",
     "output_type": "stream",
     "text": [
      "http://127.0.0.1:8000/size/\n",
      "http://127.0.0.1:8000/predict/\n"
     ]
    }
   ],
   "source": [
    "URL_base    = 'https://mushroom-docker-lpuaioudtq-ew.a.run.app/'\n",
    "URL_base    = 'http://127.0.0.1:8000/'\n",
    "URL_size    = URL_base+\"size/\"\n",
    "URL_predict = URL_base+\"predict/\"\n",
    "URL_poison  = URL_base+\"poison/\"\n",
    "URL_species = URL_base+\"species/\"\n",
    "\n",
    "print(URL_size)\n",
    "print(URL_predict)"
   ]
  },
  {
   "cell_type": "markdown",
   "metadata": {},
   "source": [
    "## Open an Image"
   ]
  },
  {
   "cell_type": "markdown",
   "metadata": {},
   "source": [
    "To really test how it will be in production, we need to put this notebook somewhere it can see the image, but the api cannot."
   ]
  },
  {
   "cell_type": "code",
   "execution_count": 2,
   "metadata": {},
   "outputs": [
    {
     "name": "stdout",
     "output_type": "stream",
     "text": [
      "-rwxr-xr-x 1 danielsptanner danielsptanner 85K Mar  9 11:35 amanita.jpg\n",
      "/home/danielsptanner/code/DSP-Tan/mushroom_learning/notebooks\n"
     ]
    }
   ],
   "source": [
    "!ls -rtlh 'amanita.jpg'\n",
    "!pwd"
   ]
  },
  {
   "cell_type": "code",
   "execution_count": 5,
   "metadata": {},
   "outputs": [
    {
     "name": "stdout",
     "output_type": "stream",
     "text": [
      "<class 'PIL.JpegImagePlugin.JpegImageFile'>\n",
      "(600, 800, 3)\n",
      "So every row has 1024 columns, each with a depth of 3, total elements:2018304\n",
      "\n",
      "These are not bytes, as this does not bear a fixed relation to the filesize: 33.73059696503777\n"
     ]
    }
   ],
   "source": [
    "amanita_loc='amanita.jpg'\n",
    "image=PIL.Image.open(amanita_loc)\n",
    "print(type(image))\n",
    "image_array = np.array(image)\n",
    "print(image_array.shape)\n",
    "print(f'So every row has 1024 columns, each with a depth of 3, total elements:{657*1024*3}')\n",
    "print(f'\\nThese are not bytes, as this does not bear a fixed relation to the filesize: {2018304/59836}')"
   ]
  },
  {
   "cell_type": "markdown",
   "metadata": {},
   "source": [
    "## Check uvicorn run locally"
   ]
  },
  {
   "cell_type": "markdown",
   "metadata": {},
   "source": [
    "### Check base URL"
   ]
  },
  {
   "cell_type": "code",
   "execution_count": 5,
   "metadata": {},
   "outputs": [],
   "source": [
    "URL_base    = 'http://127.0.0.1:8000/'\n",
    "URL_size    = URL_base+\"size/\"\n",
    "URL_predict = URL_base+\"predict/\""
   ]
  },
  {
   "cell_type": "code",
   "execution_count": 6,
   "metadata": {},
   "outputs": [
    {
     "name": "stdout",
     "output_type": "stream",
     "text": [
      "[\"Don't eat that mushroom!\"]\n"
     ]
    }
   ],
   "source": [
    "response = requests.get(URL_base)\n",
    "print(response.json())"
   ]
  },
  {
   "cell_type": "markdown",
   "metadata": {},
   "source": [
    "### Check image size"
   ]
  },
  {
   "cell_type": "markdown",
   "metadata": {},
   "source": [
    "#### Open image as binary, write to np array byte array, and encode as base64"
   ]
  },
  {
   "cell_type": "code",
   "execution_count": 7,
   "metadata": {},
   "outputs": [
    {
     "name": "stdout",
     "output_type": "stream",
     "text": [
      "-rwxr-xr-x 1 danielsptanner danielsptanner 85K Mar  9 11:35 amanita.jpg\r\n"
     ]
    }
   ],
   "source": [
    "! ls -rtlh amanita.jpg \n",
    "with open('amanita.jpg', 'rb') as f:\n",
    "    im_API = f.read()\n",
    "im_API=np.asarray(bytearray(im_API), dtype=\"uint8\")\n",
    "encoded = base64.b64encode(im_API)"
   ]
  },
  {
   "cell_type": "markdown",
   "metadata": {},
   "source": [
    "#### Confirm we can decode this and repeat preprocessing steps"
   ]
  },
  {
   "cell_type": "code",
   "execution_count": 8,
   "metadata": {},
   "outputs": [
    {
     "name": "stdout",
     "output_type": "stream",
     "text": [
      "filesize 86.717, type of array <class 'bytes'>\n"
     ]
    },
    {
     "data": {
      "text/plain": [
       "True"
      ]
     },
     "execution_count": 8,
     "metadata": {},
     "output_type": "execute_result"
    }
   ],
   "source": [
    "decoded_mush=base64.decodebytes(encoded)\n",
    "print(f'filesize {len(decoded_mush)/1000}, type of array {type(decoded_mush)}')\n",
    "new_im_API=np.asarray(bytearray(decoded_mush), dtype=\"uint8\")\n",
    "np.array_equal(new_im_API,im_API)"
   ]
  },
  {
   "cell_type": "markdown",
   "metadata": {},
   "source": [
    "### Pass encoded array to API /size end point"
   ]
  },
  {
   "cell_type": "code",
   "execution_count": 9,
   "metadata": {},
   "outputs": [
    {
     "name": "stdout",
     "output_type": "stream",
     "text": [
      "This file is 86.717 Kbytes and type <class 'bytes'>\n"
     ]
    }
   ],
   "source": [
    "files={'mush':encoded}\n",
    "response = requests.get(URL_size,data=files)\n",
    "print(response.json())"
   ]
  },
  {
   "cell_type": "markdown",
   "metadata": {},
   "source": [
    "### Pass encoded array to API /poison end point"
   ]
  },
  {
   "cell_type": "code",
   "execution_count": 10,
   "metadata": {},
   "outputs": [
    {
     "name": "stdout",
     "output_type": "stream",
     "text": [
      "<Response [200]>\n",
      "This mushroom is most likely poisonous. Score: 0.70\n"
     ]
    }
   ],
   "source": [
    "files={'mush':encoded}\n",
    "response = requests.get(URL_poison,data=files)\n",
    "print(response)\n",
    "print(response.json())"
   ]
  },
  {
   "cell_type": "code",
   "execution_count": 11,
   "metadata": {},
   "outputs": [],
   "source": [
    "def check_size(mush: bytes = File(...)):\n",
    "    # convert to bytes with bytearray, and to np array\n",
    "    image = np.asarray(bytearray(mush), dtype=\"uint8\")\n",
    "    return f'This file is {len(image)/1000} Kbytes'"
   ]
  },
  {
   "cell_type": "code",
   "execution_count": 12,
   "metadata": {},
   "outputs": [
    {
     "name": "stdout",
     "output_type": "stream",
     "text": [
      "<class 'PIL.JpegImagePlugin.JpegImageFile'>\n",
      "76.058\n",
      "This file is 76.058 Kbytes\n"
     ]
    }
   ],
   "source": [
    "img = PIL.Image.open(amanita_loc, mode='r')\n",
    "print(type(img))\n",
    "img_byte_arr = io.BytesIO()\n",
    "img.save(img_byte_arr, format='jpeg')\n",
    "img_byte_arr = img_byte_arr.getvalue()\n",
    "print(len(img_byte_arr)/1000)\n",
    "print(check_size(img_byte_arr))"
   ]
  },
  {
   "cell_type": "code",
   "execution_count": null,
   "metadata": {},
   "outputs": [],
   "source": [
    "!ls -rtlh amanita.jpg"
   ]
  },
  {
   "cell_type": "markdown",
   "metadata": {},
   "source": [
    "## Check local model prediction"
   ]
  },
  {
   "cell_type": "code",
   "execution_count": 14,
   "metadata": {},
   "outputs": [],
   "source": [
    "model=keras.models.load_model('../our_first_model/')"
   ]
  },
  {
   "cell_type": "code",
   "execution_count": 15,
   "metadata": {},
   "outputs": [],
   "source": [
    "def image_API(im_path,size):\n",
    "    # convert to bites (this step should be excluded in an actual API, as the\n",
    "    # image arrives in bytes from the get or post functions.)\n",
    "    with open(im_path, 'rb') as f:\n",
    "        im_API = f.read()\n",
    "    # convert to np array.    \n",
    "    im_API=np.asarray(bytearray(im_API), dtype=\"uint8\")\n",
    "    # decode byte array back into image, and then adjust\n",
    "    # for cv's automatic BGR representation\n",
    "    im_API = cv.imdecode(im_API,cv.IMREAD_COLOR)\n",
    "    im_API = cv.cvtColor(im_API , cv.COLOR_BGR2RGB)\n",
    "    \n",
    "    # resize using tensor flow with nearest neighbour interpolation\n",
    "    im_API=tf.image.resize(im_API,size, method=tf.image.ResizeMethod.NEAREST_NEIGHBOR)\n",
    "    # Expand for CNN\n",
    "    im_API = tf.expand_dims(im_API, 0) \n",
    "    \n",
    "    return im_API"
   ]
  },
  {
   "cell_type": "code",
   "execution_count": 16,
   "metadata": {},
   "outputs": [],
   "source": [
    "im_API=image_API(amanita_loc,(224,224))"
   ]
  },
  {
   "cell_type": "code",
   "execution_count": 17,
   "metadata": {},
   "outputs": [
    {
     "name": "stdout",
     "output_type": "stream",
     "text": [
      "0.70:edible\n"
     ]
    }
   ],
   "source": [
    "prediction_API=model.predict(im_API)\n",
    "classif_API = int(prediction_API > .5)\n",
    "print(f'{prediction_API[0][0]:.2f}:{(\"poison\",\"edible\")[classif_API]}')"
   ]
  },
  {
   "cell_type": "markdown",
   "metadata": {},
   "source": [
    "## Check local docker incapsulated API"
   ]
  },
  {
   "cell_type": "code",
   "execution_count": 22,
   "metadata": {},
   "outputs": [
    {
     "name": "stdout",
     "output_type": "stream",
     "text": [
      "<Response [200]>\n",
      "['amanita_muscaria', 99.9999999999]\n"
     ]
    }
   ],
   "source": [
    "files={'mush':encoded}\n",
    "response = requests.get(URL_species,data=files)\n",
    "print(response)\n",
    "print(response.json())"
   ]
  },
  {
   "cell_type": "code",
   "execution_count": null,
   "metadata": {},
   "outputs": [],
   "source": []
  }
 ],
 "metadata": {
  "kernelspec": {
   "display_name": "Python 3 (ipykernel)",
   "language": "python",
   "name": "python3"
  },
  "language_info": {
   "codemirror_mode": {
    "name": "ipython",
    "version": 3
   },
   "file_extension": ".py",
   "mimetype": "text/x-python",
   "name": "python",
   "nbconvert_exporter": "python",
   "pygments_lexer": "ipython3",
   "version": "3.8.5"
  },
  "toc": {
   "base_numbering": 1,
   "nav_menu": {},
   "number_sections": true,
   "sideBar": true,
   "skip_h1_title": false,
   "title_cell": "Table of Contents",
   "title_sidebar": "Contents",
   "toc_cell": false,
   "toc_position": {},
   "toc_section_display": true,
   "toc_window_display": false
  }
 },
 "nbformat": 4,
 "nbformat_minor": 4
}
