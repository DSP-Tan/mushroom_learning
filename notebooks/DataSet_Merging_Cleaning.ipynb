{
 "cells": [
  {
   "cell_type": "code",
   "execution_count": 22,
   "id": "fd55e0a6",
   "metadata": {},
   "outputs": [],
   "source": [
    "import matplotlib.pyplot as plt\n",
    "import numpy             as np\n",
    "import pandas            as pd\n",
    "import cv2               as cv\n",
    "\n",
    "import os\n",
    "import sys, tarfile\n",
    "\n",
    "# To do with reading files as bits\n",
    "import io\n",
    "\n",
    "import PIL\n",
    "\n",
    "from os.path                  import join, dirname, abspath\n",
    "from mushroom_learning.params import BUCKET_NAME, STORAGE_LOCATION\n",
    "from google.cloud             import storage\n",
    "\n"
   ]
  },
  {
   "cell_type": "markdown",
   "id": "47c7f6fc",
   "metadata": {},
   "source": [
    "# Dowload Relevant directories"
   ]
  },
  {
   "cell_type": "markdown",
   "id": "bfc7f322",
   "metadata": {},
   "source": [
    "In my case I already have many downloaded, they are located at:"
   ]
  },
  {
   "cell_type": "code",
   "execution_count": 5,
   "id": "b391a986",
   "metadata": {},
   "outputs": [
    {
     "name": "stdout",
     "output_type": "stream",
     "text": [
      "total 1.5M\r\n",
      "-rw-r--r-- 1 noel noel 366K Sep 20  2019 UCI_mushrooms.csv\r\n",
      "drwxr-xr-x 8 noel noel 4.0K Feb 28 14:53 David_Harper_species_pictures\r\n",
      "drwxr-xr-x 2 noel noel 4.0K Feb 28 15:10 Dinahar_P_properties\r\n",
      "drwxr-xr-x 4 noel noel 4.0K Feb 28 15:43 Stepan_Dupliak_edibleOrPoison_Photo\r\n",
      "-rw-r--r-- 1 noel noel 546K Feb 28 16:26 categoricals\r\n",
      "-rw-r--r-- 1 noel noel 546K Feb 28 16:26 categoricals.tgz\r\n",
      "-rw-r--r-- 1 noel noel  707 Feb 28 17:05 README\r\n",
      "drwxr-xr-x 5 noel noel 4.0K Feb 28 20:09 Ilya_kondrusevich_mushrooms\r\n",
      "drwxr-xr-x 8 noel noel 4.0K Mar  4 07:50 David_Harper_Labelled_Cleaned\r\n",
      "drwxr-xr-x 8 noel noel 4.0K Mar  4 11:36 Six_Species_Clean\r\n",
      "drwxr-xr-x 4 noel noel 4.0K Mar  6 16:21 fungi_identification\r\n"
     ]
    }
   ],
   "source": [
    "!ls -rtlh ../raw_data"
   ]
  },
  {
   "cell_type": "markdown",
   "id": "86a0a86a",
   "metadata": {},
   "source": [
    "Otherwise, use the links provided in the Github README <br>\n",
    "https://github.com/DSP-Tan/mushroom_learning"
   ]
  },
  {
   "cell_type": "markdown",
   "id": "4e88d0e1",
   "metadata": {},
   "source": [
    "Note: In the case of the david Harper data set, use the data set on google cloud, download like this:"
   ]
  },
  {
   "cell_type": "markdown",
   "id": "67499be6",
   "metadata": {},
   "source": [
    "## First see what is on the cloud"
   ]
  },
  {
   "cell_type": "markdown",
   "id": "e0bec155",
   "metadata": {},
   "source": [
    "**First consult with others incase the preprocessing has already been done, and things are on the cloud**"
   ]
  },
  {
   "cell_type": "code",
   "execution_count": 12,
   "id": "95b54431",
   "metadata": {},
   "outputs": [
    {
     "name": "stdout",
     "output_type": "stream",
     "text": [
      "mushroom-bucket-le-wagon\n",
      "models/first_model\n"
     ]
    }
   ],
   "source": [
    "print(BUCKET_NAME)\n",
    "print(STORAGE_LOCATION)"
   ]
  },
  {
   "cell_type": "code",
   "execution_count": 13,
   "id": "d39cd2bd",
   "metadata": {},
   "outputs": [
    {
     "name": "stdout",
     "output_type": "stream",
     "text": [
      "gs://mushroom-bucket-le-wagon/6_species.tgz\r\n",
      "gs://mushroom-bucket-le-wagon/David_Harper_Labelled_Cleaned.tgz\r\n",
      "gs://mushroom-bucket-le-wagon/Six_Species_Clean.tgz\r\n",
      "gs://mushroom-bucket-le-wagon/fungi_test.tgz\r\n",
      "gs://mushroom-bucket-le-wagon/fungi_train_val.tgz\r\n",
      "gs://mushroom-bucket-le-wagon/test.json\r\n",
      "gs://mushroom-bucket-le-wagon/train.json\r\n",
      "gs://mushroom-bucket-le-wagon/val.json\r\n",
      "gs://mushroom-bucket-le-wagon/data/\r\n",
      "gs://mushroom-bucket-le-wagon/images/\r\n",
      "gs://mushroom-bucket-le-wagon/models/\r\n",
      "gs://mushroom-bucket-le-wagon/unzipped/\r\n"
     ]
    }
   ],
   "source": [
    "#gcloud alpha storage ls --recursive gs://BUCKET_NAME/PREFIX**\n",
    "!gcloud alpha storage ls  gs://mushroom-bucket-le-wagon/"
   ]
  },
  {
   "cell_type": "markdown",
   "id": "1a96ab35",
   "metadata": {},
   "source": [
    "## Downloaded needed directories from cloud"
   ]
  },
  {
   "cell_type": "code",
   "execution_count": 15,
   "id": "f5c8fd39",
   "metadata": {},
   "outputs": [],
   "source": [
    "STORAGE_LOCATION='David_Harper_Labelled_Cleaned.tgz'\n",
    "\n",
    "client = storage.Client()\n",
    "bucket = client.bucket(BUCKET_NAME)\n",
    "blob = bucket.blob(STORAGE_LOCATION)\n",
    "blob.download_to_filename('David_Harper.tgz')"
   ]
  },
  {
   "cell_type": "markdown",
   "id": "51330782",
   "metadata": {},
   "source": [
    "We now have David Harper in our current working directory."
   ]
  },
  {
   "cell_type": "code",
   "execution_count": 34,
   "id": "ce3cc641",
   "metadata": {},
   "outputs": [
    {
     "name": "stdout",
     "output_type": "stream",
     "text": [
      "Confirm download\n",
      "-rw-r--r-- 1 noel noel 54M Mar  7 07:57 David_Harper.tgz\n",
      "\n",
      "We are in folder:\n",
      "/home/noel/code/DSP-Tan/mushroom_learning/notebooks\n",
      "\n",
      "This folder now contains\n",
      "total 58M\n",
      "-rw-r--r-- 1 noel noel  59K Mar  3 18:08 02_UCIDataset.ipynb\n",
      "-rw-r--r-- 1 noel noel  73K Mar  3 18:08 01_DinaharDataset_primary.ipynb\n",
      "-rw-r--r-- 1 noel noel 601K Mar  3 18:08 mushrooms.ipynb\n",
      "-rw-r--r-- 1 noel noel  54M Mar  7 07:57 David_Harper.tgz\n",
      "-rw-r--r-- 1 noel noel 2.8M Mar  7 08:01 SpeciesDatatSetExploration.ipynb\n",
      "-rw-r--r-- 1 noel noel 9.0K Mar  7 08:07 DataSet_Merging_Cleaning.ipynb\n"
     ]
    }
   ],
   "source": [
    "# Confirm download\n",
    "print('Confirm download')\n",
    "! ls -rtlh David_Harper.tgz\n",
    "print('\\nWe are in folder:')\n",
    "! pwd\n",
    "print('\\nThis folder now contains')\n",
    "! ls -rtlh"
   ]
  },
  {
   "cell_type": "markdown",
   "id": "5f1d3c5d",
   "metadata": {},
   "source": [
    "### Function to extract tar files in python"
   ]
  },
  {
   "cell_type": "code",
   "execution_count": 24,
   "id": "6184b769",
   "metadata": {},
   "outputs": [
    {
     "name": "stdout",
     "output_type": "stream",
     "text": [
      "-f.tgz\n",
      "ipykernel_launcher <filename>\n"
     ]
    }
   ],
   "source": [
    "def extract(tar_url, extract_path='.'):\n",
    "    print(tar_url)\n",
    "    tar = tarfile.open(tar_url, 'r')\n",
    "    for item in tar:\n",
    "        tar.extract(item, extract_path)\n",
    "        if item.name.find(\".tgz\") != -1 or item.name.find(\".tar\") != -1:\n",
    "            extract(item.name, \"./\" + item.name[:item.name.rfind('/')])\n",
    "try:\n",
    "\n",
    "    extract(sys.argv[1] + '.tgz')\n",
    "    print('Done.')\n",
    "except:\n",
    "    name = os.path.basename(sys.argv[0])\n",
    "    print(name[:name.rfind('.')], '<filename>')"
   ]
  },
  {
   "cell_type": "code",
   "execution_count": 35,
   "id": "806aa094",
   "metadata": {},
   "outputs": [
    {
     "name": "stdout",
     "output_type": "stream",
     "text": [
      "./David_Harper.tgz\n"
     ]
    }
   ],
   "source": [
    "extract('./David_Harper.tgz','.')"
   ]
  },
  {
   "cell_type": "code",
   "execution_count": 36,
   "id": "571c60af",
   "metadata": {},
   "outputs": [
    {
     "name": "stdout",
     "output_type": "stream",
     "text": [
      "total 58M\r\n",
      "-rw-r--r-- 1 noel noel  59K Mar  3 18:08 02_UCIDataset.ipynb\r\n",
      "-rw-r--r-- 1 noel noel  73K Mar  3 18:08 01_DinaharDataset_primary.ipynb\r\n",
      "-rw-r--r-- 1 noel noel 601K Mar  3 18:08 mushrooms.ipynb\r\n",
      "-rw-r--r-- 1 noel noel  54M Mar  7 07:57 David_Harper.tgz\r\n",
      "-rw-r--r-- 1 noel noel 2.8M Mar  7 08:01 SpeciesDatatSetExploration.ipynb\r\n",
      "-rw-r--r-- 1 noel noel 9.0K Mar  7 08:07 DataSet_Merging_Cleaning.ipynb\r\n",
      "drwxr-xr-x 8 noel noel 4.0K Mar  7 08:08 David_Harper_Labelled_Cleaned\r\n"
     ]
    }
   ],
   "source": [
    "!ls -rtlh"
   ]
  },
  {
   "cell_type": "markdown",
   "id": "4d59c0fd",
   "metadata": {},
   "source": [
    "**The unzipped downloaded folder is now sitting in our directory, it is named \"David_Harper_Labelled_Cleaned\". Note the name of the unzipped folder can often be different to the name of the zipped one. We could have sent it anywhere we wanted using the parameter 'extract_path'**"
   ]
  },
  {
   "cell_type": "markdown",
   "id": "9ad6480c",
   "metadata": {},
   "source": [
    "## Examine contents of folder"
   ]
  },
  {
   "cell_type": "code",
   "execution_count": 49,
   "id": "4228fe65",
   "metadata": {},
   "outputs": [
    {
     "data": {
      "text/plain": [
       "['Boletus_edulis',\n",
       " 'Amanita_bisporigera',\n",
       " 'rename_sort_by_size.sh',\n",
       " 'Cantharellus',\n",
       " 'Omphalotus_olearius',\n",
       " 'Amanita_muscaria',\n",
       " 'Russula_mariae']"
      ]
     },
     "execution_count": 49,
     "metadata": {},
     "output_type": "execute_result"
    }
   ],
   "source": [
    "path_to_imgs='./David_Harper_Labelled_Cleaned'\n",
    "\n",
    "# listing directories\n",
    "dir_list=os.listdir(path_to_imgs)\n",
    "dir_list"
   ]
  },
  {
   "cell_type": "markdown",
   "id": "f7478051",
   "metadata": {},
   "source": [
    "### Remove extraneous files from directory list"
   ]
  },
  {
   "cell_type": "code",
   "execution_count": 77,
   "id": "94d81cd4",
   "metadata": {},
   "outputs": [
    {
     "name": "stdout",
     "output_type": "stream",
     "text": [
      "There are 6 species in the David Hardper dataset\n"
     ]
    },
    {
     "data": {
      "text/plain": [
       "['Boletus_edulis',\n",
       " 'Amanita_bisporigera',\n",
       " 'Cantharellus',\n",
       " 'Omphalotus_olearius',\n",
       " 'Amanita_muscaria',\n",
       " 'Russula_mariae']"
      ]
     },
     "execution_count": 77,
     "metadata": {},
     "output_type": "execute_result"
    }
   ],
   "source": [
    "dir_list=[i for i in dir_list if '.sh' not in i]\n",
    "print(f'There are {len(dir_list)} species in the David Hardper dataset')\n",
    "dir_list"
   ]
  },
  {
   "cell_type": "markdown",
   "id": "ef83fa2a",
   "metadata": {},
   "source": [
    "### Examine subfolders"
   ]
  },
  {
   "cell_type": "code",
   "execution_count": 76,
   "id": "2f8ab927",
   "metadata": {},
   "outputs": [
    {
     "name": "stdout",
     "output_type": "stream",
     "text": [
      "Path to boletes:\n",
      "./David_Harper_Labelled_Cleaned/Boletus_edulis\n",
      "\n",
      "We have 439 pictures of Boletus Edulis\n"
     ]
    },
    {
     "data": {
      "text/plain": [
       "['440_Boletus_edulis_Harper.jpg',\n",
       " '443_Boletus_edulis_Harper.jpg',\n",
       " '371_Boletus_edulis_Harper.jpg',\n",
       " '392_Boletus_edulis_Harper.jpg',\n",
       " '192_Boletus_edulis_Harper.jpg',\n",
       " '351_Boletus_edulis_Harper.jpg',\n",
       " '263_Boletus_edulis_Harper.jpg',\n",
       " '78_Boletus_edulis_Harper.jpg',\n",
       " '171_Boletus_edulis_Harper.jpg',\n",
       " '99_Boletus_edulis_Harper.jpg']"
      ]
     },
     "execution_count": 76,
     "metadata": {},
     "output_type": "execute_result"
    }
   ],
   "source": [
    "# Make path string using string concatanation\n",
    "bolete_path=path_to_imgs+'/'+dir_list[0]\n",
    "print('Path to boletes:')\n",
    "print(bolete_path)\n",
    "\n",
    "boletes=os.listdir(bolete_path)\n",
    "print(f'\\nWe have {len(boletes)} pictures of Boletus Edulis')\n",
    "boletes[0:10]"
   ]
  },
  {
   "cell_type": "markdown",
   "id": "d2889c65",
   "metadata": {},
   "source": [
    "**Note os.listdir gives unordered directory list**\n",
    "\n",
    "**This folder has already been labelled and cleaned. The images are numbered in accordance with their image size, this made it easier to get rid of the microscope pictures, which are not also no longer there.**\n",
    "\n",
    "**This sorting has been done by the bash script \"rename_sort_by_size.sh\". Just delete this script if it creates problems looping over the folder later**"
   ]
  },
  {
   "cell_type": "code",
   "execution_count": 53,
   "id": "b270d8db",
   "metadata": {},
   "outputs": [
    {
     "name": "stdout",
     "output_type": "stream",
     "text": [
      "total 9.8M\r\n",
      "-rw-r--r-- 1 noel noel 7.6K Feb 28 16:45 4_Boletus_edulis_Harper.jpg\r\n",
      "-rw-r--r-- 1 noel noel 7.7K Feb 28 16:45 5_Boletus_edulis_Harper.jpg\r\n",
      "-rw-r--r-- 1 noel noel 8.3K Feb 28 16:45 6_Boletus_edulis_Harper.jpg\r\n",
      "-rw-r--r-- 1 noel noel 8.8K Feb 28 16:45 7_Boletus_edulis_Harper.jpg\r\n",
      "-rw-r--r-- 1 noel noel 9.1K Feb 28 16:45 8_Boletus_edulis_Harper.jpg\r\n",
      "-rw-r--r-- 1 noel noel 9.2K Feb 28 16:45 9_Boletus_edulis_Harper.jpg\r\n",
      "-rw-r--r-- 1 noel noel 9.2K Feb 28 16:45 10_Boletus_edulis_Harper.jpg\r\n",
      "-rw-r--r-- 1 noel noel 9.2K Feb 28 16:45 11_Boletus_edulis_Harper.jpg\r\n",
      "-rw-r--r-- 1 noel noel 9.2K Feb 28 16:45 12_Boletus_edulis_Harper.jpg\r\n",
      "-rw-r--r-- 1 noel noel 9.5K Feb 28 16:45 13_Boletus_edulis_Harper.jpg\r\n",
      "-rw-r--r-- 1 noel noel 9.6K Feb 28 16:45 14_Boletus_edulis_Harper.jpg\r\n",
      "-rw-r--r-- 1 noel noel 9.8K Feb 28 16:45 15_Boletus_edulis_Harper.jpg\r\n",
      "-rw-r--r-- 1 noel noel 9.9K Feb 28 16:45 16_Boletus_edulis_Harper.jpg\r\n",
      "-rw-r--r-- 1 noel noel 9.9K Feb 28 16:45 17_Boletus_edulis_Harper.jpg\r\n",
      "-rw-r--r-- 1 noel noel  10K Feb 28 16:45 18_Boletus_edulis_Harper.jpg\r\n",
      "-rw-r--r-- 1 noel noel  11K Feb 28 16:45 19_Boletus_edulis_Harper.jpg\r\n",
      "-rw-r--r-- 1 noel noel  11K Feb 28 16:45 20_Boletus_edulis_Harper.jpg\r\n",
      "-rw-r--r-- 1 noel noel  11K Feb 28 16:45 21_Boletus_edulis_Harper.jpg\r\n",
      "-rw-r--r-- 1 noel noel  11K Feb 28 16:45 22_Boletus_edulis_Harper.jpg\r\n",
      "-rw-r--r-- 1 noel noel  11K Feb 28 16:45 23_Boletus_edulis_Harper.jpg\r\n",
      "-rw-r--r-- 1 noel noel  11K Feb 28 16:45 24_Boletus_edulis_Harper.jpg\r\n",
      "-rw-r--r-- 1 noel noel  11K Feb 28 16:45 25_Boletus_edulis_Harper.jpg\r\n",
      "-rw-r--r-- 1 noel noel  11K Feb 28 16:45 26_Boletus_edulis_Harper.jpg\r\n",
      "-rw-r--r-- 1 noel noel  11K Feb 28 16:45 27_Boletus_edulis_Harper.jpg\r\n",
      "-rw-r--r-- 1 noel noel  11K Feb 28 16:45 28_Boletus_edulis_Harper.jpg\r\n",
      "-rw-r--r-- 1 noel noel  12K Feb 28 16:45 29_Boletus_edulis_Harper.jpg\r\n",
      "-rw-r--r-- 1 noel noel  12K Feb 28 16:45 30_Boletus_edulis_Harper.jpg\r\n",
      "-rw-r--r-- 1 noel noel  12K Feb 28 16:45 31_Boletus_edulis_Harper.jpg\r\n",
      "-rw-r--r-- 1 noel noel  12K Feb 28 16:45 32_Boletus_edulis_Harper.jpg\r\n",
      "-rw-r--r-- 1 noel noel  12K Feb 28 16:45 33_Boletus_edulis_Harper.jpg\r\n",
      "-rw-r--r-- 1 noel noel  12K Feb 28 16:45 34_Boletus_edulis_Harper.jpg\r\n",
      "-rw-r--r-- 1 noel noel  12K Feb 28 16:45 35_Boletus_edulis_Harper.jpg\r\n",
      "-rw-r--r-- 1 noel noel  12K Feb 28 16:45 36_Boletus_edulis_Harper.jpg\r\n",
      "-rw-r--r-- 1 noel noel  12K Feb 28 16:45 37_Boletus_edulis_Harper.jpg\r\n",
      "-rw-r--r-- 1 noel noel  13K Feb 28 16:45 38_Boletus_edulis_Harper.jpg\r\n",
      "-rw-r--r-- 1 noel noel  13K Feb 28 16:45 39_Boletus_edulis_Harper.jpg\r\n",
      "-rw-r--r-- 1 noel noel  13K Feb 28 16:45 40_Boletus_edulis_Harper.jpg\r\n",
      "-rw-r--r-- 1 noel noel  13K Feb 28 16:45 41_Boletus_edulis_Harper.jpg\r\n",
      "-rw-r--r-- 1 noel noel  13K Feb 28 16:45 42_Boletus_edulis_Harper.jpg\r\n",
      "-rw-r--r-- 1 noel noel  13K Feb 28 16:45 43_Boletus_edulis_Harper.jpg\r\n",
      "-rw-r--r-- 1 noel noel  13K Feb 28 16:45 44_Boletus_edulis_Harper.jpg\r\n",
      "-rw-r--r-- 1 noel noel  13K Feb 28 16:45 45_Boletus_edulis_Harper.jpg\r\n",
      "-rw-r--r-- 1 noel noel  13K Feb 28 16:45 46_Boletus_edulis_Harper.jpg\r\n",
      "-rw-r--r-- 1 noel noel  14K Feb 28 16:45 47_Boletus_edulis_Harper.jpg\r\n",
      "-rw-r--r-- 1 noel noel  14K Feb 28 16:45 48_Boletus_edulis_Harper.jpg\r\n",
      "-rw-r--r-- 1 noel noel  14K Feb 28 16:45 49_Boletus_edulis_Harper.jpg\r\n",
      "-rw-r--r-- 1 noel noel  14K Feb 28 16:45 50_Boletus_edulis_Harper.jpg\r\n",
      "-rw-r--r-- 1 noel noel  14K Feb 28 16:45 51_Boletus_edulis_Harper.jpg\r\n",
      "-rw-r--r-- 1 noel noel  14K Feb 28 16:45 52_Boletus_edulis_Harper.jpg\r\n",
      "-rw-r--r-- 1 noel noel  14K Feb 28 16:45 53_Boletus_edulis_Harper.jpg\r\n",
      "-rw-r--r-- 1 noel noel  14K Feb 28 16:45 54_Boletus_edulis_Harper.jpg\r\n",
      "-rw-r--r-- 1 noel noel  14K Feb 28 16:45 55_Boletus_edulis_Harper.jpg\r\n",
      "-rw-r--r-- 1 noel noel  14K Feb 28 16:45 56_Boletus_edulis_Harper.jpg\r\n",
      "-rw-r--r-- 1 noel noel  14K Feb 28 16:45 57_Boletus_edulis_Harper.jpg\r\n",
      "-rw-r--r-- 1 noel noel  14K Feb 28 16:45 58_Boletus_edulis_Harper.jpg\r\n",
      "-rw-r--r-- 1 noel noel  14K Feb 28 16:45 59_Boletus_edulis_Harper.jpg\r\n",
      "-rw-r--r-- 1 noel noel  15K Feb 28 16:45 60_Boletus_edulis_Harper.jpg\r\n",
      "-rw-r--r-- 1 noel noel  15K Feb 28 16:45 61_Boletus_edulis_Harper.jpg\r\n",
      "-rw-r--r-- 1 noel noel  15K Feb 28 16:45 62_Boletus_edulis_Harper.jpg\r\n",
      "-rw-r--r-- 1 noel noel  15K Feb 28 16:45 63_Boletus_edulis_Harper.jpg\r\n",
      "-rw-r--r-- 1 noel noel  15K Feb 28 16:45 64_Boletus_edulis_Harper.jpg\r\n",
      "-rw-r--r-- 1 noel noel  15K Feb 28 16:45 65_Boletus_edulis_Harper.jpg\r\n",
      "-rw-r--r-- 1 noel noel  15K Feb 28 16:45 66_Boletus_edulis_Harper.jpg\r\n",
      "-rw-r--r-- 1 noel noel  15K Feb 28 16:45 67_Boletus_edulis_Harper.jpg\r\n",
      "-rw-r--r-- 1 noel noel  15K Feb 28 16:45 68_Boletus_edulis_Harper.jpg\r\n",
      "-rw-r--r-- 1 noel noel  15K Feb 28 16:45 69_Boletus_edulis_Harper.jpg\r\n",
      "-rw-r--r-- 1 noel noel  15K Feb 28 16:45 70_Boletus_edulis_Harper.jpg\r\n",
      "-rw-r--r-- 1 noel noel  15K Feb 28 16:45 71_Boletus_edulis_Harper.jpg\r\n",
      "-rw-r--r-- 1 noel noel  15K Feb 28 16:45 72_Boletus_edulis_Harper.jpg\r\n",
      "-rw-r--r-- 1 noel noel  15K Feb 28 16:45 73_Boletus_edulis_Harper.jpg\r\n",
      "-rw-r--r-- 1 noel noel  15K Feb 28 16:45 74_Boletus_edulis_Harper.jpg\r\n",
      "-rw-r--r-- 1 noel noel  15K Feb 28 16:45 75_Boletus_edulis_Harper.jpg\r\n",
      "-rw-r--r-- 1 noel noel  15K Feb 28 16:45 76_Boletus_edulis_Harper.jpg\r\n",
      "-rw-r--r-- 1 noel noel  15K Feb 28 16:45 77_Boletus_edulis_Harper.jpg\r\n",
      "-rw-r--r-- 1 noel noel  15K Feb 28 16:45 78_Boletus_edulis_Harper.jpg\r\n",
      "-rw-r--r-- 1 noel noel  16K Feb 28 16:45 79_Boletus_edulis_Harper.jpg\r\n",
      "-rw-r--r-- 1 noel noel  16K Feb 28 16:45 80_Boletus_edulis_Harper.jpg\r\n",
      "-rw-r--r-- 1 noel noel  16K Feb 28 16:45 81_Boletus_edulis_Harper.jpg\r\n",
      "-rw-r--r-- 1 noel noel  16K Feb 28 16:45 82_Boletus_edulis_Harper.jpg\r\n",
      "-rw-r--r-- 1 noel noel  16K Feb 28 16:45 83_Boletus_edulis_Harper.jpg\r\n",
      "-rw-r--r-- 1 noel noel  16K Feb 28 16:45 84_Boletus_edulis_Harper.jpg\r\n",
      "-rw-r--r-- 1 noel noel  16K Feb 28 16:45 85_Boletus_edulis_Harper.jpg\r\n",
      "-rw-r--r-- 1 noel noel  16K Feb 28 16:45 86_Boletus_edulis_Harper.jpg\r\n",
      "-rw-r--r-- 1 noel noel  16K Feb 28 16:45 87_Boletus_edulis_Harper.jpg\r\n",
      "-rw-r--r-- 1 noel noel  16K Feb 28 16:45 88_Boletus_edulis_Harper.jpg\r\n",
      "-rw-r--r-- 1 noel noel  16K Feb 28 16:45 89_Boletus_edulis_Harper.jpg\r\n",
      "-rw-r--r-- 1 noel noel  16K Feb 28 16:45 90_Boletus_edulis_Harper.jpg\r\n",
      "-rw-r--r-- 1 noel noel  16K Feb 28 16:45 91_Boletus_edulis_Harper.jpg\r\n",
      "-rw-r--r-- 1 noel noel  16K Feb 28 16:45 92_Boletus_edulis_Harper.jpg\r\n",
      "-rw-r--r-- 1 noel noel  16K Feb 28 16:45 93_Boletus_edulis_Harper.jpg\r\n",
      "-rw-r--r-- 1 noel noel  16K Feb 28 16:45 94_Boletus_edulis_Harper.jpg\r\n",
      "-rw-r--r-- 1 noel noel  16K Feb 28 16:45 95_Boletus_edulis_Harper.jpg\r\n",
      "-rw-r--r-- 1 noel noel  16K Feb 28 16:45 96_Boletus_edulis_Harper.jpg\r\n",
      "-rw-r--r-- 1 noel noel  16K Feb 28 16:45 97_Boletus_edulis_Harper.jpg\r\n",
      "-rw-r--r-- 1 noel noel  16K Feb 28 16:45 98_Boletus_edulis_Harper.jpg\r\n",
      "-rw-r--r-- 1 noel noel  17K Feb 28 16:45 99_Boletus_edulis_Harper.jpg\r\n",
      "-rw-r--r-- 1 noel noel  17K Feb 28 16:45 100_Boletus_edulis_Harper.jpg\r\n",
      "-rw-r--r-- 1 noel noel  17K Feb 28 16:45 101_Boletus_edulis_Harper.jpg\r\n",
      "-rw-r--r-- 1 noel noel  17K Feb 28 16:45 102_Boletus_edulis_Harper.jpg\r\n",
      "-rw-r--r-- 1 noel noel  17K Feb 28 16:45 103_Boletus_edulis_Harper.jpg\r\n",
      "-rw-r--r-- 1 noel noel  17K Feb 28 16:45 104_Boletus_edulis_Harper.jpg\r\n",
      "-rw-r--r-- 1 noel noel  17K Feb 28 16:45 105_Boletus_edulis_Harper.jpg\r\n",
      "-rw-r--r-- 1 noel noel  17K Feb 28 16:45 106_Boletus_edulis_Harper.jpg\r\n",
      "-rw-r--r-- 1 noel noel  17K Feb 28 16:45 107_Boletus_edulis_Harper.jpg\r\n",
      "-rw-r--r-- 1 noel noel  17K Feb 28 16:45 108_Boletus_edulis_Harper.jpg\r\n",
      "-rw-r--r-- 1 noel noel  17K Feb 28 16:45 109_Boletus_edulis_Harper.jpg\r\n",
      "-rw-r--r-- 1 noel noel  17K Feb 28 16:45 110_Boletus_edulis_Harper.jpg\r\n",
      "-rw-r--r-- 1 noel noel  17K Feb 28 16:45 111_Boletus_edulis_Harper.jpg\r\n",
      "-rw-r--r-- 1 noel noel  17K Feb 28 16:45 112_Boletus_edulis_Harper.jpg\r\n",
      "-rw-r--r-- 1 noel noel  17K Feb 28 16:45 113_Boletus_edulis_Harper.jpg\r\n",
      "-rw-r--r-- 1 noel noel  17K Feb 28 16:45 114_Boletus_edulis_Harper.jpg\r\n",
      "-rw-r--r-- 1 noel noel  17K Feb 28 16:45 115_Boletus_edulis_Harper.jpg\r\n",
      "-rw-r--r-- 1 noel noel  17K Feb 28 16:45 116_Boletus_edulis_Harper.jpg\r\n",
      "-rw-r--r-- 1 noel noel  17K Feb 28 16:45 117_Boletus_edulis_Harper.jpg\r\n",
      "-rw-r--r-- 1 noel noel  17K Feb 28 16:45 118_Boletus_edulis_Harper.jpg\r\n",
      "-rw-r--r-- 1 noel noel  17K Feb 28 16:45 119_Boletus_edulis_Harper.jpg\r\n",
      "-rw-r--r-- 1 noel noel  17K Feb 28 16:45 120_Boletus_edulis_Harper.jpg\r\n",
      "-rw-r--r-- 1 noel noel  17K Feb 28 16:45 121_Boletus_edulis_Harper.jpg\r\n",
      "-rw-r--r-- 1 noel noel  17K Feb 28 16:45 122_Boletus_edulis_Harper.jpg\r\n",
      "-rw-r--r-- 1 noel noel  18K Feb 28 16:45 123_Boletus_edulis_Harper.jpg\r\n",
      "-rw-r--r-- 1 noel noel  18K Feb 28 16:45 124_Boletus_edulis_Harper.jpg\r\n",
      "-rw-r--r-- 1 noel noel  18K Feb 28 16:45 125_Boletus_edulis_Harper.jpg\r\n",
      "-rw-r--r-- 1 noel noel  18K Feb 28 16:45 126_Boletus_edulis_Harper.jpg\r\n",
      "-rw-r--r-- 1 noel noel  18K Feb 28 16:45 127_Boletus_edulis_Harper.jpg\r\n",
      "-rw-r--r-- 1 noel noel  18K Feb 28 16:45 128_Boletus_edulis_Harper.jpg\r\n",
      "-rw-r--r-- 1 noel noel  18K Feb 28 16:45 129_Boletus_edulis_Harper.jpg\r\n",
      "-rw-r--r-- 1 noel noel  18K Feb 28 16:45 130_Boletus_edulis_Harper.jpg\r\n",
      "-rw-r--r-- 1 noel noel  18K Feb 28 16:45 131_Boletus_edulis_Harper.jpg\r\n",
      "-rw-r--r-- 1 noel noel  18K Feb 28 16:45 132_Boletus_edulis_Harper.jpg\r\n",
      "-rw-r--r-- 1 noel noel  18K Feb 28 16:45 133_Boletus_edulis_Harper.jpg\r\n",
      "-rw-r--r-- 1 noel noel  18K Feb 28 16:45 134_Boletus_edulis_Harper.jpg\r\n",
      "-rw-r--r-- 1 noel noel  18K Feb 28 16:45 135_Boletus_edulis_Harper.jpg\r\n",
      "-rw-r--r-- 1 noel noel  18K Feb 28 16:45 136_Boletus_edulis_Harper.jpg\r\n",
      "-rw-r--r-- 1 noel noel  18K Feb 28 16:45 137_Boletus_edulis_Harper.jpg\r\n",
      "-rw-r--r-- 1 noel noel  18K Feb 28 16:45 138_Boletus_edulis_Harper.jpg\r\n",
      "-rw-r--r-- 1 noel noel  18K Feb 28 16:45 139_Boletus_edulis_Harper.jpg\r\n",
      "-rw-r--r-- 1 noel noel  18K Feb 28 16:45 140_Boletus_edulis_Harper.jpg\r\n",
      "-rw-r--r-- 1 noel noel  18K Feb 28 16:45 141_Boletus_edulis_Harper.jpg\r\n",
      "-rw-r--r-- 1 noel noel  18K Feb 28 16:45 142_Boletus_edulis_Harper.jpg\r\n",
      "-rw-r--r-- 1 noel noel  18K Feb 28 16:45 143_Boletus_edulis_Harper.jpg\r\n",
      "-rw-r--r-- 1 noel noel  18K Feb 28 16:45 144_Boletus_edulis_Harper.jpg\r\n",
      "-rw-r--r-- 1 noel noel  18K Feb 28 16:45 145_Boletus_edulis_Harper.jpg\r\n",
      "-rw-r--r-- 1 noel noel  18K Feb 28 16:45 146_Boletus_edulis_Harper.jpg\r\n",
      "-rw-r--r-- 1 noel noel  19K Feb 28 16:45 147_Boletus_edulis_Harper.jpg\r\n",
      "-rw-r--r-- 1 noel noel  19K Feb 28 16:45 148_Boletus_edulis_Harper.jpg\r\n",
      "-rw-r--r-- 1 noel noel  19K Feb 28 16:45 149_Boletus_edulis_Harper.jpg\r\n",
      "-rw-r--r-- 1 noel noel  19K Feb 28 16:45 150_Boletus_edulis_Harper.jpg\r\n",
      "-rw-r--r-- 1 noel noel  19K Feb 28 16:45 152_Boletus_edulis_Harper.jpg\r\n",
      "-rw-r--r-- 1 noel noel  19K Feb 28 16:45 151_Boletus_edulis_Harper.jpg\r\n",
      "-rw-r--r-- 1 noel noel  19K Feb 28 16:45 153_Boletus_edulis_Harper.jpg\r\n",
      "-rw-r--r-- 1 noel noel  19K Feb 28 16:45 154_Boletus_edulis_Harper.jpg\r\n",
      "-rw-r--r-- 1 noel noel  19K Feb 28 16:45 155_Boletus_edulis_Harper.jpg\r\n",
      "-rw-r--r-- 1 noel noel  19K Feb 28 16:45 156_Boletus_edulis_Harper.jpg\r\n",
      "-rw-r--r-- 1 noel noel  19K Feb 28 16:45 157_Boletus_edulis_Harper.jpg\r\n",
      "-rw-r--r-- 1 noel noel  19K Feb 28 16:45 158_Boletus_edulis_Harper.jpg\r\n",
      "-rw-r--r-- 1 noel noel  19K Feb 28 16:45 159_Boletus_edulis_Harper.jpg\r\n",
      "-rw-r--r-- 1 noel noel  19K Feb 28 16:45 160_Boletus_edulis_Harper.jpg\r\n",
      "-rw-r--r-- 1 noel noel  19K Feb 28 16:45 161_Boletus_edulis_Harper.jpg\r\n",
      "-rw-r--r-- 1 noel noel  19K Feb 28 16:45 162_Boletus_edulis_Harper.jpg\r\n",
      "-rw-r--r-- 1 noel noel  19K Feb 28 16:45 163_Boletus_edulis_Harper.jpg\r\n",
      "-rw-r--r-- 1 noel noel  19K Feb 28 16:45 164_Boletus_edulis_Harper.jpg\r\n",
      "-rw-r--r-- 1 noel noel  19K Feb 28 16:45 166_Boletus_edulis_Harper.jpg\r\n",
      "-rw-r--r-- 1 noel noel  19K Feb 28 16:45 165_Boletus_edulis_Harper.jpg\r\n",
      "-rw-r--r-- 1 noel noel  19K Feb 28 16:45 167_Boletus_edulis_Harper.jpg\r\n",
      "-rw-r--r-- 1 noel noel  19K Feb 28 16:45 168_Boletus_edulis_Harper.jpg\r\n",
      "-rw-r--r-- 1 noel noel  19K Feb 28 16:45 169_Boletus_edulis_Harper.jpg\r\n",
      "-rw-r--r-- 1 noel noel  20K Feb 28 16:45 170_Boletus_edulis_Harper.jpg\r\n",
      "-rw-r--r-- 1 noel noel  20K Feb 28 16:45 171_Boletus_edulis_Harper.jpg\r\n",
      "-rw-r--r-- 1 noel noel  20K Feb 28 16:45 172_Boletus_edulis_Harper.jpg\r\n",
      "-rw-r--r-- 1 noel noel  20K Feb 28 16:45 173_Boletus_edulis_Harper.jpg\r\n",
      "-rw-r--r-- 1 noel noel  20K Feb 28 16:45 174_Boletus_edulis_Harper.jpg\r\n",
      "-rw-r--r-- 1 noel noel  20K Feb 28 16:45 175_Boletus_edulis_Harper.jpg\r\n",
      "-rw-r--r-- 1 noel noel  20K Feb 28 16:45 176_Boletus_edulis_Harper.jpg\r\n",
      "-rw-r--r-- 1 noel noel  20K Feb 28 16:45 177_Boletus_edulis_Harper.jpg\r\n",
      "-rw-r--r-- 1 noel noel  20K Feb 28 16:45 178_Boletus_edulis_Harper.jpg\r\n",
      "-rw-r--r-- 1 noel noel  20K Feb 28 16:45 179_Boletus_edulis_Harper.jpg\r\n",
      "-rw-r--r-- 1 noel noel  20K Feb 28 16:45 180_Boletus_edulis_Harper.jpg\r\n",
      "-rw-r--r-- 1 noel noel  20K Feb 28 16:45 181_Boletus_edulis_Harper.jpg\r\n",
      "-rw-r--r-- 1 noel noel  20K Feb 28 16:45 182_Boletus_edulis_Harper.jpg\r\n",
      "-rw-r--r-- 1 noel noel  20K Feb 28 16:45 183_Boletus_edulis_Harper.jpg\r\n",
      "-rw-r--r-- 1 noel noel  20K Feb 28 16:45 184_Boletus_edulis_Harper.jpg\r\n",
      "-rw-r--r-- 1 noel noel  20K Feb 28 16:45 185_Boletus_edulis_Harper.jpg\r\n",
      "-rw-r--r-- 1 noel noel  20K Feb 28 16:45 186_Boletus_edulis_Harper.jpg\r\n",
      "-rw-r--r-- 1 noel noel  20K Feb 28 16:45 187_Boletus_edulis_Harper.jpg\r\n",
      "-rw-r--r-- 1 noel noel  20K Feb 28 16:45 188_Boletus_edulis_Harper.jpg\r\n",
      "-rw-r--r-- 1 noel noel  20K Feb 28 16:45 189_Boletus_edulis_Harper.jpg\r\n",
      "-rw-r--r-- 1 noel noel  20K Feb 28 16:45 190_Boletus_edulis_Harper.jpg\r\n",
      "-rw-r--r-- 1 noel noel  20K Feb 28 16:45 191_Boletus_edulis_Harper.jpg\r\n",
      "-rw-r--r-- 1 noel noel  21K Feb 28 16:45 192_Boletus_edulis_Harper.jpg\r\n",
      "-rw-r--r-- 1 noel noel  21K Feb 28 16:45 193_Boletus_edulis_Harper.jpg\r\n",
      "-rw-r--r-- 1 noel noel  21K Feb 28 16:45 194_Boletus_edulis_Harper.jpg\r\n",
      "-rw-r--r-- 1 noel noel  21K Feb 28 16:45 195_Boletus_edulis_Harper.jpg\r\n",
      "-rw-r--r-- 1 noel noel  21K Feb 28 16:45 196_Boletus_edulis_Harper.jpg\r\n",
      "-rw-r--r-- 1 noel noel  21K Feb 28 16:45 197_Boletus_edulis_Harper.jpg\r\n",
      "-rw-r--r-- 1 noel noel  21K Feb 28 16:45 199_Boletus_edulis_Harper.jpg\r\n",
      "-rw-r--r-- 1 noel noel  21K Feb 28 16:45 198_Boletus_edulis_Harper.jpg\r\n",
      "-rw-r--r-- 1 noel noel  21K Feb 28 16:45 200_Boletus_edulis_Harper.jpg\r\n",
      "-rw-r--r-- 1 noel noel  21K Feb 28 16:45 201_Boletus_edulis_Harper.jpg\r\n",
      "-rw-r--r-- 1 noel noel  21K Feb 28 16:45 202_Boletus_edulis_Harper.jpg\r\n",
      "-rw-r--r-- 1 noel noel  21K Feb 28 16:45 203_Boletus_edulis_Harper.jpg\r\n",
      "-rw-r--r-- 1 noel noel  21K Feb 28 16:45 204_Boletus_edulis_Harper.jpg\r\n",
      "-rw-r--r-- 1 noel noel  21K Feb 28 16:45 205_Boletus_edulis_Harper.jpg\r\n",
      "-rw-r--r-- 1 noel noel  21K Feb 28 16:45 206_Boletus_edulis_Harper.jpg\r\n",
      "-rw-r--r-- 1 noel noel  21K Feb 28 16:45 207_Boletus_edulis_Harper.jpg\r\n",
      "-rw-r--r-- 1 noel noel  21K Feb 28 16:45 208_Boletus_edulis_Harper.jpg\r\n",
      "-rw-r--r-- 1 noel noel  21K Feb 28 16:45 209_Boletus_edulis_Harper.jpg\r\n",
      "-rw-r--r-- 1 noel noel  21K Feb 28 16:45 210_Boletus_edulis_Harper.jpg\r\n",
      "-rw-r--r-- 1 noel noel  21K Feb 28 16:45 211_Boletus_edulis_Harper.jpg\r\n",
      "-rw-r--r-- 1 noel noel  21K Feb 28 16:45 212_Boletus_edulis_Harper.jpg\r\n",
      "-rw-r--r-- 1 noel noel  21K Feb 28 16:45 213_Boletus_edulis_Harper.jpg\r\n",
      "-rw-r--r-- 1 noel noel  21K Feb 28 16:45 214_Boletus_edulis_Harper.jpg\r\n",
      "-rw-r--r-- 1 noel noel  21K Feb 28 16:45 215_Boletus_edulis_Harper.jpg\r\n",
      "-rw-r--r-- 1 noel noel  21K Feb 28 16:45 216_Boletus_edulis_Harper.jpg\r\n",
      "-rw-r--r-- 1 noel noel  21K Feb 28 16:45 217_Boletus_edulis_Harper.jpg\r\n",
      "-rw-r--r-- 1 noel noel  21K Feb 28 16:45 218_Boletus_edulis_Harper.jpg\r\n",
      "-rw-r--r-- 1 noel noel  21K Feb 28 16:45 219_Boletus_edulis_Harper.jpg\r\n",
      "-rw-r--r-- 1 noel noel  21K Feb 28 16:45 220_Boletus_edulis_Harper.jpg\r\n",
      "-rw-r--r-- 1 noel noel  21K Feb 28 16:45 221_Boletus_edulis_Harper.jpg\r\n",
      "-rw-r--r-- 1 noel noel  21K Feb 28 16:45 222_Boletus_edulis_Harper.jpg\r\n",
      "-rw-r--r-- 1 noel noel  21K Feb 28 16:45 223_Boletus_edulis_Harper.jpg\r\n",
      "-rw-r--r-- 1 noel noel  21K Feb 28 16:45 224_Boletus_edulis_Harper.jpg\r\n",
      "-rw-r--r-- 1 noel noel  21K Feb 28 16:45 225_Boletus_edulis_Harper.jpg\r\n",
      "-rw-r--r-- 1 noel noel  22K Feb 28 16:45 227_Boletus_edulis_Harper.jpg\r\n",
      "-rw-r--r-- 1 noel noel  22K Feb 28 16:45 228_Boletus_edulis_Harper.jpg\r\n",
      "-rw-r--r-- 1 noel noel  22K Feb 28 16:45 229_Boletus_edulis_Harper.jpg\r\n",
      "-rw-r--r-- 1 noel noel  22K Feb 28 16:45 230_Boletus_edulis_Harper.jpg\r\n",
      "-rw-r--r-- 1 noel noel  22K Feb 28 16:45 232_Boletus_edulis_Harper.jpg\r\n",
      "-rw-r--r-- 1 noel noel  22K Feb 28 16:45 233_Boletus_edulis_Harper.jpg\r\n",
      "-rw-r--r-- 1 noel noel  22K Feb 28 16:45 234_Boletus_edulis_Harper.jpg\r\n",
      "-rw-r--r-- 1 noel noel  22K Feb 28 16:45 235_Boletus_edulis_Harper.jpg\r\n",
      "-rw-r--r-- 1 noel noel  22K Feb 28 16:45 236_Boletus_edulis_Harper.jpg\r\n",
      "-rw-r--r-- 1 noel noel  22K Feb 28 16:45 237_Boletus_edulis_Harper.jpg\r\n",
      "-rw-r--r-- 1 noel noel  22K Feb 28 16:45 238_Boletus_edulis_Harper.jpg\r\n",
      "-rw-r--r-- 1 noel noel  22K Feb 28 16:45 239_Boletus_edulis_Harper.jpg\r\n",
      "-rw-r--r-- 1 noel noel  22K Feb 28 16:45 240_Boletus_edulis_Harper.jpg\r\n",
      "-rw-r--r-- 1 noel noel  22K Feb 28 16:45 241_Boletus_edulis_Harper.jpg\r\n",
      "-rw-r--r-- 1 noel noel  22K Feb 28 16:45 242_Boletus_edulis_Harper.jpg\r\n",
      "-rw-r--r-- 1 noel noel  22K Feb 28 16:45 243_Boletus_edulis_Harper.jpg\r\n",
      "-rw-r--r-- 1 noel noel  22K Feb 28 16:45 244_Boletus_edulis_Harper.jpg\r\n",
      "-rw-r--r-- 1 noel noel  22K Feb 28 16:45 245_Boletus_edulis_Harper.jpg\r\n",
      "-rw-r--r-- 1 noel noel  22K Feb 28 16:45 246_Boletus_edulis_Harper.jpg\r\n",
      "-rw-r--r-- 1 noel noel  22K Feb 28 16:45 247_Boletus_edulis_Harper.jpg\r\n",
      "-rw-r--r-- 1 noel noel  22K Feb 28 16:45 248_Boletus_edulis_Harper.jpg\r\n",
      "-rw-r--r-- 1 noel noel  22K Feb 28 16:45 249_Boletus_edulis_Harper.jpg\r\n",
      "-rw-r--r-- 1 noel noel  22K Feb 28 16:45 250_Boletus_edulis_Harper.jpg\r\n",
      "-rw-r--r-- 1 noel noel  22K Feb 28 16:45 251_Boletus_edulis_Harper.jpg\r\n",
      "-rw-r--r-- 1 noel noel  22K Feb 28 16:45 253_Boletus_edulis_Harper.jpg\r\n",
      "-rw-r--r-- 1 noel noel  22K Feb 28 16:45 252_Boletus_edulis_Harper.jpg\r\n",
      "-rw-r--r-- 1 noel noel  22K Feb 28 16:45 254_Boletus_edulis_Harper.jpg\r\n",
      "-rw-r--r-- 1 noel noel  22K Feb 28 16:45 255_Boletus_edulis_Harper.jpg\r\n",
      "-rw-r--r-- 1 noel noel  22K Feb 28 16:45 257_Boletus_edulis_Harper.jpg\r\n",
      "-rw-r--r-- 1 noel noel  22K Feb 28 16:45 256_Boletus_edulis_Harper.jpg\r\n",
      "-rw-r--r-- 1 noel noel  22K Feb 28 16:45 258_Boletus_edulis_Harper.jpg\r\n",
      "-rw-r--r-- 1 noel noel  22K Feb 28 16:45 259_Boletus_edulis_Harper.jpg\r\n",
      "-rw-r--r-- 1 noel noel  23K Feb 28 16:45 261_Boletus_edulis_Harper.jpg\r\n",
      "-rw-r--r-- 1 noel noel  23K Feb 28 16:45 260_Boletus_edulis_Harper.jpg\r\n",
      "-rw-r--r-- 1 noel noel  23K Feb 28 16:45 262_Boletus_edulis_Harper.jpg\r\n",
      "-rw-r--r-- 1 noel noel  23K Feb 28 16:45 263_Boletus_edulis_Harper.jpg\r\n",
      "-rw-r--r-- 1 noel noel  23K Feb 28 16:45 264_Boletus_edulis_Harper.jpg\r\n",
      "-rw-r--r-- 1 noel noel  23K Feb 28 16:45 265_Boletus_edulis_Harper.jpg\r\n",
      "-rw-r--r-- 1 noel noel  23K Feb 28 16:45 266_Boletus_edulis_Harper.jpg\r\n",
      "-rw-r--r-- 1 noel noel  23K Feb 28 16:45 268_Boletus_edulis_Harper.jpg\r\n",
      "-rw-r--r-- 1 noel noel  23K Feb 28 16:45 267_Boletus_edulis_Harper.jpg\r\n",
      "-rw-r--r-- 1 noel noel  23K Feb 28 16:45 269_Boletus_edulis_Harper.jpg\r\n",
      "-rw-r--r-- 1 noel noel  23K Feb 28 16:45 270_Boletus_edulis_Harper.jpg\r\n",
      "-rw-r--r-- 1 noel noel  23K Feb 28 16:45 271_Boletus_edulis_Harper.jpg\r\n",
      "-rw-r--r-- 1 noel noel  23K Feb 28 16:45 272_Boletus_edulis_Harper.jpg\r\n",
      "-rw-r--r-- 1 noel noel  23K Feb 28 16:45 273_Boletus_edulis_Harper.jpg\r\n",
      "-rw-r--r-- 1 noel noel  23K Feb 28 16:45 274_Boletus_edulis_Harper.jpg\r\n",
      "-rw-r--r-- 1 noel noel  23K Feb 28 16:45 275_Boletus_edulis_Harper.jpg\r\n",
      "-rw-r--r-- 1 noel noel  23K Feb 28 16:45 276_Boletus_edulis_Harper.jpg\r\n",
      "-rw-r--r-- 1 noel noel  23K Feb 28 16:45 277_Boletus_edulis_Harper.jpg\r\n",
      "-rw-r--r-- 1 noel noel  23K Feb 28 16:45 278_Boletus_edulis_Harper.jpg\r\n",
      "-rw-r--r-- 1 noel noel  23K Feb 28 16:45 279_Boletus_edulis_Harper.jpg\r\n",
      "-rw-r--r-- 1 noel noel  23K Feb 28 16:45 280_Boletus_edulis_Harper.jpg\r\n",
      "-rw-r--r-- 1 noel noel  23K Feb 28 16:45 281_Boletus_edulis_Harper.jpg\r\n",
      "-rw-r--r-- 1 noel noel  23K Feb 28 16:45 282_Boletus_edulis_Harper.jpg\r\n",
      "-rw-r--r-- 1 noel noel  23K Feb 28 16:45 284_Boletus_edulis_Harper.jpg\r\n",
      "-rw-r--r-- 1 noel noel  23K Feb 28 16:45 283_Boletus_edulis_Harper.jpg\r\n",
      "-rw-r--r-- 1 noel noel  24K Feb 28 16:45 285_Boletus_edulis_Harper.jpg\r\n",
      "-rw-r--r-- 1 noel noel  24K Feb 28 16:45 286_Boletus_edulis_Harper.jpg\r\n",
      "-rw-r--r-- 1 noel noel  24K Feb 28 16:45 287_Boletus_edulis_Harper.jpg\r\n",
      "-rw-r--r-- 1 noel noel  24K Feb 28 16:45 288_Boletus_edulis_Harper.jpg\r\n",
      "-rw-r--r-- 1 noel noel  24K Feb 28 16:45 289_Boletus_edulis_Harper.jpg\r\n",
      "-rw-r--r-- 1 noel noel  24K Feb 28 16:45 290_Boletus_edulis_Harper.jpg\r\n",
      "-rw-r--r-- 1 noel noel  24K Feb 28 16:45 291_Boletus_edulis_Harper.jpg\r\n",
      "-rw-r--r-- 1 noel noel  24K Feb 28 16:45 292_Boletus_edulis_Harper.jpg\r\n",
      "-rw-r--r-- 1 noel noel  24K Feb 28 16:45 293_Boletus_edulis_Harper.jpg\r\n",
      "-rw-r--r-- 1 noel noel  24K Feb 28 16:45 294_Boletus_edulis_Harper.jpg\r\n",
      "-rw-r--r-- 1 noel noel  24K Feb 28 16:45 295_Boletus_edulis_Harper.jpg\r\n",
      "-rw-r--r-- 1 noel noel  24K Feb 28 16:45 296_Boletus_edulis_Harper.jpg\r\n",
      "-rw-r--r-- 1 noel noel  24K Feb 28 16:45 297_Boletus_edulis_Harper.jpg\r\n",
      "-rw-r--r-- 1 noel noel  24K Feb 28 16:45 298_Boletus_edulis_Harper.jpg\r\n",
      "-rw-r--r-- 1 noel noel  24K Feb 28 16:45 299_Boletus_edulis_Harper.jpg\r\n",
      "-rw-r--r-- 1 noel noel  24K Feb 28 16:45 300_Boletus_edulis_Harper.jpg\r\n",
      "-rw-r--r-- 1 noel noel  24K Feb 28 16:45 301_Boletus_edulis_Harper.jpg\r\n",
      "-rw-r--r-- 1 noel noel  24K Feb 28 16:45 302_Boletus_edulis_Harper.jpg\r\n",
      "-rw-r--r-- 1 noel noel  24K Feb 28 16:45 303_Boletus_edulis_Harper.jpg\r\n",
      "-rw-r--r-- 1 noel noel  24K Feb 28 16:45 304_Boletus_edulis_Harper.jpg\r\n",
      "-rw-r--r-- 1 noel noel  24K Feb 28 16:45 305_Boletus_edulis_Harper.jpg\r\n",
      "-rw-r--r-- 1 noel noel  24K Feb 28 16:45 306_Boletus_edulis_Harper.jpg\r\n",
      "-rw-r--r-- 1 noel noel  24K Feb 28 16:45 307_Boletus_edulis_Harper.jpg\r\n",
      "-rw-r--r-- 1 noel noel  24K Feb 28 16:45 308_Boletus_edulis_Harper.jpg\r\n",
      "-rw-r--r-- 1 noel noel  24K Feb 28 16:45 309_Boletus_edulis_Harper.jpg\r\n",
      "-rw-r--r-- 1 noel noel  24K Feb 28 16:45 310_Boletus_edulis_Harper.jpg\r\n",
      "-rw-r--r-- 1 noel noel  24K Feb 28 16:45 311_Boletus_edulis_Harper.jpg\r\n",
      "-rw-r--r-- 1 noel noel  24K Feb 28 16:45 312_Boletus_edulis_Harper.jpg\r\n",
      "-rw-r--r-- 1 noel noel  24K Feb 28 16:45 313_Boletus_edulis_Harper.jpg\r\n",
      "-rw-r--r-- 1 noel noel  24K Feb 28 16:45 314_Boletus_edulis_Harper.jpg\r\n",
      "-rw-r--r-- 1 noel noel  25K Feb 28 16:45 315_Boletus_edulis_Harper.jpg\r\n",
      "-rw-r--r-- 1 noel noel  25K Feb 28 16:45 316_Boletus_edulis_Harper.jpg\r\n",
      "-rw-r--r-- 1 noel noel  25K Feb 28 16:45 317_Boletus_edulis_Harper.jpg\r\n",
      "-rw-r--r-- 1 noel noel  25K Feb 28 16:45 318_Boletus_edulis_Harper.jpg\r\n",
      "-rw-r--r-- 1 noel noel  25K Feb 28 16:45 319_Boletus_edulis_Harper.jpg\r\n",
      "-rw-r--r-- 1 noel noel  25K Feb 28 16:45 320_Boletus_edulis_Harper.jpg\r\n",
      "-rw-r--r-- 1 noel noel  25K Feb 28 16:45 321_Boletus_edulis_Harper.jpg\r\n",
      "-rw-r--r-- 1 noel noel  25K Feb 28 16:45 322_Boletus_edulis_Harper.jpg\r\n",
      "-rw-r--r-- 1 noel noel  25K Feb 28 16:45 323_Boletus_edulis_Harper.jpg\r\n",
      "-rw-r--r-- 1 noel noel  25K Feb 28 16:45 324_Boletus_edulis_Harper.jpg\r\n",
      "-rw-r--r-- 1 noel noel  25K Feb 28 16:45 325_Boletus_edulis_Harper.jpg\r\n",
      "-rw-r--r-- 1 noel noel  25K Feb 28 16:45 326_Boletus_edulis_Harper.jpg\r\n",
      "-rw-r--r-- 1 noel noel  25K Feb 28 16:45 327_Boletus_edulis_Harper.jpg\r\n",
      "-rw-r--r-- 1 noel noel  25K Feb 28 16:45 328_Boletus_edulis_Harper.jpg\r\n",
      "-rw-r--r-- 1 noel noel  25K Feb 28 16:45 329_Boletus_edulis_Harper.jpg\r\n",
      "-rw-r--r-- 1 noel noel  25K Feb 28 16:45 330_Boletus_edulis_Harper.jpg\r\n",
      "-rw-r--r-- 1 noel noel  25K Feb 28 16:45 331_Boletus_edulis_Harper.jpg\r\n",
      "-rw-r--r-- 1 noel noel  25K Feb 28 16:45 332_Boletus_edulis_Harper.jpg\r\n",
      "-rw-r--r-- 1 noel noel  25K Feb 28 16:45 333_Boletus_edulis_Harper.jpg\r\n",
      "-rw-r--r-- 1 noel noel  25K Feb 28 16:45 334_Boletus_edulis_Harper.jpg\r\n",
      "-rw-r--r-- 1 noel noel  25K Feb 28 16:45 335_Boletus_edulis_Harper.jpg\r\n",
      "-rw-r--r-- 1 noel noel  25K Feb 28 16:45 336_Boletus_edulis_Harper.jpg\r\n",
      "-rw-r--r-- 1 noel noel  25K Feb 28 16:45 337_Boletus_edulis_Harper.jpg\r\n",
      "-rw-r--r-- 1 noel noel  25K Feb 28 16:45 338_Boletus_edulis_Harper.jpg\r\n",
      "-rw-r--r-- 1 noel noel  25K Feb 28 16:45 339_Boletus_edulis_Harper.jpg\r\n",
      "-rw-r--r-- 1 noel noel  25K Feb 28 16:45 340_Boletus_edulis_Harper.jpg\r\n",
      "-rw-r--r-- 1 noel noel  25K Feb 28 16:45 341_Boletus_edulis_Harper.jpg\r\n",
      "-rw-r--r-- 1 noel noel  25K Feb 28 16:45 342_Boletus_edulis_Harper.jpg\r\n",
      "-rw-r--r-- 1 noel noel  25K Feb 28 16:45 343_Boletus_edulis_Harper.jpg\r\n",
      "-rw-r--r-- 1 noel noel  25K Feb 28 16:45 344_Boletus_edulis_Harper.jpg\r\n",
      "-rw-r--r-- 1 noel noel  25K Feb 28 16:45 346_Boletus_edulis_Harper.jpg\r\n",
      "-rw-r--r-- 1 noel noel  25K Feb 28 16:45 345_Boletus_edulis_Harper.jpg\r\n",
      "-rw-r--r-- 1 noel noel  25K Feb 28 16:45 348_Boletus_edulis_Harper.jpg\r\n",
      "-rw-r--r-- 1 noel noel  25K Feb 28 16:45 347_Boletus_edulis_Harper.jpg\r\n",
      "-rw-r--r-- 1 noel noel  26K Feb 28 16:45 349_Boletus_edulis_Harper.jpg\r\n",
      "-rw-r--r-- 1 noel noel  26K Feb 28 16:45 350_Boletus_edulis_Harper.jpg\r\n",
      "-rw-r--r-- 1 noel noel  26K Feb 28 16:45 351_Boletus_edulis_Harper.jpg\r\n",
      "-rw-r--r-- 1 noel noel  26K Feb 28 16:45 352_Boletus_edulis_Harper.jpg\r\n",
      "-rw-r--r-- 1 noel noel  26K Feb 28 16:45 353_Boletus_edulis_Harper.jpg\r\n",
      "-rw-r--r-- 1 noel noel  26K Feb 28 16:45 354_Boletus_edulis_Harper.jpg\r\n",
      "-rw-r--r-- 1 noel noel  26K Feb 28 16:45 355_Boletus_edulis_Harper.jpg\r\n",
      "-rw-r--r-- 1 noel noel  26K Feb 28 16:45 356_Boletus_edulis_Harper.jpg\r\n",
      "-rw-r--r-- 1 noel noel  26K Feb 28 16:45 357_Boletus_edulis_Harper.jpg\r\n",
      "-rw-r--r-- 1 noel noel  26K Feb 28 16:45 358_Boletus_edulis_Harper.jpg\r\n",
      "-rw-r--r-- 1 noel noel  26K Feb 28 16:45 359_Boletus_edulis_Harper.jpg\r\n",
      "-rw-r--r-- 1 noel noel  26K Feb 28 16:45 360_Boletus_edulis_Harper.jpg\r\n",
      "-rw-r--r-- 1 noel noel  26K Feb 28 16:45 361_Boletus_edulis_Harper.jpg\r\n",
      "-rw-r--r-- 1 noel noel  26K Feb 28 16:45 362_Boletus_edulis_Harper.jpg\r\n",
      "-rw-r--r-- 1 noel noel  26K Feb 28 16:45 363_Boletus_edulis_Harper.jpg\r\n",
      "-rw-r--r-- 1 noel noel  26K Feb 28 16:45 364_Boletus_edulis_Harper.jpg\r\n",
      "-rw-r--r-- 1 noel noel  26K Feb 28 16:45 365_Boletus_edulis_Harper.jpg\r\n",
      "-rw-r--r-- 1 noel noel  26K Feb 28 16:45 366_Boletus_edulis_Harper.jpg\r\n",
      "-rw-r--r-- 1 noel noel  26K Feb 28 16:45 367_Boletus_edulis_Harper.jpg\r\n",
      "-rw-r--r-- 1 noel noel  27K Feb 28 16:45 368_Boletus_edulis_Harper.jpg\r\n",
      "-rw-r--r-- 1 noel noel  27K Feb 28 16:45 369_Boletus_edulis_Harper.jpg\r\n",
      "-rw-r--r-- 1 noel noel  27K Feb 28 16:45 370_Boletus_edulis_Harper.jpg\r\n",
      "-rw-r--r-- 1 noel noel  27K Feb 28 16:45 371_Boletus_edulis_Harper.jpg\r\n",
      "-rw-r--r-- 1 noel noel  27K Feb 28 16:45 372_Boletus_edulis_Harper.jpg\r\n",
      "-rw-r--r-- 1 noel noel  27K Feb 28 16:45 373_Boletus_edulis_Harper.jpg\r\n",
      "-rw-r--r-- 1 noel noel  27K Feb 28 16:45 374_Boletus_edulis_Harper.jpg\r\n",
      "-rw-r--r-- 1 noel noel  27K Feb 28 16:45 375_Boletus_edulis_Harper.jpg\r\n",
      "-rw-r--r-- 1 noel noel  27K Feb 28 16:45 376_Boletus_edulis_Harper.jpg\r\n",
      "-rw-r--r-- 1 noel noel  27K Feb 28 16:45 377_Boletus_edulis_Harper.jpg\r\n",
      "-rw-r--r-- 1 noel noel  27K Feb 28 16:45 378_Boletus_edulis_Harper.jpg\r\n",
      "-rw-r--r-- 1 noel noel  27K Feb 28 16:45 379_Boletus_edulis_Harper.jpg\r\n",
      "-rw-r--r-- 1 noel noel  27K Feb 28 16:45 380_Boletus_edulis_Harper.jpg\r\n",
      "-rw-r--r-- 1 noel noel  27K Feb 28 16:45 381_Boletus_edulis_Harper.jpg\r\n",
      "-rw-r--r-- 1 noel noel  27K Feb 28 16:45 382_Boletus_edulis_Harper.jpg\r\n",
      "-rw-r--r-- 1 noel noel  27K Feb 28 16:45 383_Boletus_edulis_Harper.jpg\r\n",
      "-rw-r--r-- 1 noel noel  27K Feb 28 16:45 384_Boletus_edulis_Harper.jpg\r\n",
      "-rw-r--r-- 1 noel noel  27K Feb 28 16:45 385_Boletus_edulis_Harper.jpg\r\n",
      "-rw-r--r-- 1 noel noel  27K Feb 28 16:45 386_Boletus_edulis_Harper.jpg\r\n",
      "-rw-r--r-- 1 noel noel  27K Feb 28 16:45 387_Boletus_edulis_Harper.jpg\r\n",
      "-rw-r--r-- 1 noel noel  27K Feb 28 16:45 388_Boletus_edulis_Harper.jpg\r\n",
      "-rw-r--r-- 1 noel noel  27K Feb 28 16:45 389_Boletus_edulis_Harper.jpg\r\n",
      "-rw-r--r-- 1 noel noel  27K Feb 28 16:45 390_Boletus_edulis_Harper.jpg\r\n",
      "-rw-r--r-- 1 noel noel  27K Feb 28 16:45 391_Boletus_edulis_Harper.jpg\r\n",
      "-rw-r--r-- 1 noel noel  27K Feb 28 16:45 392_Boletus_edulis_Harper.jpg\r\n",
      "-rw-r--r-- 1 noel noel  28K Feb 28 16:45 393_Boletus_edulis_Harper.jpg\r\n",
      "-rw-r--r-- 1 noel noel  28K Feb 28 16:45 394_Boletus_edulis_Harper.jpg\r\n",
      "-rw-r--r-- 1 noel noel  28K Feb 28 16:45 395_Boletus_edulis_Harper.jpg\r\n",
      "-rw-r--r-- 1 noel noel  28K Feb 28 16:45 396_Boletus_edulis_Harper.jpg\r\n",
      "-rw-r--r-- 1 noel noel  28K Feb 28 16:45 397_Boletus_edulis_Harper.jpg\r\n",
      "-rw-r--r-- 1 noel noel  28K Feb 28 16:45 399_Boletus_edulis_Harper.jpg\r\n",
      "-rw-r--r-- 1 noel noel  28K Feb 28 16:45 398_Boletus_edulis_Harper.jpg\r\n",
      "-rw-r--r-- 1 noel noel  28K Feb 28 16:45 400_Boletus_edulis_Harper.jpg\r\n",
      "-rw-r--r-- 1 noel noel  28K Feb 28 16:45 401_Boletus_edulis_Harper.jpg\r\n",
      "-rw-r--r-- 1 noel noel  28K Feb 28 16:45 402_Boletus_edulis_Harper.jpg\r\n",
      "-rw-r--r-- 1 noel noel  28K Feb 28 16:45 403_Boletus_edulis_Harper.jpg\r\n",
      "-rw-r--r-- 1 noel noel  28K Feb 28 16:45 404_Boletus_edulis_Harper.jpg\r\n",
      "-rw-r--r-- 1 noel noel  28K Feb 28 16:45 405_Boletus_edulis_Harper.jpg\r\n",
      "-rw-r--r-- 1 noel noel  29K Feb 28 16:45 406_Boletus_edulis_Harper.jpg\r\n",
      "-rw-r--r-- 1 noel noel  29K Feb 28 16:45 407_Boletus_edulis_Harper.jpg\r\n",
      "-rw-r--r-- 1 noel noel  29K Feb 28 16:45 408_Boletus_edulis_Harper.jpg\r\n",
      "-rw-r--r-- 1 noel noel  29K Feb 28 16:45 409_Boletus_edulis_Harper.jpg\r\n",
      "-rw-r--r-- 1 noel noel  29K Feb 28 16:45 410_Boletus_edulis_Harper.jpg\r\n",
      "-rw-r--r-- 1 noel noel  29K Feb 28 16:45 411_Boletus_edulis_Harper.jpg\r\n",
      "-rw-r--r-- 1 noel noel  29K Feb 28 16:45 412_Boletus_edulis_Harper.jpg\r\n",
      "-rw-r--r-- 1 noel noel  29K Feb 28 16:45 413_Boletus_edulis_Harper.jpg\r\n",
      "-rw-r--r-- 1 noel noel  29K Feb 28 16:45 414_Boletus_edulis_Harper.jpg\r\n",
      "-rw-r--r-- 1 noel noel  29K Feb 28 16:45 415_Boletus_edulis_Harper.jpg\r\n",
      "-rw-r--r-- 1 noel noel  29K Feb 28 16:45 416_Boletus_edulis_Harper.jpg\r\n",
      "-rw-r--r-- 1 noel noel  29K Feb 28 16:45 417_Boletus_edulis_Harper.jpg\r\n",
      "-rw-r--r-- 1 noel noel  29K Feb 28 16:45 418_Boletus_edulis_Harper.jpg\r\n",
      "-rw-r--r-- 1 noel noel  29K Feb 28 16:45 419_Boletus_edulis_Harper.jpg\r\n",
      "-rw-r--r-- 1 noel noel  29K Feb 28 16:45 420_Boletus_edulis_Harper.jpg\r\n",
      "-rw-r--r-- 1 noel noel  29K Feb 28 16:45 421_Boletus_edulis_Harper.jpg\r\n",
      "-rw-r--r-- 1 noel noel  30K Feb 28 16:45 422_Boletus_edulis_Harper.jpg\r\n",
      "-rw-r--r-- 1 noel noel  30K Feb 28 16:45 423_Boletus_edulis_Harper.jpg\r\n",
      "-rw-r--r-- 1 noel noel  30K Feb 28 16:45 424_Boletus_edulis_Harper.jpg\r\n",
      "-rw-r--r-- 1 noel noel  30K Feb 28 16:45 425_Boletus_edulis_Harper.jpg\r\n",
      "-rw-r--r-- 1 noel noel  30K Feb 28 16:45 426_Boletus_edulis_Harper.jpg\r\n",
      "-rw-r--r-- 1 noel noel  31K Feb 28 16:45 427_Boletus_edulis_Harper.jpg\r\n",
      "-rw-r--r-- 1 noel noel  31K Feb 28 16:45 428_Boletus_edulis_Harper.jpg\r\n",
      "-rw-r--r-- 1 noel noel  31K Feb 28 16:45 429_Boletus_edulis_Harper.jpg\r\n",
      "-rw-r--r-- 1 noel noel  31K Feb 28 16:45 430_Boletus_edulis_Harper.jpg\r\n",
      "-rw-r--r-- 1 noel noel  31K Feb 28 16:45 431_Boletus_edulis_Harper.jpg\r\n",
      "-rw-r--r-- 1 noel noel  32K Feb 28 16:45 432_Boletus_edulis_Harper.jpg\r\n",
      "-rw-r--r-- 1 noel noel  32K Feb 28 16:45 433_Boletus_edulis_Harper.jpg\r\n",
      "-rw-r--r-- 1 noel noel  32K Feb 28 16:45 434_Boletus_edulis_Harper.jpg\r\n",
      "-rw-r--r-- 1 noel noel  32K Feb 28 16:45 435_Boletus_edulis_Harper.jpg\r\n",
      "-rw-r--r-- 1 noel noel  32K Feb 28 16:45 436_Boletus_edulis_Harper.jpg\r\n",
      "-rw-r--r-- 1 noel noel  33K Feb 28 16:45 437_Boletus_edulis_Harper.jpg\r\n",
      "-rw-r--r-- 1 noel noel  33K Feb 28 16:45 438_Boletus_edulis_Harper.jpg\r\n",
      "-rw-r--r-- 1 noel noel  33K Feb 28 16:45 439_Boletus_edulis_Harper.jpg\r\n",
      "-rw-r--r-- 1 noel noel  33K Feb 28 16:45 440_Boletus_edulis_Harper.jpg\r\n",
      "-rw-r--r-- 1 noel noel  34K Feb 28 16:45 441_Boletus_edulis_Harper.jpg\r\n",
      "-rw-r--r-- 1 noel noel  34K Feb 28 16:45 442_Boletus_edulis_Harper.jpg\r\n",
      "-rw-r--r-- 1 noel noel  36K Feb 28 16:45 443_Boletus_edulis_Harper.jpg\r\n",
      "-rw-r--r-- 1 noel noel  42K Feb 28 16:45 444_Boletus_edulis_Harper.jpg\r\n"
     ]
    }
   ],
   "source": [
    "# To list the images in order of their filesise we can use ls -rSlh\n",
    "! ls -rSlh David_Harper_Labelled_Cleaned/Boletus_edulis"
   ]
  },
  {
   "cell_type": "markdown",
   "id": "4dec3bbc",
   "metadata": {},
   "source": [
    "Note how there are missing entries at the start, due to missing image files. There are also higher missing entries because sometimes there were microscope/other irrelevant pictures in larger files too."
   ]
  },
  {
   "cell_type": "markdown",
   "id": "a96a46d8",
   "metadata": {},
   "source": [
    "### Sort the python list according to existing labels"
   ]
  },
  {
   "cell_type": "code",
   "execution_count": 66,
   "id": "99b92e7f",
   "metadata": {},
   "outputs": [
    {
     "data": {
      "text/plain": [
       "['4_Boletus_edulis_Harper.jpg',\n",
       " '5_Boletus_edulis_Harper.jpg',\n",
       " '6_Boletus_edulis_Harper.jpg',\n",
       " '7_Boletus_edulis_Harper.jpg',\n",
       " '8_Boletus_edulis_Harper.jpg',\n",
       " '9_Boletus_edulis_Harper.jpg',\n",
       " '10_Boletus_edulis_Harper.jpg',\n",
       " '11_Boletus_edulis_Harper.jpg',\n",
       " '12_Boletus_edulis_Harper.jpg',\n",
       " '13_Boletus_edulis_Harper.jpg']"
      ]
     },
     "execution_count": 66,
     "metadata": {},
     "output_type": "execute_result"
    }
   ],
   "source": [
    "boletes.sort(reverse=False,key= lambda bolete: int(bolete.split('_')[0]))\n",
    "boletes[:10]"
   ]
  },
  {
   "cell_type": "markdown",
   "id": "bbc9dcf9",
   "metadata": {},
   "source": [
    "## Generalise procedure with functions"
   ]
  },
  {
   "cell_type": "markdown",
   "id": "10b8e9d2",
   "metadata": {},
   "source": [
    "In this case we just have 6 species, so this is not really a necessary step, but in folders where we have thousands of subfolders, we may want an easy way to find a species/genus by its name. The following function does this."
   ]
  },
  {
   "cell_type": "markdown",
   "id": "cd52f9f3",
   "metadata": {},
   "source": [
    "### Step 1 find species directory"
   ]
  },
  {
   "cell_type": "code",
   "execution_count": 84,
   "id": "ff6385d8",
   "metadata": {},
   "outputs": [
    {
     "data": {
      "text/plain": [
       "['Boletus_edulis',\n",
       " 'Amanita_bisporigera',\n",
       " 'Cantharellus',\n",
       " 'Omphalotus_olearius',\n",
       " 'Amanita_muscaria',\n",
       " 'Russula_mariae']"
      ]
     },
     "execution_count": 84,
     "metadata": {},
     "output_type": "execute_result"
    }
   ],
   "source": [
    "dir_list"
   ]
  },
  {
   "cell_type": "code",
   "execution_count": 79,
   "id": "2f8c5f28",
   "metadata": {},
   "outputs": [
    {
     "data": {
      "text/plain": [
       "'440 Boletus edulis Harper.jpg'"
      ]
     },
     "execution_count": 79,
     "metadata": {},
     "output_type": "execute_result"
    }
   ],
   "source": [
    "boletes[0].replace('_', ' ')"
   ]
  },
  {
   "cell_type": "code",
   "execution_count": 82,
   "id": "b13cf02c",
   "metadata": {},
   "outputs": [],
   "source": [
    "def find_in_list(name,dir_list):\n",
    "    for i in dir_list:\n",
    "        if name.lower() in i.replace('_', ' ').lower():\n",
    "            species_dir=i\n",
    "    return species_dir"
   ]
  },
  {
   "cell_type": "code",
   "execution_count": 83,
   "id": "5ba197ad",
   "metadata": {},
   "outputs": [
    {
     "name": "stdout",
     "output_type": "stream",
     "text": [
      "Amanita_muscaria\n"
     ]
    }
   ],
   "source": [
    "print(find_in_list('amanita muscaria',dir_list))"
   ]
  },
  {
   "cell_type": "markdown",
   "id": "3daad5bb",
   "metadata": {},
   "source": [
    "### Step 2: make path and sort/clean list"
   ]
  },
  {
   "cell_type": "code",
   "execution_count": 96,
   "id": "27f1db1c",
   "metadata": {},
   "outputs": [
    {
     "name": "stdout",
     "output_type": "stream",
     "text": [
      "Path to A_muscara:\n",
      "./David_Harper_Labelled_Cleaned/Amanita_muscaria\n",
      "\n",
      "We have 363 pictures of amanita muscaria\n"
     ]
    },
    {
     "data": {
      "text/plain": [
       "['1_Amanita_muscaria_Harper.jpg',\n",
       " '2_Amanita_muscaria_Harper.jpg',\n",
       " '3_Amanita_muscaria_Harper.jpg',\n",
       " '4_Amanita_muscaria_Harper.jpg',\n",
       " '5_Amanita_muscaria_Harper.jpg',\n",
       " '6_Amanita_muscaria_Harper.jpg',\n",
       " '7_Amanita_muscaria_Harper.jpg',\n",
       " '8_Amanita_muscaria_Harper.jpg',\n",
       " '9_Amanita_muscaria_Harper.jpg',\n",
       " '10_Amanita_muscaria_Harper.jpg']"
      ]
     },
     "execution_count": 96,
     "metadata": {},
     "output_type": "execute_result"
    }
   ],
   "source": [
    "# Make path string using string concatanation\n",
    "amusc_path= path_to_imgs + '/' + find_in_list('amanita muscaria',dir_list)\n",
    "print('Path to A_muscara:')\n",
    "print(amusc_path)\n",
    "\n",
    "amuscs=os.listdir(amusc_path)\n",
    "print(f'\\nWe have {len(amuscs)} pictures of amanita muscaria')\n",
    "amuscs.sort(reverse=False,key= lambda bolete: int(bolete.split('_')[0]))\n",
    "\n",
    "amuscs[0:10]"
   ]
  },
  {
   "cell_type": "markdown",
   "id": "6d1e11ab",
   "metadata": {},
   "source": [
    "### Examine for corrupted files"
   ]
  },
  {
   "cell_type": "code",
   "execution_count": 93,
   "id": "bc373ac1",
   "metadata": {},
   "outputs": [
    {
     "ename": "IndentationError",
     "evalue": "expected an indented block (1174283270.py, line 4)",
     "output_type": "error",
     "traceback": [
      "\u001b[0;36m  Input \u001b[0;32mIn [93]\u001b[0;36m\u001b[0m\n\u001b[0;31m    try:\u001b[0m\n\u001b[0m        ^\u001b[0m\n\u001b[0;31mIndentationError\u001b[0m\u001b[0;31m:\u001b[0m expected an indented block\n"
     ]
    }
   ],
   "source": [
    "def find_corrupted(directory):\n",
    "    for filename in listdir('./'):\n",
    "        if filename.endswith('.png') or filename.endswith('.jpg') or filename.endswith('.JPG'):\n",
    "            try:img = Image.open('./'+filename) # open the image file\n",
    "                img.verify() # verify that it is, in fact an image\n",
    "            except (IOError, SyntaxError) as e:\n",
    "                print('Bad file:', filename) # print out the names of corrupt files"
   ]
  },
  {
   "cell_type": "code",
   "execution_count": 97,
   "id": "9084a4dd",
   "metadata": {},
   "outputs": [],
   "source": [
    "def find_corrupted(directory):\n",
    "    for filename in listdir(directory):\n",
    "        png=filename.endswith('.png') or filename.endswith('.PNG')\n",
    "        jpg=filename.endswith('.jpg') or filename.endswith('.JPG')\n",
    "        jpeg=filename.endswith('.jpeg') or filename.endswith('.JPEG')\n",
    "        if png or jpg or jpeg:\n",
    "            try:\n",
    "                img=Image.open('./'+filename)\n",
    "                img.verify()\n",
    "            except (IOError, SyntaxError) as e:\n",
    "                print('Bad file:',filename)"
   ]
  },
  {
   "cell_type": "code",
   "execution_count": 95,
   "id": "1afe723b",
   "metadata": {},
   "outputs": [
    {
     "data": {
      "text/plain": [
       "['1_Amanita_muscaria_Harper.jpg',\n",
       " '2_Amanita_muscaria_Harper.jpg',\n",
       " '3_Amanita_muscaria_Harper.jpg',\n",
       " '4_Amanita_muscaria_Harper.jpg',\n",
       " '5_Amanita_muscaria_Harper.jpg',\n",
       " '6_Amanita_muscaria_Harper.jpg',\n",
       " '7_Amanita_muscaria_Harper.jpg',\n",
       " '8_Amanita_muscaria_Harper.jpg',\n",
       " '9_Amanita_muscaria_Harper.jpg',\n",
       " '10_Amanita_muscaria_Harper.jpg',\n",
       " '11_Amanita_muscaria_Harper.jpg',\n",
       " '12_Amanita_muscaria_Harper.jpg',\n",
       " '13_Amanita_muscaria_Harper.jpg',\n",
       " '14_Amanita_muscaria_Harper.jpg',\n",
       " '15_Amanita_muscaria_Harper.jpg',\n",
       " '16_Amanita_muscaria_Harper.jpg',\n",
       " '17_Amanita_muscaria_Harper.jpg',\n",
       " '18_Amanita_muscaria_Harper.jpg',\n",
       " '19_Amanita_muscaria_Harper.jpg',\n",
       " '20_Amanita_muscaria_Harper.jpg',\n",
       " '21_Amanita_muscaria_Harper.jpg',\n",
       " '22_Amanita_muscaria_Harper.jpg',\n",
       " '23_Amanita_muscaria_Harper.jpg',\n",
       " '24_Amanita_muscaria_Harper.jpg',\n",
       " '25_Amanita_muscaria_Harper.jpg',\n",
       " '26_Amanita_muscaria_Harper.jpg',\n",
       " '27_Amanita_muscaria_Harper.jpg',\n",
       " '28_Amanita_muscaria_Harper.jpg',\n",
       " '29_Amanita_muscaria_Harper.jpg',\n",
       " '31_Amanita_muscaria_Harper.jpg',\n",
       " '32_Amanita_muscaria_Harper.jpg',\n",
       " '33_Amanita_muscaria_Harper.jpg',\n",
       " '34_Amanita_muscaria_Harper.jpg',\n",
       " '35_Amanita_muscaria_Harper.jpg',\n",
       " '36_Amanita_muscaria_Harper.jpg',\n",
       " '37_Amanita_muscaria_Harper.jpg',\n",
       " '38_Amanita_muscaria_Harper.jpg',\n",
       " '39_Amanita_muscaria_Harper.jpg',\n",
       " '40_Amanita_muscaria_Harper.jpg',\n",
       " '41_Amanita_muscaria_Harper.jpg',\n",
       " '42_Amanita_muscaria_Harper.jpg',\n",
       " '43_Amanita_muscaria_Harper.jpg',\n",
       " '44_Amanita_muscaria_Harper.jpg',\n",
       " '45_Amanita_muscaria_Harper.jpg',\n",
       " '46_Amanita_muscaria_Harper.jpg',\n",
       " '47_Amanita_muscaria_Harper.jpg',\n",
       " '48_Amanita_muscaria_Harper.jpg',\n",
       " '49_Amanita_muscaria_Harper.jpg',\n",
       " '50_Amanita_muscaria_Harper.jpg',\n",
       " '52_Amanita_muscaria_Harper.jpg',\n",
       " '53_Amanita_muscaria_Harper.jpg',\n",
       " '54_Amanita_muscaria_Harper.jpg',\n",
       " '55_Amanita_muscaria_Harper.jpg',\n",
       " '57_Amanita_muscaria_Harper.jpg',\n",
       " '58_Amanita_muscaria_Harper.jpg',\n",
       " '59_Amanita_muscaria_Harper.jpg',\n",
       " '60_Amanita_muscaria_Harper.jpg',\n",
       " '61_Amanita_muscaria_Harper.jpg',\n",
       " '62_Amanita_muscaria_Harper.jpg',\n",
       " '63_Amanita_muscaria_Harper.jpg',\n",
       " '64_Amanita_muscaria_Harper.jpg',\n",
       " '65_Amanita_muscaria_Harper.jpg',\n",
       " '66_Amanita_muscaria_Harper.jpg',\n",
       " '67_Amanita_muscaria_Harper.jpg',\n",
       " '68_Amanita_muscaria_Harper.jpg',\n",
       " '69_Amanita_muscaria_Harper.jpg',\n",
       " '70_Amanita_muscaria_Harper.jpg',\n",
       " '71_Amanita_muscaria_Harper.jpg',\n",
       " '72_Amanita_muscaria_Harper.jpg',\n",
       " '73_Amanita_muscaria_Harper.jpg',\n",
       " '74_Amanita_muscaria_Harper.jpg',\n",
       " '75_Amanita_muscaria_Harper.jpg',\n",
       " '76_Amanita_muscaria_Harper.jpg',\n",
       " '77_Amanita_muscaria_Harper.jpg',\n",
       " '78_Amanita_muscaria_Harper.jpg',\n",
       " '79_Amanita_muscaria_Harper.jpg',\n",
       " '80_Amanita_muscaria_Harper.jpg',\n",
       " '81_Amanita_muscaria_Harper.jpg',\n",
       " '82_Amanita_muscaria_Harper.jpg',\n",
       " '84_Amanita_muscaria_Harper.jpg',\n",
       " '85_Amanita_muscaria_Harper.jpg',\n",
       " '86_Amanita_muscaria_Harper.jpg',\n",
       " '87_Amanita_muscaria_Harper.jpg',\n",
       " '88_Amanita_muscaria_Harper.jpg',\n",
       " '89_Amanita_muscaria_Harper.jpg',\n",
       " '90_Amanita_muscaria_Harper.jpg',\n",
       " '91_Amanita_muscaria_Harper.jpg',\n",
       " '92_Amanita_muscaria_Harper.jpg',\n",
       " '93_Amanita_muscaria_Harper.jpg',\n",
       " '94_Amanita_muscaria_Harper.jpg',\n",
       " '95_Amanita_muscaria_Harper.jpg',\n",
       " '96_Amanita_muscaria_Harper.jpg',\n",
       " '97_Amanita_muscaria_Harper.jpg',\n",
       " '98_Amanita_muscaria_Harper.jpg',\n",
       " '99_Amanita_muscaria_Harper.jpg',\n",
       " '100_Amanita_muscaria_Harper.jpg',\n",
       " '101_Amanita_muscaria_Harper.jpg',\n",
       " '102_Amanita_muscaria_Harper.jpg',\n",
       " '103_Amanita_muscaria_Harper.jpg',\n",
       " '104_Amanita_muscaria_Harper.jpg',\n",
       " '105_Amanita_muscaria_Harper.jpg',\n",
       " '106_Amanita_muscaria_Harper.jpg',\n",
       " '107_Amanita_muscaria_Harper.jpg',\n",
       " '108_Amanita_muscaria_Harper.jpg',\n",
       " '109_Amanita_muscaria_Harper.jpg',\n",
       " '110_Amanita_muscaria_Harper.jpg',\n",
       " '111_Amanita_muscaria_Harper.jpg',\n",
       " '112_Amanita_muscaria_Harper.jpg',\n",
       " '113_Amanita_muscaria_Harper.jpg',\n",
       " '114_Amanita_muscaria_Harper.jpg',\n",
       " '115_Amanita_muscaria_Harper.jpg',\n",
       " '116_Amanita_muscaria_Harper.jpg',\n",
       " '117_Amanita_muscaria_Harper.jpg',\n",
       " '118_Amanita_muscaria_Harper.jpg',\n",
       " '119_Amanita_muscaria_Harper.jpg',\n",
       " '120_Amanita_muscaria_Harper.jpg',\n",
       " '121_Amanita_muscaria_Harper.jpg',\n",
       " '122_Amanita_muscaria_Harper.jpg',\n",
       " '123_Amanita_muscaria_Harper.jpg',\n",
       " '124_Amanita_muscaria_Harper.jpg',\n",
       " '125_Amanita_muscaria_Harper.jpg',\n",
       " '126_Amanita_muscaria_Harper.jpg',\n",
       " '127_Amanita_muscaria_Harper.jpg',\n",
       " '128_Amanita_muscaria_Harper.jpg',\n",
       " '129_Amanita_muscaria_Harper.jpg',\n",
       " '130_Amanita_muscaria_Harper.jpg',\n",
       " '131_Amanita_muscaria_Harper.jpg',\n",
       " '132_Amanita_muscaria_Harper.jpg',\n",
       " '133_Amanita_muscaria_Harper.jpg',\n",
       " '134_Amanita_muscaria_Harper.jpg',\n",
       " '135_Amanita_muscaria_Harper.jpg',\n",
       " '136_Amanita_muscaria_Harper.jpg',\n",
       " '137_Amanita_muscaria_Harper.jpg',\n",
       " '138_Amanita_muscaria_Harper.jpg',\n",
       " '139_Amanita_muscaria_Harper.jpg',\n",
       " '140_Amanita_muscaria_Harper.jpg',\n",
       " '141_Amanita_muscaria_Harper.jpg',\n",
       " '142_Amanita_muscaria_Harper.jpg',\n",
       " '143_Amanita_muscaria_Harper.jpg',\n",
       " '144_Amanita_muscaria_Harper.jpg',\n",
       " '145_Amanita_muscaria_Harper.jpg',\n",
       " '146_Amanita_muscaria_Harper.jpg',\n",
       " '147_Amanita_muscaria_Harper.jpg',\n",
       " '148_Amanita_muscaria_Harper.jpg',\n",
       " '149_Amanita_muscaria_Harper.jpg',\n",
       " '150_Amanita_muscaria_Harper.jpg',\n",
       " '151_Amanita_muscaria_Harper.jpg',\n",
       " '152_Amanita_muscaria_Harper.jpg',\n",
       " '153_Amanita_muscaria_Harper.jpg',\n",
       " '154_Amanita_muscaria_Harper.jpg',\n",
       " '155_Amanita_muscaria_Harper.jpg',\n",
       " '156_Amanita_muscaria_Harper.jpg',\n",
       " '157_Amanita_muscaria_Harper.jpg',\n",
       " '158_Amanita_muscaria_Harper.jpg',\n",
       " '159_Amanita_muscaria_Harper.jpg',\n",
       " '160_Amanita_muscaria_Harper.jpg',\n",
       " '161_Amanita_muscaria_Harper.jpg',\n",
       " '162_Amanita_muscaria_Harper.jpg',\n",
       " '163_Amanita_muscaria_Harper.jpg',\n",
       " '164_Amanita_muscaria_Harper.jpg',\n",
       " '165_Amanita_muscaria_Harper.jpg',\n",
       " '166_Amanita_muscaria_Harper.jpg',\n",
       " '167_Amanita_muscaria_Harper.jpg',\n",
       " '168_Amanita_muscaria_Harper.jpg',\n",
       " '169_Amanita_muscaria_Harper.jpg',\n",
       " '170_Amanita_muscaria_Harper.jpg',\n",
       " '171_Amanita_muscaria_Harper.jpg',\n",
       " '172_Amanita_muscaria_Harper.jpg',\n",
       " '173_Amanita_muscaria_Harper.jpg',\n",
       " '174_Amanita_muscaria_Harper.jpg',\n",
       " '175_Amanita_muscaria_Harper.jpg',\n",
       " '176_Amanita_muscaria_Harper.jpg',\n",
       " '177_Amanita_muscaria_Harper.jpg',\n",
       " '178_Amanita_muscaria_Harper.jpg',\n",
       " '179_Amanita_muscaria_Harper.jpg',\n",
       " '180_Amanita_muscaria_Harper.jpg',\n",
       " '181_Amanita_muscaria_Harper.jpg',\n",
       " '182_Amanita_muscaria_Harper.jpg',\n",
       " '183_Amanita_muscaria_Harper.jpg',\n",
       " '184_Amanita_muscaria_Harper.jpg',\n",
       " '185_Amanita_muscaria_Harper.jpg',\n",
       " '186_Amanita_muscaria_Harper.jpg',\n",
       " '187_Amanita_muscaria_Harper.jpg',\n",
       " '188_Amanita_muscaria_Harper.jpg',\n",
       " '189_Amanita_muscaria_Harper.jpg',\n",
       " '190_Amanita_muscaria_Harper.jpg',\n",
       " '191_Amanita_muscaria_Harper.jpg',\n",
       " '192_Amanita_muscaria_Harper.jpg',\n",
       " '193_Amanita_muscaria_Harper.jpg',\n",
       " '194_Amanita_muscaria_Harper.jpg',\n",
       " '195_Amanita_muscaria_Harper.jpg',\n",
       " '196_Amanita_muscaria_Harper.jpg',\n",
       " '197_Amanita_muscaria_Harper.jpg',\n",
       " '198_Amanita_muscaria_Harper.jpg',\n",
       " '199_Amanita_muscaria_Harper.jpg',\n",
       " '200_Amanita_muscaria_Harper.jpg',\n",
       " '201_Amanita_muscaria_Harper.jpg',\n",
       " '202_Amanita_muscaria_Harper.jpg',\n",
       " '203_Amanita_muscaria_Harper.jpg',\n",
       " '204_Amanita_muscaria_Harper.jpg',\n",
       " '205_Amanita_muscaria_Harper.jpg',\n",
       " '206_Amanita_muscaria_Harper.jpg',\n",
       " '207_Amanita_muscaria_Harper.jpg',\n",
       " '208_Amanita_muscaria_Harper.jpg',\n",
       " '209_Amanita_muscaria_Harper.jpg',\n",
       " '210_Amanita_muscaria_Harper.jpg',\n",
       " '211_Amanita_muscaria_Harper.jpg',\n",
       " '212_Amanita_muscaria_Harper.jpg',\n",
       " '213_Amanita_muscaria_Harper.jpg',\n",
       " '214_Amanita_muscaria_Harper.jpg',\n",
       " '215_Amanita_muscaria_Harper.jpg',\n",
       " '216_Amanita_muscaria_Harper.jpg',\n",
       " '217_Amanita_muscaria_Harper.jpg',\n",
       " '218_Amanita_muscaria_Harper.jpg',\n",
       " '219_Amanita_muscaria_Harper.jpg',\n",
       " '220_Amanita_muscaria_Harper.jpg',\n",
       " '221_Amanita_muscaria_Harper.jpg',\n",
       " '222_Amanita_muscaria_Harper.jpg',\n",
       " '223_Amanita_muscaria_Harper.jpg',\n",
       " '224_Amanita_muscaria_Harper.jpg',\n",
       " '225_Amanita_muscaria_Harper.jpg',\n",
       " '226_Amanita_muscaria_Harper.jpg',\n",
       " '227_Amanita_muscaria_Harper.jpg',\n",
       " '228_Amanita_muscaria_Harper.jpg',\n",
       " '229_Amanita_muscaria_Harper.jpg',\n",
       " '230_Amanita_muscaria_Harper.jpg',\n",
       " '231_Amanita_muscaria_Harper.jpg',\n",
       " '232_Amanita_muscaria_Harper.jpg',\n",
       " '233_Amanita_muscaria_Harper.jpg',\n",
       " '234_Amanita_muscaria_Harper.jpg',\n",
       " '235_Amanita_muscaria_Harper.jpg',\n",
       " '236_Amanita_muscaria_Harper.jpg',\n",
       " '237_Amanita_muscaria_Harper.jpg',\n",
       " '238_Amanita_muscaria_Harper.jpg',\n",
       " '239_Amanita_muscaria_Harper.jpg',\n",
       " '240_Amanita_muscaria_Harper.jpg',\n",
       " '241_Amanita_muscaria_Harper.jpg',\n",
       " '242_Amanita_muscaria_Harper.jpg',\n",
       " '243_Amanita_muscaria_Harper.jpg',\n",
       " '244_Amanita_muscaria_Harper.jpg',\n",
       " '245_Amanita_muscaria_Harper.jpg',\n",
       " '246_Amanita_muscaria_Harper.jpg',\n",
       " '247_Amanita_muscaria_Harper.jpg',\n",
       " '248_Amanita_muscaria_Harper.jpg',\n",
       " '249_Amanita_muscaria_Harper.jpg',\n",
       " '250_Amanita_muscaria_Harper.jpg',\n",
       " '251_Amanita_muscaria_Harper.jpg',\n",
       " '252_Amanita_muscaria_Harper.jpg',\n",
       " '253_Amanita_muscaria_Harper.jpg',\n",
       " '254_Amanita_muscaria_Harper.jpg',\n",
       " '255_Amanita_muscaria_Harper.jpg',\n",
       " '256_Amanita_muscaria_Harper.jpg',\n",
       " '257_Amanita_muscaria_Harper.jpg',\n",
       " '258_Amanita_muscaria_Harper.jpg',\n",
       " '259_Amanita_muscaria_Harper.jpg',\n",
       " '260_Amanita_muscaria_Harper.jpg',\n",
       " '261_Amanita_muscaria_Harper.jpg',\n",
       " '262_Amanita_muscaria_Harper.jpg',\n",
       " '263_Amanita_muscaria_Harper.jpg',\n",
       " '264_Amanita_muscaria_Harper.jpg',\n",
       " '265_Amanita_muscaria_Harper.jpg',\n",
       " '266_Amanita_muscaria_Harper.jpg',\n",
       " '267_Amanita_muscaria_Harper.jpg',\n",
       " '268_Amanita_muscaria_Harper.jpg',\n",
       " '269_Amanita_muscaria_Harper.jpg',\n",
       " '270_Amanita_muscaria_Harper.jpg',\n",
       " '271_Amanita_muscaria_Harper.jpg',\n",
       " '272_Amanita_muscaria_Harper.jpg',\n",
       " '273_Amanita_muscaria_Harper.jpg',\n",
       " '274_Amanita_muscaria_Harper.jpg',\n",
       " '275_Amanita_muscaria_Harper.jpg',\n",
       " '276_Amanita_muscaria_Harper.jpg',\n",
       " '277_Amanita_muscaria_Harper.jpg',\n",
       " '278_Amanita_muscaria_Harper.jpg',\n",
       " '279_Amanita_muscaria_Harper.jpg',\n",
       " '280_Amanita_muscaria_Harper.jpg',\n",
       " '281_Amanita_muscaria_Harper.jpg',\n",
       " '282_Amanita_muscaria_Harper.jpg',\n",
       " '283_Amanita_muscaria_Harper.jpg',\n",
       " '284_Amanita_muscaria_Harper.jpg',\n",
       " '285_Amanita_muscaria_Harper.jpg',\n",
       " '286_Amanita_muscaria_Harper.jpg',\n",
       " '287_Amanita_muscaria_Harper.jpg',\n",
       " '288_Amanita_muscaria_Harper.jpg',\n",
       " '289_Amanita_muscaria_Harper.jpg',\n",
       " '290_Amanita_muscaria_Harper.jpg',\n",
       " '291_Amanita_muscaria_Harper.jpg',\n",
       " '292_Amanita_muscaria_Harper.jpg',\n",
       " '293_Amanita_muscaria_Harper.jpg',\n",
       " '294_Amanita_muscaria_Harper.jpg',\n",
       " '295_Amanita_muscaria_Harper.jpg',\n",
       " '296_Amanita_muscaria_Harper.jpg',\n",
       " '297_Amanita_muscaria_Harper.jpg',\n",
       " '298_Amanita_muscaria_Harper.jpg',\n",
       " '299_Amanita_muscaria_Harper.jpg',\n",
       " '300_Amanita_muscaria_Harper.jpg',\n",
       " '301_Amanita_muscaria_Harper.jpg',\n",
       " '302_Amanita_muscaria_Harper.jpg',\n",
       " '303_Amanita_muscaria_Harper.jpg',\n",
       " '304_Amanita_muscaria_Harper.jpg',\n",
       " '305_Amanita_muscaria_Harper.jpg',\n",
       " '306_Amanita_muscaria_Harper.jpg',\n",
       " '307_Amanita_muscaria_Harper.jpg',\n",
       " '308_Amanita_muscaria_Harper.jpg',\n",
       " '309_Amanita_muscaria_Harper.jpg',\n",
       " '310_Amanita_muscaria_Harper.jpg',\n",
       " '311_Amanita_muscaria_Harper.jpg',\n",
       " '312_Amanita_muscaria_Harper.jpg',\n",
       " '313_Amanita_muscaria_Harper.jpg',\n",
       " '314_Amanita_muscaria_Harper.jpg',\n",
       " '315_Amanita_muscaria_Harper.jpg',\n",
       " '316_Amanita_muscaria_Harper.jpg',\n",
       " '317_Amanita_muscaria_Harper.jpg',\n",
       " '318_Amanita_muscaria_Harper.jpg',\n",
       " '319_Amanita_muscaria_Harper.jpg',\n",
       " '320_Amanita_muscaria_Harper.jpg',\n",
       " '321_Amanita_muscaria_Harper.jpg',\n",
       " '322_Amanita_muscaria_Harper.jpg',\n",
       " '323_Amanita_muscaria_Harper.jpg',\n",
       " '324_Amanita_muscaria_Harper.jpg',\n",
       " '325_Amanita_muscaria_Harper.jpg',\n",
       " '326_Amanita_muscaria_Harper.jpg',\n",
       " '327_Amanita_muscaria_Harper.jpg',\n",
       " '328_Amanita_muscaria_Harper.jpg',\n",
       " '329_Amanita_muscaria_Harper.jpg',\n",
       " '330_Amanita_muscaria_Harper.jpg',\n",
       " '331_Amanita_muscaria_Harper.jpg',\n",
       " '332_Amanita_muscaria_Harper.jpg',\n",
       " '333_Amanita_muscaria_Harper.jpg',\n",
       " '334_Amanita_muscaria_Harper.jpg',\n",
       " '335_Amanita_muscaria_Harper.jpg',\n",
       " '336_Amanita_muscaria_Harper.jpg',\n",
       " '337_Amanita_muscaria_Harper.jpg',\n",
       " '338_Amanita_muscaria_Harper.jpg',\n",
       " '339_Amanita_muscaria_Harper.jpg',\n",
       " '340_Amanita_muscaria_Harper.jpg',\n",
       " '341_Amanita_muscaria_Harper.jpg',\n",
       " '342_Amanita_muscaria_Harper.jpg',\n",
       " '343_Amanita_muscaria_Harper.jpg',\n",
       " '344_Amanita_muscaria_Harper.jpg',\n",
       " '345_Amanita_muscaria_Harper.jpg',\n",
       " '346_Amanita_muscaria_Harper.jpg',\n",
       " '347_Amanita_muscaria_Harper.jpg',\n",
       " '348_Amanita_muscaria_Harper.jpg',\n",
       " '349_Amanita_muscaria_Harper.jpg',\n",
       " '350_Amanita_muscaria_Harper.jpg',\n",
       " '351_Amanita_muscaria_Harper.jpg',\n",
       " '352_Amanita_muscaria_Harper.jpg',\n",
       " '353_Amanita_muscaria_Harper.jpg',\n",
       " '354_Amanita_muscaria_Harper.jpg',\n",
       " '355_Amanita_muscaria_Harper.jpg',\n",
       " '356_Amanita_muscaria_Harper.jpg',\n",
       " '357_Amanita_muscaria_Harper.jpg',\n",
       " '358_Amanita_muscaria_Harper.jpg',\n",
       " '359_Amanita_muscaria_Harper.jpg',\n",
       " '360_Amanita_muscaria_Harper.jpg',\n",
       " '361_Amanita_muscaria_Harper.jpg',\n",
       " '362_Amanita_muscaria_Harper.jpg',\n",
       " '363_Amanita_muscaria_Harper.jpg',\n",
       " '364_Amanita_muscaria_Harper.jpg',\n",
       " '365_Amanita_muscaria_Harper.jpg',\n",
       " '366_Amanita_muscaria_Harper.jpg',\n",
       " '367_Amanita_muscaria_Harper.jpg']"
      ]
     },
     "execution_count": 95,
     "metadata": {},
     "output_type": "execute_result"
    }
   ],
   "source": [
    "amuscs"
   ]
  },
  {
   "cell_type": "code",
   "execution_count": null,
   "id": "ab45a692",
   "metadata": {},
   "outputs": [],
   "source": []
  }
 ],
 "metadata": {
  "kernelspec": {
   "display_name": "Python 3 (ipykernel)",
   "language": "python",
   "name": "python3"
  },
  "language_info": {
   "codemirror_mode": {
    "name": "ipython",
    "version": 3
   },
   "file_extension": ".py",
   "mimetype": "text/x-python",
   "name": "python",
   "nbconvert_exporter": "python",
   "pygments_lexer": "ipython3",
   "version": "3.8.12"
  },
  "toc": {
   "base_numbering": 1,
   "nav_menu": {},
   "number_sections": true,
   "sideBar": true,
   "skip_h1_title": false,
   "title_cell": "Table of Contents",
   "title_sidebar": "Contents",
   "toc_cell": false,
   "toc_position": {},
   "toc_section_display": true,
   "toc_window_display": false
  }
 },
 "nbformat": 4,
 "nbformat_minor": 5
}
