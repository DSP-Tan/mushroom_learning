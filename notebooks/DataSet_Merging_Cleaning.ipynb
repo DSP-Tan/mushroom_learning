{
 "cells": [
  {
   "cell_type": "code",
   "execution_count": 3,
   "id": "c0999994",
   "metadata": {},
   "outputs": [],
   "source": [
    "import matplotlib.pyplot as plt\n",
    "import numpy             as np\n",
    "import pandas            as pd\n",
    "import cv2               as cv\n",
    "\n",
    "import os\n",
    "import sys, tarfile\n",
    "\n",
    "# To do with reading files as bits\n",
    "import io\n",
    "\n",
    "import PIL\n",
    "\n",
    "from os.path                  import join, dirname, abspath\n",
    "from mushroom_learning.params import BUCKET_NAME\n",
    "from google.cloud             import storage\n",
    "\n"
   ]
  },
  {
   "cell_type": "markdown",
   "id": "88499787",
   "metadata": {},
   "source": [
    "# Dowload Relevant directories"
   ]
  },
  {
   "cell_type": "markdown",
   "id": "2f014270",
   "metadata": {},
   "source": [
    "In my case I already have many downloaded, they are located at:"
   ]
  },
  {
   "cell_type": "code",
   "execution_count": 1,
   "id": "b61db280",
   "metadata": {},
   "outputs": [
    {
     "name": "stdout",
     "output_type": "stream",
     "text": [
      "total 13G\r\n",
      "drwxr-xr-x 1396 danielsptanner danielsptanner 68K Mar 27  2018 images\r\n",
      "-rwxr-xr-x    1 danielsptanner danielsptanner 86K Mar  8 17:28 SOT2017-9227795_SkdC68zaW.JPG\r\n",
      "-rwxr-xr-x    1 danielsptanner danielsptanner 77K Mar  9 07:17 fart.jpg\r\n",
      "-rwxr-xr-x    1 danielsptanner danielsptanner 85K Mar 11 15:38 amanita.jpg\r\n",
      "-rw-r--r--    1 danielsptanner danielsptanner 13G Mar 22 21:15 fungi_train_val.tgz\r\n"
     ]
    }
   ],
   "source": [
    "!ls -rtlh ../raw_data"
   ]
  },
  {
   "cell_type": "markdown",
   "id": "42779d61",
   "metadata": {},
   "source": [
    "Otherwise, use the links provided in the Github README <br>\n",
    "https://github.com/DSP-Tan/mushroom_learning"
   ]
  },
  {
   "cell_type": "markdown",
   "id": "6a6db0d6",
   "metadata": {},
   "source": [
    "Note: In the case of the david Harper data set, use the data set on google cloud, download like this:"
   ]
  },
  {
   "cell_type": "markdown",
   "id": "dc0392e0",
   "metadata": {},
   "source": [
    "## First see what is on the cloud"
   ]
  },
  {
   "cell_type": "markdown",
   "id": "5d8dc523",
   "metadata": {},
   "source": [
    "**First consult with others incase the preprocessing has already been done, and things are on the cloud**"
   ]
  },
  {
   "cell_type": "code",
   "execution_count": 4,
   "id": "12ec2044",
   "metadata": {},
   "outputs": [
    {
     "name": "stdout",
     "output_type": "stream",
     "text": [
      "mushroom-bucket-le-wagon\n"
     ]
    }
   ],
   "source": [
    "print(BUCKET_NAME)"
   ]
  },
  {
   "cell_type": "code",
   "execution_count": 7,
   "id": "ae2b0e16",
   "metadata": {},
   "outputs": [
    {
     "name": "stdout",
     "output_type": "stream",
     "text": [
      "gs://mushroom-bucket-le-wagon/data/\r\n",
      "gs://mushroom-bucket-le-wagon/data/David_Harper_Labelled_Cleaned.tgz\r\n",
      "gs://mushroom-bucket-le-wagon/data/Kondrusevich_various_species.zip\r\n",
      "gs://mushroom-bucket-le-wagon/data/Saurabh_Shahane_chanterelle_chick_o_woods.zip\r\n",
      "gs://mushroom-bucket-le-wagon/data/Six_Species_Clean.tgz\r\n",
      "gs://mushroom-bucket-le-wagon/data/fungi_train_val.tgz\r\n",
      "gs://mushroom-bucket-le-wagon/data/images_gcp.tgz\r\n",
      "gs://mushroom-bucket-le-wagon/data/other_species_1.tgz\r\n",
      "gs://mushroom-bucket-le-wagon/data/other_species_2.tgz\r\n",
      "gs://mushroom-bucket-le-wagon/data/other_species_3.tgz\r\n"
     ]
    }
   ],
   "source": [
    "#gcloud alpha storage ls --recursive gs://BUCKET_NAME/PREFIX**\n",
    "!gcloud alpha storage ls  gs://mushroom-bucket-le-wagon/data"
   ]
  },
  {
   "cell_type": "markdown",
   "id": "15a8bf74",
   "metadata": {},
   "source": [
    "## Downloaded needed directories from cloud"
   ]
  },
  {
   "cell_type": "code",
   "execution_count": 118,
   "id": "15bcec99",
   "metadata": {},
   "outputs": [],
   "source": [
    "STORAGE_LOCATION='6_species.tgz'\n",
    "\n",
    "client = storage.Client()\n",
    "bucket = client.bucket(BUCKET_NAME)\n",
    "blob = bucket.blob(STORAGE_LOCATION)\n",
    "blob.download_to_filename('6_species.tgz')"
   ]
  },
  {
   "cell_type": "code",
   "execution_count": 120,
   "id": "ce02dbaa",
   "metadata": {},
   "outputs": [
    {
     "name": "stdout",
     "output_type": "stream",
     "text": [
      "./6_species.tgz\n"
     ]
    }
   ],
   "source": [
    "extract('./6_species.tgz','.')"
   ]
  },
  {
   "cell_type": "code",
   "execution_count": 121,
   "id": "26f41b92",
   "metadata": {},
   "outputs": [
    {
     "name": "stdout",
     "output_type": "stream",
     "text": [
      "total 194M\r\n",
      "-rw-r--r-- 1 noel noel  59K Mar  3 18:08 02_UCIDataset.ipynb\r\n",
      "-rw-r--r-- 1 noel noel  73K Mar  3 18:08 01_DinaharDataset_primary.ipynb\r\n",
      "-rw-r--r-- 1 noel noel 601K Mar  3 18:08 mushrooms.ipynb\r\n",
      "drwxr-xr-x 8 noel noel 4.0K Mar  4 07:50 David_Harper_Labelled_Cleaned\r\n",
      "-rw-r--r-- 1 noel noel 2.8M Mar  7 09:41 SpeciesDatatSetExploration.ipynb\r\n",
      "-rw-r--r-- 1 noel noel  54M Mar  7 10:18 David_Harper.tgz\r\n",
      "-rw-r--r-- 1 noel noel 137M Mar  7 10:20 6_species.tgz\r\n",
      "-rw-r--r-- 1 noel noel  58K Mar  7 10:21 DataSet_Merging_Cleaning.ipynb\r\n",
      "drwxr-xr-x 2 noel noel 4.0K Mar  7 10:21 10273_Amanita_virosa\r\n",
      "drwxr-xr-x 2 noel noel  12K Mar  7 10:21 10252_Amanita_muscaria\r\n",
      "drwxr-xr-x 2 noel noel  12K Mar  7 10:21 11069_Boletus_edulis\r\n",
      "drwxr-xr-x 2 noel noel  12K Mar  7 10:21 11317_Cantharellus_cibarius\r\n",
      "drwxr-xr-x 2 noel noel 4.0K Mar  7 10:21 20010_Russula_mairei\r\n",
      "drwxr-xr-x 2 noel noel  24K Mar  7 10:21 20983_Trametes_versicolor\r\n"
     ]
    }
   ],
   "source": [
    "! ls -rtlh"
   ]
  },
  {
   "cell_type": "code",
   "execution_count": 102,
   "id": "b6ef007c",
   "metadata": {},
   "outputs": [],
   "source": [
    "STORAGE_LOCATION='David_Harper_Labelled_Cleaned.tgz'\n",
    "\n",
    "client = storage.Client()\n",
    "bucket = client.bucket(BUCKET_NAME)\n",
    "blob = bucket.blob(STORAGE_LOCATION)\n",
    "blob.download_to_filename('David_Harper.tgz')"
   ]
  },
  {
   "cell_type": "markdown",
   "id": "c150619e",
   "metadata": {},
   "source": [
    "We now have David Harper in our current working directory."
   ]
  },
  {
   "cell_type": "code",
   "execution_count": 103,
   "id": "d8f02f48",
   "metadata": {},
   "outputs": [
    {
     "name": "stdout",
     "output_type": "stream",
     "text": [
      "Confirm download\n",
      "-rw-r--r-- 1 noel noel 54M Mar  7 10:18 David_Harper.tgz\n",
      "\n",
      "We are in folder:\n",
      "/home/noel/code/DSP-Tan/mushroom_learning/notebooks\n",
      "\n",
      "This folder now contains\n",
      "total 58M\n",
      "-rw-r--r-- 1 noel noel  59K Mar  3 18:08 02_UCIDataset.ipynb\n",
      "-rw-r--r-- 1 noel noel  73K Mar  3 18:08 01_DinaharDataset_primary.ipynb\n",
      "-rw-r--r-- 1 noel noel 601K Mar  3 18:08 mushrooms.ipynb\n",
      "drwxr-xr-x 8 noel noel 4.0K Mar  7 08:08 David_Harper_Labelled_Cleaned\n",
      "-rw-r--r-- 1 noel noel 2.8M Mar  7 09:41 SpeciesDatatSetExploration.ipynb\n",
      "-rw-r--r-- 1 noel noel  74K Mar  7 10:07 DataSet_Merging_Cleaning.ipynb\n",
      "-rw-r--r-- 1 noel noel  54M Mar  7 10:18 David_Harper.tgz\n"
     ]
    }
   ],
   "source": [
    "# Confirm download\n",
    "print('Confirm download')\n",
    "! ls -rtlh David_Harper.tgz\n",
    "print('\\nWe are in folder:')\n",
    "! pwd\n",
    "print('\\nThis folder now contains')\n",
    "! ls -rtlh"
   ]
  },
  {
   "cell_type": "markdown",
   "id": "83d5521d",
   "metadata": {},
   "source": [
    "### Function to extract tar files in python"
   ]
  },
  {
   "cell_type": "code",
   "execution_count": 104,
   "id": "ea719bd1",
   "metadata": {},
   "outputs": [
    {
     "name": "stdout",
     "output_type": "stream",
     "text": [
      "-f.tgz\n",
      "ipykernel_launcher <filename>\n"
     ]
    }
   ],
   "source": [
    "def extract(tar_url, extract_path='.'):\n",
    "    print(tar_url)\n",
    "    tar = tarfile.open(tar_url, 'r')\n",
    "    for item in tar:\n",
    "        tar.extract(item, extract_path)\n",
    "        if item.name.find(\".tgz\") != -1 or item.name.find(\".tar\") != -1:\n",
    "            extract(item.name, \"./\" + item.name[:item.name.rfind('/')])\n",
    "try:\n",
    "\n",
    "    extract(sys.argv[1] + '.tgz')\n",
    "    print('Done.')\n",
    "except:\n",
    "    name = os.path.basename(sys.argv[0])\n",
    "    print(name[:name.rfind('.')], '<filename>')"
   ]
  },
  {
   "cell_type": "code",
   "execution_count": 105,
   "id": "d462a9d3",
   "metadata": {},
   "outputs": [
    {
     "name": "stdout",
     "output_type": "stream",
     "text": [
      "./David_Harper.tgz\n"
     ]
    }
   ],
   "source": [
    "extract('./David_Harper.tgz','.')"
   ]
  },
  {
   "cell_type": "code",
   "execution_count": 106,
   "id": "dff458e7",
   "metadata": {},
   "outputs": [
    {
     "name": "stdout",
     "output_type": "stream",
     "text": [
      "total 58M\r\n",
      "-rw-r--r-- 1 noel noel  59K Mar  3 18:08 02_UCIDataset.ipynb\r\n",
      "-rw-r--r-- 1 noel noel  73K Mar  3 18:08 01_DinaharDataset_primary.ipynb\r\n",
      "-rw-r--r-- 1 noel noel 601K Mar  3 18:08 mushrooms.ipynb\r\n",
      "drwxr-xr-x 8 noel noel 4.0K Mar  4 07:50 David_Harper_Labelled_Cleaned\r\n",
      "-rw-r--r-- 1 noel noel 2.8M Mar  7 09:41 SpeciesDatatSetExploration.ipynb\r\n",
      "-rw-r--r-- 1 noel noel  74K Mar  7 10:07 DataSet_Merging_Cleaning.ipynb\r\n",
      "-rw-r--r-- 1 noel noel  54M Mar  7 10:18 David_Harper.tgz\r\n"
     ]
    }
   ],
   "source": [
    "!ls -rtlh"
   ]
  },
  {
   "cell_type": "markdown",
   "id": "d7019c29",
   "metadata": {},
   "source": [
    "**The unzipped downloaded folder is now sitting in our directory, it is named \"David_Harper_Labelled_Cleaned\". Note the name of the unzipped folder can often be different to the name of the zipped one. We could have sent it anywhere we wanted using the parameter 'extract_path'**"
   ]
  },
  {
   "cell_type": "markdown",
   "id": "67696a17",
   "metadata": {},
   "source": [
    "## Examine contents of folder"
   ]
  },
  {
   "cell_type": "code",
   "execution_count": 107,
   "id": "deb700a3",
   "metadata": {},
   "outputs": [
    {
     "data": {
      "text/plain": [
       "['Boletus_edulis',\n",
       " 'Amanita_bisporigera',\n",
       " 'rename_sort_by_size.sh',\n",
       " 'Cantharellus',\n",
       " 'Omphalotus_olearius',\n",
       " 'Amanita_muscaria',\n",
       " 'Russula_mariae']"
      ]
     },
     "execution_count": 107,
     "metadata": {},
     "output_type": "execute_result"
    }
   ],
   "source": [
    "path_to_imgs='./David_Harper_Labelled_Cleaned'\n",
    "\n",
    "# listing directories\n",
    "dir_list=os.listdir(path_to_imgs)\n",
    "dir_list"
   ]
  },
  {
   "cell_type": "markdown",
   "id": "f5590a79",
   "metadata": {},
   "source": [
    "### Remove extraneous files from directory list"
   ]
  },
  {
   "cell_type": "code",
   "execution_count": 108,
   "id": "aaacde21",
   "metadata": {},
   "outputs": [
    {
     "name": "stdout",
     "output_type": "stream",
     "text": [
      "There are 6 species in the David Hardper dataset\n"
     ]
    },
    {
     "data": {
      "text/plain": [
       "['Boletus_edulis',\n",
       " 'Amanita_bisporigera',\n",
       " 'Cantharellus',\n",
       " 'Omphalotus_olearius',\n",
       " 'Amanita_muscaria',\n",
       " 'Russula_mariae']"
      ]
     },
     "execution_count": 108,
     "metadata": {},
     "output_type": "execute_result"
    }
   ],
   "source": [
    "dir_list=[i for i in dir_list if '.sh' not in i]\n",
    "print(f'There are {len(dir_list)} species in the David Hardper dataset')\n",
    "dir_list"
   ]
  },
  {
   "cell_type": "markdown",
   "id": "0c9090ad",
   "metadata": {},
   "source": [
    "### Examine subfolders"
   ]
  },
  {
   "cell_type": "code",
   "execution_count": 109,
   "id": "bbfdc181",
   "metadata": {},
   "outputs": [
    {
     "name": "stdout",
     "output_type": "stream",
     "text": [
      "Path to boletes:\n",
      "./David_Harper_Labelled_Cleaned/Boletus_edulis\n",
      "\n",
      "We have 439 pictures of Boletus Edulis\n"
     ]
    },
    {
     "data": {
      "text/plain": [
       "['440_Boletus_edulis_Harper.jpg',\n",
       " '443_Boletus_edulis_Harper.jpg',\n",
       " '371_Boletus_edulis_Harper.jpg',\n",
       " '392_Boletus_edulis_Harper.jpg',\n",
       " '192_Boletus_edulis_Harper.jpg',\n",
       " '351_Boletus_edulis_Harper.jpg',\n",
       " '263_Boletus_edulis_Harper.jpg',\n",
       " '78_Boletus_edulis_Harper.jpg',\n",
       " '171_Boletus_edulis_Harper.jpg',\n",
       " '99_Boletus_edulis_Harper.jpg']"
      ]
     },
     "execution_count": 109,
     "metadata": {},
     "output_type": "execute_result"
    }
   ],
   "source": [
    "# Make path string using string concatanation\n",
    "bolete_path=path_to_imgs+'/'+dir_list[0]\n",
    "print('Path to boletes:')\n",
    "print(bolete_path)\n",
    "\n",
    "boletes=os.listdir(bolete_path)\n",
    "print(f'\\nWe have {len(boletes)} pictures of Boletus Edulis')\n",
    "boletes[0:10]"
   ]
  },
  {
   "cell_type": "markdown",
   "id": "11852a87",
   "metadata": {},
   "source": [
    "**Note os.listdir gives unordered directory list**\n",
    "\n",
    "**This folder has already been labelled and cleaned. The images are numbered in accordance with their image size, this made it easier to get rid of the microscope pictures, which are not also no longer there.**\n",
    "\n",
    "**This sorting has been done by the bash script \"rename_sort_by_size.sh\". Just delete this script if it creates problems looping over the folder later**"
   ]
  },
  {
   "cell_type": "code",
   "execution_count": 110,
   "id": "2179563e",
   "metadata": {},
   "outputs": [
    {
     "name": "stdout",
     "output_type": "stream",
     "text": [
      "total 9.8M\r\n",
      "-rw-r--r-- 1 noel noel 7.6K Feb 28 16:45 4_Boletus_edulis_Harper.jpg\r\n",
      "-rw-r--r-- 1 noel noel 7.7K Feb 28 16:45 5_Boletus_edulis_Harper.jpg\r\n",
      "-rw-r--r-- 1 noel noel 8.3K Feb 28 16:45 6_Boletus_edulis_Harper.jpg\r\n",
      "-rw-r--r-- 1 noel noel 8.8K Feb 28 16:45 7_Boletus_edulis_Harper.jpg\r\n",
      "-rw-r--r-- 1 noel noel 9.1K Feb 28 16:45 8_Boletus_edulis_Harper.jpg\r\n",
      "-rw-r--r-- 1 noel noel 9.2K Feb 28 16:45 9_Boletus_edulis_Harper.jpg\r\n",
      "-rw-r--r-- 1 noel noel 9.2K Feb 28 16:45 10_Boletus_edulis_Harper.jpg\r\n",
      "-rw-r--r-- 1 noel noel 9.2K Feb 28 16:45 11_Boletus_edulis_Harper.jpg\r\n",
      "-rw-r--r-- 1 noel noel 9.2K Feb 28 16:45 12_Boletus_edulis_Harper.jpg\r\n",
      "-rw-r--r-- 1 noel noel 9.5K Feb 28 16:45 13_Boletus_edulis_Harper.jpg\r\n",
      "-rw-r--r-- 1 noel noel 9.6K Feb 28 16:45 14_Boletus_edulis_Harper.jpg\r\n",
      "-rw-r--r-- 1 noel noel 9.8K Feb 28 16:45 15_Boletus_edulis_Harper.jpg\r\n",
      "-rw-r--r-- 1 noel noel 9.9K Feb 28 16:45 16_Boletus_edulis_Harper.jpg\r\n",
      "-rw-r--r-- 1 noel noel 9.9K Feb 28 16:45 17_Boletus_edulis_Harper.jpg\r\n",
      "-rw-r--r-- 1 noel noel  10K Feb 28 16:45 18_Boletus_edulis_Harper.jpg\r\n",
      "-rw-r--r-- 1 noel noel  11K Feb 28 16:45 19_Boletus_edulis_Harper.jpg\r\n",
      "-rw-r--r-- 1 noel noel  11K Feb 28 16:45 20_Boletus_edulis_Harper.jpg\r\n",
      "-rw-r--r-- 1 noel noel  11K Feb 28 16:45 21_Boletus_edulis_Harper.jpg\r\n",
      "-rw-r--r-- 1 noel noel  11K Feb 28 16:45 22_Boletus_edulis_Harper.jpg\r\n",
      "-rw-r--r-- 1 noel noel  11K Feb 28 16:45 23_Boletus_edulis_Harper.jpg\r\n",
      "-rw-r--r-- 1 noel noel  11K Feb 28 16:45 24_Boletus_edulis_Harper.jpg\r\n",
      "-rw-r--r-- 1 noel noel  11K Feb 28 16:45 25_Boletus_edulis_Harper.jpg\r\n",
      "-rw-r--r-- 1 noel noel  11K Feb 28 16:45 26_Boletus_edulis_Harper.jpg\r\n",
      "-rw-r--r-- 1 noel noel  11K Feb 28 16:45 27_Boletus_edulis_Harper.jpg\r\n",
      "-rw-r--r-- 1 noel noel  11K Feb 28 16:45 28_Boletus_edulis_Harper.jpg\r\n",
      "-rw-r--r-- 1 noel noel  12K Feb 28 16:45 29_Boletus_edulis_Harper.jpg\r\n",
      "-rw-r--r-- 1 noel noel  12K Feb 28 16:45 30_Boletus_edulis_Harper.jpg\r\n",
      "-rw-r--r-- 1 noel noel  12K Feb 28 16:45 31_Boletus_edulis_Harper.jpg\r\n",
      "-rw-r--r-- 1 noel noel  12K Feb 28 16:45 32_Boletus_edulis_Harper.jpg\r\n",
      "-rw-r--r-- 1 noel noel  12K Feb 28 16:45 33_Boletus_edulis_Harper.jpg\r\n",
      "-rw-r--r-- 1 noel noel  12K Feb 28 16:45 34_Boletus_edulis_Harper.jpg\r\n",
      "-rw-r--r-- 1 noel noel  12K Feb 28 16:45 35_Boletus_edulis_Harper.jpg\r\n",
      "-rw-r--r-- 1 noel noel  12K Feb 28 16:45 36_Boletus_edulis_Harper.jpg\r\n",
      "-rw-r--r-- 1 noel noel  12K Feb 28 16:45 37_Boletus_edulis_Harper.jpg\r\n",
      "-rw-r--r-- 1 noel noel  13K Feb 28 16:45 38_Boletus_edulis_Harper.jpg\r\n",
      "-rw-r--r-- 1 noel noel  13K Feb 28 16:45 39_Boletus_edulis_Harper.jpg\r\n",
      "-rw-r--r-- 1 noel noel  13K Feb 28 16:45 40_Boletus_edulis_Harper.jpg\r\n",
      "-rw-r--r-- 1 noel noel  13K Feb 28 16:45 41_Boletus_edulis_Harper.jpg\r\n",
      "-rw-r--r-- 1 noel noel  13K Feb 28 16:45 42_Boletus_edulis_Harper.jpg\r\n",
      "-rw-r--r-- 1 noel noel  13K Feb 28 16:45 43_Boletus_edulis_Harper.jpg\r\n",
      "-rw-r--r-- 1 noel noel  13K Feb 28 16:45 44_Boletus_edulis_Harper.jpg\r\n",
      "-rw-r--r-- 1 noel noel  13K Feb 28 16:45 45_Boletus_edulis_Harper.jpg\r\n",
      "-rw-r--r-- 1 noel noel  13K Feb 28 16:45 46_Boletus_edulis_Harper.jpg\r\n",
      "-rw-r--r-- 1 noel noel  14K Feb 28 16:45 47_Boletus_edulis_Harper.jpg\r\n",
      "-rw-r--r-- 1 noel noel  14K Feb 28 16:45 48_Boletus_edulis_Harper.jpg\r\n",
      "-rw-r--r-- 1 noel noel  14K Feb 28 16:45 49_Boletus_edulis_Harper.jpg\r\n",
      "-rw-r--r-- 1 noel noel  14K Feb 28 16:45 50_Boletus_edulis_Harper.jpg\r\n",
      "-rw-r--r-- 1 noel noel  14K Feb 28 16:45 51_Boletus_edulis_Harper.jpg\r\n",
      "-rw-r--r-- 1 noel noel  14K Feb 28 16:45 52_Boletus_edulis_Harper.jpg\r\n",
      "-rw-r--r-- 1 noel noel  14K Feb 28 16:45 53_Boletus_edulis_Harper.jpg\r\n",
      "-rw-r--r-- 1 noel noel  14K Feb 28 16:45 54_Boletus_edulis_Harper.jpg\r\n",
      "-rw-r--r-- 1 noel noel  14K Feb 28 16:45 55_Boletus_edulis_Harper.jpg\r\n",
      "-rw-r--r-- 1 noel noel  14K Feb 28 16:45 56_Boletus_edulis_Harper.jpg\r\n",
      "-rw-r--r-- 1 noel noel  14K Feb 28 16:45 57_Boletus_edulis_Harper.jpg\r\n",
      "-rw-r--r-- 1 noel noel  14K Feb 28 16:45 58_Boletus_edulis_Harper.jpg\r\n",
      "-rw-r--r-- 1 noel noel  14K Feb 28 16:45 59_Boletus_edulis_Harper.jpg\r\n",
      "-rw-r--r-- 1 noel noel  15K Feb 28 16:45 60_Boletus_edulis_Harper.jpg\r\n",
      "-rw-r--r-- 1 noel noel  15K Feb 28 16:45 61_Boletus_edulis_Harper.jpg\r\n",
      "-rw-r--r-- 1 noel noel  15K Feb 28 16:45 62_Boletus_edulis_Harper.jpg\r\n",
      "-rw-r--r-- 1 noel noel  15K Feb 28 16:45 63_Boletus_edulis_Harper.jpg\r\n",
      "-rw-r--r-- 1 noel noel  15K Feb 28 16:45 64_Boletus_edulis_Harper.jpg\r\n",
      "-rw-r--r-- 1 noel noel  15K Feb 28 16:45 65_Boletus_edulis_Harper.jpg\r\n",
      "-rw-r--r-- 1 noel noel  15K Feb 28 16:45 66_Boletus_edulis_Harper.jpg\r\n",
      "-rw-r--r-- 1 noel noel  15K Feb 28 16:45 67_Boletus_edulis_Harper.jpg\r\n",
      "-rw-r--r-- 1 noel noel  15K Feb 28 16:45 68_Boletus_edulis_Harper.jpg\r\n",
      "-rw-r--r-- 1 noel noel  15K Feb 28 16:45 69_Boletus_edulis_Harper.jpg\r\n",
      "-rw-r--r-- 1 noel noel  15K Feb 28 16:45 70_Boletus_edulis_Harper.jpg\r\n",
      "-rw-r--r-- 1 noel noel  15K Feb 28 16:45 71_Boletus_edulis_Harper.jpg\r\n",
      "-rw-r--r-- 1 noel noel  15K Feb 28 16:45 72_Boletus_edulis_Harper.jpg\r\n",
      "-rw-r--r-- 1 noel noel  15K Feb 28 16:45 73_Boletus_edulis_Harper.jpg\r\n",
      "-rw-r--r-- 1 noel noel  15K Feb 28 16:45 74_Boletus_edulis_Harper.jpg\r\n",
      "-rw-r--r-- 1 noel noel  15K Feb 28 16:45 75_Boletus_edulis_Harper.jpg\r\n",
      "-rw-r--r-- 1 noel noel  15K Feb 28 16:45 76_Boletus_edulis_Harper.jpg\r\n",
      "-rw-r--r-- 1 noel noel  15K Feb 28 16:45 77_Boletus_edulis_Harper.jpg\r\n",
      "-rw-r--r-- 1 noel noel  15K Feb 28 16:45 78_Boletus_edulis_Harper.jpg\r\n",
      "-rw-r--r-- 1 noel noel  16K Feb 28 16:45 79_Boletus_edulis_Harper.jpg\r\n",
      "-rw-r--r-- 1 noel noel  16K Feb 28 16:45 80_Boletus_edulis_Harper.jpg\r\n",
      "-rw-r--r-- 1 noel noel  16K Feb 28 16:45 81_Boletus_edulis_Harper.jpg\r\n",
      "-rw-r--r-- 1 noel noel  16K Feb 28 16:45 82_Boletus_edulis_Harper.jpg\r\n",
      "-rw-r--r-- 1 noel noel  16K Feb 28 16:45 83_Boletus_edulis_Harper.jpg\r\n",
      "-rw-r--r-- 1 noel noel  16K Feb 28 16:45 84_Boletus_edulis_Harper.jpg\r\n",
      "-rw-r--r-- 1 noel noel  16K Feb 28 16:45 85_Boletus_edulis_Harper.jpg\r\n",
      "-rw-r--r-- 1 noel noel  16K Feb 28 16:45 86_Boletus_edulis_Harper.jpg\r\n",
      "-rw-r--r-- 1 noel noel  16K Feb 28 16:45 87_Boletus_edulis_Harper.jpg\r\n",
      "-rw-r--r-- 1 noel noel  16K Feb 28 16:45 88_Boletus_edulis_Harper.jpg\r\n",
      "-rw-r--r-- 1 noel noel  16K Feb 28 16:45 89_Boletus_edulis_Harper.jpg\r\n",
      "-rw-r--r-- 1 noel noel  16K Feb 28 16:45 90_Boletus_edulis_Harper.jpg\r\n",
      "-rw-r--r-- 1 noel noel  16K Feb 28 16:45 91_Boletus_edulis_Harper.jpg\r\n",
      "-rw-r--r-- 1 noel noel  16K Feb 28 16:45 92_Boletus_edulis_Harper.jpg\r\n",
      "-rw-r--r-- 1 noel noel  16K Feb 28 16:45 93_Boletus_edulis_Harper.jpg\r\n",
      "-rw-r--r-- 1 noel noel  16K Feb 28 16:45 94_Boletus_edulis_Harper.jpg\r\n",
      "-rw-r--r-- 1 noel noel  16K Feb 28 16:45 95_Boletus_edulis_Harper.jpg\r\n",
      "-rw-r--r-- 1 noel noel  16K Feb 28 16:45 96_Boletus_edulis_Harper.jpg\r\n",
      "-rw-r--r-- 1 noel noel  16K Feb 28 16:45 97_Boletus_edulis_Harper.jpg\r\n",
      "-rw-r--r-- 1 noel noel  16K Feb 28 16:45 98_Boletus_edulis_Harper.jpg\r\n",
      "-rw-r--r-- 1 noel noel  17K Feb 28 16:45 99_Boletus_edulis_Harper.jpg\r\n",
      "-rw-r--r-- 1 noel noel  17K Feb 28 16:45 100_Boletus_edulis_Harper.jpg\r\n",
      "-rw-r--r-- 1 noel noel  17K Feb 28 16:45 101_Boletus_edulis_Harper.jpg\r\n",
      "-rw-r--r-- 1 noel noel  17K Feb 28 16:45 102_Boletus_edulis_Harper.jpg\r\n",
      "-rw-r--r-- 1 noel noel  17K Feb 28 16:45 103_Boletus_edulis_Harper.jpg\r\n",
      "-rw-r--r-- 1 noel noel  17K Feb 28 16:45 104_Boletus_edulis_Harper.jpg\r\n",
      "-rw-r--r-- 1 noel noel  17K Feb 28 16:45 105_Boletus_edulis_Harper.jpg\r\n",
      "-rw-r--r-- 1 noel noel  17K Feb 28 16:45 106_Boletus_edulis_Harper.jpg\r\n",
      "-rw-r--r-- 1 noel noel  17K Feb 28 16:45 107_Boletus_edulis_Harper.jpg\r\n",
      "-rw-r--r-- 1 noel noel  17K Feb 28 16:45 108_Boletus_edulis_Harper.jpg\r\n",
      "-rw-r--r-- 1 noel noel  17K Feb 28 16:45 109_Boletus_edulis_Harper.jpg\r\n",
      "-rw-r--r-- 1 noel noel  17K Feb 28 16:45 110_Boletus_edulis_Harper.jpg\r\n",
      "-rw-r--r-- 1 noel noel  17K Feb 28 16:45 111_Boletus_edulis_Harper.jpg\r\n",
      "-rw-r--r-- 1 noel noel  17K Feb 28 16:45 112_Boletus_edulis_Harper.jpg\r\n",
      "-rw-r--r-- 1 noel noel  17K Feb 28 16:45 113_Boletus_edulis_Harper.jpg\r\n",
      "-rw-r--r-- 1 noel noel  17K Feb 28 16:45 114_Boletus_edulis_Harper.jpg\r\n",
      "-rw-r--r-- 1 noel noel  17K Feb 28 16:45 115_Boletus_edulis_Harper.jpg\r\n",
      "-rw-r--r-- 1 noel noel  17K Feb 28 16:45 116_Boletus_edulis_Harper.jpg\r\n",
      "-rw-r--r-- 1 noel noel  17K Feb 28 16:45 117_Boletus_edulis_Harper.jpg\r\n",
      "-rw-r--r-- 1 noel noel  17K Feb 28 16:45 118_Boletus_edulis_Harper.jpg\r\n",
      "-rw-r--r-- 1 noel noel  17K Feb 28 16:45 119_Boletus_edulis_Harper.jpg\r\n",
      "-rw-r--r-- 1 noel noel  17K Feb 28 16:45 120_Boletus_edulis_Harper.jpg\r\n",
      "-rw-r--r-- 1 noel noel  17K Feb 28 16:45 121_Boletus_edulis_Harper.jpg\r\n",
      "-rw-r--r-- 1 noel noel  17K Feb 28 16:45 122_Boletus_edulis_Harper.jpg\r\n",
      "-rw-r--r-- 1 noel noel  18K Feb 28 16:45 123_Boletus_edulis_Harper.jpg\r\n",
      "-rw-r--r-- 1 noel noel  18K Feb 28 16:45 124_Boletus_edulis_Harper.jpg\r\n",
      "-rw-r--r-- 1 noel noel  18K Feb 28 16:45 125_Boletus_edulis_Harper.jpg\r\n",
      "-rw-r--r-- 1 noel noel  18K Feb 28 16:45 126_Boletus_edulis_Harper.jpg\r\n",
      "-rw-r--r-- 1 noel noel  18K Feb 28 16:45 127_Boletus_edulis_Harper.jpg\r\n",
      "-rw-r--r-- 1 noel noel  18K Feb 28 16:45 128_Boletus_edulis_Harper.jpg\r\n",
      "-rw-r--r-- 1 noel noel  18K Feb 28 16:45 129_Boletus_edulis_Harper.jpg\r\n",
      "-rw-r--r-- 1 noel noel  18K Feb 28 16:45 130_Boletus_edulis_Harper.jpg\r\n",
      "-rw-r--r-- 1 noel noel  18K Feb 28 16:45 131_Boletus_edulis_Harper.jpg\r\n",
      "-rw-r--r-- 1 noel noel  18K Feb 28 16:45 132_Boletus_edulis_Harper.jpg\r\n",
      "-rw-r--r-- 1 noel noel  18K Feb 28 16:45 133_Boletus_edulis_Harper.jpg\r\n",
      "-rw-r--r-- 1 noel noel  18K Feb 28 16:45 134_Boletus_edulis_Harper.jpg\r\n",
      "-rw-r--r-- 1 noel noel  18K Feb 28 16:45 135_Boletus_edulis_Harper.jpg\r\n",
      "-rw-r--r-- 1 noel noel  18K Feb 28 16:45 136_Boletus_edulis_Harper.jpg\r\n",
      "-rw-r--r-- 1 noel noel  18K Feb 28 16:45 137_Boletus_edulis_Harper.jpg\r\n",
      "-rw-r--r-- 1 noel noel  18K Feb 28 16:45 138_Boletus_edulis_Harper.jpg\r\n",
      "-rw-r--r-- 1 noel noel  18K Feb 28 16:45 139_Boletus_edulis_Harper.jpg\r\n",
      "-rw-r--r-- 1 noel noel  18K Feb 28 16:45 140_Boletus_edulis_Harper.jpg\r\n",
      "-rw-r--r-- 1 noel noel  18K Feb 28 16:45 141_Boletus_edulis_Harper.jpg\r\n",
      "-rw-r--r-- 1 noel noel  18K Feb 28 16:45 142_Boletus_edulis_Harper.jpg\r\n",
      "-rw-r--r-- 1 noel noel  18K Feb 28 16:45 143_Boletus_edulis_Harper.jpg\r\n",
      "-rw-r--r-- 1 noel noel  18K Feb 28 16:45 144_Boletus_edulis_Harper.jpg\r\n",
      "-rw-r--r-- 1 noel noel  18K Feb 28 16:45 145_Boletus_edulis_Harper.jpg\r\n",
      "-rw-r--r-- 1 noel noel  18K Feb 28 16:45 146_Boletus_edulis_Harper.jpg\r\n",
      "-rw-r--r-- 1 noel noel  19K Feb 28 16:45 147_Boletus_edulis_Harper.jpg\r\n",
      "-rw-r--r-- 1 noel noel  19K Feb 28 16:45 148_Boletus_edulis_Harper.jpg\r\n",
      "-rw-r--r-- 1 noel noel  19K Feb 28 16:45 149_Boletus_edulis_Harper.jpg\r\n",
      "-rw-r--r-- 1 noel noel  19K Feb 28 16:45 150_Boletus_edulis_Harper.jpg\r\n",
      "-rw-r--r-- 1 noel noel  19K Feb 28 16:45 152_Boletus_edulis_Harper.jpg\r\n",
      "-rw-r--r-- 1 noel noel  19K Feb 28 16:45 151_Boletus_edulis_Harper.jpg\r\n",
      "-rw-r--r-- 1 noel noel  19K Feb 28 16:45 153_Boletus_edulis_Harper.jpg\r\n",
      "-rw-r--r-- 1 noel noel  19K Feb 28 16:45 154_Boletus_edulis_Harper.jpg\r\n",
      "-rw-r--r-- 1 noel noel  19K Feb 28 16:45 155_Boletus_edulis_Harper.jpg\r\n",
      "-rw-r--r-- 1 noel noel  19K Feb 28 16:45 156_Boletus_edulis_Harper.jpg\r\n",
      "-rw-r--r-- 1 noel noel  19K Feb 28 16:45 157_Boletus_edulis_Harper.jpg\r\n",
      "-rw-r--r-- 1 noel noel  19K Feb 28 16:45 158_Boletus_edulis_Harper.jpg\r\n",
      "-rw-r--r-- 1 noel noel  19K Feb 28 16:45 159_Boletus_edulis_Harper.jpg\r\n",
      "-rw-r--r-- 1 noel noel  19K Feb 28 16:45 160_Boletus_edulis_Harper.jpg\r\n",
      "-rw-r--r-- 1 noel noel  19K Feb 28 16:45 161_Boletus_edulis_Harper.jpg\r\n",
      "-rw-r--r-- 1 noel noel  19K Feb 28 16:45 162_Boletus_edulis_Harper.jpg\r\n",
      "-rw-r--r-- 1 noel noel  19K Feb 28 16:45 163_Boletus_edulis_Harper.jpg\r\n",
      "-rw-r--r-- 1 noel noel  19K Feb 28 16:45 164_Boletus_edulis_Harper.jpg\r\n",
      "-rw-r--r-- 1 noel noel  19K Feb 28 16:45 166_Boletus_edulis_Harper.jpg\r\n",
      "-rw-r--r-- 1 noel noel  19K Feb 28 16:45 165_Boletus_edulis_Harper.jpg\r\n",
      "-rw-r--r-- 1 noel noel  19K Feb 28 16:45 167_Boletus_edulis_Harper.jpg\r\n",
      "-rw-r--r-- 1 noel noel  19K Feb 28 16:45 168_Boletus_edulis_Harper.jpg\r\n",
      "-rw-r--r-- 1 noel noel  19K Feb 28 16:45 169_Boletus_edulis_Harper.jpg\r\n",
      "-rw-r--r-- 1 noel noel  20K Feb 28 16:45 170_Boletus_edulis_Harper.jpg\r\n",
      "-rw-r--r-- 1 noel noel  20K Feb 28 16:45 171_Boletus_edulis_Harper.jpg\r\n",
      "-rw-r--r-- 1 noel noel  20K Feb 28 16:45 172_Boletus_edulis_Harper.jpg\r\n",
      "-rw-r--r-- 1 noel noel  20K Feb 28 16:45 173_Boletus_edulis_Harper.jpg\r\n",
      "-rw-r--r-- 1 noel noel  20K Feb 28 16:45 174_Boletus_edulis_Harper.jpg\r\n",
      "-rw-r--r-- 1 noel noel  20K Feb 28 16:45 175_Boletus_edulis_Harper.jpg\r\n",
      "-rw-r--r-- 1 noel noel  20K Feb 28 16:45 176_Boletus_edulis_Harper.jpg\r\n",
      "-rw-r--r-- 1 noel noel  20K Feb 28 16:45 177_Boletus_edulis_Harper.jpg\r\n",
      "-rw-r--r-- 1 noel noel  20K Feb 28 16:45 178_Boletus_edulis_Harper.jpg\r\n",
      "-rw-r--r-- 1 noel noel  20K Feb 28 16:45 179_Boletus_edulis_Harper.jpg\r\n",
      "-rw-r--r-- 1 noel noel  20K Feb 28 16:45 180_Boletus_edulis_Harper.jpg\r\n",
      "-rw-r--r-- 1 noel noel  20K Feb 28 16:45 181_Boletus_edulis_Harper.jpg\r\n",
      "-rw-r--r-- 1 noel noel  20K Feb 28 16:45 182_Boletus_edulis_Harper.jpg\r\n",
      "-rw-r--r-- 1 noel noel  20K Feb 28 16:45 183_Boletus_edulis_Harper.jpg\r\n",
      "-rw-r--r-- 1 noel noel  20K Feb 28 16:45 184_Boletus_edulis_Harper.jpg\r\n",
      "-rw-r--r-- 1 noel noel  20K Feb 28 16:45 185_Boletus_edulis_Harper.jpg\r\n",
      "-rw-r--r-- 1 noel noel  20K Feb 28 16:45 186_Boletus_edulis_Harper.jpg\r\n",
      "-rw-r--r-- 1 noel noel  20K Feb 28 16:45 187_Boletus_edulis_Harper.jpg\r\n",
      "-rw-r--r-- 1 noel noel  20K Feb 28 16:45 188_Boletus_edulis_Harper.jpg\r\n",
      "-rw-r--r-- 1 noel noel  20K Feb 28 16:45 189_Boletus_edulis_Harper.jpg\r\n",
      "-rw-r--r-- 1 noel noel  20K Feb 28 16:45 190_Boletus_edulis_Harper.jpg\r\n",
      "-rw-r--r-- 1 noel noel  20K Feb 28 16:45 191_Boletus_edulis_Harper.jpg\r\n",
      "-rw-r--r-- 1 noel noel  21K Feb 28 16:45 192_Boletus_edulis_Harper.jpg\r\n",
      "-rw-r--r-- 1 noel noel  21K Feb 28 16:45 193_Boletus_edulis_Harper.jpg\r\n",
      "-rw-r--r-- 1 noel noel  21K Feb 28 16:45 194_Boletus_edulis_Harper.jpg\r\n",
      "-rw-r--r-- 1 noel noel  21K Feb 28 16:45 195_Boletus_edulis_Harper.jpg\r\n",
      "-rw-r--r-- 1 noel noel  21K Feb 28 16:45 196_Boletus_edulis_Harper.jpg\r\n",
      "-rw-r--r-- 1 noel noel  21K Feb 28 16:45 197_Boletus_edulis_Harper.jpg\r\n",
      "-rw-r--r-- 1 noel noel  21K Feb 28 16:45 199_Boletus_edulis_Harper.jpg\r\n",
      "-rw-r--r-- 1 noel noel  21K Feb 28 16:45 198_Boletus_edulis_Harper.jpg\r\n",
      "-rw-r--r-- 1 noel noel  21K Feb 28 16:45 200_Boletus_edulis_Harper.jpg\r\n",
      "-rw-r--r-- 1 noel noel  21K Feb 28 16:45 201_Boletus_edulis_Harper.jpg\r\n",
      "-rw-r--r-- 1 noel noel  21K Feb 28 16:45 202_Boletus_edulis_Harper.jpg\r\n",
      "-rw-r--r-- 1 noel noel  21K Feb 28 16:45 203_Boletus_edulis_Harper.jpg\r\n",
      "-rw-r--r-- 1 noel noel  21K Feb 28 16:45 204_Boletus_edulis_Harper.jpg\r\n",
      "-rw-r--r-- 1 noel noel  21K Feb 28 16:45 205_Boletus_edulis_Harper.jpg\r\n",
      "-rw-r--r-- 1 noel noel  21K Feb 28 16:45 206_Boletus_edulis_Harper.jpg\r\n",
      "-rw-r--r-- 1 noel noel  21K Feb 28 16:45 207_Boletus_edulis_Harper.jpg\r\n",
      "-rw-r--r-- 1 noel noel  21K Feb 28 16:45 208_Boletus_edulis_Harper.jpg\r\n",
      "-rw-r--r-- 1 noel noel  21K Feb 28 16:45 209_Boletus_edulis_Harper.jpg\r\n",
      "-rw-r--r-- 1 noel noel  21K Feb 28 16:45 210_Boletus_edulis_Harper.jpg\r\n",
      "-rw-r--r-- 1 noel noel  21K Feb 28 16:45 211_Boletus_edulis_Harper.jpg\r\n",
      "-rw-r--r-- 1 noel noel  21K Feb 28 16:45 212_Boletus_edulis_Harper.jpg\r\n",
      "-rw-r--r-- 1 noel noel  21K Feb 28 16:45 213_Boletus_edulis_Harper.jpg\r\n",
      "-rw-r--r-- 1 noel noel  21K Feb 28 16:45 214_Boletus_edulis_Harper.jpg\r\n",
      "-rw-r--r-- 1 noel noel  21K Feb 28 16:45 215_Boletus_edulis_Harper.jpg\r\n",
      "-rw-r--r-- 1 noel noel  21K Feb 28 16:45 216_Boletus_edulis_Harper.jpg\r\n",
      "-rw-r--r-- 1 noel noel  21K Feb 28 16:45 217_Boletus_edulis_Harper.jpg\r\n",
      "-rw-r--r-- 1 noel noel  21K Feb 28 16:45 218_Boletus_edulis_Harper.jpg\r\n",
      "-rw-r--r-- 1 noel noel  21K Feb 28 16:45 219_Boletus_edulis_Harper.jpg\r\n",
      "-rw-r--r-- 1 noel noel  21K Feb 28 16:45 220_Boletus_edulis_Harper.jpg\r\n",
      "-rw-r--r-- 1 noel noel  21K Feb 28 16:45 221_Boletus_edulis_Harper.jpg\r\n",
      "-rw-r--r-- 1 noel noel  21K Feb 28 16:45 222_Boletus_edulis_Harper.jpg\r\n",
      "-rw-r--r-- 1 noel noel  21K Feb 28 16:45 223_Boletus_edulis_Harper.jpg\r\n",
      "-rw-r--r-- 1 noel noel  21K Feb 28 16:45 224_Boletus_edulis_Harper.jpg\r\n",
      "-rw-r--r-- 1 noel noel  21K Feb 28 16:45 225_Boletus_edulis_Harper.jpg\r\n",
      "-rw-r--r-- 1 noel noel  22K Feb 28 16:45 227_Boletus_edulis_Harper.jpg\r\n",
      "-rw-r--r-- 1 noel noel  22K Feb 28 16:45 228_Boletus_edulis_Harper.jpg\r\n",
      "-rw-r--r-- 1 noel noel  22K Feb 28 16:45 229_Boletus_edulis_Harper.jpg\r\n",
      "-rw-r--r-- 1 noel noel  22K Feb 28 16:45 230_Boletus_edulis_Harper.jpg\r\n",
      "-rw-r--r-- 1 noel noel  22K Feb 28 16:45 232_Boletus_edulis_Harper.jpg\r\n",
      "-rw-r--r-- 1 noel noel  22K Feb 28 16:45 233_Boletus_edulis_Harper.jpg\r\n",
      "-rw-r--r-- 1 noel noel  22K Feb 28 16:45 234_Boletus_edulis_Harper.jpg\r\n",
      "-rw-r--r-- 1 noel noel  22K Feb 28 16:45 235_Boletus_edulis_Harper.jpg\r\n",
      "-rw-r--r-- 1 noel noel  22K Feb 28 16:45 236_Boletus_edulis_Harper.jpg\r\n",
      "-rw-r--r-- 1 noel noel  22K Feb 28 16:45 237_Boletus_edulis_Harper.jpg\r\n",
      "-rw-r--r-- 1 noel noel  22K Feb 28 16:45 238_Boletus_edulis_Harper.jpg\r\n",
      "-rw-r--r-- 1 noel noel  22K Feb 28 16:45 239_Boletus_edulis_Harper.jpg\r\n",
      "-rw-r--r-- 1 noel noel  22K Feb 28 16:45 240_Boletus_edulis_Harper.jpg\r\n",
      "-rw-r--r-- 1 noel noel  22K Feb 28 16:45 241_Boletus_edulis_Harper.jpg\r\n",
      "-rw-r--r-- 1 noel noel  22K Feb 28 16:45 242_Boletus_edulis_Harper.jpg\r\n",
      "-rw-r--r-- 1 noel noel  22K Feb 28 16:45 243_Boletus_edulis_Harper.jpg\r\n",
      "-rw-r--r-- 1 noel noel  22K Feb 28 16:45 244_Boletus_edulis_Harper.jpg\r\n",
      "-rw-r--r-- 1 noel noel  22K Feb 28 16:45 245_Boletus_edulis_Harper.jpg\r\n",
      "-rw-r--r-- 1 noel noel  22K Feb 28 16:45 246_Boletus_edulis_Harper.jpg\r\n",
      "-rw-r--r-- 1 noel noel  22K Feb 28 16:45 247_Boletus_edulis_Harper.jpg\r\n",
      "-rw-r--r-- 1 noel noel  22K Feb 28 16:45 248_Boletus_edulis_Harper.jpg\r\n",
      "-rw-r--r-- 1 noel noel  22K Feb 28 16:45 249_Boletus_edulis_Harper.jpg\r\n",
      "-rw-r--r-- 1 noel noel  22K Feb 28 16:45 250_Boletus_edulis_Harper.jpg\r\n",
      "-rw-r--r-- 1 noel noel  22K Feb 28 16:45 251_Boletus_edulis_Harper.jpg\r\n",
      "-rw-r--r-- 1 noel noel  22K Feb 28 16:45 253_Boletus_edulis_Harper.jpg\r\n",
      "-rw-r--r-- 1 noel noel  22K Feb 28 16:45 252_Boletus_edulis_Harper.jpg\r\n",
      "-rw-r--r-- 1 noel noel  22K Feb 28 16:45 254_Boletus_edulis_Harper.jpg\r\n",
      "-rw-r--r-- 1 noel noel  22K Feb 28 16:45 255_Boletus_edulis_Harper.jpg\r\n",
      "-rw-r--r-- 1 noel noel  22K Feb 28 16:45 257_Boletus_edulis_Harper.jpg\r\n",
      "-rw-r--r-- 1 noel noel  22K Feb 28 16:45 256_Boletus_edulis_Harper.jpg\r\n",
      "-rw-r--r-- 1 noel noel  22K Feb 28 16:45 258_Boletus_edulis_Harper.jpg\r\n",
      "-rw-r--r-- 1 noel noel  22K Feb 28 16:45 259_Boletus_edulis_Harper.jpg\r\n",
      "-rw-r--r-- 1 noel noel  23K Feb 28 16:45 261_Boletus_edulis_Harper.jpg\r\n",
      "-rw-r--r-- 1 noel noel  23K Feb 28 16:45 260_Boletus_edulis_Harper.jpg\r\n",
      "-rw-r--r-- 1 noel noel  23K Feb 28 16:45 262_Boletus_edulis_Harper.jpg\r\n",
      "-rw-r--r-- 1 noel noel  23K Feb 28 16:45 263_Boletus_edulis_Harper.jpg\r\n",
      "-rw-r--r-- 1 noel noel  23K Feb 28 16:45 264_Boletus_edulis_Harper.jpg\r\n",
      "-rw-r--r-- 1 noel noel  23K Feb 28 16:45 265_Boletus_edulis_Harper.jpg\r\n",
      "-rw-r--r-- 1 noel noel  23K Feb 28 16:45 266_Boletus_edulis_Harper.jpg\r\n",
      "-rw-r--r-- 1 noel noel  23K Feb 28 16:45 268_Boletus_edulis_Harper.jpg\r\n",
      "-rw-r--r-- 1 noel noel  23K Feb 28 16:45 267_Boletus_edulis_Harper.jpg\r\n",
      "-rw-r--r-- 1 noel noel  23K Feb 28 16:45 269_Boletus_edulis_Harper.jpg\r\n",
      "-rw-r--r-- 1 noel noel  23K Feb 28 16:45 270_Boletus_edulis_Harper.jpg\r\n",
      "-rw-r--r-- 1 noel noel  23K Feb 28 16:45 271_Boletus_edulis_Harper.jpg\r\n",
      "-rw-r--r-- 1 noel noel  23K Feb 28 16:45 272_Boletus_edulis_Harper.jpg\r\n",
      "-rw-r--r-- 1 noel noel  23K Feb 28 16:45 273_Boletus_edulis_Harper.jpg\r\n",
      "-rw-r--r-- 1 noel noel  23K Feb 28 16:45 274_Boletus_edulis_Harper.jpg\r\n",
      "-rw-r--r-- 1 noel noel  23K Feb 28 16:45 275_Boletus_edulis_Harper.jpg\r\n",
      "-rw-r--r-- 1 noel noel  23K Feb 28 16:45 276_Boletus_edulis_Harper.jpg\r\n",
      "-rw-r--r-- 1 noel noel  23K Feb 28 16:45 277_Boletus_edulis_Harper.jpg\r\n",
      "-rw-r--r-- 1 noel noel  23K Feb 28 16:45 278_Boletus_edulis_Harper.jpg\r\n",
      "-rw-r--r-- 1 noel noel  23K Feb 28 16:45 279_Boletus_edulis_Harper.jpg\r\n",
      "-rw-r--r-- 1 noel noel  23K Feb 28 16:45 280_Boletus_edulis_Harper.jpg\r\n",
      "-rw-r--r-- 1 noel noel  23K Feb 28 16:45 281_Boletus_edulis_Harper.jpg\r\n",
      "-rw-r--r-- 1 noel noel  23K Feb 28 16:45 282_Boletus_edulis_Harper.jpg\r\n",
      "-rw-r--r-- 1 noel noel  23K Feb 28 16:45 284_Boletus_edulis_Harper.jpg\r\n",
      "-rw-r--r-- 1 noel noel  23K Feb 28 16:45 283_Boletus_edulis_Harper.jpg\r\n",
      "-rw-r--r-- 1 noel noel  24K Feb 28 16:45 285_Boletus_edulis_Harper.jpg\r\n",
      "-rw-r--r-- 1 noel noel  24K Feb 28 16:45 286_Boletus_edulis_Harper.jpg\r\n",
      "-rw-r--r-- 1 noel noel  24K Feb 28 16:45 287_Boletus_edulis_Harper.jpg\r\n",
      "-rw-r--r-- 1 noel noel  24K Feb 28 16:45 288_Boletus_edulis_Harper.jpg\r\n",
      "-rw-r--r-- 1 noel noel  24K Feb 28 16:45 289_Boletus_edulis_Harper.jpg\r\n",
      "-rw-r--r-- 1 noel noel  24K Feb 28 16:45 290_Boletus_edulis_Harper.jpg\r\n",
      "-rw-r--r-- 1 noel noel  24K Feb 28 16:45 291_Boletus_edulis_Harper.jpg\r\n",
      "-rw-r--r-- 1 noel noel  24K Feb 28 16:45 292_Boletus_edulis_Harper.jpg\r\n",
      "-rw-r--r-- 1 noel noel  24K Feb 28 16:45 293_Boletus_edulis_Harper.jpg\r\n",
      "-rw-r--r-- 1 noel noel  24K Feb 28 16:45 294_Boletus_edulis_Harper.jpg\r\n",
      "-rw-r--r-- 1 noel noel  24K Feb 28 16:45 295_Boletus_edulis_Harper.jpg\r\n",
      "-rw-r--r-- 1 noel noel  24K Feb 28 16:45 296_Boletus_edulis_Harper.jpg\r\n",
      "-rw-r--r-- 1 noel noel  24K Feb 28 16:45 297_Boletus_edulis_Harper.jpg\r\n",
      "-rw-r--r-- 1 noel noel  24K Feb 28 16:45 298_Boletus_edulis_Harper.jpg\r\n",
      "-rw-r--r-- 1 noel noel  24K Feb 28 16:45 299_Boletus_edulis_Harper.jpg\r\n",
      "-rw-r--r-- 1 noel noel  24K Feb 28 16:45 300_Boletus_edulis_Harper.jpg\r\n",
      "-rw-r--r-- 1 noel noel  24K Feb 28 16:45 301_Boletus_edulis_Harper.jpg\r\n",
      "-rw-r--r-- 1 noel noel  24K Feb 28 16:45 302_Boletus_edulis_Harper.jpg\r\n",
      "-rw-r--r-- 1 noel noel  24K Feb 28 16:45 303_Boletus_edulis_Harper.jpg\r\n",
      "-rw-r--r-- 1 noel noel  24K Feb 28 16:45 304_Boletus_edulis_Harper.jpg\r\n",
      "-rw-r--r-- 1 noel noel  24K Feb 28 16:45 305_Boletus_edulis_Harper.jpg\r\n",
      "-rw-r--r-- 1 noel noel  24K Feb 28 16:45 306_Boletus_edulis_Harper.jpg\r\n",
      "-rw-r--r-- 1 noel noel  24K Feb 28 16:45 307_Boletus_edulis_Harper.jpg\r\n",
      "-rw-r--r-- 1 noel noel  24K Feb 28 16:45 308_Boletus_edulis_Harper.jpg\r\n",
      "-rw-r--r-- 1 noel noel  24K Feb 28 16:45 309_Boletus_edulis_Harper.jpg\r\n",
      "-rw-r--r-- 1 noel noel  24K Feb 28 16:45 310_Boletus_edulis_Harper.jpg\r\n",
      "-rw-r--r-- 1 noel noel  24K Feb 28 16:45 311_Boletus_edulis_Harper.jpg\r\n",
      "-rw-r--r-- 1 noel noel  24K Feb 28 16:45 312_Boletus_edulis_Harper.jpg\r\n",
      "-rw-r--r-- 1 noel noel  24K Feb 28 16:45 313_Boletus_edulis_Harper.jpg\r\n",
      "-rw-r--r-- 1 noel noel  24K Feb 28 16:45 314_Boletus_edulis_Harper.jpg\r\n",
      "-rw-r--r-- 1 noel noel  25K Feb 28 16:45 315_Boletus_edulis_Harper.jpg\r\n",
      "-rw-r--r-- 1 noel noel  25K Feb 28 16:45 316_Boletus_edulis_Harper.jpg\r\n",
      "-rw-r--r-- 1 noel noel  25K Feb 28 16:45 317_Boletus_edulis_Harper.jpg\r\n",
      "-rw-r--r-- 1 noel noel  25K Feb 28 16:45 318_Boletus_edulis_Harper.jpg\r\n",
      "-rw-r--r-- 1 noel noel  25K Feb 28 16:45 319_Boletus_edulis_Harper.jpg\r\n",
      "-rw-r--r-- 1 noel noel  25K Feb 28 16:45 320_Boletus_edulis_Harper.jpg\r\n",
      "-rw-r--r-- 1 noel noel  25K Feb 28 16:45 321_Boletus_edulis_Harper.jpg\r\n",
      "-rw-r--r-- 1 noel noel  25K Feb 28 16:45 322_Boletus_edulis_Harper.jpg\r\n",
      "-rw-r--r-- 1 noel noel  25K Feb 28 16:45 323_Boletus_edulis_Harper.jpg\r\n",
      "-rw-r--r-- 1 noel noel  25K Feb 28 16:45 324_Boletus_edulis_Harper.jpg\r\n",
      "-rw-r--r-- 1 noel noel  25K Feb 28 16:45 325_Boletus_edulis_Harper.jpg\r\n",
      "-rw-r--r-- 1 noel noel  25K Feb 28 16:45 326_Boletus_edulis_Harper.jpg\r\n",
      "-rw-r--r-- 1 noel noel  25K Feb 28 16:45 327_Boletus_edulis_Harper.jpg\r\n",
      "-rw-r--r-- 1 noel noel  25K Feb 28 16:45 328_Boletus_edulis_Harper.jpg\r\n",
      "-rw-r--r-- 1 noel noel  25K Feb 28 16:45 329_Boletus_edulis_Harper.jpg\r\n",
      "-rw-r--r-- 1 noel noel  25K Feb 28 16:45 330_Boletus_edulis_Harper.jpg\r\n",
      "-rw-r--r-- 1 noel noel  25K Feb 28 16:45 331_Boletus_edulis_Harper.jpg\r\n",
      "-rw-r--r-- 1 noel noel  25K Feb 28 16:45 332_Boletus_edulis_Harper.jpg\r\n",
      "-rw-r--r-- 1 noel noel  25K Feb 28 16:45 333_Boletus_edulis_Harper.jpg\r\n",
      "-rw-r--r-- 1 noel noel  25K Feb 28 16:45 334_Boletus_edulis_Harper.jpg\r\n",
      "-rw-r--r-- 1 noel noel  25K Feb 28 16:45 335_Boletus_edulis_Harper.jpg\r\n",
      "-rw-r--r-- 1 noel noel  25K Feb 28 16:45 336_Boletus_edulis_Harper.jpg\r\n",
      "-rw-r--r-- 1 noel noel  25K Feb 28 16:45 337_Boletus_edulis_Harper.jpg\r\n",
      "-rw-r--r-- 1 noel noel  25K Feb 28 16:45 338_Boletus_edulis_Harper.jpg\r\n",
      "-rw-r--r-- 1 noel noel  25K Feb 28 16:45 339_Boletus_edulis_Harper.jpg\r\n",
      "-rw-r--r-- 1 noel noel  25K Feb 28 16:45 340_Boletus_edulis_Harper.jpg\r\n",
      "-rw-r--r-- 1 noel noel  25K Feb 28 16:45 341_Boletus_edulis_Harper.jpg\r\n",
      "-rw-r--r-- 1 noel noel  25K Feb 28 16:45 342_Boletus_edulis_Harper.jpg\r\n",
      "-rw-r--r-- 1 noel noel  25K Feb 28 16:45 343_Boletus_edulis_Harper.jpg\r\n",
      "-rw-r--r-- 1 noel noel  25K Feb 28 16:45 344_Boletus_edulis_Harper.jpg\r\n",
      "-rw-r--r-- 1 noel noel  25K Feb 28 16:45 346_Boletus_edulis_Harper.jpg\r\n",
      "-rw-r--r-- 1 noel noel  25K Feb 28 16:45 345_Boletus_edulis_Harper.jpg\r\n",
      "-rw-r--r-- 1 noel noel  25K Feb 28 16:45 348_Boletus_edulis_Harper.jpg\r\n",
      "-rw-r--r-- 1 noel noel  25K Feb 28 16:45 347_Boletus_edulis_Harper.jpg\r\n",
      "-rw-r--r-- 1 noel noel  26K Feb 28 16:45 349_Boletus_edulis_Harper.jpg\r\n",
      "-rw-r--r-- 1 noel noel  26K Feb 28 16:45 350_Boletus_edulis_Harper.jpg\r\n",
      "-rw-r--r-- 1 noel noel  26K Feb 28 16:45 351_Boletus_edulis_Harper.jpg\r\n",
      "-rw-r--r-- 1 noel noel  26K Feb 28 16:45 352_Boletus_edulis_Harper.jpg\r\n",
      "-rw-r--r-- 1 noel noel  26K Feb 28 16:45 353_Boletus_edulis_Harper.jpg\r\n",
      "-rw-r--r-- 1 noel noel  26K Feb 28 16:45 354_Boletus_edulis_Harper.jpg\r\n",
      "-rw-r--r-- 1 noel noel  26K Feb 28 16:45 355_Boletus_edulis_Harper.jpg\r\n",
      "-rw-r--r-- 1 noel noel  26K Feb 28 16:45 356_Boletus_edulis_Harper.jpg\r\n",
      "-rw-r--r-- 1 noel noel  26K Feb 28 16:45 357_Boletus_edulis_Harper.jpg\r\n",
      "-rw-r--r-- 1 noel noel  26K Feb 28 16:45 358_Boletus_edulis_Harper.jpg\r\n",
      "-rw-r--r-- 1 noel noel  26K Feb 28 16:45 359_Boletus_edulis_Harper.jpg\r\n",
      "-rw-r--r-- 1 noel noel  26K Feb 28 16:45 360_Boletus_edulis_Harper.jpg\r\n",
      "-rw-r--r-- 1 noel noel  26K Feb 28 16:45 361_Boletus_edulis_Harper.jpg\r\n",
      "-rw-r--r-- 1 noel noel  26K Feb 28 16:45 362_Boletus_edulis_Harper.jpg\r\n",
      "-rw-r--r-- 1 noel noel  26K Feb 28 16:45 363_Boletus_edulis_Harper.jpg\r\n",
      "-rw-r--r-- 1 noel noel  26K Feb 28 16:45 364_Boletus_edulis_Harper.jpg\r\n",
      "-rw-r--r-- 1 noel noel  26K Feb 28 16:45 365_Boletus_edulis_Harper.jpg\r\n",
      "-rw-r--r-- 1 noel noel  26K Feb 28 16:45 366_Boletus_edulis_Harper.jpg\r\n",
      "-rw-r--r-- 1 noel noel  26K Feb 28 16:45 367_Boletus_edulis_Harper.jpg\r\n",
      "-rw-r--r-- 1 noel noel  27K Feb 28 16:45 368_Boletus_edulis_Harper.jpg\r\n",
      "-rw-r--r-- 1 noel noel  27K Feb 28 16:45 369_Boletus_edulis_Harper.jpg\r\n",
      "-rw-r--r-- 1 noel noel  27K Feb 28 16:45 370_Boletus_edulis_Harper.jpg\r\n",
      "-rw-r--r-- 1 noel noel  27K Feb 28 16:45 371_Boletus_edulis_Harper.jpg\r\n",
      "-rw-r--r-- 1 noel noel  27K Feb 28 16:45 372_Boletus_edulis_Harper.jpg\r\n",
      "-rw-r--r-- 1 noel noel  27K Feb 28 16:45 373_Boletus_edulis_Harper.jpg\r\n",
      "-rw-r--r-- 1 noel noel  27K Feb 28 16:45 374_Boletus_edulis_Harper.jpg\r\n",
      "-rw-r--r-- 1 noel noel  27K Feb 28 16:45 375_Boletus_edulis_Harper.jpg\r\n",
      "-rw-r--r-- 1 noel noel  27K Feb 28 16:45 376_Boletus_edulis_Harper.jpg\r\n",
      "-rw-r--r-- 1 noel noel  27K Feb 28 16:45 377_Boletus_edulis_Harper.jpg\r\n",
      "-rw-r--r-- 1 noel noel  27K Feb 28 16:45 378_Boletus_edulis_Harper.jpg\r\n",
      "-rw-r--r-- 1 noel noel  27K Feb 28 16:45 379_Boletus_edulis_Harper.jpg\r\n",
      "-rw-r--r-- 1 noel noel  27K Feb 28 16:45 380_Boletus_edulis_Harper.jpg\r\n",
      "-rw-r--r-- 1 noel noel  27K Feb 28 16:45 381_Boletus_edulis_Harper.jpg\r\n",
      "-rw-r--r-- 1 noel noel  27K Feb 28 16:45 382_Boletus_edulis_Harper.jpg\r\n",
      "-rw-r--r-- 1 noel noel  27K Feb 28 16:45 383_Boletus_edulis_Harper.jpg\r\n",
      "-rw-r--r-- 1 noel noel  27K Feb 28 16:45 384_Boletus_edulis_Harper.jpg\r\n",
      "-rw-r--r-- 1 noel noel  27K Feb 28 16:45 385_Boletus_edulis_Harper.jpg\r\n",
      "-rw-r--r-- 1 noel noel  27K Feb 28 16:45 386_Boletus_edulis_Harper.jpg\r\n",
      "-rw-r--r-- 1 noel noel  27K Feb 28 16:45 387_Boletus_edulis_Harper.jpg\r\n",
      "-rw-r--r-- 1 noel noel  27K Feb 28 16:45 388_Boletus_edulis_Harper.jpg\r\n",
      "-rw-r--r-- 1 noel noel  27K Feb 28 16:45 389_Boletus_edulis_Harper.jpg\r\n",
      "-rw-r--r-- 1 noel noel  27K Feb 28 16:45 390_Boletus_edulis_Harper.jpg\r\n",
      "-rw-r--r-- 1 noel noel  27K Feb 28 16:45 391_Boletus_edulis_Harper.jpg\r\n",
      "-rw-r--r-- 1 noel noel  27K Feb 28 16:45 392_Boletus_edulis_Harper.jpg\r\n",
      "-rw-r--r-- 1 noel noel  28K Feb 28 16:45 393_Boletus_edulis_Harper.jpg\r\n",
      "-rw-r--r-- 1 noel noel  28K Feb 28 16:45 394_Boletus_edulis_Harper.jpg\r\n",
      "-rw-r--r-- 1 noel noel  28K Feb 28 16:45 395_Boletus_edulis_Harper.jpg\r\n",
      "-rw-r--r-- 1 noel noel  28K Feb 28 16:45 396_Boletus_edulis_Harper.jpg\r\n",
      "-rw-r--r-- 1 noel noel  28K Feb 28 16:45 397_Boletus_edulis_Harper.jpg\r\n",
      "-rw-r--r-- 1 noel noel  28K Feb 28 16:45 399_Boletus_edulis_Harper.jpg\r\n",
      "-rw-r--r-- 1 noel noel  28K Feb 28 16:45 398_Boletus_edulis_Harper.jpg\r\n",
      "-rw-r--r-- 1 noel noel  28K Feb 28 16:45 400_Boletus_edulis_Harper.jpg\r\n",
      "-rw-r--r-- 1 noel noel  28K Feb 28 16:45 401_Boletus_edulis_Harper.jpg\r\n",
      "-rw-r--r-- 1 noel noel  28K Feb 28 16:45 402_Boletus_edulis_Harper.jpg\r\n",
      "-rw-r--r-- 1 noel noel  28K Feb 28 16:45 403_Boletus_edulis_Harper.jpg\r\n",
      "-rw-r--r-- 1 noel noel  28K Feb 28 16:45 404_Boletus_edulis_Harper.jpg\r\n",
      "-rw-r--r-- 1 noel noel  28K Feb 28 16:45 405_Boletus_edulis_Harper.jpg\r\n",
      "-rw-r--r-- 1 noel noel  29K Feb 28 16:45 406_Boletus_edulis_Harper.jpg\r\n",
      "-rw-r--r-- 1 noel noel  29K Feb 28 16:45 407_Boletus_edulis_Harper.jpg\r\n",
      "-rw-r--r-- 1 noel noel  29K Feb 28 16:45 408_Boletus_edulis_Harper.jpg\r\n",
      "-rw-r--r-- 1 noel noel  29K Feb 28 16:45 409_Boletus_edulis_Harper.jpg\r\n",
      "-rw-r--r-- 1 noel noel  29K Feb 28 16:45 410_Boletus_edulis_Harper.jpg\r\n",
      "-rw-r--r-- 1 noel noel  29K Feb 28 16:45 411_Boletus_edulis_Harper.jpg\r\n",
      "-rw-r--r-- 1 noel noel  29K Feb 28 16:45 412_Boletus_edulis_Harper.jpg\r\n",
      "-rw-r--r-- 1 noel noel  29K Feb 28 16:45 413_Boletus_edulis_Harper.jpg\r\n",
      "-rw-r--r-- 1 noel noel  29K Feb 28 16:45 414_Boletus_edulis_Harper.jpg\r\n",
      "-rw-r--r-- 1 noel noel  29K Feb 28 16:45 415_Boletus_edulis_Harper.jpg\r\n",
      "-rw-r--r-- 1 noel noel  29K Feb 28 16:45 416_Boletus_edulis_Harper.jpg\r\n",
      "-rw-r--r-- 1 noel noel  29K Feb 28 16:45 417_Boletus_edulis_Harper.jpg\r\n",
      "-rw-r--r-- 1 noel noel  29K Feb 28 16:45 418_Boletus_edulis_Harper.jpg\r\n",
      "-rw-r--r-- 1 noel noel  29K Feb 28 16:45 419_Boletus_edulis_Harper.jpg\r\n",
      "-rw-r--r-- 1 noel noel  29K Feb 28 16:45 420_Boletus_edulis_Harper.jpg\r\n",
      "-rw-r--r-- 1 noel noel  29K Feb 28 16:45 421_Boletus_edulis_Harper.jpg\r\n",
      "-rw-r--r-- 1 noel noel  30K Feb 28 16:45 422_Boletus_edulis_Harper.jpg\r\n",
      "-rw-r--r-- 1 noel noel  30K Feb 28 16:45 423_Boletus_edulis_Harper.jpg\r\n",
      "-rw-r--r-- 1 noel noel  30K Feb 28 16:45 424_Boletus_edulis_Harper.jpg\r\n",
      "-rw-r--r-- 1 noel noel  30K Feb 28 16:45 425_Boletus_edulis_Harper.jpg\r\n",
      "-rw-r--r-- 1 noel noel  30K Feb 28 16:45 426_Boletus_edulis_Harper.jpg\r\n",
      "-rw-r--r-- 1 noel noel  31K Feb 28 16:45 427_Boletus_edulis_Harper.jpg\r\n",
      "-rw-r--r-- 1 noel noel  31K Feb 28 16:45 428_Boletus_edulis_Harper.jpg\r\n",
      "-rw-r--r-- 1 noel noel  31K Feb 28 16:45 429_Boletus_edulis_Harper.jpg\r\n",
      "-rw-r--r-- 1 noel noel  31K Feb 28 16:45 430_Boletus_edulis_Harper.jpg\r\n",
      "-rw-r--r-- 1 noel noel  31K Feb 28 16:45 431_Boletus_edulis_Harper.jpg\r\n",
      "-rw-r--r-- 1 noel noel  32K Feb 28 16:45 432_Boletus_edulis_Harper.jpg\r\n",
      "-rw-r--r-- 1 noel noel  32K Feb 28 16:45 433_Boletus_edulis_Harper.jpg\r\n",
      "-rw-r--r-- 1 noel noel  32K Feb 28 16:45 434_Boletus_edulis_Harper.jpg\r\n",
      "-rw-r--r-- 1 noel noel  32K Feb 28 16:45 435_Boletus_edulis_Harper.jpg\r\n",
      "-rw-r--r-- 1 noel noel  32K Feb 28 16:45 436_Boletus_edulis_Harper.jpg\r\n",
      "-rw-r--r-- 1 noel noel  33K Feb 28 16:45 437_Boletus_edulis_Harper.jpg\r\n",
      "-rw-r--r-- 1 noel noel  33K Feb 28 16:45 438_Boletus_edulis_Harper.jpg\r\n",
      "-rw-r--r-- 1 noel noel  33K Feb 28 16:45 439_Boletus_edulis_Harper.jpg\r\n",
      "-rw-r--r-- 1 noel noel  33K Feb 28 16:45 440_Boletus_edulis_Harper.jpg\r\n",
      "-rw-r--r-- 1 noel noel  34K Feb 28 16:45 441_Boletus_edulis_Harper.jpg\r\n",
      "-rw-r--r-- 1 noel noel  34K Feb 28 16:45 442_Boletus_edulis_Harper.jpg\r\n",
      "-rw-r--r-- 1 noel noel  36K Feb 28 16:45 443_Boletus_edulis_Harper.jpg\r\n",
      "-rw-r--r-- 1 noel noel  42K Feb 28 16:45 444_Boletus_edulis_Harper.jpg\r\n"
     ]
    }
   ],
   "source": [
    "# To list the images in order of their filesise we can use ls -rSlh\n",
    "! ls -rSlh David_Harper_Labelled_Cleaned/Boletus_edulis"
   ]
  },
  {
   "cell_type": "markdown",
   "id": "f5b84f56",
   "metadata": {},
   "source": [
    "Note how there are missing entries at the start, due to missing image files. There are also higher missing entries because sometimes there were microscope/other irrelevant pictures in larger files too."
   ]
  },
  {
   "cell_type": "markdown",
   "id": "7cf387d3",
   "metadata": {},
   "source": [
    "### Sort the python list according to existing labels"
   ]
  },
  {
   "cell_type": "code",
   "execution_count": 111,
   "id": "303144c3",
   "metadata": {},
   "outputs": [
    {
     "data": {
      "text/plain": [
       "['4_Boletus_edulis_Harper.jpg',\n",
       " '5_Boletus_edulis_Harper.jpg',\n",
       " '6_Boletus_edulis_Harper.jpg',\n",
       " '7_Boletus_edulis_Harper.jpg',\n",
       " '8_Boletus_edulis_Harper.jpg',\n",
       " '9_Boletus_edulis_Harper.jpg',\n",
       " '10_Boletus_edulis_Harper.jpg',\n",
       " '11_Boletus_edulis_Harper.jpg',\n",
       " '12_Boletus_edulis_Harper.jpg',\n",
       " '13_Boletus_edulis_Harper.jpg']"
      ]
     },
     "execution_count": 111,
     "metadata": {},
     "output_type": "execute_result"
    }
   ],
   "source": [
    "boletes.sort(reverse=False,key= lambda bolete: int(bolete.split('_')[0]))\n",
    "boletes[:10]"
   ]
  },
  {
   "cell_type": "markdown",
   "id": "355cae28",
   "metadata": {},
   "source": [
    "## Generalise procedure with functions"
   ]
  },
  {
   "cell_type": "markdown",
   "id": "f5981d06",
   "metadata": {},
   "source": [
    "In this case we just have 6 species, so this is not really a necessary step, but in folders where we have thousands of subfolders, we may want an easy way to find a species/genus by its name. The following function does this."
   ]
  },
  {
   "cell_type": "markdown",
   "id": "f34dce04",
   "metadata": {},
   "source": [
    "### Step 1 find species directory"
   ]
  },
  {
   "cell_type": "code",
   "execution_count": 112,
   "id": "51d8d3b1",
   "metadata": {},
   "outputs": [
    {
     "data": {
      "text/plain": [
       "['Boletus_edulis',\n",
       " 'Amanita_bisporigera',\n",
       " 'Cantharellus',\n",
       " 'Omphalotus_olearius',\n",
       " 'Amanita_muscaria',\n",
       " 'Russula_mariae']"
      ]
     },
     "execution_count": 112,
     "metadata": {},
     "output_type": "execute_result"
    }
   ],
   "source": [
    "dir_list"
   ]
  },
  {
   "cell_type": "code",
   "execution_count": 113,
   "id": "536a5772",
   "metadata": {},
   "outputs": [
    {
     "data": {
      "text/plain": [
       "'4 Boletus edulis Harper.jpg'"
      ]
     },
     "execution_count": 113,
     "metadata": {},
     "output_type": "execute_result"
    }
   ],
   "source": [
    "boletes[0].replace('_', ' ')"
   ]
  },
  {
   "cell_type": "code",
   "execution_count": 114,
   "id": "ff1c0800",
   "metadata": {},
   "outputs": [],
   "source": [
    "def find_in_list(name,dir_list):\n",
    "    for i in dir_list:\n",
    "        if name.lower() in i.replace('_', ' ').lower():\n",
    "            species_dir=i\n",
    "    return species_dir"
   ]
  },
  {
   "cell_type": "code",
   "execution_count": 115,
   "id": "04629828",
   "metadata": {},
   "outputs": [
    {
     "name": "stdout",
     "output_type": "stream",
     "text": [
      "Amanita_muscaria\n"
     ]
    }
   ],
   "source": [
    "print(find_in_list('amanita muscaria',dir_list))"
   ]
  },
  {
   "cell_type": "markdown",
   "id": "0bd1098a",
   "metadata": {},
   "source": [
    "### Step 2: make path and sort/clean list"
   ]
  },
  {
   "cell_type": "code",
   "execution_count": 116,
   "id": "3a2924d7",
   "metadata": {},
   "outputs": [
    {
     "name": "stdout",
     "output_type": "stream",
     "text": [
      "Path to A_muscara:\n",
      "./David_Harper_Labelled_Cleaned/Amanita_muscaria\n",
      "\n",
      "We have 363 pictures of amanita muscaria\n"
     ]
    },
    {
     "data": {
      "text/plain": [
       "['1_Amanita_muscaria_Harper.jpg',\n",
       " '2_Amanita_muscaria_Harper.jpg',\n",
       " '3_Amanita_muscaria_Harper.jpg',\n",
       " '4_Amanita_muscaria_Harper.jpg',\n",
       " '5_Amanita_muscaria_Harper.jpg',\n",
       " '6_Amanita_muscaria_Harper.jpg',\n",
       " '7_Amanita_muscaria_Harper.jpg',\n",
       " '8_Amanita_muscaria_Harper.jpg',\n",
       " '9_Amanita_muscaria_Harper.jpg',\n",
       " '10_Amanita_muscaria_Harper.jpg']"
      ]
     },
     "execution_count": 116,
     "metadata": {},
     "output_type": "execute_result"
    }
   ],
   "source": [
    "# Make path string using string concatanation\n",
    "amusc_path= path_to_imgs + '/' + find_in_list('amanita muscaria',dir_list)\n",
    "print('Path to A_muscara:')\n",
    "print(amusc_path)\n",
    "\n",
    "amuscs=os.listdir(amusc_path)\n",
    "print(f'\\nWe have {len(amuscs)} pictures of amanita muscaria')\n",
    "amuscs.sort(reverse=False,key= lambda bolete: int(bolete.split('_')[0]))\n",
    "\n",
    "amuscs[0:10]"
   ]
  },
  {
   "cell_type": "markdown",
   "id": "824dfb86",
   "metadata": {},
   "source": [
    "### Examine for corrupted files"
   ]
  },
  {
   "cell_type": "code",
   "execution_count": 117,
   "id": "e74074a1",
   "metadata": {},
   "outputs": [
    {
     "ename": "IndentationError",
     "evalue": "expected an indented block (1915549010.py, line 4)",
     "output_type": "error",
     "traceback": [
      "\u001b[0;36m  Input \u001b[0;32mIn [117]\u001b[0;36m\u001b[0m\n\u001b[0;31m    try:img = Image.open('./'+filename) # open the image file\u001b[0m\n\u001b[0m                                                             ^\u001b[0m\n\u001b[0;31mIndentationError\u001b[0m\u001b[0;31m:\u001b[0m expected an indented block\n"
     ]
    }
   ],
   "source": [
    "def find_corrupted(directory):\n",
    "    for filename in listdir('./'):\n",
    "        if filename.endswith('.png') or filename.endswith('.jpg') or filename.endswith('.JPG'):\n",
    "            try:img = Image.open('./'+filename) # open the image file\n",
    "                img.verify() # verify that it is, in fact an image\n",
    "            except (IOError, SyntaxError) as e:\n",
    "                print('Bad file:', filename) # print out the names of corrupt files"
   ]
  },
  {
   "cell_type": "code",
   "execution_count": null,
   "id": "85289f7b",
   "metadata": {},
   "outputs": [],
   "source": [
    "def find_corrupted(directory):\n",
    "    for filename in listdir(directory):\n",
    "        png=filename.endswith('.png') or filename.endswith('.PNG')\n",
    "        jpg=filename.endswith('.jpg') or filename.endswith('.JPG')\n",
    "        jpeg=filename.endswith('.jpeg') or filename.endswith('.JPEG')\n",
    "        if png or jpg or jpeg:\n",
    "            try:\n",
    "                img=Image.open('./'+filename)\n",
    "                img.verify()\n",
    "            except (IOError, SyntaxError) as e:\n",
    "                print('Bad file:',filename)"
   ]
  },
  {
   "cell_type": "code",
   "execution_count": null,
   "id": "d6e836a9",
   "metadata": {},
   "outputs": [],
   "source": [
    "amuscs"
   ]
  },
  {
   "cell_type": "code",
   "execution_count": null,
   "id": "17f65bb4",
   "metadata": {},
   "outputs": [],
   "source": []
  }
 ],
 "metadata": {
  "kernelspec": {
   "display_name": "Python 3 (ipykernel)",
   "language": "python",
   "name": "python3"
  },
  "language_info": {
   "codemirror_mode": {
    "name": "ipython",
    "version": 3
   },
   "file_extension": ".py",
   "mimetype": "text/x-python",
   "name": "python",
   "nbconvert_exporter": "python",
   "pygments_lexer": "ipython3",
   "version": "3.8.5"
  },
  "toc": {
   "base_numbering": 1,
   "nav_menu": {},
   "number_sections": true,
   "sideBar": true,
   "skip_h1_title": false,
   "title_cell": "Table of Contents",
   "title_sidebar": "Contents",
   "toc_cell": false,
   "toc_position": {},
   "toc_section_display": true,
   "toc_window_display": false
  }
 },
 "nbformat": 4,
 "nbformat_minor": 5
}
